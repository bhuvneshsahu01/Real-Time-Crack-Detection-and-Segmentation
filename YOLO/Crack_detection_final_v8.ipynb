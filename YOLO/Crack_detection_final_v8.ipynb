{
 "cells": [
  {
   "cell_type": "code",
   "execution_count": 2,
   "metadata": {
    "colab": {
     "base_uri": "https://localhost:8080/"
    },
    "id": "CMPpVTDr8y_P",
    "outputId": "2b52ca06-408c-4f32-d1a8-646c9ba79ce8"
   },
   "outputs": [
    {
     "name": "stdout",
     "output_type": "stream",
     "text": [
      "Drive already mounted at /content/drive; to attempt to forcibly remount, call drive.mount(\"/content/drive\", force_remount=True).\n"
     ]
    }
   ],
   "source": [
    "from google.colab import drive\n",
    "drive.mount('/content/drive')"
   ]
  },
  {
   "cell_type": "code",
   "execution_count": null,
   "metadata": {
    "id": "zHkYmbArEMH8"
   },
   "outputs": [],
   "source": [
    "model_name='yolov8'\n",
    "dir_path = '/content/drive/MyDrive/Computer vision/Crack segmentation/'+model_name\n",
    "\n",
    "import os\n",
    "os.chdir(dir_path)"
   ]
  },
  {
   "cell_type": "code",
   "execution_count": null,
   "metadata": {
    "id": "GBSYFrU1EMLT"
   },
   "outputs": [],
   "source": [
    "#cfg = model_name+'x-seg.yaml'"
   ]
  },
  {
   "cell_type": "code",
   "execution_count": 3,
   "metadata": {
    "colab": {
     "base_uri": "https://localhost:8080/"
    },
    "collapsed": true,
    "id": "3UdWqYtu9KB_",
    "outputId": "2398b303-0ad3-44c3-8035-ede226425df3"
   },
   "outputs": [
    {
     "name": "stdout",
     "output_type": "stream",
     "text": [
      "Collecting ultralytics\n",
      "  Downloading ultralytics-8.2.31-py3-none-any.whl (780 kB)\n",
      "\u001b[?25l     \u001b[90m━━━━━━━━━━━━━━━━━━━━━━━━━━━━━━━━━━━━━━━━\u001b[0m \u001b[32m0.0/780.6 kB\u001b[0m \u001b[31m?\u001b[0m eta \u001b[36m-:--:--\u001b[0m\r",
      "\u001b[2K     \u001b[91m━━━━\u001b[0m\u001b[91m╸\u001b[0m\u001b[90m━━━━━━━━━━━━━━━━━━━━━━━━━━━━━━━━━━━\u001b[0m \u001b[32m92.2/780.6 kB\u001b[0m \u001b[31m2.6 MB/s\u001b[0m eta \u001b[36m0:00:01\u001b[0m\r",
      "\u001b[2K     \u001b[90m━━━━━━━━━━━━━━━━━━━━━━━━━━━━━━━━━━━━━━━━\u001b[0m \u001b[32m780.6/780.6 kB\u001b[0m \u001b[31m13.2 MB/s\u001b[0m eta \u001b[36m0:00:00\u001b[0m\n",
      "\u001b[?25hRequirement already satisfied: matplotlib>=3.3.0 in /usr/local/lib/python3.10/dist-packages (from ultralytics) (3.7.1)\n",
      "Requirement already satisfied: opencv-python>=4.6.0 in /usr/local/lib/python3.10/dist-packages (from ultralytics) (4.8.0.76)\n",
      "Requirement already satisfied: pillow>=7.1.2 in /usr/local/lib/python3.10/dist-packages (from ultralytics) (9.4.0)\n",
      "Requirement already satisfied: pyyaml>=5.3.1 in /usr/local/lib/python3.10/dist-packages (from ultralytics) (6.0.1)\n",
      "Requirement already satisfied: requests>=2.23.0 in /usr/local/lib/python3.10/dist-packages (from ultralytics) (2.31.0)\n",
      "Requirement already satisfied: scipy>=1.4.1 in /usr/local/lib/python3.10/dist-packages (from ultralytics) (1.11.4)\n",
      "Requirement already satisfied: torch>=1.8.0 in /usr/local/lib/python3.10/dist-packages (from ultralytics) (2.3.0+cu121)\n",
      "Requirement already satisfied: torchvision>=0.9.0 in /usr/local/lib/python3.10/dist-packages (from ultralytics) (0.18.0+cu121)\n",
      "Requirement already satisfied: tqdm>=4.64.0 in /usr/local/lib/python3.10/dist-packages (from ultralytics) (4.66.4)\n",
      "Requirement already satisfied: psutil in /usr/local/lib/python3.10/dist-packages (from ultralytics) (5.9.5)\n",
      "Requirement already satisfied: py-cpuinfo in /usr/local/lib/python3.10/dist-packages (from ultralytics) (9.0.0)\n",
      "Requirement already satisfied: pandas>=1.1.4 in /usr/local/lib/python3.10/dist-packages (from ultralytics) (2.0.3)\n",
      "Requirement already satisfied: seaborn>=0.11.0 in /usr/local/lib/python3.10/dist-packages (from ultralytics) (0.13.1)\n",
      "Collecting ultralytics-thop>=0.2.5 (from ultralytics)\n",
      "  Downloading ultralytics_thop-0.2.8-py3-none-any.whl (25 kB)\n",
      "Requirement already satisfied: contourpy>=1.0.1 in /usr/local/lib/python3.10/dist-packages (from matplotlib>=3.3.0->ultralytics) (1.2.1)\n",
      "Requirement already satisfied: cycler>=0.10 in /usr/local/lib/python3.10/dist-packages (from matplotlib>=3.3.0->ultralytics) (0.12.1)\n",
      "Requirement already satisfied: fonttools>=4.22.0 in /usr/local/lib/python3.10/dist-packages (from matplotlib>=3.3.0->ultralytics) (4.53.0)\n",
      "Requirement already satisfied: kiwisolver>=1.0.1 in /usr/local/lib/python3.10/dist-packages (from matplotlib>=3.3.0->ultralytics) (1.4.5)\n",
      "Requirement already satisfied: numpy>=1.20 in /usr/local/lib/python3.10/dist-packages (from matplotlib>=3.3.0->ultralytics) (1.25.2)\n",
      "Requirement already satisfied: packaging>=20.0 in /usr/local/lib/python3.10/dist-packages (from matplotlib>=3.3.0->ultralytics) (24.1)\n",
      "Requirement already satisfied: pyparsing>=2.3.1 in /usr/local/lib/python3.10/dist-packages (from matplotlib>=3.3.0->ultralytics) (3.1.2)\n",
      "Requirement already satisfied: python-dateutil>=2.7 in /usr/local/lib/python3.10/dist-packages (from matplotlib>=3.3.0->ultralytics) (2.8.2)\n",
      "Requirement already satisfied: pytz>=2020.1 in /usr/local/lib/python3.10/dist-packages (from pandas>=1.1.4->ultralytics) (2023.4)\n",
      "Requirement already satisfied: tzdata>=2022.1 in /usr/local/lib/python3.10/dist-packages (from pandas>=1.1.4->ultralytics) (2024.1)\n",
      "Requirement already satisfied: charset-normalizer<4,>=2 in /usr/local/lib/python3.10/dist-packages (from requests>=2.23.0->ultralytics) (3.3.2)\n",
      "Requirement already satisfied: idna<4,>=2.5 in /usr/local/lib/python3.10/dist-packages (from requests>=2.23.0->ultralytics) (3.7)\n",
      "Requirement already satisfied: urllib3<3,>=1.21.1 in /usr/local/lib/python3.10/dist-packages (from requests>=2.23.0->ultralytics) (2.0.7)\n",
      "Requirement already satisfied: certifi>=2017.4.17 in /usr/local/lib/python3.10/dist-packages (from requests>=2.23.0->ultralytics) (2024.6.2)\n",
      "Requirement already satisfied: filelock in /usr/local/lib/python3.10/dist-packages (from torch>=1.8.0->ultralytics) (3.14.0)\n",
      "Requirement already satisfied: typing-extensions>=4.8.0 in /usr/local/lib/python3.10/dist-packages (from torch>=1.8.0->ultralytics) (4.12.2)\n",
      "Requirement already satisfied: sympy in /usr/local/lib/python3.10/dist-packages (from torch>=1.8.0->ultralytics) (1.12.1)\n",
      "Requirement already satisfied: networkx in /usr/local/lib/python3.10/dist-packages (from torch>=1.8.0->ultralytics) (3.3)\n",
      "Requirement already satisfied: jinja2 in /usr/local/lib/python3.10/dist-packages (from torch>=1.8.0->ultralytics) (3.1.4)\n",
      "Requirement already satisfied: fsspec in /usr/local/lib/python3.10/dist-packages (from torch>=1.8.0->ultralytics) (2023.6.0)\n",
      "Collecting nvidia-cuda-nvrtc-cu12==12.1.105 (from torch>=1.8.0->ultralytics)\n",
      "  Using cached nvidia_cuda_nvrtc_cu12-12.1.105-py3-none-manylinux1_x86_64.whl (23.7 MB)\n",
      "Collecting nvidia-cuda-runtime-cu12==12.1.105 (from torch>=1.8.0->ultralytics)\n",
      "  Using cached nvidia_cuda_runtime_cu12-12.1.105-py3-none-manylinux1_x86_64.whl (823 kB)\n",
      "Collecting nvidia-cuda-cupti-cu12==12.1.105 (from torch>=1.8.0->ultralytics)\n",
      "  Using cached nvidia_cuda_cupti_cu12-12.1.105-py3-none-manylinux1_x86_64.whl (14.1 MB)\n",
      "Collecting nvidia-cudnn-cu12==8.9.2.26 (from torch>=1.8.0->ultralytics)\n",
      "  Using cached nvidia_cudnn_cu12-8.9.2.26-py3-none-manylinux1_x86_64.whl (731.7 MB)\n",
      "Collecting nvidia-cublas-cu12==12.1.3.1 (from torch>=1.8.0->ultralytics)\n",
      "  Using cached nvidia_cublas_cu12-12.1.3.1-py3-none-manylinux1_x86_64.whl (410.6 MB)\n",
      "Collecting nvidia-cufft-cu12==11.0.2.54 (from torch>=1.8.0->ultralytics)\n",
      "  Using cached nvidia_cufft_cu12-11.0.2.54-py3-none-manylinux1_x86_64.whl (121.6 MB)\n",
      "Collecting nvidia-curand-cu12==10.3.2.106 (from torch>=1.8.0->ultralytics)\n",
      "  Using cached nvidia_curand_cu12-10.3.2.106-py3-none-manylinux1_x86_64.whl (56.5 MB)\n",
      "Collecting nvidia-cusolver-cu12==11.4.5.107 (from torch>=1.8.0->ultralytics)\n",
      "  Using cached nvidia_cusolver_cu12-11.4.5.107-py3-none-manylinux1_x86_64.whl (124.2 MB)\n",
      "Collecting nvidia-cusparse-cu12==12.1.0.106 (from torch>=1.8.0->ultralytics)\n",
      "  Using cached nvidia_cusparse_cu12-12.1.0.106-py3-none-manylinux1_x86_64.whl (196.0 MB)\n",
      "Collecting nvidia-nccl-cu12==2.20.5 (from torch>=1.8.0->ultralytics)\n",
      "  Using cached nvidia_nccl_cu12-2.20.5-py3-none-manylinux2014_x86_64.whl (176.2 MB)\n",
      "Collecting nvidia-nvtx-cu12==12.1.105 (from torch>=1.8.0->ultralytics)\n",
      "  Using cached nvidia_nvtx_cu12-12.1.105-py3-none-manylinux1_x86_64.whl (99 kB)\n",
      "Requirement already satisfied: triton==2.3.0 in /usr/local/lib/python3.10/dist-packages (from torch>=1.8.0->ultralytics) (2.3.0)\n",
      "Collecting nvidia-nvjitlink-cu12 (from nvidia-cusolver-cu12==11.4.5.107->torch>=1.8.0->ultralytics)\n",
      "  Downloading nvidia_nvjitlink_cu12-12.5.40-py3-none-manylinux2014_x86_64.whl (21.3 MB)\n",
      "\u001b[2K     \u001b[90m━━━━━━━━━━━━━━━━━━━━━━━━━━━━━━━━━━━━━━━━\u001b[0m \u001b[32m21.3/21.3 MB\u001b[0m \u001b[31m59.1 MB/s\u001b[0m eta \u001b[36m0:00:00\u001b[0m\n",
      "\u001b[?25hRequirement already satisfied: six>=1.5 in /usr/local/lib/python3.10/dist-packages (from python-dateutil>=2.7->matplotlib>=3.3.0->ultralytics) (1.16.0)\n",
      "Requirement already satisfied: MarkupSafe>=2.0 in /usr/local/lib/python3.10/dist-packages (from jinja2->torch>=1.8.0->ultralytics) (2.1.5)\n",
      "Requirement already satisfied: mpmath<1.4.0,>=1.1.0 in /usr/local/lib/python3.10/dist-packages (from sympy->torch>=1.8.0->ultralytics) (1.3.0)\n",
      "Installing collected packages: nvidia-nvtx-cu12, nvidia-nvjitlink-cu12, nvidia-nccl-cu12, nvidia-curand-cu12, nvidia-cufft-cu12, nvidia-cuda-runtime-cu12, nvidia-cuda-nvrtc-cu12, nvidia-cuda-cupti-cu12, nvidia-cublas-cu12, nvidia-cusparse-cu12, nvidia-cudnn-cu12, nvidia-cusolver-cu12, ultralytics-thop, ultralytics\n",
      "Successfully installed nvidia-cublas-cu12-12.1.3.1 nvidia-cuda-cupti-cu12-12.1.105 nvidia-cuda-nvrtc-cu12-12.1.105 nvidia-cuda-runtime-cu12-12.1.105 nvidia-cudnn-cu12-8.9.2.26 nvidia-cufft-cu12-11.0.2.54 nvidia-curand-cu12-10.3.2.106 nvidia-cusolver-cu12-11.4.5.107 nvidia-cusparse-cu12-12.1.0.106 nvidia-nccl-cu12-2.20.5 nvidia-nvjitlink-cu12-12.5.40 nvidia-nvtx-cu12-12.1.105 ultralytics-8.2.31 ultralytics-thop-0.2.8\n"
     ]
    }
   ],
   "source": [
    "!pip install ultralytics"
   ]
  },
  {
   "cell_type": "code",
   "execution_count": null,
   "metadata": {
    "colab": {
     "base_uri": "https://localhost:8080/"
    },
    "collapsed": true,
    "id": "nlz1a1nWaMLW",
    "outputId": "49566c96-6393-4156-a02b-4a2e5fe4bd73"
   },
   "outputs": [
    {
     "metadata": {
      "tags": null
     },
     "name": "stdout",
     "output_type": "stream",
     "text": [
      "Ultralytics YOLOv8.2.31 🚀 Python-3.10.12 torch-2.3.0+cu121 CUDA:0 (Tesla T4, 15102MiB)\n",
      "\u001b[34m\u001b[1mengine/trainer: \u001b[0mtask=segment, mode=train, model=yolov8n-seg.pt, data=/content/drive/MyDrive/Computer vision/Crack segmentation/config.yaml, epochs=200, time=None, patience=100, batch=8, imgsz=640, save=True, save_period=-1, cache=False, device=None, workers=8, project=None, name=train3, exist_ok=False, pretrained=True, optimizer=auto, verbose=True, seed=0, deterministic=True, single_cls=False, rect=False, cos_lr=False, close_mosaic=10, resume=False, amp=True, fraction=1.0, profile=False, freeze=None, multi_scale=False, overlap_mask=True, mask_ratio=4, dropout=0.0, val=True, split=val, save_json=False, save_hybrid=False, conf=None, iou=0.7, max_det=300, half=False, dnn=False, plots=True, source=None, vid_stride=1, stream_buffer=False, visualize=False, augment=False, agnostic_nms=False, classes=None, retina_masks=False, embed=None, show=False, save_frames=False, save_txt=False, save_conf=False, save_crop=False, show_labels=True, show_conf=True, show_boxes=True, line_width=None, format=torchscript, keras=False, optimize=False, int8=False, dynamic=False, simplify=False, opset=None, workspace=4, nms=False, lr0=0.05, lrf=0.01, momentum=0.937, weight_decay=0.0005, warmup_epochs=3.0, warmup_momentum=0.8, warmup_bias_lr=0.1, box=7.5, cls=0.5, dfl=1.5, pose=12.0, kobj=1.0, label_smoothing=0.0, nbs=64, hsv_h=0.015, hsv_s=0.7, hsv_v=0.4, degrees=0.0, translate=0.1, scale=0.5, shear=0.0, perspective=0.0, flipud=0.0, fliplr=0.5, bgr=0.0, mosaic=1.0, mixup=0.0, copy_paste=0.0, auto_augment=randaugment, erasing=0.4, crop_fraction=1.0, cfg=None, tracker=botsort.yaml, save_dir=runs/segment/train3\n",
      "Overriding model.yaml nc=80 with nc=1\n",
      "\n",
      "                   from  n    params  module                                       arguments                     \n",
      "  0                  -1  1       464  ultralytics.nn.modules.conv.Conv             [3, 16, 3, 2]                 \n",
      "  1                  -1  1      4672  ultralytics.nn.modules.conv.Conv             [16, 32, 3, 2]                \n",
      "  2                  -1  1      7360  ultralytics.nn.modules.block.C2f             [32, 32, 1, True]             \n",
      "  3                  -1  1     18560  ultralytics.nn.modules.conv.Conv             [32, 64, 3, 2]                \n",
      "  4                  -1  2     49664  ultralytics.nn.modules.block.C2f             [64, 64, 2, True]             \n",
      "  5                  -1  1     73984  ultralytics.nn.modules.conv.Conv             [64, 128, 3, 2]               \n",
      "  6                  -1  2    197632  ultralytics.nn.modules.block.C2f             [128, 128, 2, True]           \n",
      "  7                  -1  1    295424  ultralytics.nn.modules.conv.Conv             [128, 256, 3, 2]              \n",
      "  8                  -1  1    460288  ultralytics.nn.modules.block.C2f             [256, 256, 1, True]           \n",
      "  9                  -1  1    164608  ultralytics.nn.modules.block.SPPF            [256, 256, 5]                 \n",
      " 10                  -1  1         0  torch.nn.modules.upsampling.Upsample         [None, 2, 'nearest']          \n",
      " 11             [-1, 6]  1         0  ultralytics.nn.modules.conv.Concat           [1]                           \n",
      " 12                  -1  1    148224  ultralytics.nn.modules.block.C2f             [384, 128, 1]                 \n",
      " 13                  -1  1         0  torch.nn.modules.upsampling.Upsample         [None, 2, 'nearest']          \n",
      " 14             [-1, 4]  1         0  ultralytics.nn.modules.conv.Concat           [1]                           \n",
      " 15                  -1  1     37248  ultralytics.nn.modules.block.C2f             [192, 64, 1]                  \n",
      " 16                  -1  1     36992  ultralytics.nn.modules.conv.Conv             [64, 64, 3, 2]                \n",
      " 17            [-1, 12]  1         0  ultralytics.nn.modules.conv.Concat           [1]                           \n",
      " 18                  -1  1    123648  ultralytics.nn.modules.block.C2f             [192, 128, 1]                 \n",
      " 19                  -1  1    147712  ultralytics.nn.modules.conv.Conv             [128, 128, 3, 2]              \n",
      " 20             [-1, 9]  1         0  ultralytics.nn.modules.conv.Concat           [1]                           \n",
      " 21                  -1  1    493056  ultralytics.nn.modules.block.C2f             [384, 256, 1]                 \n",
      " 22        [15, 18, 21]  1   1004275  ultralytics.nn.modules.head.Segment          [1, 32, 64, [64, 128, 256]]   \n",
      "YOLOv8n-seg summary: 261 layers, 3263811 parameters, 3263795 gradients, 12.1 GFLOPs\n",
      "\n",
      "Transferred 381/417 items from pretrained weights\n",
      "\u001b[34m\u001b[1mTensorBoard: \u001b[0mStart with 'tensorboard --logdir runs/segment/train3', view at http://localhost:6006/\n",
      "Freezing layer 'model.22.dfl.conv.weight'\n",
      "\u001b[34m\u001b[1mAMP: \u001b[0mrunning Automatic Mixed Precision (AMP) checks with YOLOv8n...\n",
      "Downloading https://github.com/ultralytics/assets/releases/download/v8.2.0/yolov8n.pt to 'yolov8n.pt'...\n"
     ]
    },
    {
     "metadata": {
      "tags": null
     },
     "name": "stderr",
     "output_type": "stream",
     "text": [
      "100%|██████████| 6.23M/6.23M [00:00<00:00, 73.9MB/s]\n"
     ]
    },
    {
     "metadata": {
      "tags": null
     },
     "name": "stdout",
     "output_type": "stream",
     "text": [
      "\u001b[34m\u001b[1mAMP: \u001b[0mchecks passed ✅\n"
     ]
    },
    {
     "metadata": {
      "tags": null
     },
     "name": "stderr",
     "output_type": "stream",
     "text": [
      "\u001b[34m\u001b[1mtrain: \u001b[0mScanning /content/drive/MyDrive/Computer vision/Crack segmentation/Data/labels/train... 430 images, 40 backgrounds, 0 corrupt: 100%|██████████| 430/430 [02:44<00:00,  2.62it/s]\n"
     ]
    },
    {
     "metadata": {
      "tags": null
     },
     "name": "stdout",
     "output_type": "stream",
     "text": [
      "\u001b[34m\u001b[1mtrain: \u001b[0mNew cache created: /content/drive/MyDrive/Computer vision/Crack segmentation/Data/labels/train.cache\n",
      "\u001b[34m\u001b[1malbumentations: \u001b[0mBlur(p=0.01, blur_limit=(3, 7)), MedianBlur(p=0.01, blur_limit=(3, 7)), ToGray(p=0.01), CLAHE(p=0.01, clip_limit=(1, 4.0), tile_grid_size=(8, 8))\n"
     ]
    },
    {
     "metadata": {
      "tags": null
     },
     "name": "stderr",
     "output_type": "stream",
     "text": [
      "/usr/lib/python3.10/multiprocessing/popen_fork.py:66: RuntimeWarning: os.fork() was called. os.fork() is incompatible with multithreaded code, and JAX is multithreaded, so this will likely lead to a deadlock.\n",
      "  self.pid = os.fork()\n",
      "\u001b[34m\u001b[1mval: \u001b[0mScanning /content/drive/MyDrive/Computer vision/Crack segmentation/Data/labels/val... 23 images, 2 backgrounds, 0 corrupt: 100%|██████████| 23/23 [00:15<00:00,  1.44it/s]"
     ]
    },
    {
     "metadata": {
      "tags": null
     },
     "name": "stdout",
     "output_type": "stream",
     "text": [
      "\u001b[34m\u001b[1mval: \u001b[0mNew cache created: /content/drive/MyDrive/Computer vision/Crack segmentation/Data/labels/val.cache\n"
     ]
    },
    {
     "metadata": {
      "tags": null
     },
     "name": "stderr",
     "output_type": "stream",
     "text": [
      "\n"
     ]
    },
    {
     "metadata": {
      "tags": null
     },
     "name": "stdout",
     "output_type": "stream",
     "text": [
      "Plotting labels to runs/segment/train3/labels.jpg... \n",
      "\u001b[34m\u001b[1moptimizer:\u001b[0m 'optimizer=auto' found, ignoring 'lr0=0.05' and 'momentum=0.937' and determining best 'optimizer', 'lr0' and 'momentum' automatically... \n",
      "\u001b[34m\u001b[1moptimizer:\u001b[0m AdamW(lr=0.002, momentum=0.9) with parameter groups 66 weight(decay=0.0), 77 weight(decay=0.0005), 76 bias(decay=0.0)\n",
      "\u001b[34m\u001b[1mTensorBoard: \u001b[0mmodel graph visualization added ✅\n",
      "Image sizes 640 train, 640 val\n",
      "Using 2 dataloader workers\n",
      "Logging results to \u001b[1mruns/segment/train3\u001b[0m\n",
      "Starting training for 200 epochs...\n",
      "\n",
      "      Epoch    GPU_mem   box_loss   seg_loss   cls_loss   dfl_loss  Instances       Size\n"
     ]
    },
    {
     "metadata": {
      "tags": null
     },
     "name": "stderr",
     "output_type": "stream",
     "text": [
      "  0%|          | 0/54 [00:00<?, ?it/s]/usr/local/lib/python3.10/dist-packages/torch/autograd/graph.py:744: UserWarning: Plan failed with a cudnnException: CUDNN_BACKEND_EXECUTION_PLAN_DESCRIPTOR: cudnnFinalize Descriptor Failed cudnn_status: CUDNN_STATUS_NOT_SUPPORTED (Triggered internally at ../aten/src/ATen/native/cudnn/Conv_v8.cpp:919.)\n",
      "  return Variable._execution_engine.run_backward(  # Calls into the C++ engine to run the backward pass\n",
      "      1/200      5.59G      1.765      3.434      2.729      1.702         17        640: 100%|██████████| 54/54 [00:23<00:00,  2.27it/s]\n",
      "                 Class     Images  Instances      Box(P          R      mAP50  mAP50-95)     Mask(P          R      mAP50  mAP50-95): 100%|██████████| 2/2 [00:02<00:00,  1.07s/it]"
     ]
    },
    {
     "metadata": {
      "tags": null
     },
     "name": "stdout",
     "output_type": "stream",
     "text": [
      "                   all         23         33      0.249      0.121      0.144     0.0468      0.059     0.0606     0.0313    0.00613\n"
     ]
    },
    {
     "metadata": {
      "tags": null
     },
     "name": "stderr",
     "output_type": "stream",
     "text": [
      "\n"
     ]
    },
    {
     "metadata": {
      "tags": null
     },
     "name": "stdout",
     "output_type": "stream",
     "text": [
      "\n",
      "      Epoch    GPU_mem   box_loss   seg_loss   cls_loss   dfl_loss  Instances       Size\n"
     ]
    },
    {
     "metadata": {
      "tags": null
     },
     "name": "stderr",
     "output_type": "stream",
     "text": [
      "      2/200      1.72G      1.736      2.571      2.386      1.646         24        640: 100%|██████████| 54/54 [00:19<00:00,  2.73it/s]\n",
      "                 Class     Images  Instances      Box(P          R      mAP50  mAP50-95)     Mask(P          R      mAP50  mAP50-95): 100%|██████████| 2/2 [00:00<00:00,  4.10it/s]"
     ]
    },
    {
     "metadata": {
      "tags": null
     },
     "name": "stdout",
     "output_type": "stream",
     "text": [
      "                   all         23         33      0.233      0.242      0.108     0.0329     0.0898      0.182     0.0284      0.007\n"
     ]
    },
    {
     "metadata": {
      "tags": null
     },
     "name": "stderr",
     "output_type": "stream",
     "text": [
      "\n"
     ]
    },
    {
     "metadata": {
      "tags": null
     },
     "name": "stdout",
     "output_type": "stream",
     "text": [
      "\n",
      "      Epoch    GPU_mem   box_loss   seg_loss   cls_loss   dfl_loss  Instances       Size\n"
     ]
    },
    {
     "metadata": {
      "tags": null
     },
     "name": "stderr",
     "output_type": "stream",
     "text": [
      "      3/200      1.72G       1.82      2.543      2.385      1.677         20        640: 100%|██████████| 54/54 [00:18<00:00,  2.94it/s]\n",
      "                 Class     Images  Instances      Box(P          R      mAP50  mAP50-95)     Mask(P          R      mAP50  mAP50-95): 100%|██████████| 2/2 [00:00<00:00,  3.87it/s]"
     ]
    },
    {
     "metadata": {
      "tags": null
     },
     "name": "stdout",
     "output_type": "stream",
     "text": [
      "                   all         23         33     0.0643      0.303     0.0426     0.0135     0.0857      0.121     0.0186    0.00315\n"
     ]
    },
    {
     "metadata": {
      "tags": null
     },
     "name": "stderr",
     "output_type": "stream",
     "text": [
      "\n"
     ]
    },
    {
     "metadata": {
      "tags": null
     },
     "name": "stdout",
     "output_type": "stream",
     "text": [
      "\n",
      "      Epoch    GPU_mem   box_loss   seg_loss   cls_loss   dfl_loss  Instances       Size\n"
     ]
    },
    {
     "metadata": {
      "tags": null
     },
     "name": "stderr",
     "output_type": "stream",
     "text": [
      "      4/200      1.72G      1.821      2.458      2.291       1.68         18        640: 100%|██████████| 54/54 [00:16<00:00,  3.29it/s]\n",
      "                 Class     Images  Instances      Box(P          R      mAP50  mAP50-95)     Mask(P          R      mAP50  mAP50-95): 100%|██████████| 2/2 [00:00<00:00,  2.19it/s]"
     ]
    },
    {
     "metadata": {
      "tags": null
     },
     "name": "stdout",
     "output_type": "stream",
     "text": [
      "                   all         23         33      0.147     0.0909     0.0516     0.0204      0.147     0.0909     0.0376    0.00878\n"
     ]
    },
    {
     "metadata": {
      "tags": null
     },
     "name": "stderr",
     "output_type": "stream",
     "text": [
      "\n"
     ]
    },
    {
     "metadata": {
      "tags": null
     },
     "name": "stdout",
     "output_type": "stream",
     "text": [
      "\n",
      "      Epoch    GPU_mem   box_loss   seg_loss   cls_loss   dfl_loss  Instances       Size\n"
     ]
    },
    {
     "metadata": {
      "tags": null
     },
     "name": "stderr",
     "output_type": "stream",
     "text": [
      "      5/200      1.67G      1.783      2.535      2.208       1.65         23        640: 100%|██████████| 54/54 [00:14<00:00,  3.65it/s]\n",
      "                 Class     Images  Instances      Box(P          R      mAP50  mAP50-95)     Mask(P          R      mAP50  mAP50-95): 100%|██████████| 2/2 [00:00<00:00,  2.17it/s]"
     ]
    },
    {
     "metadata": {
      "tags": null
     },
     "name": "stdout",
     "output_type": "stream",
     "text": [
      "                   all         23         33      0.131      0.333     0.0693     0.0179     0.0684      0.212     0.0312    0.00485\n"
     ]
    },
    {
     "metadata": {
      "tags": null
     },
     "name": "stderr",
     "output_type": "stream",
     "text": [
      "\n"
     ]
    },
    {
     "metadata": {
      "tags": null
     },
     "name": "stdout",
     "output_type": "stream",
     "text": [
      "\n",
      "      Epoch    GPU_mem   box_loss   seg_loss   cls_loss   dfl_loss  Instances       Size\n"
     ]
    },
    {
     "metadata": {
      "tags": null
     },
     "name": "stderr",
     "output_type": "stream",
     "text": [
      "      6/200      1.67G      1.721      2.438      2.133      1.622         20        640: 100%|██████████| 54/54 [00:16<00:00,  3.36it/s]\n",
      "                 Class     Images  Instances      Box(P          R      mAP50  mAP50-95)     Mask(P          R      mAP50  mAP50-95): 100%|██████████| 2/2 [00:00<00:00,  4.09it/s]"
     ]
    },
    {
     "metadata": {
      "tags": null
     },
     "name": "stdout",
     "output_type": "stream",
     "text": [
      "                   all         23         33      0.234      0.273      0.143     0.0755      0.156      0.182     0.0525    0.00839\n"
     ]
    },
    {
     "metadata": {
      "tags": null
     },
     "name": "stderr",
     "output_type": "stream",
     "text": [
      "\n"
     ]
    },
    {
     "metadata": {
      "tags": null
     },
     "name": "stdout",
     "output_type": "stream",
     "text": [
      "\n",
      "      Epoch    GPU_mem   box_loss   seg_loss   cls_loss   dfl_loss  Instances       Size\n"
     ]
    },
    {
     "metadata": {
      "tags": null
     },
     "name": "stderr",
     "output_type": "stream",
     "text": [
      "      7/200      1.69G      1.723      2.433      2.091      1.633         28        640: 100%|██████████| 54/54 [00:18<00:00,  2.98it/s]\n",
      "                 Class     Images  Instances      Box(P          R      mAP50  mAP50-95)     Mask(P          R      mAP50  mAP50-95): 100%|██████████| 2/2 [00:00<00:00,  4.90it/s]"
     ]
    },
    {
     "metadata": {
      "tags": null
     },
     "name": "stdout",
     "output_type": "stream",
     "text": [
      "                   all         23         33      0.192      0.212      0.127     0.0454      0.118      0.152     0.0273    0.00536\n"
     ]
    },
    {
     "metadata": {
      "tags": null
     },
     "name": "stderr",
     "output_type": "stream",
     "text": [
      "\n"
     ]
    },
    {
     "metadata": {
      "tags": null
     },
     "name": "stdout",
     "output_type": "stream",
     "text": [
      "\n",
      "      Epoch    GPU_mem   box_loss   seg_loss   cls_loss   dfl_loss  Instances       Size\n"
     ]
    },
    {
     "metadata": {
      "tags": null
     },
     "name": "stderr",
     "output_type": "stream",
     "text": [
      "      8/200      1.69G      1.706      2.431      1.954      1.567         16        640: 100%|██████████| 54/54 [00:18<00:00,  2.88it/s]\n",
      "                 Class     Images  Instances      Box(P          R      mAP50  mAP50-95)     Mask(P          R      mAP50  mAP50-95): 100%|██████████| 2/2 [00:00<00:00,  4.99it/s]"
     ]
    },
    {
     "metadata": {
      "tags": null
     },
     "name": "stdout",
     "output_type": "stream",
     "text": [
      "                   all         23         33       0.22      0.212      0.102     0.0235      0.117      0.121     0.0321    0.00666\n"
     ]
    },
    {
     "metadata": {
      "tags": null
     },
     "name": "stderr",
     "output_type": "stream",
     "text": [
      "\n"
     ]
    },
    {
     "metadata": {
      "tags": null
     },
     "name": "stdout",
     "output_type": "stream",
     "text": [
      "\n",
      "      Epoch    GPU_mem   box_loss   seg_loss   cls_loss   dfl_loss  Instances       Size\n"
     ]
    },
    {
     "metadata": {
      "tags": null
     },
     "name": "stderr",
     "output_type": "stream",
     "text": [
      "      9/200      1.67G      1.702      2.403      1.983      1.579         21        640: 100%|██████████| 54/54 [00:17<00:00,  3.17it/s]\n",
      "                 Class     Images  Instances      Box(P          R      mAP50  mAP50-95)     Mask(P          R      mAP50  mAP50-95): 100%|██████████| 2/2 [00:00<00:00,  2.57it/s]\n"
     ]
    },
    {
     "metadata": {
      "tags": null
     },
     "name": "stdout",
     "output_type": "stream",
     "text": [
      "                   all         23         33      0.307      0.242      0.156     0.0598      0.153      0.121     0.0432      0.008\n",
      "\n",
      "      Epoch    GPU_mem   box_loss   seg_loss   cls_loss   dfl_loss  Instances       Size\n"
     ]
    },
    {
     "metadata": {
      "tags": null
     },
     "name": "stderr",
     "output_type": "stream",
     "text": [
      "     10/200      1.72G      1.644        2.4      1.922      1.584         17        640: 100%|██████████| 54/54 [00:14<00:00,  3.74it/s]\n",
      "                 Class     Images  Instances      Box(P          R      mAP50  mAP50-95)     Mask(P          R      mAP50  mAP50-95): 100%|██████████| 2/2 [00:01<00:00,  1.80it/s]"
     ]
    },
    {
     "metadata": {
      "tags": null
     },
     "name": "stdout",
     "output_type": "stream",
     "text": [
      "                   all         23         33      0.122      0.364      0.078     0.0347     0.0423      0.242     0.0177    0.00471\n"
     ]
    },
    {
     "metadata": {
      "tags": null
     },
     "name": "stderr",
     "output_type": "stream",
     "text": [
      "\n"
     ]
    },
    {
     "metadata": {
      "tags": null
     },
     "name": "stdout",
     "output_type": "stream",
     "text": [
      "\n",
      "      Epoch    GPU_mem   box_loss   seg_loss   cls_loss   dfl_loss  Instances       Size\n"
     ]
    },
    {
     "metadata": {
      "tags": null
     },
     "name": "stderr",
     "output_type": "stream",
     "text": [
      "     11/200       1.7G      1.644      2.336      1.899      1.552         23        640: 100%|██████████| 54/54 [00:16<00:00,  3.33it/s]\n",
      "                 Class     Images  Instances      Box(P          R      mAP50  mAP50-95)     Mask(P          R      mAP50  mAP50-95): 100%|██████████| 2/2 [00:00<00:00,  4.29it/s]"
     ]
    },
    {
     "metadata": {
      "tags": null
     },
     "name": "stdout",
     "output_type": "stream",
     "text": [
      "                   all         23         33      0.106      0.273      0.075     0.0309      0.102      0.212     0.0483    0.00844\n"
     ]
    },
    {
     "metadata": {
      "tags": null
     },
     "name": "stderr",
     "output_type": "stream",
     "text": [
      "\n"
     ]
    },
    {
     "metadata": {
      "tags": null
     },
     "name": "stdout",
     "output_type": "stream",
     "text": [
      "\n",
      "      Epoch    GPU_mem   box_loss   seg_loss   cls_loss   dfl_loss  Instances       Size\n"
     ]
    },
    {
     "metadata": {
      "tags": null
     },
     "name": "stderr",
     "output_type": "stream",
     "text": [
      "     12/200      1.72G      1.588      2.229      1.808      1.525         18        640: 100%|██████████| 54/54 [00:18<00:00,  2.86it/s]\n",
      "                 Class     Images  Instances      Box(P          R      mAP50  mAP50-95)     Mask(P          R      mAP50  mAP50-95): 100%|██████████| 2/2 [00:00<00:00,  4.47it/s]"
     ]
    },
    {
     "metadata": {
      "tags": null
     },
     "name": "stdout",
     "output_type": "stream",
     "text": [
      "                   all         23         33      0.365      0.182      0.183     0.0679      0.104      0.121     0.0498      0.018\n"
     ]
    },
    {
     "metadata": {
      "tags": null
     },
     "name": "stderr",
     "output_type": "stream",
     "text": [
      "\n"
     ]
    },
    {
     "metadata": {
      "tags": null
     },
     "name": "stdout",
     "output_type": "stream",
     "text": [
      "\n",
      "      Epoch    GPU_mem   box_loss   seg_loss   cls_loss   dfl_loss  Instances       Size\n"
     ]
    },
    {
     "metadata": {
      "tags": null
     },
     "name": "stderr",
     "output_type": "stream",
     "text": [
      "     13/200      1.67G      1.611      2.333      1.835       1.51         26        640: 100%|██████████| 54/54 [00:18<00:00,  2.85it/s]\n",
      "                 Class     Images  Instances      Box(P          R      mAP50  mAP50-95)     Mask(P          R      mAP50  mAP50-95): 100%|██████████| 2/2 [00:00<00:00,  4.55it/s]"
     ]
    },
    {
     "metadata": {
      "tags": null
     },
     "name": "stdout",
     "output_type": "stream",
     "text": [
      "                   all         23         33      0.259      0.212      0.146     0.0713      0.149      0.121     0.0628     0.0124\n"
     ]
    },
    {
     "metadata": {
      "tags": null
     },
     "name": "stderr",
     "output_type": "stream",
     "text": [
      "\n"
     ]
    },
    {
     "metadata": {
      "tags": null
     },
     "name": "stdout",
     "output_type": "stream",
     "text": [
      "\n",
      "      Epoch    GPU_mem   box_loss   seg_loss   cls_loss   dfl_loss  Instances       Size\n"
     ]
    },
    {
     "metadata": {
      "tags": null
     },
     "name": "stderr",
     "output_type": "stream",
     "text": [
      "     14/200      1.69G      1.533      2.312      1.729      1.485         30        640: 100%|██████████| 54/54 [00:15<00:00,  3.48it/s]\n",
      "                 Class     Images  Instances      Box(P          R      mAP50  mAP50-95)     Mask(P          R      mAP50  mAP50-95): 100%|██████████| 2/2 [00:01<00:00,  1.73it/s]"
     ]
    },
    {
     "metadata": {
      "tags": null
     },
     "name": "stdout",
     "output_type": "stream",
     "text": [
      "                   all         23         33      0.172      0.327      0.163     0.0578      0.184      0.151     0.0793      0.017\n"
     ]
    },
    {
     "metadata": {
      "tags": null
     },
     "name": "stderr",
     "output_type": "stream",
     "text": [
      "\n"
     ]
    },
    {
     "metadata": {
      "tags": null
     },
     "name": "stdout",
     "output_type": "stream",
     "text": [
      "\n",
      "      Epoch    GPU_mem   box_loss   seg_loss   cls_loss   dfl_loss  Instances       Size\n"
     ]
    },
    {
     "metadata": {
      "tags": null
     },
     "name": "stderr",
     "output_type": "stream",
     "text": [
      "     15/200      1.69G        1.5      2.208      1.771      1.479         18        640: 100%|██████████| 54/54 [00:14<00:00,  3.69it/s]\n",
      "                 Class     Images  Instances      Box(P          R      mAP50  mAP50-95)     Mask(P          R      mAP50  mAP50-95): 100%|██████████| 2/2 [00:01<00:00,  1.93it/s]"
     ]
    },
    {
     "metadata": {
      "tags": null
     },
     "name": "stdout",
     "output_type": "stream",
     "text": [
      "                   all         23         33      0.222      0.333      0.173     0.0661      0.334      0.273      0.139     0.0357\n"
     ]
    },
    {
     "metadata": {
      "tags": null
     },
     "name": "stderr",
     "output_type": "stream",
     "text": [
      "\n"
     ]
    },
    {
     "metadata": {
      "tags": null
     },
     "name": "stdout",
     "output_type": "stream",
     "text": [
      "\n",
      "      Epoch    GPU_mem   box_loss   seg_loss   cls_loss   dfl_loss  Instances       Size\n"
     ]
    },
    {
     "metadata": {
      "tags": null
     },
     "name": "stderr",
     "output_type": "stream",
     "text": [
      "     16/200      1.69G      1.562      2.276      1.733       1.49         34        640: 100%|██████████| 54/54 [00:16<00:00,  3.21it/s]\n",
      "                 Class     Images  Instances      Box(P          R      mAP50  mAP50-95)     Mask(P          R      mAP50  mAP50-95): 100%|██████████| 2/2 [00:00<00:00,  2.93it/s]"
     ]
    },
    {
     "metadata": {
      "tags": null
     },
     "name": "stdout",
     "output_type": "stream",
     "text": [
      "                   all         23         33      0.325      0.273      0.206     0.0945     0.0911      0.212     0.0406    0.00809\n"
     ]
    },
    {
     "metadata": {
      "tags": null
     },
     "name": "stderr",
     "output_type": "stream",
     "text": [
      "\n"
     ]
    },
    {
     "metadata": {
      "tags": null
     },
     "name": "stdout",
     "output_type": "stream",
     "text": [
      "\n",
      "      Epoch    GPU_mem   box_loss   seg_loss   cls_loss   dfl_loss  Instances       Size\n"
     ]
    },
    {
     "metadata": {
      "tags": null
     },
     "name": "stderr",
     "output_type": "stream",
     "text": [
      "     17/200      1.72G      1.502      2.228      1.692      1.467         22        640: 100%|██████████| 54/54 [00:18<00:00,  2.87it/s]\n",
      "                 Class     Images  Instances      Box(P          R      mAP50  mAP50-95)     Mask(P          R      mAP50  mAP50-95): 100%|██████████| 2/2 [00:00<00:00,  4.76it/s]"
     ]
    },
    {
     "metadata": {
      "tags": null
     },
     "name": "stdout",
     "output_type": "stream",
     "text": [
      "                   all         23         33      0.244      0.273       0.14      0.069     0.0744      0.212      0.042    0.00672\n"
     ]
    },
    {
     "metadata": {
      "tags": null
     },
     "name": "stderr",
     "output_type": "stream",
     "text": [
      "\n"
     ]
    },
    {
     "metadata": {
      "tags": null
     },
     "name": "stdout",
     "output_type": "stream",
     "text": [
      "\n",
      "      Epoch    GPU_mem   box_loss   seg_loss   cls_loss   dfl_loss  Instances       Size\n"
     ]
    },
    {
     "metadata": {
      "tags": null
     },
     "name": "stderr",
     "output_type": "stream",
     "text": [
      "     18/200      1.73G      1.535      2.208      1.603      1.454         16        640: 100%|██████████| 54/54 [00:19<00:00,  2.84it/s]\n",
      "                 Class     Images  Instances      Box(P          R      mAP50  mAP50-95)     Mask(P          R      mAP50  mAP50-95): 100%|██████████| 2/2 [00:00<00:00,  3.90it/s]"
     ]
    },
    {
     "metadata": {
      "tags": null
     },
     "name": "stdout",
     "output_type": "stream",
     "text": [
      "                   all         23         33      0.338      0.264      0.173     0.0607      0.178      0.182     0.0721     0.0117\n"
     ]
    },
    {
     "metadata": {
      "tags": null
     },
     "name": "stderr",
     "output_type": "stream",
     "text": [
      "\n"
     ]
    },
    {
     "metadata": {
      "tags": null
     },
     "name": "stdout",
     "output_type": "stream",
     "text": [
      "\n",
      "      Epoch    GPU_mem   box_loss   seg_loss   cls_loss   dfl_loss  Instances       Size\n"
     ]
    },
    {
     "metadata": {
      "tags": null
     },
     "name": "stderr",
     "output_type": "stream",
     "text": [
      "     19/200      1.69G      1.494      2.245      1.619      1.461         23        640: 100%|██████████| 54/54 [00:16<00:00,  3.20it/s]\n",
      "                 Class     Images  Instances      Box(P          R      mAP50  mAP50-95)     Mask(P          R      mAP50  mAP50-95): 100%|██████████| 2/2 [00:00<00:00,  2.13it/s]"
     ]
    },
    {
     "metadata": {
      "tags": null
     },
     "name": "stdout",
     "output_type": "stream",
     "text": [
      "                   all         23         33      0.358      0.455      0.238      0.105      0.189      0.242     0.0953      0.026\n"
     ]
    },
    {
     "metadata": {
      "tags": null
     },
     "name": "stderr",
     "output_type": "stream",
     "text": [
      "\n"
     ]
    },
    {
     "metadata": {
      "tags": null
     },
     "name": "stdout",
     "output_type": "stream",
     "text": [
      "\n",
      "      Epoch    GPU_mem   box_loss   seg_loss   cls_loss   dfl_loss  Instances       Size\n"
     ]
    },
    {
     "metadata": {
      "tags": null
     },
     "name": "stderr",
     "output_type": "stream",
     "text": [
      "     20/200      1.74G      1.439      2.167      1.566      1.416         26        640: 100%|██████████| 54/54 [00:14<00:00,  3.66it/s]\n",
      "                 Class     Images  Instances      Box(P          R      mAP50  mAP50-95)     Mask(P          R      mAP50  mAP50-95): 100%|██████████| 2/2 [00:01<00:00,  1.97it/s]"
     ]
    },
    {
     "metadata": {
      "tags": null
     },
     "name": "stdout",
     "output_type": "stream",
     "text": [
      "                   all         23         33      0.339      0.394      0.267      0.101      0.198      0.242     0.0959      0.019\n"
     ]
    },
    {
     "metadata": {
      "tags": null
     },
     "name": "stderr",
     "output_type": "stream",
     "text": [
      "\n"
     ]
    },
    {
     "metadata": {
      "tags": null
     },
     "name": "stdout",
     "output_type": "stream",
     "text": [
      "\n",
      "      Epoch    GPU_mem   box_loss   seg_loss   cls_loss   dfl_loss  Instances       Size\n"
     ]
    },
    {
     "metadata": {
      "tags": null
     },
     "name": "stderr",
     "output_type": "stream",
     "text": [
      "     21/200      1.69G      1.429      2.161      1.554      1.416         26        640: 100%|██████████| 54/54 [00:17<00:00,  3.13it/s]\n",
      "                 Class     Images  Instances      Box(P          R      mAP50  mAP50-95)     Mask(P          R      mAP50  mAP50-95): 100%|██████████| 2/2 [00:00<00:00,  4.50it/s]"
     ]
    },
    {
     "metadata": {
      "tags": null
     },
     "name": "stdout",
     "output_type": "stream",
     "text": [
      "                   all         23         33      0.241      0.394      0.178     0.0802      0.146      0.212     0.0554     0.0135\n"
     ]
    },
    {
     "metadata": {
      "tags": null
     },
     "name": "stderr",
     "output_type": "stream",
     "text": [
      "\n"
     ]
    },
    {
     "metadata": {
      "tags": null
     },
     "name": "stdout",
     "output_type": "stream",
     "text": [
      "\n",
      "      Epoch    GPU_mem   box_loss   seg_loss   cls_loss   dfl_loss  Instances       Size\n"
     ]
    },
    {
     "metadata": {
      "tags": null
     },
     "name": "stderr",
     "output_type": "stream",
     "text": [
      "     22/200      1.71G      1.437      2.094      1.544      1.412         13        640: 100%|██████████| 54/54 [00:18<00:00,  2.88it/s]\n",
      "                 Class     Images  Instances      Box(P          R      mAP50  mAP50-95)     Mask(P          R      mAP50  mAP50-95): 100%|██████████| 2/2 [00:00<00:00,  4.21it/s]"
     ]
    },
    {
     "metadata": {
      "tags": null
     },
     "name": "stdout",
     "output_type": "stream",
     "text": [
      "                   all         23         33      0.274      0.364      0.258      0.079      0.131      0.182     0.0998      0.015\n"
     ]
    },
    {
     "metadata": {
      "tags": null
     },
     "name": "stderr",
     "output_type": "stream",
     "text": [
      "\n"
     ]
    },
    {
     "metadata": {
      "tags": null
     },
     "name": "stdout",
     "output_type": "stream",
     "text": [
      "\n",
      "      Epoch    GPU_mem   box_loss   seg_loss   cls_loss   dfl_loss  Instances       Size\n"
     ]
    },
    {
     "metadata": {
      "tags": null
     },
     "name": "stderr",
     "output_type": "stream",
     "text": [
      "     23/200      1.72G       1.44       2.23      1.575      1.408         30        640: 100%|██████████| 54/54 [00:18<00:00,  2.97it/s]\n",
      "                 Class     Images  Instances      Box(P          R      mAP50  mAP50-95)     Mask(P          R      mAP50  mAP50-95): 100%|██████████| 2/2 [00:00<00:00,  4.15it/s]"
     ]
    },
    {
     "metadata": {
      "tags": null
     },
     "name": "stdout",
     "output_type": "stream",
     "text": [
      "                   all         23         33      0.249      0.364      0.187     0.0739      0.206     0.0909      0.045    0.00744\n"
     ]
    },
    {
     "metadata": {
      "tags": null
     },
     "name": "stderr",
     "output_type": "stream",
     "text": [
      "\n"
     ]
    },
    {
     "metadata": {
      "tags": null
     },
     "name": "stdout",
     "output_type": "stream",
     "text": [
      "\n",
      "      Epoch    GPU_mem   box_loss   seg_loss   cls_loss   dfl_loss  Instances       Size\n"
     ]
    },
    {
     "metadata": {
      "tags": null
     },
     "name": "stderr",
     "output_type": "stream",
     "text": [
      "     24/200      1.69G      1.421      2.184      1.583      1.416         15        640: 100%|██████████| 54/54 [00:16<00:00,  3.18it/s]\n",
      "                 Class     Images  Instances      Box(P          R      mAP50  mAP50-95)     Mask(P          R      mAP50  mAP50-95): 100%|██████████| 2/2 [00:00<00:00,  2.69it/s]"
     ]
    },
    {
     "metadata": {
      "tags": null
     },
     "name": "stdout",
     "output_type": "stream",
     "text": [
      "                   all         23         33      0.265      0.252      0.213      0.105      0.157      0.182      0.115     0.0169\n"
     ]
    },
    {
     "metadata": {
      "tags": null
     },
     "name": "stderr",
     "output_type": "stream",
     "text": [
      "\n"
     ]
    },
    {
     "metadata": {
      "tags": null
     },
     "name": "stdout",
     "output_type": "stream",
     "text": [
      "\n",
      "      Epoch    GPU_mem   box_loss   seg_loss   cls_loss   dfl_loss  Instances       Size\n"
     ]
    },
    {
     "metadata": {
      "tags": null
     },
     "name": "stderr",
     "output_type": "stream",
     "text": [
      "     25/200      1.72G      1.438      2.184      1.556      1.433         19        640: 100%|██████████| 54/54 [00:14<00:00,  3.83it/s]\n",
      "                 Class     Images  Instances      Box(P          R      mAP50  mAP50-95)     Mask(P          R      mAP50  mAP50-95): 100%|██████████| 2/2 [00:00<00:00,  3.14it/s]"
     ]
    },
    {
     "metadata": {
      "tags": null
     },
     "name": "stdout",
     "output_type": "stream",
     "text": [
      "                   all         23         33      0.409      0.394      0.243     0.0998      0.244      0.212      0.112     0.0215\n"
     ]
    },
    {
     "metadata": {
      "tags": null
     },
     "name": "stderr",
     "output_type": "stream",
     "text": [
      "\n"
     ]
    },
    {
     "metadata": {
      "tags": null
     },
     "name": "stdout",
     "output_type": "stream",
     "text": [
      "\n",
      "      Epoch    GPU_mem   box_loss   seg_loss   cls_loss   dfl_loss  Instances       Size\n"
     ]
    },
    {
     "metadata": {
      "tags": null
     },
     "name": "stderr",
     "output_type": "stream",
     "text": [
      "     26/200      1.69G      1.395      2.122      1.473      1.387         19        640: 100%|██████████| 54/54 [00:17<00:00,  3.15it/s]\n",
      "                 Class     Images  Instances      Box(P          R      mAP50  mAP50-95)     Mask(P          R      mAP50  mAP50-95): 100%|██████████| 2/2 [00:00<00:00,  4.00it/s]"
     ]
    },
    {
     "metadata": {
      "tags": null
     },
     "name": "stdout",
     "output_type": "stream",
     "text": [
      "                   all         23         33      0.443      0.455      0.297      0.136      0.289      0.303      0.147     0.0295\n"
     ]
    },
    {
     "metadata": {
      "tags": null
     },
     "name": "stderr",
     "output_type": "stream",
     "text": [
      "\n"
     ]
    },
    {
     "metadata": {
      "tags": null
     },
     "name": "stdout",
     "output_type": "stream",
     "text": [
      "\n",
      "      Epoch    GPU_mem   box_loss   seg_loss   cls_loss   dfl_loss  Instances       Size\n"
     ]
    },
    {
     "metadata": {
      "tags": null
     },
     "name": "stderr",
     "output_type": "stream",
     "text": [
      "     27/200      1.69G      1.388      2.252      1.544      1.418          9        640: 100%|██████████| 54/54 [00:19<00:00,  2.83it/s]\n",
      "                 Class     Images  Instances      Box(P          R      mAP50  mAP50-95)     Mask(P          R      mAP50  mAP50-95): 100%|██████████| 2/2 [00:00<00:00,  3.26it/s]"
     ]
    },
    {
     "metadata": {
      "tags": null
     },
     "name": "stdout",
     "output_type": "stream",
     "text": [
      "                   all         23         33      0.538      0.424      0.347       0.19       0.39      0.303      0.212     0.0347\n"
     ]
    },
    {
     "metadata": {
      "tags": null
     },
     "name": "stderr",
     "output_type": "stream",
     "text": [
      "\n"
     ]
    },
    {
     "metadata": {
      "tags": null
     },
     "name": "stdout",
     "output_type": "stream",
     "text": [
      "\n",
      "      Epoch    GPU_mem   box_loss   seg_loss   cls_loss   dfl_loss  Instances       Size\n"
     ]
    },
    {
     "metadata": {
      "tags": null
     },
     "name": "stderr",
     "output_type": "stream",
     "text": [
      "     28/200      1.69G      1.419      2.181      1.522      1.403         19        640: 100%|██████████| 54/54 [00:18<00:00,  2.96it/s]\n",
      "                 Class     Images  Instances      Box(P          R      mAP50  mAP50-95)     Mask(P          R      mAP50  mAP50-95): 100%|██████████| 2/2 [00:00<00:00,  4.74it/s]"
     ]
    },
    {
     "metadata": {
      "tags": null
     },
     "name": "stdout",
     "output_type": "stream",
     "text": [
      "                   all         23         33      0.251      0.364      0.206      0.118      0.192      0.273     0.0991     0.0121\n"
     ]
    },
    {
     "metadata": {
      "tags": null
     },
     "name": "stderr",
     "output_type": "stream",
     "text": [
      "\n"
     ]
    },
    {
     "metadata": {
      "tags": null
     },
     "name": "stdout",
     "output_type": "stream",
     "text": [
      "\n",
      "      Epoch    GPU_mem   box_loss   seg_loss   cls_loss   dfl_loss  Instances       Size\n"
     ]
    },
    {
     "metadata": {
      "tags": null
     },
     "name": "stderr",
     "output_type": "stream",
     "text": [
      "     29/200      1.63G      1.406      2.238      1.509      1.387         17        640: 100%|██████████| 54/54 [00:17<00:00,  3.11it/s]\n",
      "                 Class     Images  Instances      Box(P          R      mAP50  mAP50-95)     Mask(P          R      mAP50  mAP50-95): 100%|██████████| 2/2 [00:00<00:00,  2.25it/s]"
     ]
    },
    {
     "metadata": {
      "tags": null
     },
     "name": "stdout",
     "output_type": "stream",
     "text": [
      "                   all         23         33      0.355      0.303      0.215     0.0868      0.307      0.242      0.152     0.0249\n"
     ]
    },
    {
     "metadata": {
      "tags": null
     },
     "name": "stderr",
     "output_type": "stream",
     "text": [
      "\n"
     ]
    },
    {
     "metadata": {
      "tags": null
     },
     "name": "stdout",
     "output_type": "stream",
     "text": [
      "\n",
      "      Epoch    GPU_mem   box_loss   seg_loss   cls_loss   dfl_loss  Instances       Size\n"
     ]
    },
    {
     "metadata": {
      "tags": null
     },
     "name": "stderr",
     "output_type": "stream",
     "text": [
      "     30/200      1.72G      1.355      2.159      1.464      1.353         12        640: 100%|██████████| 54/54 [00:14<00:00,  3.79it/s]\n",
      "                 Class     Images  Instances      Box(P          R      mAP50  mAP50-95)     Mask(P          R      mAP50  mAP50-95): 100%|██████████| 2/2 [00:01<00:00,  1.82it/s]"
     ]
    },
    {
     "metadata": {
      "tags": null
     },
     "name": "stdout",
     "output_type": "stream",
     "text": [
      "                   all         23         33      0.545      0.394      0.364       0.16      0.274      0.242      0.132     0.0289\n"
     ]
    },
    {
     "metadata": {
      "tags": null
     },
     "name": "stderr",
     "output_type": "stream",
     "text": [
      "\n"
     ]
    },
    {
     "metadata": {
      "tags": null
     },
     "name": "stdout",
     "output_type": "stream",
     "text": [
      "\n",
      "      Epoch    GPU_mem   box_loss   seg_loss   cls_loss   dfl_loss  Instances       Size\n"
     ]
    },
    {
     "metadata": {
      "tags": null
     },
     "name": "stderr",
     "output_type": "stream",
     "text": [
      "     31/200      1.69G      1.363      2.222      1.481      1.373         31        640: 100%|██████████| 54/54 [00:16<00:00,  3.25it/s]\n",
      "                 Class     Images  Instances      Box(P          R      mAP50  mAP50-95)     Mask(P          R      mAP50  mAP50-95): 100%|██████████| 2/2 [00:00<00:00,  3.68it/s]"
     ]
    },
    {
     "metadata": {
      "tags": null
     },
     "name": "stdout",
     "output_type": "stream",
     "text": [
      "                   all         23         33      0.617      0.455      0.413      0.155      0.389      0.303      0.233     0.0502\n"
     ]
    },
    {
     "metadata": {
      "tags": null
     },
     "name": "stderr",
     "output_type": "stream",
     "text": [
      "\n"
     ]
    },
    {
     "metadata": {
      "tags": null
     },
     "name": "stdout",
     "output_type": "stream",
     "text": [
      "\n",
      "      Epoch    GPU_mem   box_loss   seg_loss   cls_loss   dfl_loss  Instances       Size\n"
     ]
    },
    {
     "metadata": {
      "tags": null
     },
     "name": "stderr",
     "output_type": "stream",
     "text": [
      "     32/200      1.69G      1.344      2.098      1.436      1.356          9        640: 100%|██████████| 54/54 [00:17<00:00,  3.12it/s]\n",
      "                 Class     Images  Instances      Box(P          R      mAP50  mAP50-95)     Mask(P          R      mAP50  mAP50-95): 100%|██████████| 2/2 [00:00<00:00,  4.31it/s]"
     ]
    },
    {
     "metadata": {
      "tags": null
     },
     "name": "stdout",
     "output_type": "stream",
     "text": [
      "                   all         23         33      0.378      0.455      0.326      0.166      0.252      0.182     0.0836     0.0149\n"
     ]
    },
    {
     "metadata": {
      "tags": null
     },
     "name": "stderr",
     "output_type": "stream",
     "text": [
      "\n"
     ]
    },
    {
     "metadata": {
      "tags": null
     },
     "name": "stdout",
     "output_type": "stream",
     "text": [
      "\n",
      "      Epoch    GPU_mem   box_loss   seg_loss   cls_loss   dfl_loss  Instances       Size\n"
     ]
    },
    {
     "metadata": {
      "tags": null
     },
     "name": "stderr",
     "output_type": "stream",
     "text": [
      "     33/200      1.72G      1.329      2.103      1.392       1.34         27        640: 100%|██████████| 54/54 [00:19<00:00,  2.82it/s]\n",
      "                 Class     Images  Instances      Box(P          R      mAP50  mAP50-95)     Mask(P          R      mAP50  mAP50-95): 100%|██████████| 2/2 [00:00<00:00,  4.69it/s]"
     ]
    },
    {
     "metadata": {
      "tags": null
     },
     "name": "stdout",
     "output_type": "stream",
     "text": [
      "                   all         23         33      0.431      0.364      0.302      0.133      0.287      0.242      0.111     0.0194\n"
     ]
    },
    {
     "metadata": {
      "tags": null
     },
     "name": "stderr",
     "output_type": "stream",
     "text": [
      "\n"
     ]
    },
    {
     "metadata": {
      "tags": null
     },
     "name": "stdout",
     "output_type": "stream",
     "text": [
      "\n",
      "      Epoch    GPU_mem   box_loss   seg_loss   cls_loss   dfl_loss  Instances       Size\n"
     ]
    },
    {
     "metadata": {
      "tags": null
     },
     "name": "stderr",
     "output_type": "stream",
     "text": [
      "     34/200      1.69G      1.316      2.129      1.411      1.343         15        640: 100%|██████████| 54/54 [00:18<00:00,  2.97it/s]\n",
      "                 Class     Images  Instances      Box(P          R      mAP50  mAP50-95)     Mask(P          R      mAP50  mAP50-95): 100%|██████████| 2/2 [00:00<00:00,  2.06it/s]"
     ]
    },
    {
     "metadata": {
      "tags": null
     },
     "name": "stdout",
     "output_type": "stream",
     "text": [
      "                   all         23         33      0.268      0.455      0.268     0.0862      0.148      0.303     0.0674     0.0119\n"
     ]
    },
    {
     "metadata": {
      "tags": null
     },
     "name": "stderr",
     "output_type": "stream",
     "text": [
      "\n"
     ]
    },
    {
     "metadata": {
      "tags": null
     },
     "name": "stdout",
     "output_type": "stream",
     "text": [
      "\n",
      "      Epoch    GPU_mem   box_loss   seg_loss   cls_loss   dfl_loss  Instances       Size\n"
     ]
    },
    {
     "metadata": {
      "tags": null
     },
     "name": "stderr",
     "output_type": "stream",
     "text": [
      "     35/200      1.62G      1.352      2.147      1.448      1.355         28        640: 100%|██████████| 54/54 [00:14<00:00,  3.65it/s]\n",
      "                 Class     Images  Instances      Box(P          R      mAP50  mAP50-95)     Mask(P          R      mAP50  mAP50-95): 100%|██████████| 2/2 [00:01<00:00,  1.70it/s]"
     ]
    },
    {
     "metadata": {
      "tags": null
     },
     "name": "stdout",
     "output_type": "stream",
     "text": [
      "                   all         23         33      0.351      0.443      0.289       0.12      0.257      0.333       0.11     0.0225\n"
     ]
    },
    {
     "metadata": {
      "tags": null
     },
     "name": "stderr",
     "output_type": "stream",
     "text": [
      "\n"
     ]
    },
    {
     "metadata": {
      "tags": null
     },
     "name": "stdout",
     "output_type": "stream",
     "text": [
      "\n",
      "      Epoch    GPU_mem   box_loss   seg_loss   cls_loss   dfl_loss  Instances       Size\n"
     ]
    },
    {
     "metadata": {
      "tags": null
     },
     "name": "stderr",
     "output_type": "stream",
     "text": [
      "     36/200      1.69G       1.32      2.063      1.377      1.327          9        640: 100%|██████████| 54/54 [00:15<00:00,  3.55it/s]\n",
      "                 Class     Images  Instances      Box(P          R      mAP50  mAP50-95)     Mask(P          R      mAP50  mAP50-95): 100%|██████████| 2/2 [00:00<00:00,  3.12it/s]"
     ]
    },
    {
     "metadata": {
      "tags": null
     },
     "name": "stdout",
     "output_type": "stream",
     "text": [
      "                   all         23         33      0.349      0.358      0.251      0.122      0.204      0.212     0.0828      0.013\n"
     ]
    },
    {
     "metadata": {
      "tags": null
     },
     "name": "stderr",
     "output_type": "stream",
     "text": [
      "\n"
     ]
    },
    {
     "metadata": {
      "tags": null
     },
     "name": "stdout",
     "output_type": "stream",
     "text": [
      "\n",
      "      Epoch    GPU_mem   box_loss   seg_loss   cls_loss   dfl_loss  Instances       Size\n"
     ]
    },
    {
     "metadata": {
      "tags": null
     },
     "name": "stderr",
     "output_type": "stream",
     "text": [
      "     37/200       1.7G      1.314      2.074      1.326      1.335         14        640: 100%|██████████| 54/54 [00:16<00:00,  3.18it/s]\n",
      "                 Class     Images  Instances      Box(P          R      mAP50  mAP50-95)     Mask(P          R      mAP50  mAP50-95): 100%|██████████| 2/2 [00:00<00:00,  4.03it/s]"
     ]
    },
    {
     "metadata": {
      "tags": null
     },
     "name": "stdout",
     "output_type": "stream",
     "text": [
      "                   all         23         33      0.294      0.364      0.183     0.0908      0.225      0.273      0.103     0.0223\n"
     ]
    },
    {
     "metadata": {
      "tags": null
     },
     "name": "stderr",
     "output_type": "stream",
     "text": [
      "\n"
     ]
    },
    {
     "metadata": {
      "tags": null
     },
     "name": "stdout",
     "output_type": "stream",
     "text": [
      "\n",
      "      Epoch    GPU_mem   box_loss   seg_loss   cls_loss   dfl_loss  Instances       Size\n"
     ]
    },
    {
     "metadata": {
      "tags": null
     },
     "name": "stderr",
     "output_type": "stream",
     "text": [
      "     38/200      1.69G      1.326      2.061      1.379       1.33         25        640: 100%|██████████| 54/54 [00:19<00:00,  2.84it/s]\n",
      "                 Class     Images  Instances      Box(P          R      mAP50  mAP50-95)     Mask(P          R      mAP50  mAP50-95): 100%|██████████| 2/2 [00:00<00:00,  4.39it/s]"
     ]
    },
    {
     "metadata": {
      "tags": null
     },
     "name": "stdout",
     "output_type": "stream",
     "text": [
      "                   all         23         33       0.41      0.364      0.214        0.1      0.382      0.303      0.166     0.0266\n"
     ]
    },
    {
     "metadata": {
      "tags": null
     },
     "name": "stderr",
     "output_type": "stream",
     "text": [
      "\n"
     ]
    },
    {
     "metadata": {
      "tags": null
     },
     "name": "stdout",
     "output_type": "stream",
     "text": [
      "\n",
      "      Epoch    GPU_mem   box_loss   seg_loss   cls_loss   dfl_loss  Instances       Size\n"
     ]
    },
    {
     "metadata": {
      "tags": null
     },
     "name": "stderr",
     "output_type": "stream",
     "text": [
      "     39/200      1.67G      1.319      2.118      1.426       1.34         26        640: 100%|██████████| 54/54 [00:18<00:00,  2.90it/s]\n",
      "                 Class     Images  Instances      Box(P          R      mAP50  mAP50-95)     Mask(P          R      mAP50  mAP50-95): 100%|██████████| 2/2 [00:00<00:00,  4.63it/s]"
     ]
    },
    {
     "metadata": {
      "tags": null
     },
     "name": "stdout",
     "output_type": "stream",
     "text": [
      "                   all         23         33       0.48      0.394      0.353      0.166      0.367      0.212      0.156      0.034\n"
     ]
    },
    {
     "metadata": {
      "tags": null
     },
     "name": "stderr",
     "output_type": "stream",
     "text": [
      "\n"
     ]
    },
    {
     "metadata": {
      "tags": null
     },
     "name": "stdout",
     "output_type": "stream",
     "text": [
      "\n",
      "      Epoch    GPU_mem   box_loss   seg_loss   cls_loss   dfl_loss  Instances       Size\n"
     ]
    },
    {
     "metadata": {
      "tags": null
     },
     "name": "stderr",
     "output_type": "stream",
     "text": [
      "     40/200      1.73G      1.309      2.027      1.399      1.332         16        640: 100%|██████████| 54/54 [00:15<00:00,  3.48it/s]\n",
      "                 Class     Images  Instances      Box(P          R      mAP50  mAP50-95)     Mask(P          R      mAP50  mAP50-95): 100%|██████████| 2/2 [00:00<00:00,  2.97it/s]"
     ]
    },
    {
     "metadata": {
      "tags": null
     },
     "name": "stdout",
     "output_type": "stream",
     "text": [
      "                   all         23         33      0.335      0.303      0.246      0.103      0.166      0.273      0.105     0.0278\n"
     ]
    },
    {
     "metadata": {
      "tags": null
     },
     "name": "stderr",
     "output_type": "stream",
     "text": [
      "\n"
     ]
    },
    {
     "metadata": {
      "tags": null
     },
     "name": "stdout",
     "output_type": "stream",
     "text": [
      "\n",
      "      Epoch    GPU_mem   box_loss   seg_loss   cls_loss   dfl_loss  Instances       Size\n"
     ]
    },
    {
     "metadata": {
      "tags": null
     },
     "name": "stderr",
     "output_type": "stream",
     "text": [
      "     41/200      1.69G      1.242      2.001        1.3      1.278         15        640: 100%|██████████| 54/54 [00:14<00:00,  3.61it/s]\n",
      "                 Class     Images  Instances      Box(P          R      mAP50  mAP50-95)     Mask(P          R      mAP50  mAP50-95): 100%|██████████| 2/2 [00:00<00:00,  2.61it/s]"
     ]
    },
    {
     "metadata": {
      "tags": null
     },
     "name": "stdout",
     "output_type": "stream",
     "text": [
      "                   all         23         33      0.328      0.333      0.289      0.153      0.237      0.242      0.164     0.0334\n"
     ]
    },
    {
     "metadata": {
      "tags": null
     },
     "name": "stderr",
     "output_type": "stream",
     "text": [
      "\n"
     ]
    },
    {
     "metadata": {
      "tags": null
     },
     "name": "stdout",
     "output_type": "stream",
     "text": [
      "\n",
      "      Epoch    GPU_mem   box_loss   seg_loss   cls_loss   dfl_loss  Instances       Size\n"
     ]
    },
    {
     "metadata": {
      "tags": null
     },
     "name": "stderr",
     "output_type": "stream",
     "text": [
      "     42/200      1.71G      1.307      2.085       1.33        1.3         45        640: 100%|██████████| 54/54 [00:17<00:00,  3.09it/s]\n",
      "                 Class     Images  Instances      Box(P          R      mAP50  mAP50-95)     Mask(P          R      mAP50  mAP50-95): 100%|██████████| 2/2 [00:00<00:00,  4.11it/s]"
     ]
    },
    {
     "metadata": {
      "tags": null
     },
     "name": "stdout",
     "output_type": "stream",
     "text": [
      "                   all         23         33      0.413      0.364      0.265      0.107      0.246      0.247      0.115     0.0255\n"
     ]
    },
    {
     "metadata": {
      "tags": null
     },
     "name": "stderr",
     "output_type": "stream",
     "text": [
      "\n"
     ]
    },
    {
     "metadata": {
      "tags": null
     },
     "name": "stdout",
     "output_type": "stream",
     "text": [
      "\n",
      "      Epoch    GPU_mem   box_loss   seg_loss   cls_loss   dfl_loss  Instances       Size\n"
     ]
    },
    {
     "metadata": {
      "tags": null
     },
     "name": "stderr",
     "output_type": "stream",
     "text": [
      "     43/200      1.69G      1.263      2.063      1.335      1.304         26        640: 100%|██████████| 54/54 [00:17<00:00,  3.04it/s]\n",
      "                 Class     Images  Instances      Box(P          R      mAP50  mAP50-95)     Mask(P          R      mAP50  mAP50-95): 100%|██████████| 2/2 [00:00<00:00,  3.90it/s]"
     ]
    },
    {
     "metadata": {
      "tags": null
     },
     "name": "stdout",
     "output_type": "stream",
     "text": [
      "                   all         23         33      0.345      0.394      0.295      0.131      0.216      0.242      0.125      0.025\n"
     ]
    },
    {
     "metadata": {
      "tags": null
     },
     "name": "stderr",
     "output_type": "stream",
     "text": [
      "\n"
     ]
    },
    {
     "metadata": {
      "tags": null
     },
     "name": "stdout",
     "output_type": "stream",
     "text": [
      "\n",
      "      Epoch    GPU_mem   box_loss   seg_loss   cls_loss   dfl_loss  Instances       Size\n"
     ]
    },
    {
     "metadata": {
      "tags": null
     },
     "name": "stderr",
     "output_type": "stream",
     "text": [
      "     44/200      1.64G      1.269      2.058       1.29      1.307         32        640: 100%|██████████| 54/54 [00:18<00:00,  3.00it/s]\n",
      "                 Class     Images  Instances      Box(P          R      mAP50  mAP50-95)     Mask(P          R      mAP50  mAP50-95): 100%|██████████| 2/2 [00:00<00:00,  3.36it/s]"
     ]
    },
    {
     "metadata": {
      "tags": null
     },
     "name": "stdout",
     "output_type": "stream",
     "text": [
      "                   all         23         33      0.391      0.545      0.263      0.117      0.301      0.303       0.14     0.0308\n"
     ]
    },
    {
     "metadata": {
      "tags": null
     },
     "name": "stderr",
     "output_type": "stream",
     "text": [
      "\n"
     ]
    },
    {
     "metadata": {
      "tags": null
     },
     "name": "stdout",
     "output_type": "stream",
     "text": [
      "\n",
      "      Epoch    GPU_mem   box_loss   seg_loss   cls_loss   dfl_loss  Instances       Size\n"
     ]
    },
    {
     "metadata": {
      "tags": null
     },
     "name": "stderr",
     "output_type": "stream",
     "text": [
      "     45/200      1.69G      1.312      2.147       1.32      1.329         26        640: 100%|██████████| 54/54 [00:16<00:00,  3.34it/s]\n",
      "                 Class     Images  Instances      Box(P          R      mAP50  mAP50-95)     Mask(P          R      mAP50  mAP50-95): 100%|██████████| 2/2 [00:00<00:00,  2.28it/s]"
     ]
    },
    {
     "metadata": {
      "tags": null
     },
     "name": "stdout",
     "output_type": "stream",
     "text": [
      "                   all         23         33      0.377      0.485      0.303      0.123       0.34      0.266      0.142     0.0303\n"
     ]
    },
    {
     "metadata": {
      "tags": null
     },
     "name": "stderr",
     "output_type": "stream",
     "text": [
      "\n"
     ]
    },
    {
     "metadata": {
      "tags": null
     },
     "name": "stdout",
     "output_type": "stream",
     "text": [
      "\n",
      "      Epoch    GPU_mem   box_loss   seg_loss   cls_loss   dfl_loss  Instances       Size\n"
     ]
    },
    {
     "metadata": {
      "tags": null
     },
     "name": "stderr",
     "output_type": "stream",
     "text": [
      "     46/200      1.76G      1.238      2.122       1.29      1.277         18        640: 100%|██████████| 54/54 [00:15<00:00,  3.54it/s]\n",
      "                 Class     Images  Instances      Box(P          R      mAP50  mAP50-95)     Mask(P          R      mAP50  mAP50-95): 100%|██████████| 2/2 [00:00<00:00,  2.38it/s]"
     ]
    },
    {
     "metadata": {
      "tags": null
     },
     "name": "stdout",
     "output_type": "stream",
     "text": [
      "                   all         23         33      0.412      0.404      0.273      0.134      0.352      0.364      0.205     0.0605\n"
     ]
    },
    {
     "metadata": {
      "tags": null
     },
     "name": "stderr",
     "output_type": "stream",
     "text": [
      "\n"
     ]
    },
    {
     "metadata": {
      "tags": null
     },
     "name": "stdout",
     "output_type": "stream",
     "text": [
      "\n",
      "      Epoch    GPU_mem   box_loss   seg_loss   cls_loss   dfl_loss  Instances       Size\n"
     ]
    },
    {
     "metadata": {
      "tags": null
     },
     "name": "stderr",
     "output_type": "stream",
     "text": [
      "     47/200      1.69G      1.249       2.01      1.245      1.309         23        640: 100%|██████████| 54/54 [00:17<00:00,  3.17it/s]\n",
      "                 Class     Images  Instances      Box(P          R      mAP50  mAP50-95)     Mask(P          R      mAP50  mAP50-95): 100%|██████████| 2/2 [00:00<00:00,  5.01it/s]"
     ]
    },
    {
     "metadata": {
      "tags": null
     },
     "name": "stdout",
     "output_type": "stream",
     "text": [
      "                   all         23         33      0.321      0.344      0.228      0.123      0.257      0.273      0.125     0.0316\n"
     ]
    },
    {
     "metadata": {
      "tags": null
     },
     "name": "stderr",
     "output_type": "stream",
     "text": [
      "\n"
     ]
    },
    {
     "metadata": {
      "tags": null
     },
     "name": "stdout",
     "output_type": "stream",
     "text": [
      "\n",
      "      Epoch    GPU_mem   box_loss   seg_loss   cls_loss   dfl_loss  Instances       Size\n"
     ]
    },
    {
     "metadata": {
      "tags": null
     },
     "name": "stderr",
     "output_type": "stream",
     "text": [
      "     48/200      1.72G      1.272      1.974      1.303      1.316         15        640: 100%|██████████| 54/54 [00:18<00:00,  2.94it/s]\n",
      "                 Class     Images  Instances      Box(P          R      mAP50  mAP50-95)     Mask(P          R      mAP50  mAP50-95): 100%|██████████| 2/2 [00:00<00:00,  4.00it/s]"
     ]
    },
    {
     "metadata": {
      "tags": null
     },
     "name": "stdout",
     "output_type": "stream",
     "text": [
      "                   all         23         33      0.354      0.455      0.353      0.178      0.256      0.333      0.172     0.0353\n"
     ]
    },
    {
     "metadata": {
      "tags": null
     },
     "name": "stderr",
     "output_type": "stream",
     "text": [
      "\n"
     ]
    },
    {
     "metadata": {
      "tags": null
     },
     "name": "stdout",
     "output_type": "stream",
     "text": [
      "\n",
      "      Epoch    GPU_mem   box_loss   seg_loss   cls_loss   dfl_loss  Instances       Size\n"
     ]
    },
    {
     "metadata": {
      "tags": null
     },
     "name": "stderr",
     "output_type": "stream",
     "text": [
      "     49/200      1.69G      1.238      2.046      1.253      1.291         15        640: 100%|██████████| 54/54 [00:17<00:00,  3.00it/s]\n",
      "                 Class     Images  Instances      Box(P          R      mAP50  mAP50-95)     Mask(P          R      mAP50  mAP50-95): 100%|██████████| 2/2 [00:00<00:00,  5.30it/s]"
     ]
    },
    {
     "metadata": {
      "tags": null
     },
     "name": "stdout",
     "output_type": "stream",
     "text": [
      "                   all         23         33      0.316      0.424      0.253      0.119      0.288      0.364      0.203     0.0496\n"
     ]
    },
    {
     "metadata": {
      "tags": null
     },
     "name": "stderr",
     "output_type": "stream",
     "text": [
      "\n"
     ]
    },
    {
     "metadata": {
      "tags": null
     },
     "name": "stdout",
     "output_type": "stream",
     "text": [
      "\n",
      "      Epoch    GPU_mem   box_loss   seg_loss   cls_loss   dfl_loss  Instances       Size\n"
     ]
    },
    {
     "metadata": {
      "tags": null
     },
     "name": "stderr",
     "output_type": "stream",
     "text": [
      "     50/200      1.69G      1.264      2.059      1.272      1.284         30        640: 100%|██████████| 54/54 [00:16<00:00,  3.26it/s]\n",
      "                 Class     Images  Instances      Box(P          R      mAP50  mAP50-95)     Mask(P          R      mAP50  mAP50-95): 100%|██████████| 2/2 [00:00<00:00,  2.51it/s]"
     ]
    },
    {
     "metadata": {
      "tags": null
     },
     "name": "stdout",
     "output_type": "stream",
     "text": [
      "                   all         23         33      0.247      0.364       0.21     0.0969      0.206      0.303      0.131      0.037\n"
     ]
    },
    {
     "metadata": {
      "tags": null
     },
     "name": "stderr",
     "output_type": "stream",
     "text": [
      "\n"
     ]
    },
    {
     "metadata": {
      "tags": null
     },
     "name": "stdout",
     "output_type": "stream",
     "text": [
      "\n",
      "      Epoch    GPU_mem   box_loss   seg_loss   cls_loss   dfl_loss  Instances       Size\n"
     ]
    },
    {
     "metadata": {
      "tags": null
     },
     "name": "stderr",
     "output_type": "stream",
     "text": [
      "     51/200      1.69G      1.242       2.07      1.248      1.281         17        640: 100%|██████████| 54/54 [00:14<00:00,  3.72it/s]\n",
      "                 Class     Images  Instances      Box(P          R      mAP50  mAP50-95)     Mask(P          R      mAP50  mAP50-95): 100%|██████████| 2/2 [00:00<00:00,  3.11it/s]"
     ]
    },
    {
     "metadata": {
      "tags": null
     },
     "name": "stdout",
     "output_type": "stream",
     "text": [
      "                   all         23         33      0.395      0.424      0.265      0.125      0.306      0.333      0.161     0.0311\n"
     ]
    },
    {
     "metadata": {
      "tags": null
     },
     "name": "stderr",
     "output_type": "stream",
     "text": [
      "\n"
     ]
    },
    {
     "metadata": {
      "tags": null
     },
     "name": "stdout",
     "output_type": "stream",
     "text": [
      "\n",
      "      Epoch    GPU_mem   box_loss   seg_loss   cls_loss   dfl_loss  Instances       Size\n"
     ]
    },
    {
     "metadata": {
      "tags": null
     },
     "name": "stderr",
     "output_type": "stream",
     "text": [
      "     52/200      1.69G      1.196      2.027      1.217      1.256         25        640: 100%|██████████| 54/54 [00:15<00:00,  3.54it/s]\n",
      "                 Class     Images  Instances      Box(P          R      mAP50  mAP50-95)     Mask(P          R      mAP50  mAP50-95): 100%|██████████| 2/2 [00:00<00:00,  3.42it/s]"
     ]
    },
    {
     "metadata": {
      "tags": null
     },
     "name": "stdout",
     "output_type": "stream",
     "text": [
      "                   all         23         33      0.379      0.485      0.276      0.105      0.232      0.303      0.142     0.0233\n"
     ]
    },
    {
     "metadata": {
      "tags": null
     },
     "name": "stderr",
     "output_type": "stream",
     "text": [
      "\n"
     ]
    },
    {
     "metadata": {
      "tags": null
     },
     "name": "stdout",
     "output_type": "stream",
     "text": [
      "\n",
      "      Epoch    GPU_mem   box_loss   seg_loss   cls_loss   dfl_loss  Instances       Size\n"
     ]
    },
    {
     "metadata": {
      "tags": null
     },
     "name": "stderr",
     "output_type": "stream",
     "text": [
      "     53/200      1.67G      1.245      2.088      1.228      1.297         15        640: 100%|██████████| 54/54 [00:17<00:00,  3.13it/s]\n",
      "                 Class     Images  Instances      Box(P          R      mAP50  mAP50-95)     Mask(P          R      mAP50  mAP50-95): 100%|██████████| 2/2 [00:00<00:00,  5.11it/s]"
     ]
    },
    {
     "metadata": {
      "tags": null
     },
     "name": "stdout",
     "output_type": "stream",
     "text": [
      "                   all         23         33      0.361      0.515      0.331      0.151      0.265      0.273      0.143     0.0275\n"
     ]
    },
    {
     "metadata": {
      "tags": null
     },
     "name": "stderr",
     "output_type": "stream",
     "text": [
      "\n"
     ]
    },
    {
     "metadata": {
      "tags": null
     },
     "name": "stdout",
     "output_type": "stream",
     "text": [
      "\n",
      "      Epoch    GPU_mem   box_loss   seg_loss   cls_loss   dfl_loss  Instances       Size\n"
     ]
    },
    {
     "metadata": {
      "tags": null
     },
     "name": "stderr",
     "output_type": "stream",
     "text": [
      "     54/200      1.69G      1.219      2.036      1.267      1.289         18        640: 100%|██████████| 54/54 [00:18<00:00,  2.94it/s]\n",
      "                 Class     Images  Instances      Box(P          R      mAP50  mAP50-95)     Mask(P          R      mAP50  mAP50-95): 100%|██████████| 2/2 [00:00<00:00,  4.84it/s]"
     ]
    },
    {
     "metadata": {
      "tags": null
     },
     "name": "stdout",
     "output_type": "stream",
     "text": [
      "                   all         23         33      0.415      0.516      0.351      0.137      0.293      0.339      0.243     0.0509\n"
     ]
    },
    {
     "metadata": {
      "tags": null
     },
     "name": "stderr",
     "output_type": "stream",
     "text": [
      "\n"
     ]
    },
    {
     "metadata": {
      "tags": null
     },
     "name": "stdout",
     "output_type": "stream",
     "text": [
      "\n",
      "      Epoch    GPU_mem   box_loss   seg_loss   cls_loss   dfl_loss  Instances       Size\n"
     ]
    },
    {
     "metadata": {
      "tags": null
     },
     "name": "stderr",
     "output_type": "stream",
     "text": [
      "     55/200      1.67G      1.188      2.079      1.196      1.256         14        640: 100%|██████████| 54/54 [00:18<00:00,  2.96it/s]\n",
      "                 Class     Images  Instances      Box(P          R      mAP50  mAP50-95)     Mask(P          R      mAP50  mAP50-95): 100%|██████████| 2/2 [00:00<00:00,  2.45it/s]"
     ]
    },
    {
     "metadata": {
      "tags": null
     },
     "name": "stdout",
     "output_type": "stream",
     "text": [
      "                   all         23         33      0.303      0.394      0.248     0.0865       0.14      0.364      0.138     0.0315\n"
     ]
    },
    {
     "metadata": {
      "tags": null
     },
     "name": "stderr",
     "output_type": "stream",
     "text": [
      "\n"
     ]
    },
    {
     "metadata": {
      "tags": null
     },
     "name": "stdout",
     "output_type": "stream",
     "text": [
      "\n",
      "      Epoch    GPU_mem   box_loss   seg_loss   cls_loss   dfl_loss  Instances       Size\n"
     ]
    },
    {
     "metadata": {
      "tags": null
     },
     "name": "stderr",
     "output_type": "stream",
     "text": [
      "     56/200      1.67G      1.259      2.056      1.237      1.289         23        640: 100%|██████████| 54/54 [00:14<00:00,  3.63it/s]\n",
      "                 Class     Images  Instances      Box(P          R      mAP50  mAP50-95)     Mask(P          R      mAP50  mAP50-95): 100%|██████████| 2/2 [00:00<00:00,  2.70it/s]"
     ]
    },
    {
     "metadata": {
      "tags": null
     },
     "name": "stdout",
     "output_type": "stream",
     "text": [
      "                   all         23         33       0.34      0.455       0.24      0.109      0.283      0.364      0.175     0.0259\n"
     ]
    },
    {
     "metadata": {
      "tags": null
     },
     "name": "stderr",
     "output_type": "stream",
     "text": [
      "\n"
     ]
    },
    {
     "metadata": {
      "tags": null
     },
     "name": "stdout",
     "output_type": "stream",
     "text": [
      "\n",
      "      Epoch    GPU_mem   box_loss   seg_loss   cls_loss   dfl_loss  Instances       Size\n"
     ]
    },
    {
     "metadata": {
      "tags": null
     },
     "name": "stderr",
     "output_type": "stream",
     "text": [
      "     57/200      1.67G      1.177      2.002      1.207      1.243         18        640: 100%|██████████| 54/54 [00:15<00:00,  3.54it/s]\n",
      "                 Class     Images  Instances      Box(P          R      mAP50  mAP50-95)     Mask(P          R      mAP50  mAP50-95): 100%|██████████| 2/2 [00:00<00:00,  3.23it/s]"
     ]
    },
    {
     "metadata": {
      "tags": null
     },
     "name": "stdout",
     "output_type": "stream",
     "text": [
      "                   all         23         33       0.37      0.364      0.321      0.123       0.44      0.333      0.201     0.0371\n"
     ]
    },
    {
     "metadata": {
      "tags": null
     },
     "name": "stderr",
     "output_type": "stream",
     "text": [
      "\n"
     ]
    },
    {
     "metadata": {
      "tags": null
     },
     "name": "stdout",
     "output_type": "stream",
     "text": [
      "\n",
      "      Epoch    GPU_mem   box_loss   seg_loss   cls_loss   dfl_loss  Instances       Size\n"
     ]
    },
    {
     "metadata": {
      "tags": null
     },
     "name": "stderr",
     "output_type": "stream",
     "text": [
      "     58/200      1.62G      1.161      1.962      1.152      1.238         21        640: 100%|██████████| 54/54 [00:17<00:00,  3.04it/s]\n",
      "                 Class     Images  Instances      Box(P          R      mAP50  mAP50-95)     Mask(P          R      mAP50  mAP50-95): 100%|██████████| 2/2 [00:00<00:00,  4.32it/s]"
     ]
    },
    {
     "metadata": {
      "tags": null
     },
     "name": "stdout",
     "output_type": "stream",
     "text": [
      "                   all         23         33      0.355      0.364       0.27      0.107      0.304      0.242      0.147     0.0372\n"
     ]
    },
    {
     "metadata": {
      "tags": null
     },
     "name": "stderr",
     "output_type": "stream",
     "text": [
      "\n"
     ]
    },
    {
     "metadata": {
      "tags": null
     },
     "name": "stdout",
     "output_type": "stream",
     "text": [
      "\n",
      "      Epoch    GPU_mem   box_loss   seg_loss   cls_loss   dfl_loss  Instances       Size\n"
     ]
    },
    {
     "metadata": {
      "tags": null
     },
     "name": "stderr",
     "output_type": "stream",
     "text": [
      "     59/200       1.6G      1.244       2.01      1.209      1.262         27        640: 100%|██████████| 54/54 [00:17<00:00,  3.12it/s]\n",
      "                 Class     Images  Instances      Box(P          R      mAP50  mAP50-95)     Mask(P          R      mAP50  mAP50-95): 100%|██████████| 2/2 [00:00<00:00,  3.17it/s]"
     ]
    },
    {
     "metadata": {
      "tags": null
     },
     "name": "stdout",
     "output_type": "stream",
     "text": [
      "                   all         23         33      0.513      0.455      0.366       0.13      0.288      0.303      0.151     0.0295\n"
     ]
    },
    {
     "metadata": {
      "tags": null
     },
     "name": "stderr",
     "output_type": "stream",
     "text": [
      "\n"
     ]
    },
    {
     "metadata": {
      "tags": null
     },
     "name": "stdout",
     "output_type": "stream",
     "text": [
      "\n",
      "      Epoch    GPU_mem   box_loss   seg_loss   cls_loss   dfl_loss  Instances       Size\n"
     ]
    },
    {
     "metadata": {
      "tags": null
     },
     "name": "stderr",
     "output_type": "stream",
     "text": [
      "     60/200      1.74G      1.166      2.078      1.146      1.255         28        640: 100%|██████████| 54/54 [00:17<00:00,  3.04it/s]\n",
      "                 Class     Images  Instances      Box(P          R      mAP50  mAP50-95)     Mask(P          R      mAP50  mAP50-95): 100%|██████████| 2/2 [00:00<00:00,  4.49it/s]"
     ]
    },
    {
     "metadata": {
      "tags": null
     },
     "name": "stdout",
     "output_type": "stream",
     "text": [
      "                   all         23         33       0.38      0.333      0.225     0.0834      0.251      0.242     0.0866     0.0167\n"
     ]
    },
    {
     "metadata": {
      "tags": null
     },
     "name": "stderr",
     "output_type": "stream",
     "text": [
      "\n"
     ]
    },
    {
     "metadata": {
      "tags": null
     },
     "name": "stdout",
     "output_type": "stream",
     "text": [
      "\n",
      "      Epoch    GPU_mem   box_loss   seg_loss   cls_loss   dfl_loss  Instances       Size\n"
     ]
    },
    {
     "metadata": {
      "tags": null
     },
     "name": "stderr",
     "output_type": "stream",
     "text": [
      "     61/200      1.67G      1.227      2.024        1.2      1.259         16        640: 100%|██████████| 54/54 [00:16<00:00,  3.28it/s]\n",
      "                 Class     Images  Instances      Box(P          R      mAP50  mAP50-95)     Mask(P          R      mAP50  mAP50-95): 100%|██████████| 2/2 [00:00<00:00,  2.26it/s]"
     ]
    },
    {
     "metadata": {
      "tags": null
     },
     "name": "stdout",
     "output_type": "stream",
     "text": [
      "                   all         23         33      0.332      0.424      0.227     0.0988      0.234      0.273      0.112     0.0189\n"
     ]
    },
    {
     "metadata": {
      "tags": null
     },
     "name": "stderr",
     "output_type": "stream",
     "text": [
      "\n"
     ]
    },
    {
     "metadata": {
      "tags": null
     },
     "name": "stdout",
     "output_type": "stream",
     "text": [
      "\n",
      "      Epoch    GPU_mem   box_loss   seg_loss   cls_loss   dfl_loss  Instances       Size\n"
     ]
    },
    {
     "metadata": {
      "tags": null
     },
     "name": "stderr",
     "output_type": "stream",
     "text": [
      "     62/200      1.72G       1.21      1.965      1.176      1.272         29        640: 100%|██████████| 54/54 [00:14<00:00,  3.70it/s]\n",
      "                 Class     Images  Instances      Box(P          R      mAP50  mAP50-95)     Mask(P          R      mAP50  mAP50-95): 100%|██████████| 2/2 [00:00<00:00,  2.34it/s]"
     ]
    },
    {
     "metadata": {
      "tags": null
     },
     "name": "stdout",
     "output_type": "stream",
     "text": [
      "                   all         23         33      0.476      0.303      0.242      0.105      0.464      0.273      0.187     0.0308\n"
     ]
    },
    {
     "metadata": {
      "tags": null
     },
     "name": "stderr",
     "output_type": "stream",
     "text": [
      "\n"
     ]
    },
    {
     "metadata": {
      "tags": null
     },
     "name": "stdout",
     "output_type": "stream",
     "text": [
      "\n",
      "      Epoch    GPU_mem   box_loss   seg_loss   cls_loss   dfl_loss  Instances       Size\n"
     ]
    },
    {
     "metadata": {
      "tags": null
     },
     "name": "stderr",
     "output_type": "stream",
     "text": [
      "     63/200      1.69G      1.219      2.072        1.2      1.267         11        640: 100%|██████████| 54/54 [00:16<00:00,  3.32it/s]\n",
      "                 Class     Images  Instances      Box(P          R      mAP50  mAP50-95)     Mask(P          R      mAP50  mAP50-95): 100%|██████████| 2/2 [00:00<00:00,  5.30it/s]"
     ]
    },
    {
     "metadata": {
      "tags": null
     },
     "name": "stdout",
     "output_type": "stream",
     "text": [
      "                   all         23         33      0.319      0.455      0.258      0.118      0.239      0.303      0.171     0.0354\n"
     ]
    },
    {
     "metadata": {
      "tags": null
     },
     "name": "stderr",
     "output_type": "stream",
     "text": [
      "\n"
     ]
    },
    {
     "metadata": {
      "tags": null
     },
     "name": "stdout",
     "output_type": "stream",
     "text": [
      "\n",
      "      Epoch    GPU_mem   box_loss   seg_loss   cls_loss   dfl_loss  Instances       Size\n"
     ]
    },
    {
     "metadata": {
      "tags": null
     },
     "name": "stderr",
     "output_type": "stream",
     "text": [
      "     64/200      1.73G      1.186      1.981      1.159      1.258         13        640: 100%|██████████| 54/54 [00:17<00:00,  3.05it/s]\n",
      "                 Class     Images  Instances      Box(P          R      mAP50  mAP50-95)     Mask(P          R      mAP50  mAP50-95): 100%|██████████| 2/2 [00:00<00:00,  4.66it/s]"
     ]
    },
    {
     "metadata": {
      "tags": null
     },
     "name": "stdout",
     "output_type": "stream",
     "text": [
      "                   all         23         33      0.309      0.424      0.244       0.12      0.222      0.273     0.0984     0.0188\n"
     ]
    },
    {
     "metadata": {
      "tags": null
     },
     "name": "stderr",
     "output_type": "stream",
     "text": [
      "\n"
     ]
    },
    {
     "metadata": {
      "tags": null
     },
     "name": "stdout",
     "output_type": "stream",
     "text": [
      "\n",
      "      Epoch    GPU_mem   box_loss   seg_loss   cls_loss   dfl_loss  Instances       Size\n"
     ]
    },
    {
     "metadata": {
      "tags": null
     },
     "name": "stderr",
     "output_type": "stream",
     "text": [
      "     65/200       1.6G      1.194      2.002      1.149      1.253         16        640: 100%|██████████| 54/54 [00:16<00:00,  3.25it/s]\n",
      "                 Class     Images  Instances      Box(P          R      mAP50  mAP50-95)     Mask(P          R      mAP50  mAP50-95): 100%|██████████| 2/2 [00:00<00:00,  4.15it/s]"
     ]
    },
    {
     "metadata": {
      "tags": null
     },
     "name": "stdout",
     "output_type": "stream",
     "text": [
      "                   all         23         33      0.437      0.364      0.246      0.108      0.335      0.242      0.138     0.0275\n"
     ]
    },
    {
     "metadata": {
      "tags": null
     },
     "name": "stderr",
     "output_type": "stream",
     "text": [
      "\n"
     ]
    },
    {
     "metadata": {
      "tags": null
     },
     "name": "stdout",
     "output_type": "stream",
     "text": [
      "\n",
      "      Epoch    GPU_mem   box_loss   seg_loss   cls_loss   dfl_loss  Instances       Size\n"
     ]
    },
    {
     "metadata": {
      "tags": null
     },
     "name": "stderr",
     "output_type": "stream",
     "text": [
      "     66/200      1.58G      1.161      1.942      1.163      1.236         22        640: 100%|██████████| 54/54 [00:17<00:00,  3.11it/s]\n",
      "                 Class     Images  Instances      Box(P          R      mAP50  mAP50-95)     Mask(P          R      mAP50  mAP50-95): 100%|██████████| 2/2 [00:00<00:00,  4.67it/s]"
     ]
    },
    {
     "metadata": {
      "tags": null
     },
     "name": "stdout",
     "output_type": "stream",
     "text": [
      "                   all         23         33      0.505      0.364      0.333      0.148       0.47      0.333      0.244     0.0582\n"
     ]
    },
    {
     "metadata": {
      "tags": null
     },
     "name": "stderr",
     "output_type": "stream",
     "text": [
      "\n"
     ]
    },
    {
     "metadata": {
      "tags": null
     },
     "name": "stdout",
     "output_type": "stream",
     "text": [
      "\n",
      "      Epoch    GPU_mem   box_loss   seg_loss   cls_loss   dfl_loss  Instances       Size\n"
     ]
    },
    {
     "metadata": {
      "tags": null
     },
     "name": "stderr",
     "output_type": "stream",
     "text": [
      "     67/200      1.68G      1.149      1.961      1.141      1.234         22        640: 100%|██████████| 54/54 [00:16<00:00,  3.29it/s]\n",
      "                 Class     Images  Instances      Box(P          R      mAP50  mAP50-95)     Mask(P          R      mAP50  mAP50-95): 100%|██████████| 2/2 [00:01<00:00,  1.99it/s]"
     ]
    },
    {
     "metadata": {
      "tags": null
     },
     "name": "stdout",
     "output_type": "stream",
     "text": [
      "                   all         23         33      0.322      0.455      0.352      0.158      0.241      0.212     0.0839     0.0166\n"
     ]
    },
    {
     "metadata": {
      "tags": null
     },
     "name": "stderr",
     "output_type": "stream",
     "text": [
      "\n"
     ]
    },
    {
     "metadata": {
      "tags": null
     },
     "name": "stdout",
     "output_type": "stream",
     "text": [
      "\n",
      "      Epoch    GPU_mem   box_loss   seg_loss   cls_loss   dfl_loss  Instances       Size\n"
     ]
    },
    {
     "metadata": {
      "tags": null
     },
     "name": "stderr",
     "output_type": "stream",
     "text": [
      "     68/200      1.72G      1.174          2      1.109      1.253         21        640: 100%|██████████| 54/54 [00:14<00:00,  3.68it/s]\n",
      "                 Class     Images  Instances      Box(P          R      mAP50  mAP50-95)     Mask(P          R      mAP50  mAP50-95): 100%|██████████| 2/2 [00:00<00:00,  2.95it/s]"
     ]
    },
    {
     "metadata": {
      "tags": null
     },
     "name": "stdout",
     "output_type": "stream",
     "text": [
      "                   all         23         33      0.439      0.303      0.262      0.112      0.319      0.273      0.187     0.0267\n"
     ]
    },
    {
     "metadata": {
      "tags": null
     },
     "name": "stderr",
     "output_type": "stream",
     "text": [
      "\n"
     ]
    },
    {
     "metadata": {
      "tags": null
     },
     "name": "stdout",
     "output_type": "stream",
     "text": [
      "\n",
      "      Epoch    GPU_mem   box_loss   seg_loss   cls_loss   dfl_loss  Instances       Size\n"
     ]
    },
    {
     "metadata": {
      "tags": null
     },
     "name": "stderr",
     "output_type": "stream",
     "text": [
      "     69/200      1.72G      1.151      1.986      1.089       1.21         18        640: 100%|██████████| 54/54 [00:15<00:00,  3.43it/s]\n",
      "                 Class     Images  Instances      Box(P          R      mAP50  mAP50-95)     Mask(P          R      mAP50  mAP50-95): 100%|██████████| 2/2 [00:00<00:00,  5.29it/s]"
     ]
    },
    {
     "metadata": {
      "tags": null
     },
     "name": "stdout",
     "output_type": "stream",
     "text": [
      "                   all         23         33      0.519      0.333      0.329       0.15      0.313      0.303      0.211     0.0441\n"
     ]
    },
    {
     "metadata": {
      "tags": null
     },
     "name": "stderr",
     "output_type": "stream",
     "text": [
      "\n"
     ]
    },
    {
     "metadata": {
      "tags": null
     },
     "name": "stdout",
     "output_type": "stream",
     "text": [
      "\n",
      "      Epoch    GPU_mem   box_loss   seg_loss   cls_loss   dfl_loss  Instances       Size\n"
     ]
    },
    {
     "metadata": {
      "tags": null
     },
     "name": "stderr",
     "output_type": "stream",
     "text": [
      "     70/200      1.69G       1.15      1.927      1.085      1.236         20        640: 100%|██████████| 54/54 [00:18<00:00,  2.96it/s]\n",
      "                 Class     Images  Instances      Box(P          R      mAP50  mAP50-95)     Mask(P          R      mAP50  mAP50-95): 100%|██████████| 2/2 [00:00<00:00,  3.96it/s]"
     ]
    },
    {
     "metadata": {
      "tags": null
     },
     "name": "stdout",
     "output_type": "stream",
     "text": [
      "                   all         23         33      0.323      0.435      0.259      0.139      0.283      0.382      0.163     0.0341\n"
     ]
    },
    {
     "metadata": {
      "tags": null
     },
     "name": "stderr",
     "output_type": "stream",
     "text": [
      "\n"
     ]
    },
    {
     "metadata": {
      "tags": null
     },
     "name": "stdout",
     "output_type": "stream",
     "text": [
      "\n",
      "      Epoch    GPU_mem   box_loss   seg_loss   cls_loss   dfl_loss  Instances       Size\n"
     ]
    },
    {
     "metadata": {
      "tags": null
     },
     "name": "stderr",
     "output_type": "stream",
     "text": [
      "     71/200      1.74G      1.137      1.912      1.086      1.202         16        640: 100%|██████████| 54/54 [00:18<00:00,  2.94it/s]\n",
      "                 Class     Images  Instances      Box(P          R      mAP50  mAP50-95)     Mask(P          R      mAP50  mAP50-95): 100%|██████████| 2/2 [00:00<00:00,  3.28it/s]"
     ]
    },
    {
     "metadata": {
      "tags": null
     },
     "name": "stdout",
     "output_type": "stream",
     "text": [
      "                   all         23         33      0.355      0.424      0.314      0.189      0.291      0.273      0.163     0.0418\n"
     ]
    },
    {
     "metadata": {
      "tags": null
     },
     "name": "stderr",
     "output_type": "stream",
     "text": [
      "\n"
     ]
    },
    {
     "metadata": {
      "tags": null
     },
     "name": "stdout",
     "output_type": "stream",
     "text": [
      "\n",
      "      Epoch    GPU_mem   box_loss   seg_loss   cls_loss   dfl_loss  Instances       Size\n"
     ]
    },
    {
     "metadata": {
      "tags": null
     },
     "name": "stderr",
     "output_type": "stream",
     "text": [
      "     72/200      1.72G      1.131      1.956      1.062      1.209         32        640: 100%|██████████| 54/54 [00:17<00:00,  3.05it/s]\n",
      "                 Class     Images  Instances      Box(P          R      mAP50  mAP50-95)     Mask(P          R      mAP50  mAP50-95): 100%|██████████| 2/2 [00:01<00:00,  1.88it/s]"
     ]
    },
    {
     "metadata": {
      "tags": null
     },
     "name": "stdout",
     "output_type": "stream",
     "text": [
      "                   all         23         33      0.559      0.394      0.372      0.205      0.447      0.333      0.253     0.0523\n"
     ]
    },
    {
     "metadata": {
      "tags": null
     },
     "name": "stderr",
     "output_type": "stream",
     "text": [
      "\n"
     ]
    },
    {
     "metadata": {
      "tags": null
     },
     "name": "stdout",
     "output_type": "stream",
     "text": [
      "\n",
      "      Epoch    GPU_mem   box_loss   seg_loss   cls_loss   dfl_loss  Instances       Size\n"
     ]
    },
    {
     "metadata": {
      "tags": null
     },
     "name": "stderr",
     "output_type": "stream",
     "text": [
      "     73/200      1.69G      1.129       1.95       1.08      1.227         17        640: 100%|██████████| 54/54 [00:14<00:00,  3.62it/s]\n",
      "                 Class     Images  Instances      Box(P          R      mAP50  mAP50-95)     Mask(P          R      mAP50  mAP50-95): 100%|██████████| 2/2 [00:01<00:00,  1.77it/s]"
     ]
    },
    {
     "metadata": {
      "tags": null
     },
     "name": "stdout",
     "output_type": "stream",
     "text": [
      "                   all         23         33      0.588      0.389      0.337      0.178       0.37      0.333      0.236     0.0497\n"
     ]
    },
    {
     "metadata": {
      "tags": null
     },
     "name": "stderr",
     "output_type": "stream",
     "text": [
      "\n"
     ]
    },
    {
     "metadata": {
      "tags": null
     },
     "name": "stdout",
     "output_type": "stream",
     "text": [
      "\n",
      "      Epoch    GPU_mem   box_loss   seg_loss   cls_loss   dfl_loss  Instances       Size\n"
     ]
    },
    {
     "metadata": {
      "tags": null
     },
     "name": "stderr",
     "output_type": "stream",
     "text": [
      "     74/200      1.69G      1.143      1.966      1.077      1.213         22        640: 100%|██████████| 54/54 [00:14<00:00,  3.63it/s]\n",
      "                 Class     Images  Instances      Box(P          R      mAP50  mAP50-95)     Mask(P          R      mAP50  mAP50-95): 100%|██████████| 2/2 [00:00<00:00,  2.28it/s]"
     ]
    },
    {
     "metadata": {
      "tags": null
     },
     "name": "stdout",
     "output_type": "stream",
     "text": [
      "                   all         23         33      0.384      0.415      0.365      0.102       0.28      0.182      0.129     0.0347\n"
     ]
    },
    {
     "metadata": {
      "tags": null
     },
     "name": "stderr",
     "output_type": "stream",
     "text": [
      "\n"
     ]
    },
    {
     "metadata": {
      "tags": null
     },
     "name": "stdout",
     "output_type": "stream",
     "text": [
      "\n",
      "      Epoch    GPU_mem   box_loss   seg_loss   cls_loss   dfl_loss  Instances       Size\n"
     ]
    },
    {
     "metadata": {
      "tags": null
     },
     "name": "stderr",
     "output_type": "stream",
     "text": [
      "     75/200      1.67G      1.142      2.006      1.081      1.206         23        640: 100%|██████████| 54/54 [00:16<00:00,  3.29it/s]\n",
      "                 Class     Images  Instances      Box(P          R      mAP50  mAP50-95)     Mask(P          R      mAP50  mAP50-95): 100%|██████████| 2/2 [00:00<00:00,  5.10it/s]"
     ]
    },
    {
     "metadata": {
      "tags": null
     },
     "name": "stdout",
     "output_type": "stream",
     "text": [
      "                   all         23         33      0.438      0.425       0.36      0.164      0.323      0.364      0.205      0.049\n"
     ]
    },
    {
     "metadata": {
      "tags": null
     },
     "name": "stderr",
     "output_type": "stream",
     "text": [
      "\n"
     ]
    },
    {
     "metadata": {
      "tags": null
     },
     "name": "stdout",
     "output_type": "stream",
     "text": [
      "\n",
      "      Epoch    GPU_mem   box_loss   seg_loss   cls_loss   dfl_loss  Instances       Size\n"
     ]
    },
    {
     "metadata": {
      "tags": null
     },
     "name": "stderr",
     "output_type": "stream",
     "text": [
      "     76/200      1.74G      1.111      1.949      1.084      1.214         17        640: 100%|██████████| 54/54 [00:18<00:00,  2.93it/s]\n",
      "                 Class     Images  Instances      Box(P          R      mAP50  mAP50-95)     Mask(P          R      mAP50  mAP50-95): 100%|██████████| 2/2 [00:00<00:00,  5.74it/s]"
     ]
    },
    {
     "metadata": {
      "tags": null
     },
     "name": "stdout",
     "output_type": "stream",
     "text": [
      "                   all         23         33      0.418      0.304      0.327      0.152      0.277      0.333      0.224     0.0605\n"
     ]
    },
    {
     "metadata": {
      "tags": null
     },
     "name": "stderr",
     "output_type": "stream",
     "text": [
      "\n"
     ]
    },
    {
     "metadata": {
      "tags": null
     },
     "name": "stdout",
     "output_type": "stream",
     "text": [
      "\n",
      "      Epoch    GPU_mem   box_loss   seg_loss   cls_loss   dfl_loss  Instances       Size\n"
     ]
    },
    {
     "metadata": {
      "tags": null
     },
     "name": "stderr",
     "output_type": "stream",
     "text": [
      "     77/200      1.72G      1.128      1.934      1.131      1.216         20        640: 100%|██████████| 54/54 [00:18<00:00,  2.90it/s]\n",
      "                 Class     Images  Instances      Box(P          R      mAP50  mAP50-95)     Mask(P          R      mAP50  mAP50-95): 100%|██████████| 2/2 [00:00<00:00,  4.46it/s]"
     ]
    },
    {
     "metadata": {
      "tags": null
     },
     "name": "stdout",
     "output_type": "stream",
     "text": [
      "                   all         23         33      0.264      0.412      0.247      0.107      0.168      0.303       0.12     0.0277\n"
     ]
    },
    {
     "metadata": {
      "tags": null
     },
     "name": "stderr",
     "output_type": "stream",
     "text": [
      "\n"
     ]
    },
    {
     "metadata": {
      "tags": null
     },
     "name": "stdout",
     "output_type": "stream",
     "text": [
      "\n",
      "      Epoch    GPU_mem   box_loss   seg_loss   cls_loss   dfl_loss  Instances       Size\n"
     ]
    },
    {
     "metadata": {
      "tags": null
     },
     "name": "stderr",
     "output_type": "stream",
     "text": [
      "     78/200      1.69G      1.104      1.958       1.07      1.223         17        640: 100%|██████████| 54/54 [00:16<00:00,  3.26it/s]\n",
      "                 Class     Images  Instances      Box(P          R      mAP50  mAP50-95)     Mask(P          R      mAP50  mAP50-95): 100%|██████████| 2/2 [00:00<00:00,  2.38it/s]"
     ]
    },
    {
     "metadata": {
      "tags": null
     },
     "name": "stdout",
     "output_type": "stream",
     "text": [
      "                   all         23         33      0.387      0.364      0.293      0.151      0.395      0.303      0.246     0.0551\n"
     ]
    },
    {
     "metadata": {
      "tags": null
     },
     "name": "stderr",
     "output_type": "stream",
     "text": [
      "\n"
     ]
    },
    {
     "metadata": {
      "tags": null
     },
     "name": "stdout",
     "output_type": "stream",
     "text": [
      "\n",
      "      Epoch    GPU_mem   box_loss   seg_loss   cls_loss   dfl_loss  Instances       Size\n"
     ]
    },
    {
     "metadata": {
      "tags": null
     },
     "name": "stderr",
     "output_type": "stream",
     "text": [
      "     79/200      1.74G      1.137      1.983      1.058      1.227         34        640: 100%|██████████| 54/54 [00:14<00:00,  3.74it/s]\n",
      "                 Class     Images  Instances      Box(P          R      mAP50  mAP50-95)     Mask(P          R      mAP50  mAP50-95): 100%|██████████| 2/2 [00:01<00:00,  1.60it/s]"
     ]
    },
    {
     "metadata": {
      "tags": null
     },
     "name": "stdout",
     "output_type": "stream",
     "text": [
      "                   all         23         33       0.49      0.394      0.311       0.12      0.331      0.273      0.124     0.0263\n"
     ]
    },
    {
     "metadata": {
      "tags": null
     },
     "name": "stderr",
     "output_type": "stream",
     "text": [
      "\n"
     ]
    },
    {
     "metadata": {
      "tags": null
     },
     "name": "stdout",
     "output_type": "stream",
     "text": [
      "\n",
      "      Epoch    GPU_mem   box_loss   seg_loss   cls_loss   dfl_loss  Instances       Size\n"
     ]
    },
    {
     "metadata": {
      "tags": null
     },
     "name": "stderr",
     "output_type": "stream",
     "text": [
      "     80/200      1.72G      1.099      1.938       1.06      1.192         15        640: 100%|██████████| 54/54 [00:15<00:00,  3.59it/s]\n",
      "                 Class     Images  Instances      Box(P          R      mAP50  mAP50-95)     Mask(P          R      mAP50  mAP50-95): 100%|██████████| 2/2 [00:00<00:00,  2.23it/s]"
     ]
    },
    {
     "metadata": {
      "tags": null
     },
     "name": "stdout",
     "output_type": "stream",
     "text": [
      "                   all         23         33      0.419      0.394      0.316      0.168      0.343      0.303      0.172     0.0331\n"
     ]
    },
    {
     "metadata": {
      "tags": null
     },
     "name": "stderr",
     "output_type": "stream",
     "text": [
      "\n"
     ]
    },
    {
     "metadata": {
      "tags": null
     },
     "name": "stdout",
     "output_type": "stream",
     "text": [
      "\n",
      "      Epoch    GPU_mem   box_loss   seg_loss   cls_loss   dfl_loss  Instances       Size\n"
     ]
    },
    {
     "metadata": {
      "tags": null
     },
     "name": "stderr",
     "output_type": "stream",
     "text": [
      "     81/200      1.67G      1.128      1.898      1.066      1.228         18        640: 100%|██████████| 54/54 [00:17<00:00,  3.08it/s]\n",
      "                 Class     Images  Instances      Box(P          R      mAP50  mAP50-95)     Mask(P          R      mAP50  mAP50-95): 100%|██████████| 2/2 [00:00<00:00,  3.86it/s]"
     ]
    },
    {
     "metadata": {
      "tags": null
     },
     "name": "stdout",
     "output_type": "stream",
     "text": [
      "                   all         23         33      0.399      0.455      0.334      0.165       0.28      0.424      0.192     0.0438\n"
     ]
    },
    {
     "metadata": {
      "tags": null
     },
     "name": "stderr",
     "output_type": "stream",
     "text": [
      "\n"
     ]
    },
    {
     "metadata": {
      "tags": null
     },
     "name": "stdout",
     "output_type": "stream",
     "text": [
      "\n",
      "      Epoch    GPU_mem   box_loss   seg_loss   cls_loss   dfl_loss  Instances       Size\n"
     ]
    },
    {
     "metadata": {
      "tags": null
     },
     "name": "stderr",
     "output_type": "stream",
     "text": [
      "     82/200      1.72G      1.133      1.977      1.076       1.21         25        640: 100%|██████████| 54/54 [00:18<00:00,  2.92it/s]\n",
      "                 Class     Images  Instances      Box(P          R      mAP50  mAP50-95)     Mask(P          R      mAP50  mAP50-95): 100%|██████████| 2/2 [00:00<00:00,  4.65it/s]"
     ]
    },
    {
     "metadata": {
      "tags": null
     },
     "name": "stdout",
     "output_type": "stream",
     "text": [
      "                   all         23         33      0.256      0.455       0.16     0.0663      0.218      0.303      0.118     0.0201\n"
     ]
    },
    {
     "metadata": {
      "tags": null
     },
     "name": "stderr",
     "output_type": "stream",
     "text": [
      "\n"
     ]
    },
    {
     "metadata": {
      "tags": null
     },
     "name": "stdout",
     "output_type": "stream",
     "text": [
      "\n",
      "      Epoch    GPU_mem   box_loss   seg_loss   cls_loss   dfl_loss  Instances       Size\n"
     ]
    },
    {
     "metadata": {
      "tags": null
     },
     "name": "stderr",
     "output_type": "stream",
     "text": [
      "     83/200      1.69G      1.102      1.939      1.032      1.186         29        640: 100%|██████████| 54/54 [00:17<00:00,  3.01it/s]\n",
      "                 Class     Images  Instances      Box(P          R      mAP50  mAP50-95)     Mask(P          R      mAP50  mAP50-95): 100%|██████████| 2/2 [00:00<00:00,  3.70it/s]"
     ]
    },
    {
     "metadata": {
      "tags": null
     },
     "name": "stdout",
     "output_type": "stream",
     "text": [
      "                   all         23         33      0.261      0.424      0.244      0.126      0.281      0.273      0.179     0.0446\n"
     ]
    },
    {
     "metadata": {
      "tags": null
     },
     "name": "stderr",
     "output_type": "stream",
     "text": [
      "\n"
     ]
    },
    {
     "metadata": {
      "tags": null
     },
     "name": "stdout",
     "output_type": "stream",
     "text": [
      "\n",
      "      Epoch    GPU_mem   box_loss   seg_loss   cls_loss   dfl_loss  Instances       Size\n"
     ]
    },
    {
     "metadata": {
      "tags": null
     },
     "name": "stderr",
     "output_type": "stream",
     "text": [
      "     84/200      1.69G      1.095      1.939      1.033      1.196         14        640: 100%|██████████| 54/54 [00:14<00:00,  3.64it/s]\n",
      "                 Class     Images  Instances      Box(P          R      mAP50  mAP50-95)     Mask(P          R      mAP50  mAP50-95): 100%|██████████| 2/2 [00:01<00:00,  1.71it/s]"
     ]
    },
    {
     "metadata": {
      "tags": null
     },
     "name": "stdout",
     "output_type": "stream",
     "text": [
      "                   all         23         33      0.383      0.364      0.272      0.128      0.349      0.333      0.225     0.0528\n"
     ]
    },
    {
     "metadata": {
      "tags": null
     },
     "name": "stderr",
     "output_type": "stream",
     "text": [
      "\n"
     ]
    },
    {
     "metadata": {
      "tags": null
     },
     "name": "stdout",
     "output_type": "stream",
     "text": [
      "\n",
      "      Epoch    GPU_mem   box_loss   seg_loss   cls_loss   dfl_loss  Instances       Size\n"
     ]
    },
    {
     "metadata": {
      "tags": null
     },
     "name": "stderr",
     "output_type": "stream",
     "text": [
      "     85/200      1.69G      1.052      1.902     0.9755       1.16         12        640: 100%|██████████| 54/54 [00:14<00:00,  3.72it/s]\n",
      "                 Class     Images  Instances      Box(P          R      mAP50  mAP50-95)     Mask(P          R      mAP50  mAP50-95): 100%|██████████| 2/2 [00:00<00:00,  3.05it/s]"
     ]
    },
    {
     "metadata": {
      "tags": null
     },
     "name": "stdout",
     "output_type": "stream",
     "text": [
      "                   all         23         33      0.325      0.364      0.186     0.0841      0.311      0.273      0.127     0.0255\n"
     ]
    },
    {
     "metadata": {
      "tags": null
     },
     "name": "stderr",
     "output_type": "stream",
     "text": [
      "\n"
     ]
    },
    {
     "metadata": {
      "tags": null
     },
     "name": "stdout",
     "output_type": "stream",
     "text": [
      "\n",
      "      Epoch    GPU_mem   box_loss   seg_loss   cls_loss   dfl_loss  Instances       Size\n"
     ]
    },
    {
     "metadata": {
      "tags": null
     },
     "name": "stderr",
     "output_type": "stream",
     "text": [
      "     86/200      1.69G      1.141      1.955      1.042      1.206         20        640: 100%|██████████| 54/54 [00:17<00:00,  3.09it/s]\n",
      "                 Class     Images  Instances      Box(P          R      mAP50  mAP50-95)     Mask(P          R      mAP50  mAP50-95): 100%|██████████| 2/2 [00:00<00:00,  3.38it/s]"
     ]
    },
    {
     "metadata": {
      "tags": null
     },
     "name": "stdout",
     "output_type": "stream",
     "text": [
      "                   all         23         33      0.396      0.364      0.294      0.132      0.398      0.364      0.215     0.0502\n"
     ]
    },
    {
     "metadata": {
      "tags": null
     },
     "name": "stderr",
     "output_type": "stream",
     "text": [
      "\n"
     ]
    },
    {
     "metadata": {
      "tags": null
     },
     "name": "stdout",
     "output_type": "stream",
     "text": [
      "\n",
      "      Epoch    GPU_mem   box_loss   seg_loss   cls_loss   dfl_loss  Instances       Size\n"
     ]
    },
    {
     "metadata": {
      "tags": null
     },
     "name": "stderr",
     "output_type": "stream",
     "text": [
      "     87/200      1.69G      1.097      1.902      1.041      1.213         17        640: 100%|██████████| 54/54 [00:18<00:00,  2.89it/s]\n",
      "                 Class     Images  Instances      Box(P          R      mAP50  mAP50-95)     Mask(P          R      mAP50  mAP50-95): 100%|██████████| 2/2 [00:00<00:00,  5.19it/s]"
     ]
    },
    {
     "metadata": {
      "tags": null
     },
     "name": "stdout",
     "output_type": "stream",
     "text": [
      "                   all         23         33      0.309       0.42      0.228      0.107      0.271      0.303      0.154     0.0311\n"
     ]
    },
    {
     "metadata": {
      "tags": null
     },
     "name": "stderr",
     "output_type": "stream",
     "text": [
      "\n"
     ]
    },
    {
     "metadata": {
      "tags": null
     },
     "name": "stdout",
     "output_type": "stream",
     "text": [
      "\n",
      "      Epoch    GPU_mem   box_loss   seg_loss   cls_loss   dfl_loss  Instances       Size\n"
     ]
    },
    {
     "metadata": {
      "tags": null
     },
     "name": "stderr",
     "output_type": "stream",
     "text": [
      "     88/200      1.69G       1.04       1.89      1.008      1.173         20        640: 100%|██████████| 54/54 [00:17<00:00,  3.03it/s]\n",
      "                 Class     Images  Instances      Box(P          R      mAP50  mAP50-95)     Mask(P          R      mAP50  mAP50-95): 100%|██████████| 2/2 [00:00<00:00,  4.11it/s]"
     ]
    },
    {
     "metadata": {
      "tags": null
     },
     "name": "stdout",
     "output_type": "stream",
     "text": [
      "                   all         23         33      0.352      0.303      0.211     0.0999      0.352      0.303      0.186     0.0344\n"
     ]
    },
    {
     "metadata": {
      "tags": null
     },
     "name": "stderr",
     "output_type": "stream",
     "text": [
      "\n"
     ]
    },
    {
     "metadata": {
      "tags": null
     },
     "name": "stdout",
     "output_type": "stream",
     "text": [
      "\n",
      "      Epoch    GPU_mem   box_loss   seg_loss   cls_loss   dfl_loss  Instances       Size\n"
     ]
    },
    {
     "metadata": {
      "tags": null
     },
     "name": "stderr",
     "output_type": "stream",
     "text": [
      "     89/200      1.71G      1.137      2.027      1.055      1.207         13        640: 100%|██████████| 54/54 [00:14<00:00,  3.62it/s]\n",
      "                 Class     Images  Instances      Box(P          R      mAP50  mAP50-95)     Mask(P          R      mAP50  mAP50-95): 100%|██████████| 2/2 [00:01<00:00,  1.78it/s]"
     ]
    },
    {
     "metadata": {
      "tags": null
     },
     "name": "stdout",
     "output_type": "stream",
     "text": [
      "                   all         23         33      0.456      0.455      0.309      0.123      0.306      0.303      0.138     0.0365\n"
     ]
    },
    {
     "metadata": {
      "tags": null
     },
     "name": "stderr",
     "output_type": "stream",
     "text": [
      "\n"
     ]
    },
    {
     "metadata": {
      "tags": null
     },
     "name": "stdout",
     "output_type": "stream",
     "text": [
      "\n",
      "      Epoch    GPU_mem   box_loss   seg_loss   cls_loss   dfl_loss  Instances       Size\n"
     ]
    },
    {
     "metadata": {
      "tags": null
     },
     "name": "stderr",
     "output_type": "stream",
     "text": [
      "     90/200      1.74G      1.081      1.931      1.013       1.19         21        640: 100%|██████████| 54/54 [00:14<00:00,  3.69it/s]\n",
      "                 Class     Images  Instances      Box(P          R      mAP50  mAP50-95)     Mask(P          R      mAP50  mAP50-95): 100%|██████████| 2/2 [00:00<00:00,  2.69it/s]"
     ]
    },
    {
     "metadata": {
      "tags": null
     },
     "name": "stdout",
     "output_type": "stream",
     "text": [
      "                   all         23         33      0.291      0.394      0.274      0.157      0.334      0.242      0.189     0.0521\n"
     ]
    },
    {
     "metadata": {
      "tags": null
     },
     "name": "stderr",
     "output_type": "stream",
     "text": [
      "\n"
     ]
    },
    {
     "metadata": {
      "tags": null
     },
     "name": "stdout",
     "output_type": "stream",
     "text": [
      "\n",
      "      Epoch    GPU_mem   box_loss   seg_loss   cls_loss   dfl_loss  Instances       Size\n"
     ]
    },
    {
     "metadata": {
      "tags": null
     },
     "name": "stderr",
     "output_type": "stream",
     "text": [
      "     91/200      1.69G      1.088      1.887      1.023      1.185         22        640: 100%|██████████| 54/54 [00:16<00:00,  3.28it/s]\n",
      "                 Class     Images  Instances      Box(P          R      mAP50  mAP50-95)     Mask(P          R      mAP50  mAP50-95): 100%|██████████| 2/2 [00:00<00:00,  4.93it/s]"
     ]
    },
    {
     "metadata": {
      "tags": null
     },
     "name": "stdout",
     "output_type": "stream",
     "text": [
      "                   all         23         33      0.367      0.485      0.314      0.161       0.29      0.242       0.17     0.0497\n"
     ]
    },
    {
     "metadata": {
      "tags": null
     },
     "name": "stderr",
     "output_type": "stream",
     "text": [
      "\n"
     ]
    },
    {
     "metadata": {
      "tags": null
     },
     "name": "stdout",
     "output_type": "stream",
     "text": [
      "\n",
      "      Epoch    GPU_mem   box_loss   seg_loss   cls_loss   dfl_loss  Instances       Size\n"
     ]
    },
    {
     "metadata": {
      "tags": null
     },
     "name": "stderr",
     "output_type": "stream",
     "text": [
      "     92/200      1.69G      1.056      1.893     0.9911      1.177         36        640: 100%|██████████| 54/54 [00:18<00:00,  2.92it/s]\n",
      "                 Class     Images  Instances      Box(P          R      mAP50  mAP50-95)     Mask(P          R      mAP50  mAP50-95): 100%|██████████| 2/2 [00:00<00:00,  3.48it/s]\n"
     ]
    },
    {
     "metadata": {
      "tags": null
     },
     "name": "stdout",
     "output_type": "stream",
     "text": [
      "                   all         23         33      0.327      0.515      0.285      0.151       0.26      0.424      0.202     0.0644\n",
      "\n",
      "      Epoch    GPU_mem   box_loss   seg_loss   cls_loss   dfl_loss  Instances       Size\n"
     ]
    },
    {
     "metadata": {
      "tags": null
     },
     "name": "stderr",
     "output_type": "stream",
     "text": [
      "     93/200      1.71G      1.075      1.848     0.9928      1.187         19        640: 100%|██████████| 54/54 [00:17<00:00,  3.04it/s]\n",
      "                 Class     Images  Instances      Box(P          R      mAP50  mAP50-95)     Mask(P          R      mAP50  mAP50-95): 100%|██████████| 2/2 [00:00<00:00,  4.21it/s]"
     ]
    },
    {
     "metadata": {
      "tags": null
     },
     "name": "stdout",
     "output_type": "stream",
     "text": [
      "                   all         23         33      0.376      0.485      0.267      0.154      0.438      0.364      0.233     0.0397\n"
     ]
    },
    {
     "metadata": {
      "tags": null
     },
     "name": "stderr",
     "output_type": "stream",
     "text": [
      "\n"
     ]
    },
    {
     "metadata": {
      "tags": null
     },
     "name": "stdout",
     "output_type": "stream",
     "text": [
      "\n",
      "      Epoch    GPU_mem   box_loss   seg_loss   cls_loss   dfl_loss  Instances       Size\n"
     ]
    },
    {
     "metadata": {
      "tags": null
     },
     "name": "stderr",
     "output_type": "stream",
     "text": [
      "     94/200      1.72G      1.067      1.854      1.011      1.179         17        640: 100%|██████████| 54/54 [00:15<00:00,  3.45it/s]\n",
      "                 Class     Images  Instances      Box(P          R      mAP50  mAP50-95)     Mask(P          R      mAP50  mAP50-95): 100%|██████████| 2/2 [00:01<00:00,  1.92it/s]"
     ]
    },
    {
     "metadata": {
      "tags": null
     },
     "name": "stdout",
     "output_type": "stream",
     "text": [
      "                   all         23         33      0.319      0.354      0.246      0.149      0.278      0.333      0.146     0.0353\n"
     ]
    },
    {
     "metadata": {
      "tags": null
     },
     "name": "stderr",
     "output_type": "stream",
     "text": [
      "\n"
     ]
    },
    {
     "metadata": {
      "tags": null
     },
     "name": "stdout",
     "output_type": "stream",
     "text": [
      "\n",
      "      Epoch    GPU_mem   box_loss   seg_loss   cls_loss   dfl_loss  Instances       Size\n"
     ]
    },
    {
     "metadata": {
      "tags": null
     },
     "name": "stderr",
     "output_type": "stream",
     "text": [
      "     95/200      1.67G      1.049      1.897     0.9884      1.186         10        640: 100%|██████████| 54/54 [00:14<00:00,  3.78it/s]\n",
      "                 Class     Images  Instances      Box(P          R      mAP50  mAP50-95)     Mask(P          R      mAP50  mAP50-95): 100%|██████████| 2/2 [00:00<00:00,  2.03it/s]"
     ]
    },
    {
     "metadata": {
      "tags": null
     },
     "name": "stdout",
     "output_type": "stream",
     "text": [
      "                   all         23         33       0.31      0.477      0.276       0.16      0.224      0.364      0.167     0.0417\n"
     ]
    },
    {
     "metadata": {
      "tags": null
     },
     "name": "stderr",
     "output_type": "stream",
     "text": [
      "\n"
     ]
    },
    {
     "metadata": {
      "tags": null
     },
     "name": "stdout",
     "output_type": "stream",
     "text": [
      "\n",
      "      Epoch    GPU_mem   box_loss   seg_loss   cls_loss   dfl_loss  Instances       Size\n"
     ]
    },
    {
     "metadata": {
      "tags": null
     },
     "name": "stderr",
     "output_type": "stream",
     "text": [
      "     96/200      1.72G      1.076      1.934      1.004      1.196         19        640: 100%|██████████| 54/54 [00:16<00:00,  3.27it/s]\n",
      "                 Class     Images  Instances      Box(P          R      mAP50  mAP50-95)     Mask(P          R      mAP50  mAP50-95): 100%|██████████| 2/2 [00:00<00:00,  4.81it/s]"
     ]
    },
    {
     "metadata": {
      "tags": null
     },
     "name": "stdout",
     "output_type": "stream",
     "text": [
      "                   all         23         33      0.551      0.303       0.34      0.157      0.266      0.364      0.222     0.0451\n"
     ]
    },
    {
     "metadata": {
      "tags": null
     },
     "name": "stderr",
     "output_type": "stream",
     "text": [
      "\n"
     ]
    },
    {
     "metadata": {
      "tags": null
     },
     "name": "stdout",
     "output_type": "stream",
     "text": [
      "\n",
      "      Epoch    GPU_mem   box_loss   seg_loss   cls_loss   dfl_loss  Instances       Size\n"
     ]
    },
    {
     "metadata": {
      "tags": null
     },
     "name": "stderr",
     "output_type": "stream",
     "text": [
      "     97/200      1.69G      1.065      1.941      0.954      1.169          8        640: 100%|██████████| 54/54 [00:17<00:00,  3.02it/s]\n",
      "                 Class     Images  Instances      Box(P          R      mAP50  mAP50-95)     Mask(P          R      mAP50  mAP50-95): 100%|██████████| 2/2 [00:00<00:00,  3.74it/s]"
     ]
    },
    {
     "metadata": {
      "tags": null
     },
     "name": "stdout",
     "output_type": "stream",
     "text": [
      "                   all         23         33      0.346      0.333      0.239      0.114      0.218      0.303      0.158     0.0248\n"
     ]
    },
    {
     "metadata": {
      "tags": null
     },
     "name": "stderr",
     "output_type": "stream",
     "text": [
      "\n"
     ]
    },
    {
     "metadata": {
      "tags": null
     },
     "name": "stdout",
     "output_type": "stream",
     "text": [
      "\n",
      "      Epoch    GPU_mem   box_loss   seg_loss   cls_loss   dfl_loss  Instances       Size\n"
     ]
    },
    {
     "metadata": {
      "tags": null
     },
     "name": "stderr",
     "output_type": "stream",
     "text": [
      "     98/200      1.74G      1.065      1.877     0.9835      1.182         23        640: 100%|██████████| 54/54 [00:18<00:00,  2.99it/s]\n",
      "                 Class     Images  Instances      Box(P          R      mAP50  mAP50-95)     Mask(P          R      mAP50  mAP50-95): 100%|██████████| 2/2 [00:00<00:00,  4.60it/s]"
     ]
    },
    {
     "metadata": {
      "tags": null
     },
     "name": "stdout",
     "output_type": "stream",
     "text": [
      "                   all         23         33      0.346      0.394      0.246      0.105      0.186      0.212      0.107     0.0249\n"
     ]
    },
    {
     "metadata": {
      "tags": null
     },
     "name": "stderr",
     "output_type": "stream",
     "text": [
      "\n"
     ]
    },
    {
     "metadata": {
      "tags": null
     },
     "name": "stdout",
     "output_type": "stream",
     "text": [
      "\n",
      "      Epoch    GPU_mem   box_loss   seg_loss   cls_loss   dfl_loss  Instances       Size\n"
     ]
    },
    {
     "metadata": {
      "tags": null
     },
     "name": "stderr",
     "output_type": "stream",
     "text": [
      "     99/200      1.67G      1.025      1.861     0.9682      1.171         32        640: 100%|██████████| 54/54 [00:16<00:00,  3.28it/s]\n",
      "                 Class     Images  Instances      Box(P          R      mAP50  mAP50-95)     Mask(P          R      mAP50  mAP50-95): 100%|██████████| 2/2 [00:00<00:00,  2.05it/s]"
     ]
    },
    {
     "metadata": {
      "tags": null
     },
     "name": "stdout",
     "output_type": "stream",
     "text": [
      "                   all         23         33       0.31      0.394      0.261      0.134      0.264      0.273       0.12     0.0248\n"
     ]
    },
    {
     "metadata": {
      "tags": null
     },
     "name": "stderr",
     "output_type": "stream",
     "text": [
      "\n"
     ]
    },
    {
     "metadata": {
      "tags": null
     },
     "name": "stdout",
     "output_type": "stream",
     "text": [
      "\n",
      "      Epoch    GPU_mem   box_loss   seg_loss   cls_loss   dfl_loss  Instances       Size\n"
     ]
    },
    {
     "metadata": {
      "tags": null
     },
     "name": "stderr",
     "output_type": "stream",
     "text": [
      "    100/200      1.63G      1.055       1.93      1.018      1.158         33        640: 100%|██████████| 54/54 [00:14<00:00,  3.82it/s]\n",
      "                 Class     Images  Instances      Box(P          R      mAP50  mAP50-95)     Mask(P          R      mAP50  mAP50-95): 100%|██████████| 2/2 [00:01<00:00,  1.98it/s]"
     ]
    },
    {
     "metadata": {
      "tags": null
     },
     "name": "stdout",
     "output_type": "stream",
     "text": [
      "                   all         23         33      0.508      0.364      0.301      0.132      0.244        0.4      0.173     0.0369\n"
     ]
    },
    {
     "metadata": {
      "tags": null
     },
     "name": "stderr",
     "output_type": "stream",
     "text": [
      "\n"
     ]
    },
    {
     "metadata": {
      "tags": null
     },
     "name": "stdout",
     "output_type": "stream",
     "text": [
      "\n",
      "      Epoch    GPU_mem   box_loss   seg_loss   cls_loss   dfl_loss  Instances       Size\n"
     ]
    },
    {
     "metadata": {
      "tags": null
     },
     "name": "stderr",
     "output_type": "stream",
     "text": [
      "    101/200      1.69G      1.026      1.856      0.935      1.157         32        640: 100%|██████████| 54/54 [00:14<00:00,  3.61it/s]\n",
      "                 Class     Images  Instances      Box(P          R      mAP50  mAP50-95)     Mask(P          R      mAP50  mAP50-95): 100%|██████████| 2/2 [00:00<00:00,  4.65it/s]"
     ]
    },
    {
     "metadata": {
      "tags": null
     },
     "name": "stdout",
     "output_type": "stream",
     "text": [
      "                   all         23         33      0.326      0.455       0.28      0.135      0.295      0.303      0.207     0.0447\n"
     ]
    },
    {
     "metadata": {
      "tags": null
     },
     "name": "stderr",
     "output_type": "stream",
     "text": [
      "\n"
     ]
    },
    {
     "metadata": {
      "tags": null
     },
     "name": "stdout",
     "output_type": "stream",
     "text": [
      "\n",
      "      Epoch    GPU_mem   box_loss   seg_loss   cls_loss   dfl_loss  Instances       Size\n"
     ]
    },
    {
     "metadata": {
      "tags": null
     },
     "name": "stderr",
     "output_type": "stream",
     "text": [
      "    102/200      1.72G      1.078      1.874     0.9881      1.174         20        640: 100%|██████████| 54/54 [00:17<00:00,  3.13it/s]\n",
      "                 Class     Images  Instances      Box(P          R      mAP50  mAP50-95)     Mask(P          R      mAP50  mAP50-95): 100%|██████████| 2/2 [00:00<00:00,  4.04it/s]"
     ]
    },
    {
     "metadata": {
      "tags": null
     },
     "name": "stdout",
     "output_type": "stream",
     "text": [
      "                   all         23         33       0.49      0.455      0.364      0.187      0.353      0.333      0.215     0.0569\n"
     ]
    },
    {
     "metadata": {
      "tags": null
     },
     "name": "stderr",
     "output_type": "stream",
     "text": [
      "\n"
     ]
    },
    {
     "metadata": {
      "tags": null
     },
     "name": "stdout",
     "output_type": "stream",
     "text": [
      "\n",
      "      Epoch    GPU_mem   box_loss   seg_loss   cls_loss   dfl_loss  Instances       Size\n"
     ]
    },
    {
     "metadata": {
      "tags": null
     },
     "name": "stderr",
     "output_type": "stream",
     "text": [
      "    103/200      1.69G      1.063      1.919      1.005      1.184         31        640: 100%|██████████| 54/54 [00:17<00:00,  3.01it/s]\n",
      "                 Class     Images  Instances      Box(P          R      mAP50  mAP50-95)     Mask(P          R      mAP50  mAP50-95): 100%|██████████| 2/2 [00:00<00:00,  5.06it/s]"
     ]
    },
    {
     "metadata": {
      "tags": null
     },
     "name": "stdout",
     "output_type": "stream",
     "text": [
      "                   all         23         33      0.342      0.535      0.325      0.115      0.296      0.242      0.117      0.026\n"
     ]
    },
    {
     "metadata": {
      "tags": null
     },
     "name": "stderr",
     "output_type": "stream",
     "text": [
      "\n"
     ]
    },
    {
     "metadata": {
      "tags": null
     },
     "name": "stdout",
     "output_type": "stream",
     "text": [
      "\n",
      "      Epoch    GPU_mem   box_loss   seg_loss   cls_loss   dfl_loss  Instances       Size\n"
     ]
    },
    {
     "metadata": {
      "tags": null
     },
     "name": "stderr",
     "output_type": "stream",
     "text": [
      "    104/200      1.62G      1.047      1.876     0.9718      1.151         25        640: 100%|██████████| 54/54 [00:17<00:00,  3.06it/s]\n",
      "                 Class     Images  Instances      Box(P          R      mAP50  mAP50-95)     Mask(P          R      mAP50  mAP50-95): 100%|██████████| 2/2 [00:00<00:00,  4.89it/s]"
     ]
    },
    {
     "metadata": {
      "tags": null
     },
     "name": "stdout",
     "output_type": "stream",
     "text": [
      "                   all         23         33      0.343      0.424      0.243      0.113      0.213      0.242      0.111     0.0299\n"
     ]
    },
    {
     "metadata": {
      "tags": null
     },
     "name": "stderr",
     "output_type": "stream",
     "text": [
      "\n"
     ]
    },
    {
     "metadata": {
      "tags": null
     },
     "name": "stdout",
     "output_type": "stream",
     "text": [
      "\n",
      "      Epoch    GPU_mem   box_loss   seg_loss   cls_loss   dfl_loss  Instances       Size\n"
     ]
    },
    {
     "metadata": {
      "tags": null
     },
     "name": "stderr",
     "output_type": "stream",
     "text": [
      "    105/200      1.69G       1.07      1.857     0.9781      1.182         16        640: 100%|██████████| 54/54 [00:15<00:00,  3.39it/s]\n",
      "                 Class     Images  Instances      Box(P          R      mAP50  mAP50-95)     Mask(P          R      mAP50  mAP50-95): 100%|██████████| 2/2 [00:01<00:00,  1.79it/s]"
     ]
    },
    {
     "metadata": {
      "tags": null
     },
     "name": "stdout",
     "output_type": "stream",
     "text": [
      "                   all         23         33      0.381      0.424      0.286      0.153      0.368      0.364      0.213     0.0412\n"
     ]
    },
    {
     "metadata": {
      "tags": null
     },
     "name": "stderr",
     "output_type": "stream",
     "text": [
      "\n"
     ]
    },
    {
     "metadata": {
      "tags": null
     },
     "name": "stdout",
     "output_type": "stream",
     "text": [
      "\n",
      "      Epoch    GPU_mem   box_loss   seg_loss   cls_loss   dfl_loss  Instances       Size\n"
     ]
    },
    {
     "metadata": {
      "tags": null
     },
     "name": "stderr",
     "output_type": "stream",
     "text": [
      "    106/200      1.69G      1.048      1.878     0.9928      1.189         16        640: 100%|██████████| 54/54 [00:15<00:00,  3.59it/s]\n",
      "                 Class     Images  Instances      Box(P          R      mAP50  mAP50-95)     Mask(P          R      mAP50  mAP50-95): 100%|██████████| 2/2 [00:00<00:00,  3.11it/s]"
     ]
    },
    {
     "metadata": {
      "tags": null
     },
     "name": "stdout",
     "output_type": "stream",
     "text": [
      "                   all         23         33      0.366      0.455       0.23     0.0845      0.251      0.273      0.121     0.0224\n"
     ]
    },
    {
     "metadata": {
      "tags": null
     },
     "name": "stderr",
     "output_type": "stream",
     "text": [
      "\n"
     ]
    },
    {
     "metadata": {
      "tags": null
     },
     "name": "stdout",
     "output_type": "stream",
     "text": [
      "\n",
      "      Epoch    GPU_mem   box_loss   seg_loss   cls_loss   dfl_loss  Instances       Size\n"
     ]
    },
    {
     "metadata": {
      "tags": null
     },
     "name": "stderr",
     "output_type": "stream",
     "text": [
      "    107/200      1.67G      1.008      1.882     0.9539       1.16         20        640: 100%|██████████| 54/54 [00:17<00:00,  3.15it/s]\n",
      "                 Class     Images  Instances      Box(P          R      mAP50  mAP50-95)     Mask(P          R      mAP50  mAP50-95): 100%|██████████| 2/2 [00:00<00:00,  3.81it/s]"
     ]
    },
    {
     "metadata": {
      "tags": null
     },
     "name": "stdout",
     "output_type": "stream",
     "text": [
      "                   all         23         33      0.403      0.485      0.273      0.144        0.3      0.364      0.212     0.0472\n"
     ]
    },
    {
     "metadata": {
      "tags": null
     },
     "name": "stderr",
     "output_type": "stream",
     "text": [
      "\n"
     ]
    },
    {
     "metadata": {
      "tags": null
     },
     "name": "stdout",
     "output_type": "stream",
     "text": [
      "\n",
      "      Epoch    GPU_mem   box_loss   seg_loss   cls_loss   dfl_loss  Instances       Size\n"
     ]
    },
    {
     "metadata": {
      "tags": null
     },
     "name": "stderr",
     "output_type": "stream",
     "text": [
      "    108/200      1.72G      1.033      1.902     0.9431      1.151         10        640: 100%|██████████| 54/54 [00:18<00:00,  2.96it/s]\n",
      "                 Class     Images  Instances      Box(P          R      mAP50  mAP50-95)     Mask(P          R      mAP50  mAP50-95): 100%|██████████| 2/2 [00:00<00:00,  3.55it/s]"
     ]
    },
    {
     "metadata": {
      "tags": null
     },
     "name": "stdout",
     "output_type": "stream",
     "text": [
      "                   all         23         33      0.441      0.485      0.345      0.178      0.318      0.273      0.217     0.0326\n"
     ]
    },
    {
     "metadata": {
      "tags": null
     },
     "name": "stderr",
     "output_type": "stream",
     "text": [
      "\n"
     ]
    },
    {
     "metadata": {
      "tags": null
     },
     "name": "stdout",
     "output_type": "stream",
     "text": [
      "\n",
      "      Epoch    GPU_mem   box_loss   seg_loss   cls_loss   dfl_loss  Instances       Size\n"
     ]
    },
    {
     "metadata": {
      "tags": null
     },
     "name": "stderr",
     "output_type": "stream",
     "text": [
      "    109/200      1.72G      1.023      1.821      0.926      1.152         21        640: 100%|██████████| 54/54 [00:17<00:00,  3.00it/s]\n",
      "                 Class     Images  Instances      Box(P          R      mAP50  mAP50-95)     Mask(P          R      mAP50  mAP50-95): 100%|██████████| 2/2 [00:00<00:00,  4.75it/s]"
     ]
    },
    {
     "metadata": {
      "tags": null
     },
     "name": "stdout",
     "output_type": "stream",
     "text": [
      "                   all         23         33      0.422      0.515      0.342      0.159      0.402      0.394      0.229     0.0465\n"
     ]
    },
    {
     "metadata": {
      "tags": null
     },
     "name": "stderr",
     "output_type": "stream",
     "text": [
      "\n"
     ]
    },
    {
     "metadata": {
      "tags": null
     },
     "name": "stdout",
     "output_type": "stream",
     "text": [
      "\n",
      "      Epoch    GPU_mem   box_loss   seg_loss   cls_loss   dfl_loss  Instances       Size\n"
     ]
    },
    {
     "metadata": {
      "tags": null
     },
     "name": "stderr",
     "output_type": "stream",
     "text": [
      "    110/200      1.69G       1.03      1.863     0.9091      1.151         25        640: 100%|██████████| 54/54 [00:16<00:00,  3.36it/s]\n",
      "                 Class     Images  Instances      Box(P          R      mAP50  mAP50-95)     Mask(P          R      mAP50  mAP50-95): 100%|██████████| 2/2 [00:00<00:00,  2.42it/s]"
     ]
    },
    {
     "metadata": {
      "tags": null
     },
     "name": "stdout",
     "output_type": "stream",
     "text": [
      "                   all         23         33      0.382      0.543      0.323      0.167      0.366      0.364      0.192     0.0412\n"
     ]
    },
    {
     "metadata": {
      "tags": null
     },
     "name": "stderr",
     "output_type": "stream",
     "text": [
      "\n"
     ]
    },
    {
     "metadata": {
      "tags": null
     },
     "name": "stdout",
     "output_type": "stream",
     "text": [
      "\n",
      "      Epoch    GPU_mem   box_loss   seg_loss   cls_loss   dfl_loss  Instances       Size\n"
     ]
    },
    {
     "metadata": {
      "tags": null
     },
     "name": "stderr",
     "output_type": "stream",
     "text": [
      "    111/200       1.7G      1.027      1.917     0.9363      1.163         14        640: 100%|██████████| 54/54 [00:14<00:00,  3.69it/s]\n",
      "                 Class     Images  Instances      Box(P          R      mAP50  mAP50-95)     Mask(P          R      mAP50  mAP50-95): 100%|██████████| 2/2 [00:00<00:00,  2.23it/s]"
     ]
    },
    {
     "metadata": {
      "tags": null
     },
     "name": "stdout",
     "output_type": "stream",
     "text": [
      "                   all         23         33      0.474      0.424      0.355      0.188       0.33      0.303      0.246     0.0552\n"
     ]
    },
    {
     "metadata": {
      "tags": null
     },
     "name": "stderr",
     "output_type": "stream",
     "text": [
      "\n"
     ]
    },
    {
     "metadata": {
      "tags": null
     },
     "name": "stdout",
     "output_type": "stream",
     "text": [
      "\n",
      "      Epoch    GPU_mem   box_loss   seg_loss   cls_loss   dfl_loss  Instances       Size\n"
     ]
    },
    {
     "name": "stderr",
     "output_type": "stream",
     "text": [
      "    112/200      1.71G      1.004       1.84     0.9406      1.147         14        640: 100%|██████████| 54/54 [00:16<00:00,  3.27it/s]\n",
      "                 Class     Images  Instances      Box(P          R      mAP50  mAP50-95)     Mask(P          R      mAP50  mAP50-95): 100%|██████████| 2/2 [00:00<00:00,  3.26it/s]\n"
     ]
    },
    {
     "name": "stdout",
     "output_type": "stream",
     "text": [
      "                   all         23         33      0.415      0.576      0.326      0.146       0.28      0.333      0.195     0.0469\n",
      "\n",
      "      Epoch    GPU_mem   box_loss   seg_loss   cls_loss   dfl_loss  Instances       Size\n"
     ]
    },
    {
     "name": "stderr",
     "output_type": "stream",
     "text": [
      "    113/200      1.74G     0.9663      1.791     0.8924      1.114         19        640: 100%|██████████| 54/54 [00:18<00:00,  2.86it/s]\n",
      "                 Class     Images  Instances      Box(P          R      mAP50  mAP50-95)     Mask(P          R      mAP50  mAP50-95): 100%|██████████| 2/2 [00:00<00:00,  4.69it/s]\n"
     ]
    },
    {
     "name": "stdout",
     "output_type": "stream",
     "text": [
      "                   all         23         33      0.441      0.485      0.316      0.156      0.362      0.333      0.214     0.0492\n",
      "\n",
      "      Epoch    GPU_mem   box_loss   seg_loss   cls_loss   dfl_loss  Instances       Size\n"
     ]
    },
    {
     "name": "stderr",
     "output_type": "stream",
     "text": [
      "    114/200      1.72G     0.9935      1.886      0.902      1.145         13        640: 100%|██████████| 54/54 [00:18<00:00,  2.85it/s]\n",
      "                 Class     Images  Instances      Box(P          R      mAP50  mAP50-95)     Mask(P          R      mAP50  mAP50-95): 100%|██████████| 2/2 [00:00<00:00,  3.07it/s]"
     ]
    },
    {
     "name": "stdout",
     "output_type": "stream",
     "text": [
      "                   all         23         33      0.487      0.364      0.333      0.128      0.351      0.242      0.154     0.0392\n"
     ]
    },
    {
     "name": "stderr",
     "output_type": "stream",
     "text": [
      "\n"
     ]
    },
    {
     "name": "stdout",
     "output_type": "stream",
     "text": [
      "\n",
      "      Epoch    GPU_mem   box_loss   seg_loss   cls_loss   dfl_loss  Instances       Size\n"
     ]
    },
    {
     "name": "stderr",
     "output_type": "stream",
     "text": [
      "    115/200      1.69G      1.025      1.903     0.9395       1.16         20        640: 100%|██████████| 54/54 [00:16<00:00,  3.34it/s]\n",
      "                 Class     Images  Instances      Box(P          R      mAP50  mAP50-95)     Mask(P          R      mAP50  mAP50-95): 100%|██████████| 2/2 [00:00<00:00,  2.07it/s]"
     ]
    },
    {
     "name": "stdout",
     "output_type": "stream",
     "text": [
      "                   all         23         33      0.523      0.424      0.415      0.194      0.408      0.333      0.244     0.0577\n"
     ]
    },
    {
     "name": "stderr",
     "output_type": "stream",
     "text": [
      "\n"
     ]
    },
    {
     "name": "stdout",
     "output_type": "stream",
     "text": [
      "\n",
      "      Epoch    GPU_mem   box_loss   seg_loss   cls_loss   dfl_loss  Instances       Size\n"
     ]
    },
    {
     "name": "stderr",
     "output_type": "stream",
     "text": [
      "    116/200      1.67G     0.9934       1.88     0.9127      1.144         20        640: 100%|██████████| 54/54 [00:14<00:00,  3.70it/s]\n",
      "                 Class     Images  Instances      Box(P          R      mAP50  mAP50-95)     Mask(P          R      mAP50  mAP50-95): 100%|██████████| 2/2 [00:00<00:00,  2.20it/s]"
     ]
    },
    {
     "name": "stdout",
     "output_type": "stream",
     "text": [
      "                   all         23         33      0.498      0.515      0.424      0.172      0.322      0.333      0.175     0.0466\n"
     ]
    },
    {
     "name": "stderr",
     "output_type": "stream",
     "text": [
      "\n"
     ]
    },
    {
     "name": "stdout",
     "output_type": "stream",
     "text": [
      "\n",
      "      Epoch    GPU_mem   box_loss   seg_loss   cls_loss   dfl_loss  Instances       Size\n"
     ]
    },
    {
     "name": "stderr",
     "output_type": "stream",
     "text": [
      "    117/200      1.69G      1.023       1.77     0.9581      1.159         21        640: 100%|██████████| 54/54 [00:15<00:00,  3.42it/s]\n",
      "                 Class     Images  Instances      Box(P          R      mAP50  mAP50-95)     Mask(P          R      mAP50  mAP50-95): 100%|██████████| 2/2 [00:00<00:00,  3.15it/s]"
     ]
    },
    {
     "name": "stdout",
     "output_type": "stream",
     "text": [
      "                   all         23         33      0.467      0.451      0.322      0.125      0.337      0.303      0.203     0.0404\n"
     ]
    },
    {
     "name": "stderr",
     "output_type": "stream",
     "text": [
      "\n"
     ]
    },
    {
     "name": "stdout",
     "output_type": "stream",
     "text": [
      "\n",
      "      Epoch    GPU_mem   box_loss   seg_loss   cls_loss   dfl_loss  Instances       Size\n"
     ]
    },
    {
     "name": "stderr",
     "output_type": "stream",
     "text": [
      "    118/200      1.67G     0.9936      1.838     0.9227      1.134         18        640: 100%|██████████| 54/54 [00:18<00:00,  2.88it/s]\n",
      "                 Class     Images  Instances      Box(P          R      mAP50  mAP50-95)     Mask(P          R      mAP50  mAP50-95): 100%|██████████| 2/2 [00:00<00:00,  3.66it/s]"
     ]
    },
    {
     "name": "stdout",
     "output_type": "stream",
     "text": [
      "                   all         23         33      0.422      0.485      0.323      0.116      0.336      0.338      0.214     0.0441\n"
     ]
    },
    {
     "name": "stderr",
     "output_type": "stream",
     "text": [
      "\n"
     ]
    },
    {
     "name": "stdout",
     "output_type": "stream",
     "text": [
      "\n",
      "      Epoch    GPU_mem   box_loss   seg_loss   cls_loss   dfl_loss  Instances       Size\n"
     ]
    },
    {
     "name": "stderr",
     "output_type": "stream",
     "text": [
      "    119/200      1.69G     0.9829      1.821     0.8754      1.139         23        640: 100%|██████████| 54/54 [00:18<00:00,  3.00it/s]\n",
      "                 Class     Images  Instances      Box(P          R      mAP50  mAP50-95)     Mask(P          R      mAP50  mAP50-95): 100%|██████████| 2/2 [00:00<00:00,  4.63it/s]"
     ]
    },
    {
     "name": "stdout",
     "output_type": "stream",
     "text": [
      "                   all         23         33      0.486      0.394      0.315      0.132      0.412      0.364      0.215     0.0434\n"
     ]
    },
    {
     "name": "stderr",
     "output_type": "stream",
     "text": [
      "\n"
     ]
    },
    {
     "name": "stdout",
     "output_type": "stream",
     "text": [
      "\n",
      "      Epoch    GPU_mem   box_loss   seg_loss   cls_loss   dfl_loss  Instances       Size\n"
     ]
    },
    {
     "name": "stderr",
     "output_type": "stream",
     "text": [
      "    120/200      1.69G      1.017      1.808     0.8701      1.129         21        640: 100%|██████████| 54/54 [00:17<00:00,  3.07it/s]\n",
      "                 Class     Images  Instances      Box(P          R      mAP50  mAP50-95)     Mask(P          R      mAP50  mAP50-95): 100%|██████████| 2/2 [00:00<00:00,  2.43it/s]"
     ]
    },
    {
     "name": "stdout",
     "output_type": "stream",
     "text": [
      "                   all         23         33      0.317      0.338      0.212     0.0822      0.317      0.338      0.172     0.0305\n"
     ]
    },
    {
     "name": "stderr",
     "output_type": "stream",
     "text": [
      "\n"
     ]
    },
    {
     "name": "stdout",
     "output_type": "stream",
     "text": [
      "\n",
      "      Epoch    GPU_mem   box_loss   seg_loss   cls_loss   dfl_loss  Instances       Size\n"
     ]
    },
    {
     "name": "stderr",
     "output_type": "stream",
     "text": [
      "    121/200      1.73G      1.036      1.874      0.899      1.153         11        640: 100%|██████████| 54/54 [00:14<00:00,  3.70it/s]\n",
      "                 Class     Images  Instances      Box(P          R      mAP50  mAP50-95)     Mask(P          R      mAP50  mAP50-95): 100%|██████████| 2/2 [00:01<00:00,  1.81it/s]"
     ]
    },
    {
     "name": "stdout",
     "output_type": "stream",
     "text": [
      "                   all         23         33       0.41      0.455      0.309      0.148      0.382      0.424      0.239     0.0495\n"
     ]
    },
    {
     "name": "stderr",
     "output_type": "stream",
     "text": [
      "\n"
     ]
    },
    {
     "name": "stdout",
     "output_type": "stream",
     "text": [
      "\n",
      "      Epoch    GPU_mem   box_loss   seg_loss   cls_loss   dfl_loss  Instances       Size\n"
     ]
    },
    {
     "name": "stderr",
     "output_type": "stream",
     "text": [
      "    122/200      1.69G      1.008      1.847     0.9195      1.131          9        640: 100%|██████████| 54/54 [00:15<00:00,  3.46it/s]\n",
      "                 Class     Images  Instances      Box(P          R      mAP50  mAP50-95)     Mask(P          R      mAP50  mAP50-95): 100%|██████████| 2/2 [00:00<00:00,  2.56it/s]"
     ]
    },
    {
     "name": "stdout",
     "output_type": "stream",
     "text": [
      "                   all         23         33      0.353      0.424       0.35      0.141      0.302      0.303      0.219     0.0352\n"
     ]
    },
    {
     "name": "stderr",
     "output_type": "stream",
     "text": [
      "\n"
     ]
    },
    {
     "name": "stdout",
     "output_type": "stream",
     "text": [
      "\n",
      "      Epoch    GPU_mem   box_loss   seg_loss   cls_loss   dfl_loss  Instances       Size\n"
     ]
    },
    {
     "name": "stderr",
     "output_type": "stream",
     "text": [
      "    123/200      1.69G     0.9884      1.837      0.854      1.125         19        640: 100%|██████████| 54/54 [00:17<00:00,  3.14it/s]\n",
      "                 Class     Images  Instances      Box(P          R      mAP50  mAP50-95)     Mask(P          R      mAP50  mAP50-95): 100%|██████████| 2/2 [00:00<00:00,  3.49it/s]"
     ]
    },
    {
     "name": "stdout",
     "output_type": "stream",
     "text": [
      "                   all         23         33      0.507      0.394      0.343       0.15      0.269      0.273      0.165     0.0449\n"
     ]
    },
    {
     "name": "stderr",
     "output_type": "stream",
     "text": [
      "\n"
     ]
    },
    {
     "name": "stdout",
     "output_type": "stream",
     "text": [
      "\n",
      "      Epoch    GPU_mem   box_loss   seg_loss   cls_loss   dfl_loss  Instances       Size\n"
     ]
    },
    {
     "name": "stderr",
     "output_type": "stream",
     "text": [
      "    124/200      1.69G     0.9807      1.773      0.862      1.147         28        640: 100%|██████████| 54/54 [00:17<00:00,  3.04it/s]\n",
      "                 Class     Images  Instances      Box(P          R      mAP50  mAP50-95)     Mask(P          R      mAP50  mAP50-95): 100%|██████████| 2/2 [00:00<00:00,  4.00it/s]"
     ]
    },
    {
     "name": "stdout",
     "output_type": "stream",
     "text": [
      "                   all         23         33      0.417      0.303      0.256      0.131      0.417      0.303      0.223     0.0386\n"
     ]
    },
    {
     "name": "stderr",
     "output_type": "stream",
     "text": [
      "\n"
     ]
    },
    {
     "name": "stdout",
     "output_type": "stream",
     "text": [
      "\n",
      "      Epoch    GPU_mem   box_loss   seg_loss   cls_loss   dfl_loss  Instances       Size\n"
     ]
    },
    {
     "name": "stderr",
     "output_type": "stream",
     "text": [
      "    125/200      1.67G     0.9841      1.845     0.8836      1.125         20        640: 100%|██████████| 54/54 [00:18<00:00,  2.96it/s]\n",
      "                 Class     Images  Instances      Box(P          R      mAP50  mAP50-95)     Mask(P          R      mAP50  mAP50-95): 100%|██████████| 2/2 [00:00<00:00,  4.05it/s]"
     ]
    },
    {
     "name": "stdout",
     "output_type": "stream",
     "text": [
      "                   all         23         33      0.365      0.424      0.277      0.126      0.312      0.364      0.209     0.0322\n"
     ]
    },
    {
     "name": "stderr",
     "output_type": "stream",
     "text": [
      "\n"
     ]
    },
    {
     "name": "stdout",
     "output_type": "stream",
     "text": [
      "\n",
      "      Epoch    GPU_mem   box_loss   seg_loss   cls_loss   dfl_loss  Instances       Size\n"
     ]
    },
    {
     "name": "stderr",
     "output_type": "stream",
     "text": [
      "    126/200      1.69G       1.02      1.836     0.9029      1.147         17        640: 100%|██████████| 54/54 [00:16<00:00,  3.34it/s]\n",
      "                 Class     Images  Instances      Box(P          R      mAP50  mAP50-95)     Mask(P          R      mAP50  mAP50-95): 100%|██████████| 2/2 [00:00<00:00,  2.03it/s]"
     ]
    },
    {
     "name": "stdout",
     "output_type": "stream",
     "text": [
      "                   all         23         33      0.419      0.394      0.255      0.114       0.29      0.333      0.174     0.0328\n"
     ]
    },
    {
     "name": "stderr",
     "output_type": "stream",
     "text": [
      "\n"
     ]
    },
    {
     "name": "stdout",
     "output_type": "stream",
     "text": [
      "\n",
      "      Epoch    GPU_mem   box_loss   seg_loss   cls_loss   dfl_loss  Instances       Size\n"
     ]
    },
    {
     "name": "stderr",
     "output_type": "stream",
     "text": [
      "    127/200      1.74G     0.9965      1.893      0.861      1.142         20        640: 100%|██████████| 54/54 [00:14<00:00,  3.62it/s]\n",
      "                 Class     Images  Instances      Box(P          R      mAP50  mAP50-95)     Mask(P          R      mAP50  mAP50-95): 100%|██████████| 2/2 [00:00<00:00,  2.29it/s]"
     ]
    },
    {
     "name": "stdout",
     "output_type": "stream",
     "text": [
      "                   all         23         33      0.434      0.485       0.31      0.119      0.372      0.303      0.174     0.0278\n"
     ]
    },
    {
     "name": "stderr",
     "output_type": "stream",
     "text": [
      "\n"
     ]
    },
    {
     "name": "stdout",
     "output_type": "stream",
     "text": [
      "\n",
      "      Epoch    GPU_mem   box_loss   seg_loss   cls_loss   dfl_loss  Instances       Size\n"
     ]
    },
    {
     "name": "stderr",
     "output_type": "stream",
     "text": [
      "    128/200      1.68G     0.9365      1.815     0.8394       1.12         25        640: 100%|██████████| 54/54 [00:16<00:00,  3.27it/s]\n",
      "                 Class     Images  Instances      Box(P          R      mAP50  mAP50-95)     Mask(P          R      mAP50  mAP50-95): 100%|██████████| 2/2 [00:00<00:00,  5.07it/s]"
     ]
    },
    {
     "name": "stdout",
     "output_type": "stream",
     "text": [
      "                   all         23         33      0.361      0.424      0.308      0.139      0.377      0.348       0.26     0.0462\n"
     ]
    },
    {
     "name": "stderr",
     "output_type": "stream",
     "text": [
      "\n"
     ]
    },
    {
     "name": "stdout",
     "output_type": "stream",
     "text": [
      "\n",
      "      Epoch    GPU_mem   box_loss   seg_loss   cls_loss   dfl_loss  Instances       Size\n"
     ]
    },
    {
     "name": "stderr",
     "output_type": "stream",
     "text": [
      "    129/200      1.69G     0.9532      1.797     0.8263      1.118         15        640: 100%|██████████| 54/54 [00:18<00:00,  2.98it/s]\n",
      "                 Class     Images  Instances      Box(P          R      mAP50  mAP50-95)     Mask(P          R      mAP50  mAP50-95): 100%|██████████| 2/2 [00:00<00:00,  4.43it/s]"
     ]
    },
    {
     "name": "stdout",
     "output_type": "stream",
     "text": [
      "                   all         23         33      0.364      0.455      0.319       0.14       0.31      0.313      0.179     0.0417\n"
     ]
    },
    {
     "name": "stderr",
     "output_type": "stream",
     "text": [
      "\n"
     ]
    },
    {
     "name": "stdout",
     "output_type": "stream",
     "text": [
      "\n",
      "      Epoch    GPU_mem   box_loss   seg_loss   cls_loss   dfl_loss  Instances       Size\n"
     ]
    },
    {
     "name": "stderr",
     "output_type": "stream",
     "text": [
      "    130/200      1.69G     0.9424      1.756     0.8589      1.112         26        640: 100%|██████████| 54/54 [00:18<00:00,  2.99it/s]\n",
      "                 Class     Images  Instances      Box(P          R      mAP50  mAP50-95)     Mask(P          R      mAP50  mAP50-95): 100%|██████████| 2/2 [00:00<00:00,  3.90it/s]\n"
     ]
    },
    {
     "name": "stdout",
     "output_type": "stream",
     "text": [
      "                   all         23         33      0.365      0.424      0.261      0.133      0.314      0.273      0.163     0.0334\n",
      "\n",
      "      Epoch    GPU_mem   box_loss   seg_loss   cls_loss   dfl_loss  Instances       Size\n"
     ]
    },
    {
     "name": "stderr",
     "output_type": "stream",
     "text": [
      "    131/200      1.76G     0.9984      1.825     0.8889      1.129         17        640: 100%|██████████| 54/54 [00:16<00:00,  3.21it/s]\n",
      "                 Class     Images  Instances      Box(P          R      mAP50  mAP50-95)     Mask(P          R      mAP50  mAP50-95): 100%|██████████| 2/2 [00:01<00:00,  1.86it/s]"
     ]
    },
    {
     "name": "stdout",
     "output_type": "stream",
     "text": [
      "                   all         23         33       0.43      0.412      0.323      0.135      0.285      0.273      0.151     0.0391\n"
     ]
    },
    {
     "name": "stderr",
     "output_type": "stream",
     "text": [
      "\n"
     ]
    },
    {
     "name": "stdout",
     "output_type": "stream",
     "text": [
      "\n",
      "      Epoch    GPU_mem   box_loss   seg_loss   cls_loss   dfl_loss  Instances       Size\n"
     ]
    },
    {
     "name": "stderr",
     "output_type": "stream",
     "text": [
      "    132/200      1.67G     0.9739      1.821     0.8946      1.144         29        640: 100%|██████████| 54/54 [00:14<00:00,  3.72it/s]\n",
      "                 Class     Images  Instances      Box(P          R      mAP50  mAP50-95)     Mask(P          R      mAP50  mAP50-95): 100%|██████████| 2/2 [00:01<00:00,  1.84it/s]"
     ]
    },
    {
     "name": "stdout",
     "output_type": "stream",
     "text": [
      "                   all         23         33      0.363      0.424      0.261      0.124      0.344      0.333       0.18     0.0433\n"
     ]
    },
    {
     "name": "stderr",
     "output_type": "stream",
     "text": [
      "\n"
     ]
    },
    {
     "name": "stdout",
     "output_type": "stream",
     "text": [
      "\n",
      "      Epoch    GPU_mem   box_loss   seg_loss   cls_loss   dfl_loss  Instances       Size\n"
     ]
    },
    {
     "name": "stderr",
     "output_type": "stream",
     "text": [
      "    133/200       1.7G     0.9862      1.857     0.8643      1.136         16        640: 100%|██████████| 54/54 [00:17<00:00,  3.11it/s]\n",
      "                 Class     Images  Instances      Box(P          R      mAP50  mAP50-95)     Mask(P          R      mAP50  mAP50-95): 100%|██████████| 2/2 [00:00<00:00,  4.71it/s]"
     ]
    },
    {
     "name": "stdout",
     "output_type": "stream",
     "text": [
      "                   all         23         33      0.405      0.433      0.308      0.132      0.255      0.303      0.154     0.0347\n"
     ]
    },
    {
     "name": "stderr",
     "output_type": "stream",
     "text": [
      "\n"
     ]
    },
    {
     "name": "stdout",
     "output_type": "stream",
     "text": [
      "\n",
      "      Epoch    GPU_mem   box_loss   seg_loss   cls_loss   dfl_loss  Instances       Size\n"
     ]
    },
    {
     "name": "stderr",
     "output_type": "stream",
     "text": [
      "    134/200      1.58G     0.9925       1.88     0.8452      1.127         23        640: 100%|██████████| 54/54 [00:17<00:00,  3.03it/s]\n",
      "                 Class     Images  Instances      Box(P          R      mAP50  mAP50-95)     Mask(P          R      mAP50  mAP50-95): 100%|██████████| 2/2 [00:00<00:00,  4.09it/s]"
     ]
    },
    {
     "name": "stdout",
     "output_type": "stream",
     "text": [
      "                   all         23         33      0.424      0.468      0.348      0.196      0.288      0.303      0.203     0.0514\n"
     ]
    },
    {
     "name": "stderr",
     "output_type": "stream",
     "text": [
      "\n"
     ]
    },
    {
     "name": "stdout",
     "output_type": "stream",
     "text": [
      "\n",
      "      Epoch    GPU_mem   box_loss   seg_loss   cls_loss   dfl_loss  Instances       Size\n"
     ]
    },
    {
     "name": "stderr",
     "output_type": "stream",
     "text": [
      "    135/200      1.68G     0.9737      1.827     0.8485      1.122         23        640: 100%|██████████| 54/54 [00:18<00:00,  2.90it/s]\n",
      "                 Class     Images  Instances      Box(P          R      mAP50  mAP50-95)     Mask(P          R      mAP50  mAP50-95): 100%|██████████| 2/2 [00:00<00:00,  4.99it/s]"
     ]
    },
    {
     "name": "stdout",
     "output_type": "stream",
     "text": [
      "                   all         23         33      0.378      0.485      0.325      0.169      0.435      0.273      0.185     0.0426\n"
     ]
    },
    {
     "name": "stderr",
     "output_type": "stream",
     "text": [
      "\n"
     ]
    },
    {
     "name": "stdout",
     "output_type": "stream",
     "text": [
      "\n",
      "      Epoch    GPU_mem   box_loss   seg_loss   cls_loss   dfl_loss  Instances       Size\n"
     ]
    },
    {
     "name": "stderr",
     "output_type": "stream",
     "text": [
      "    136/200      1.72G      0.957      1.809     0.8441      1.118         13        640: 100%|██████████| 54/54 [00:16<00:00,  3.18it/s]\n",
      "                 Class     Images  Instances      Box(P          R      mAP50  mAP50-95)     Mask(P          R      mAP50  mAP50-95): 100%|██████████| 2/2 [00:00<00:00,  2.41it/s]"
     ]
    },
    {
     "name": "stdout",
     "output_type": "stream",
     "text": [
      "                   all         23         33      0.559      0.364      0.366      0.165      0.414      0.273      0.178     0.0301\n"
     ]
    },
    {
     "name": "stderr",
     "output_type": "stream",
     "text": [
      "\n"
     ]
    },
    {
     "name": "stdout",
     "output_type": "stream",
     "text": [
      "\n",
      "      Epoch    GPU_mem   box_loss   seg_loss   cls_loss   dfl_loss  Instances       Size\n"
     ]
    },
    {
     "name": "stderr",
     "output_type": "stream",
     "text": [
      "    137/200       1.7G     0.9367      1.786     0.8567      1.112         11        640: 100%|██████████| 54/54 [00:14<00:00,  3.66it/s]\n",
      "                 Class     Images  Instances      Box(P          R      mAP50  mAP50-95)     Mask(P          R      mAP50  mAP50-95): 100%|██████████| 2/2 [00:00<00:00,  2.06it/s]"
     ]
    },
    {
     "name": "stdout",
     "output_type": "stream",
     "text": [
      "                   all         23         33      0.391      0.428      0.351      0.141      0.205      0.242     0.0846       0.02\n"
     ]
    },
    {
     "name": "stderr",
     "output_type": "stream",
     "text": [
      "\n"
     ]
    },
    {
     "name": "stdout",
     "output_type": "stream",
     "text": [
      "\n",
      "      Epoch    GPU_mem   box_loss   seg_loss   cls_loss   dfl_loss  Instances       Size\n"
     ]
    },
    {
     "name": "stderr",
     "output_type": "stream",
     "text": [
      "    138/200       1.7G      0.921      1.785     0.8271      1.105         19        640: 100%|██████████| 54/54 [00:14<00:00,  3.74it/s]\n",
      "                 Class     Images  Instances      Box(P          R      mAP50  mAP50-95)     Mask(P          R      mAP50  mAP50-95): 100%|██████████| 2/2 [00:00<00:00,  2.18it/s]"
     ]
    },
    {
     "name": "stdout",
     "output_type": "stream",
     "text": [
      "                   all         23         33      0.493      0.413      0.366      0.134       0.37      0.242      0.171     0.0332\n"
     ]
    },
    {
     "name": "stderr",
     "output_type": "stream",
     "text": [
      "\n"
     ]
    },
    {
     "name": "stdout",
     "output_type": "stream",
     "text": [
      "\n",
      "      Epoch    GPU_mem   box_loss   seg_loss   cls_loss   dfl_loss  Instances       Size\n"
     ]
    },
    {
     "name": "stderr",
     "output_type": "stream",
     "text": [
      "    139/200       1.7G      0.947      1.843     0.8238      1.088         18        640: 100%|██████████| 54/54 [00:17<00:00,  3.04it/s]\n",
      "                 Class     Images  Instances      Box(P          R      mAP50  mAP50-95)     Mask(P          R      mAP50  mAP50-95): 100%|██████████| 2/2 [00:00<00:00,  3.26it/s]"
     ]
    },
    {
     "name": "stdout",
     "output_type": "stream",
     "text": [
      "                   all         23         33      0.499      0.424      0.327      0.135      0.372      0.242      0.165     0.0365\n"
     ]
    },
    {
     "name": "stderr",
     "output_type": "stream",
     "text": [
      "\n"
     ]
    },
    {
     "name": "stdout",
     "output_type": "stream",
     "text": [
      "\n",
      "      Epoch    GPU_mem   box_loss   seg_loss   cls_loss   dfl_loss  Instances       Size\n"
     ]
    },
    {
     "name": "stderr",
     "output_type": "stream",
     "text": [
      "    140/200       1.7G     0.9568      1.757     0.7961      1.117         24        640: 100%|██████████| 54/54 [00:17<00:00,  3.13it/s]\n",
      "                 Class     Images  Instances      Box(P          R      mAP50  mAP50-95)     Mask(P          R      mAP50  mAP50-95): 100%|██████████| 2/2 [00:00<00:00,  4.36it/s]"
     ]
    },
    {
     "name": "stdout",
     "output_type": "stream",
     "text": [
      "                   all         23         33      0.405      0.434      0.291      0.127        0.3      0.333      0.156     0.0316\n"
     ]
    },
    {
     "name": "stderr",
     "output_type": "stream",
     "text": [
      "\n"
     ]
    },
    {
     "name": "stdout",
     "output_type": "stream",
     "text": [
      "\n",
      "      Epoch    GPU_mem   box_loss   seg_loss   cls_loss   dfl_loss  Instances       Size\n"
     ]
    },
    {
     "name": "stderr",
     "output_type": "stream",
     "text": [
      "    141/200      1.68G     0.9599      1.806     0.8186      1.125         16        640: 100%|██████████| 54/54 [00:18<00:00,  2.99it/s]\n",
      "                 Class     Images  Instances      Box(P          R      mAP50  mAP50-95)     Mask(P          R      mAP50  mAP50-95): 100%|██████████| 2/2 [00:00<00:00,  3.82it/s]"
     ]
    },
    {
     "name": "stdout",
     "output_type": "stream",
     "text": [
      "                   all         23         33      0.507      0.455      0.371      0.176      0.373      0.333      0.208     0.0553\n"
     ]
    },
    {
     "name": "stderr",
     "output_type": "stream",
     "text": [
      "\n"
     ]
    },
    {
     "name": "stdout",
     "output_type": "stream",
     "text": [
      "\n",
      "      Epoch    GPU_mem   box_loss   seg_loss   cls_loss   dfl_loss  Instances       Size\n"
     ]
    },
    {
     "name": "stderr",
     "output_type": "stream",
     "text": [
      "    142/200      1.72G     0.9439      1.768      0.834      1.129         22        640: 100%|██████████| 54/54 [00:17<00:00,  3.14it/s]\n",
      "                 Class     Images  Instances      Box(P          R      mAP50  mAP50-95)     Mask(P          R      mAP50  mAP50-95): 100%|██████████| 2/2 [00:01<00:00,  1.90it/s]"
     ]
    },
    {
     "name": "stdout",
     "output_type": "stream",
     "text": [
      "                   all         23         33      0.438      0.455      0.353      0.163      0.362      0.309      0.247     0.0459\n"
     ]
    },
    {
     "name": "stderr",
     "output_type": "stream",
     "text": [
      "\n"
     ]
    },
    {
     "name": "stdout",
     "output_type": "stream",
     "text": [
      "\n",
      "      Epoch    GPU_mem   box_loss   seg_loss   cls_loss   dfl_loss  Instances       Size\n"
     ]
    },
    {
     "name": "stderr",
     "output_type": "stream",
     "text": [
      "    143/200       1.7G     0.9402      1.758     0.8372      1.116         18        640: 100%|██████████| 54/54 [00:14<00:00,  3.69it/s]\n",
      "                 Class     Images  Instances      Box(P          R      mAP50  mAP50-95)     Mask(P          R      mAP50  mAP50-95): 100%|██████████| 2/2 [00:00<00:00,  2.38it/s]"
     ]
    },
    {
     "name": "stdout",
     "output_type": "stream",
     "text": [
      "                   all         23         33      0.376      0.485      0.341       0.14      0.228      0.394      0.162     0.0356\n"
     ]
    },
    {
     "name": "stderr",
     "output_type": "stream",
     "text": [
      "\n"
     ]
    },
    {
     "name": "stdout",
     "output_type": "stream",
     "text": [
      "\n",
      "      Epoch    GPU_mem   box_loss   seg_loss   cls_loss   dfl_loss  Instances       Size\n"
     ]
    },
    {
     "name": "stderr",
     "output_type": "stream",
     "text": [
      "    144/200      1.69G     0.9397      1.744     0.8147      1.107         12        640: 100%|██████████| 54/54 [00:15<00:00,  3.49it/s]\n",
      "                 Class     Images  Instances      Box(P          R      mAP50  mAP50-95)     Mask(P          R      mAP50  mAP50-95): 100%|██████████| 2/2 [00:00<00:00,  3.56it/s]"
     ]
    },
    {
     "name": "stdout",
     "output_type": "stream",
     "text": [
      "                   all         23         33      0.492      0.424      0.395      0.174      0.285      0.242      0.203     0.0523\n"
     ]
    },
    {
     "name": "stderr",
     "output_type": "stream",
     "text": [
      "\n"
     ]
    },
    {
     "name": "stdout",
     "output_type": "stream",
     "text": [
      "\n",
      "      Epoch    GPU_mem   box_loss   seg_loss   cls_loss   dfl_loss  Instances       Size\n"
     ]
    },
    {
     "name": "stderr",
     "output_type": "stream",
     "text": [
      "    145/200       1.7G     0.9179      1.759     0.8009      1.106         19        640: 100%|██████████| 54/54 [00:17<00:00,  3.10it/s]\n",
      "                 Class     Images  Instances      Box(P          R      mAP50  mAP50-95)     Mask(P          R      mAP50  mAP50-95): 100%|██████████| 2/2 [00:00<00:00,  3.91it/s]\n"
     ]
    },
    {
     "name": "stdout",
     "output_type": "stream",
     "text": [
      "                   all         23         33      0.461      0.414      0.362      0.177      0.326      0.303      0.224     0.0534\n",
      "\n",
      "      Epoch    GPU_mem   box_loss   seg_loss   cls_loss   dfl_loss  Instances       Size\n"
     ]
    },
    {
     "name": "stderr",
     "output_type": "stream",
     "text": [
      "    146/200       1.7G     0.9318      1.732     0.7916      1.112         16        640: 100%|██████████| 54/54 [00:17<00:00,  3.01it/s]\n",
      "                 Class     Images  Instances      Box(P          R      mAP50  mAP50-95)     Mask(P          R      mAP50  mAP50-95): 100%|██████████| 2/2 [00:00<00:00,  3.78it/s]"
     ]
    },
    {
     "name": "stdout",
     "output_type": "stream",
     "text": [
      "                   all         23         33      0.498      0.576      0.461      0.224      0.344      0.364      0.232     0.0533\n"
     ]
    },
    {
     "name": "stderr",
     "output_type": "stream",
     "text": [
      "\n"
     ]
    },
    {
     "name": "stdout",
     "output_type": "stream",
     "text": [
      "\n",
      "      Epoch    GPU_mem   box_loss   seg_loss   cls_loss   dfl_loss  Instances       Size\n"
     ]
    },
    {
     "name": "stderr",
     "output_type": "stream",
     "text": [
      "    147/200      1.69G     0.9284      1.743     0.7661      1.099         27        640: 100%|██████████| 54/54 [00:18<00:00,  2.94it/s]\n",
      "                 Class     Images  Instances      Box(P          R      mAP50  mAP50-95)     Mask(P          R      mAP50  mAP50-95): 100%|██████████| 2/2 [00:00<00:00,  3.02it/s]"
     ]
    },
    {
     "name": "stdout",
     "output_type": "stream",
     "text": [
      "                   all         23         33       0.46      0.545      0.407      0.209       0.35      0.455      0.291     0.0578\n"
     ]
    },
    {
     "name": "stderr",
     "output_type": "stream",
     "text": [
      "\n"
     ]
    },
    {
     "name": "stdout",
     "output_type": "stream",
     "text": [
      "\n",
      "      Epoch    GPU_mem   box_loss   seg_loss   cls_loss   dfl_loss  Instances       Size\n"
     ]
    },
    {
     "name": "stderr",
     "output_type": "stream",
     "text": [
      "    148/200      1.68G     0.9053      1.836     0.8136      1.096         17        640: 100%|██████████| 54/54 [00:15<00:00,  3.50it/s]\n",
      "                 Class     Images  Instances      Box(P          R      mAP50  mAP50-95)     Mask(P          R      mAP50  mAP50-95): 100%|██████████| 2/2 [00:01<00:00,  1.64it/s]"
     ]
    },
    {
     "name": "stdout",
     "output_type": "stream",
     "text": [
      "                   all         23         33      0.438      0.455      0.344      0.176       0.29      0.303      0.211     0.0595\n"
     ]
    },
    {
     "name": "stderr",
     "output_type": "stream",
     "text": [
      "\n"
     ]
    },
    {
     "name": "stdout",
     "output_type": "stream",
     "text": [
      "\n",
      "      Epoch    GPU_mem   box_loss   seg_loss   cls_loss   dfl_loss  Instances       Size\n"
     ]
    },
    {
     "name": "stderr",
     "output_type": "stream",
     "text": [
      "    149/200      1.69G     0.9587      1.811     0.8357      1.127         27        640: 100%|██████████| 54/54 [00:15<00:00,  3.59it/s]\n",
      "                 Class     Images  Instances      Box(P          R      mAP50  mAP50-95)     Mask(P          R      mAP50  mAP50-95): 100%|██████████| 2/2 [00:00<00:00,  2.07it/s]"
     ]
    },
    {
     "name": "stdout",
     "output_type": "stream",
     "text": [
      "                   all         23         33      0.607      0.421      0.394      0.187      0.358      0.242      0.194     0.0497\n"
     ]
    },
    {
     "name": "stderr",
     "output_type": "stream",
     "text": [
      "\n"
     ]
    },
    {
     "name": "stdout",
     "output_type": "stream",
     "text": [
      "\n",
      "      Epoch    GPU_mem   box_loss   seg_loss   cls_loss   dfl_loss  Instances       Size\n"
     ]
    },
    {
     "name": "stderr",
     "output_type": "stream",
     "text": [
      "    150/200      1.74G     0.9008      1.737     0.7783      1.097         22        640: 100%|██████████| 54/54 [00:17<00:00,  3.14it/s]\n",
      "                 Class     Images  Instances      Box(P          R      mAP50  mAP50-95)     Mask(P          R      mAP50  mAP50-95): 100%|██████████| 2/2 [00:00<00:00,  2.97it/s]"
     ]
    },
    {
     "name": "stdout",
     "output_type": "stream",
     "text": [
      "                   all         23         33      0.551      0.394      0.395      0.191      0.438      0.273      0.242     0.0549\n"
     ]
    },
    {
     "name": "stderr",
     "output_type": "stream",
     "text": [
      "\n"
     ]
    },
    {
     "name": "stdout",
     "output_type": "stream",
     "text": [
      "\n",
      "      Epoch    GPU_mem   box_loss   seg_loss   cls_loss   dfl_loss  Instances       Size\n"
     ]
    },
    {
     "name": "stderr",
     "output_type": "stream",
     "text": [
      "    151/200       1.7G     0.9158       1.77     0.7666      1.083         23        640: 100%|██████████| 54/54 [00:18<00:00,  2.91it/s]\n",
      "                 Class     Images  Instances      Box(P          R      mAP50  mAP50-95)     Mask(P          R      mAP50  mAP50-95): 100%|██████████| 2/2 [00:00<00:00,  4.86it/s]"
     ]
    },
    {
     "name": "stdout",
     "output_type": "stream",
     "text": [
      "                   all         23         33      0.592      0.394      0.443      0.193       0.34      0.364      0.299       0.05\n"
     ]
    },
    {
     "name": "stderr",
     "output_type": "stream",
     "text": [
      "\n"
     ]
    },
    {
     "name": "stdout",
     "output_type": "stream",
     "text": [
      "\n",
      "      Epoch    GPU_mem   box_loss   seg_loss   cls_loss   dfl_loss  Instances       Size\n"
     ]
    },
    {
     "name": "stderr",
     "output_type": "stream",
     "text": [
      "    152/200       1.7G     0.9111      1.785     0.7609      1.087         15        640: 100%|██████████| 54/54 [00:17<00:00,  3.03it/s]\n",
      "                 Class     Images  Instances      Box(P          R      mAP50  mAP50-95)     Mask(P          R      mAP50  mAP50-95): 100%|██████████| 2/2 [00:00<00:00,  2.29it/s]"
     ]
    },
    {
     "name": "stdout",
     "output_type": "stream",
     "text": [
      "                   all         23         33      0.424      0.468       0.36      0.155      0.338      0.364      0.235     0.0529\n"
     ]
    },
    {
     "name": "stderr",
     "output_type": "stream",
     "text": [
      "\n"
     ]
    },
    {
     "name": "stdout",
     "output_type": "stream",
     "text": [
      "\n",
      "      Epoch    GPU_mem   box_loss   seg_loss   cls_loss   dfl_loss  Instances       Size\n"
     ]
    },
    {
     "name": "stderr",
     "output_type": "stream",
     "text": [
      "    153/200      1.69G     0.9355      1.779     0.8111      1.089         31        640: 100%|██████████| 54/54 [00:14<00:00,  3.79it/s]\n",
      "                 Class     Images  Instances      Box(P          R      mAP50  mAP50-95)     Mask(P          R      mAP50  mAP50-95): 100%|██████████| 2/2 [00:00<00:00,  2.59it/s]"
     ]
    },
    {
     "name": "stdout",
     "output_type": "stream",
     "text": [
      "                   all         23         33      0.574      0.394      0.445      0.169      0.429      0.333      0.267     0.0601\n"
     ]
    },
    {
     "name": "stderr",
     "output_type": "stream",
     "text": [
      "\n"
     ]
    },
    {
     "name": "stdout",
     "output_type": "stream",
     "text": [
      "\n",
      "      Epoch    GPU_mem   box_loss   seg_loss   cls_loss   dfl_loss  Instances       Size\n"
     ]
    },
    {
     "name": "stderr",
     "output_type": "stream",
     "text": [
      "    154/200      1.68G     0.9307      1.796     0.8117      1.109         28        640: 100%|██████████| 54/54 [00:15<00:00,  3.52it/s]\n",
      "                 Class     Images  Instances      Box(P          R      mAP50  mAP50-95)     Mask(P          R      mAP50  mAP50-95): 100%|██████████| 2/2 [00:00<00:00,  2.80it/s]"
     ]
    },
    {
     "name": "stdout",
     "output_type": "stream",
     "text": [
      "                   all         23         33      0.447      0.455      0.403      0.185      0.454      0.303      0.293     0.0708\n"
     ]
    },
    {
     "name": "stderr",
     "output_type": "stream",
     "text": [
      "\n"
     ]
    },
    {
     "name": "stdout",
     "output_type": "stream",
     "text": [
      "\n",
      "      Epoch    GPU_mem   box_loss   seg_loss   cls_loss   dfl_loss  Instances       Size\n"
     ]
    },
    {
     "name": "stderr",
     "output_type": "stream",
     "text": [
      "    155/200      1.72G     0.9151      1.703     0.7901      1.102         18        640: 100%|██████████| 54/54 [00:17<00:00,  3.12it/s]\n",
      "                 Class     Images  Instances      Box(P          R      mAP50  mAP50-95)     Mask(P          R      mAP50  mAP50-95): 100%|██████████| 2/2 [00:00<00:00,  3.16it/s]"
     ]
    },
    {
     "name": "stdout",
     "output_type": "stream",
     "text": [
      "                   all         23         33      0.374      0.424      0.322      0.178      0.297      0.333      0.239     0.0495\n"
     ]
    },
    {
     "name": "stderr",
     "output_type": "stream",
     "text": [
      "\n"
     ]
    },
    {
     "name": "stdout",
     "output_type": "stream",
     "text": [
      "\n",
      "      Epoch    GPU_mem   box_loss   seg_loss   cls_loss   dfl_loss  Instances       Size\n"
     ]
    },
    {
     "name": "stderr",
     "output_type": "stream",
     "text": [
      "    156/200      1.72G     0.9138      1.766     0.7646      1.088         28        640: 100%|██████████| 54/54 [00:18<00:00,  2.96it/s]\n",
      "                 Class     Images  Instances      Box(P          R      mAP50  mAP50-95)     Mask(P          R      mAP50  mAP50-95): 100%|██████████| 2/2 [00:00<00:00,  4.33it/s]"
     ]
    },
    {
     "name": "stdout",
     "output_type": "stream",
     "text": [
      "                   all         23         33      0.372      0.432      0.305      0.151      0.281      0.424      0.251      0.052\n"
     ]
    },
    {
     "name": "stderr",
     "output_type": "stream",
     "text": [
      "\n"
     ]
    },
    {
     "name": "stdout",
     "output_type": "stream",
     "text": [
      "\n",
      "      Epoch    GPU_mem   box_loss   seg_loss   cls_loss   dfl_loss  Instances       Size\n"
     ]
    },
    {
     "name": "stderr",
     "output_type": "stream",
     "text": [
      "    157/200       1.7G     0.8978      1.708     0.7656      1.083         19        640: 100%|██████████| 54/54 [00:18<00:00,  2.89it/s]\n",
      "                 Class     Images  Instances      Box(P          R      mAP50  mAP50-95)     Mask(P          R      mAP50  mAP50-95): 100%|██████████| 2/2 [00:00<00:00,  3.82it/s]"
     ]
    },
    {
     "name": "stdout",
     "output_type": "stream",
     "text": [
      "                   all         23         33      0.569      0.455      0.424      0.193      0.449      0.333      0.231     0.0448\n"
     ]
    },
    {
     "name": "stderr",
     "output_type": "stream",
     "text": [
      "\n"
     ]
    },
    {
     "name": "stdout",
     "output_type": "stream",
     "text": [
      "\n",
      "      Epoch    GPU_mem   box_loss   seg_loss   cls_loss   dfl_loss  Instances       Size\n"
     ]
    },
    {
     "name": "stderr",
     "output_type": "stream",
     "text": [
      "    158/200      1.72G     0.9072      1.784     0.7532      1.087         19        640: 100%|██████████| 54/54 [00:15<00:00,  3.48it/s]\n",
      "                 Class     Images  Instances      Box(P          R      mAP50  mAP50-95)     Mask(P          R      mAP50  mAP50-95): 100%|██████████| 2/2 [00:01<00:00,  1.97it/s]"
     ]
    },
    {
     "name": "stdout",
     "output_type": "stream",
     "text": [
      "                   all         23         33        0.5      0.455      0.423      0.165      0.365      0.333      0.213     0.0541\n"
     ]
    },
    {
     "name": "stderr",
     "output_type": "stream",
     "text": [
      "\n"
     ]
    },
    {
     "name": "stdout",
     "output_type": "stream",
     "text": [
      "\n",
      "      Epoch    GPU_mem   box_loss   seg_loss   cls_loss   dfl_loss  Instances       Size\n"
     ]
    },
    {
     "name": "stderr",
     "output_type": "stream",
     "text": [
      "    159/200      1.71G     0.8919      1.792     0.7581       1.09         28        640: 100%|██████████| 54/54 [00:15<00:00,  3.47it/s]\n",
      "                 Class     Images  Instances      Box(P          R      mAP50  mAP50-95)     Mask(P          R      mAP50  mAP50-95): 100%|██████████| 2/2 [00:00<00:00,  2.84it/s]"
     ]
    },
    {
     "name": "stdout",
     "output_type": "stream",
     "text": [
      "                   all         23         33      0.375      0.545      0.365      0.145      0.328      0.333      0.214     0.0438\n"
     ]
    },
    {
     "name": "stderr",
     "output_type": "stream",
     "text": [
      "\n"
     ]
    },
    {
     "name": "stdout",
     "output_type": "stream",
     "text": [
      "\n",
      "      Epoch    GPU_mem   box_loss   seg_loss   cls_loss   dfl_loss  Instances       Size\n"
     ]
    },
    {
     "name": "stderr",
     "output_type": "stream",
     "text": [
      "    160/200      1.74G     0.8769      1.786     0.7635       1.08         16        640: 100%|██████████| 54/54 [00:16<00:00,  3.26it/s]\n",
      "                 Class     Images  Instances      Box(P          R      mAP50  mAP50-95)     Mask(P          R      mAP50  mAP50-95): 100%|██████████| 2/2 [00:00<00:00,  3.70it/s]"
     ]
    },
    {
     "name": "stdout",
     "output_type": "stream",
     "text": [
      "                   all         23         33      0.578      0.394      0.395      0.164      0.454      0.273      0.209     0.0374\n"
     ]
    },
    {
     "name": "stderr",
     "output_type": "stream",
     "text": [
      "\n"
     ]
    },
    {
     "name": "stdout",
     "output_type": "stream",
     "text": [
      "\n",
      "      Epoch    GPU_mem   box_loss   seg_loss   cls_loss   dfl_loss  Instances       Size\n"
     ]
    },
    {
     "name": "stderr",
     "output_type": "stream",
     "text": [
      "    161/200      1.71G     0.8767      1.742     0.7519      1.065         31        640: 100%|██████████| 54/54 [00:17<00:00,  3.03it/s]\n",
      "                 Class     Images  Instances      Box(P          R      mAP50  mAP50-95)     Mask(P          R      mAP50  mAP50-95): 100%|██████████| 2/2 [00:00<00:00,  4.04it/s]"
     ]
    },
    {
     "name": "stdout",
     "output_type": "stream",
     "text": [
      "                   all         23         33      0.656      0.346      0.405      0.163      0.498      0.242      0.256     0.0716\n"
     ]
    },
    {
     "name": "stderr",
     "output_type": "stream",
     "text": [
      "\n"
     ]
    },
    {
     "name": "stdout",
     "output_type": "stream",
     "text": [
      "\n",
      "      Epoch    GPU_mem   box_loss   seg_loss   cls_loss   dfl_loss  Instances       Size\n"
     ]
    },
    {
     "name": "stderr",
     "output_type": "stream",
     "text": [
      "    162/200      1.68G     0.8953      1.728      0.754      1.081         19        640: 100%|██████████| 54/54 [00:19<00:00,  2.79it/s]\n",
      "                 Class     Images  Instances      Box(P          R      mAP50  mAP50-95)     Mask(P          R      mAP50  mAP50-95): 100%|██████████| 2/2 [00:00<00:00,  4.69it/s]"
     ]
    },
    {
     "name": "stdout",
     "output_type": "stream",
     "text": [
      "                   all         23         33      0.478      0.389      0.331      0.146       0.34      0.303      0.225     0.0477\n"
     ]
    },
    {
     "name": "stderr",
     "output_type": "stream",
     "text": [
      "\n"
     ]
    },
    {
     "name": "stdout",
     "output_type": "stream",
     "text": [
      "\n",
      "      Epoch    GPU_mem   box_loss   seg_loss   cls_loss   dfl_loss  Instances       Size\n"
     ]
    },
    {
     "name": "stderr",
     "output_type": "stream",
     "text": [
      "    163/200       1.7G     0.8952      1.743     0.7791      1.081         19        640: 100%|██████████| 54/54 [00:16<00:00,  3.19it/s]\n",
      "                 Class     Images  Instances      Box(P          R      mAP50  mAP50-95)     Mask(P          R      mAP50  mAP50-95): 100%|██████████| 2/2 [00:00<00:00,  2.61it/s]"
     ]
    },
    {
     "name": "stdout",
     "output_type": "stream",
     "text": [
      "                   all         23         33      0.383      0.424      0.337       0.15      0.427      0.333      0.248     0.0458\n"
     ]
    },
    {
     "name": "stderr",
     "output_type": "stream",
     "text": [
      "\n"
     ]
    },
    {
     "name": "stdout",
     "output_type": "stream",
     "text": [
      "\n",
      "      Epoch    GPU_mem   box_loss   seg_loss   cls_loss   dfl_loss  Instances       Size\n"
     ]
    },
    {
     "name": "stderr",
     "output_type": "stream",
     "text": [
      "    164/200       1.7G     0.9111      1.762     0.7604      1.082         20        640: 100%|██████████| 54/54 [00:14<00:00,  3.66it/s]\n",
      "                 Class     Images  Instances      Box(P          R      mAP50  mAP50-95)     Mask(P          R      mAP50  mAP50-95): 100%|██████████| 2/2 [00:01<00:00,  1.68it/s]"
     ]
    },
    {
     "name": "stdout",
     "output_type": "stream",
     "text": [
      "                   all         23         33      0.407      0.364      0.269      0.151      0.457      0.394      0.269     0.0517\n"
     ]
    },
    {
     "name": "stderr",
     "output_type": "stream",
     "text": [
      "\n"
     ]
    },
    {
     "name": "stdout",
     "output_type": "stream",
     "text": [
      "\n",
      "      Epoch    GPU_mem   box_loss   seg_loss   cls_loss   dfl_loss  Instances       Size\n"
     ]
    },
    {
     "name": "stderr",
     "output_type": "stream",
     "text": [
      "    165/200      1.72G     0.8813      1.735     0.7456       1.08         19        640: 100%|██████████| 54/54 [00:15<00:00,  3.60it/s]\n",
      "                 Class     Images  Instances      Box(P          R      mAP50  mAP50-95)     Mask(P          R      mAP50  mAP50-95): 100%|██████████| 2/2 [00:00<00:00,  2.37it/s]"
     ]
    },
    {
     "name": "stdout",
     "output_type": "stream",
     "text": [
      "                   all         23         33      0.469      0.394       0.29      0.148      0.432      0.364      0.231     0.0476\n"
     ]
    },
    {
     "name": "stderr",
     "output_type": "stream",
     "text": [
      "\n"
     ]
    },
    {
     "name": "stdout",
     "output_type": "stream",
     "text": [
      "\n",
      "      Epoch    GPU_mem   box_loss   seg_loss   cls_loss   dfl_loss  Instances       Size\n"
     ]
    },
    {
     "name": "stderr",
     "output_type": "stream",
     "text": [
      "    166/200      1.72G      0.855      1.712     0.7307      1.057         19        640: 100%|██████████| 54/54 [00:16<00:00,  3.19it/s]\n",
      "                 Class     Images  Instances      Box(P          R      mAP50  mAP50-95)     Mask(P          R      mAP50  mAP50-95): 100%|██████████| 2/2 [00:00<00:00,  4.00it/s]"
     ]
    },
    {
     "name": "stdout",
     "output_type": "stream",
     "text": [
      "                   all         23         33      0.431      0.455      0.316      0.147      0.315      0.333      0.211     0.0412\n"
     ]
    },
    {
     "name": "stderr",
     "output_type": "stream",
     "text": [
      "\n"
     ]
    },
    {
     "name": "stdout",
     "output_type": "stream",
     "text": [
      "\n",
      "      Epoch    GPU_mem   box_loss   seg_loss   cls_loss   dfl_loss  Instances       Size\n"
     ]
    },
    {
     "name": "stderr",
     "output_type": "stream",
     "text": [
      "    167/200      1.75G     0.8819      1.803     0.7244      1.071         29        640: 100%|██████████| 54/54 [00:18<00:00,  2.89it/s]\n",
      "                 Class     Images  Instances      Box(P          R      mAP50  mAP50-95)     Mask(P          R      mAP50  mAP50-95): 100%|██████████| 2/2 [00:00<00:00,  3.47it/s]"
     ]
    },
    {
     "name": "stdout",
     "output_type": "stream",
     "text": [
      "                   all         23         33       0.53      0.455      0.346      0.161      0.413      0.333      0.197     0.0395\n"
     ]
    },
    {
     "name": "stderr",
     "output_type": "stream",
     "text": [
      "\n"
     ]
    },
    {
     "name": "stdout",
     "output_type": "stream",
     "text": [
      "\n",
      "      Epoch    GPU_mem   box_loss   seg_loss   cls_loss   dfl_loss  Instances       Size\n"
     ]
    },
    {
     "name": "stderr",
     "output_type": "stream",
     "text": [
      "    168/200      1.69G      0.897      1.756     0.7732      1.092         22        640: 100%|██████████| 54/54 [00:18<00:00,  2.90it/s]\n",
      "                 Class     Images  Instances      Box(P          R      mAP50  mAP50-95)     Mask(P          R      mAP50  mAP50-95): 100%|██████████| 2/2 [00:00<00:00,  4.61it/s]"
     ]
    },
    {
     "name": "stdout",
     "output_type": "stream",
     "text": [
      "                   all         23         33      0.444      0.485      0.334      0.156      0.361      0.394      0.234     0.0381\n"
     ]
    },
    {
     "name": "stderr",
     "output_type": "stream",
     "text": [
      "\n"
     ]
    },
    {
     "name": "stdout",
     "output_type": "stream",
     "text": [
      "\n",
      "      Epoch    GPU_mem   box_loss   seg_loss   cls_loss   dfl_loss  Instances       Size\n"
     ]
    },
    {
     "name": "stderr",
     "output_type": "stream",
     "text": [
      "    169/200      1.71G     0.8659      1.739     0.7423      1.079         21        640: 100%|██████████| 54/54 [00:15<00:00,  3.54it/s]\n",
      "                 Class     Images  Instances      Box(P          R      mAP50  mAP50-95)     Mask(P          R      mAP50  mAP50-95): 100%|██████████| 2/2 [00:01<00:00,  1.84it/s]"
     ]
    },
    {
     "name": "stdout",
     "output_type": "stream",
     "text": [
      "                   all         23         33      0.402      0.424      0.286      0.138      0.373      0.394      0.247     0.0385\n"
     ]
    },
    {
     "name": "stderr",
     "output_type": "stream",
     "text": [
      "\n"
     ]
    },
    {
     "name": "stdout",
     "output_type": "stream",
     "text": [
      "\n",
      "      Epoch    GPU_mem   box_loss   seg_loss   cls_loss   dfl_loss  Instances       Size\n"
     ]
    },
    {
     "name": "stderr",
     "output_type": "stream",
     "text": [
      "    170/200      1.58G     0.8837      1.727     0.7234      1.072         22        640: 100%|██████████| 54/54 [00:15<00:00,  3.53it/s]\n",
      "                 Class     Images  Instances      Box(P          R      mAP50  mAP50-95)     Mask(P          R      mAP50  mAP50-95): 100%|██████████| 2/2 [00:00<00:00,  2.45it/s]"
     ]
    },
    {
     "name": "stdout",
     "output_type": "stream",
     "text": [
      "                   all         23         33      0.584      0.394      0.392      0.171      0.451      0.303      0.243     0.0392\n"
     ]
    },
    {
     "name": "stderr",
     "output_type": "stream",
     "text": [
      "\n"
     ]
    },
    {
     "name": "stdout",
     "output_type": "stream",
     "text": [
      "\n",
      "      Epoch    GPU_mem   box_loss   seg_loss   cls_loss   dfl_loss  Instances       Size\n"
     ]
    },
    {
     "name": "stderr",
     "output_type": "stream",
     "text": [
      "    171/200      1.72G     0.8393      1.665     0.7183      1.056         28        640: 100%|██████████| 54/54 [00:17<00:00,  3.10it/s]\n",
      "                 Class     Images  Instances      Box(P          R      mAP50  mAP50-95)     Mask(P          R      mAP50  mAP50-95): 100%|██████████| 2/2 [00:00<00:00,  3.58it/s]"
     ]
    },
    {
     "name": "stdout",
     "output_type": "stream",
     "text": [
      "                   all         23         33      0.628      0.424       0.37      0.152      0.488      0.333      0.221     0.0326\n"
     ]
    },
    {
     "name": "stderr",
     "output_type": "stream",
     "text": [
      "\n"
     ]
    },
    {
     "name": "stdout",
     "output_type": "stream",
     "text": [
      "\n",
      "      Epoch    GPU_mem   box_loss   seg_loss   cls_loss   dfl_loss  Instances       Size\n"
     ]
    },
    {
     "name": "stderr",
     "output_type": "stream",
     "text": [
      "    172/200       1.7G      0.862      1.758     0.7176      1.071         22        640: 100%|██████████| 54/54 [00:17<00:00,  3.06it/s]\n",
      "                 Class     Images  Instances      Box(P          R      mAP50  mAP50-95)     Mask(P          R      mAP50  mAP50-95): 100%|██████████| 2/2 [00:00<00:00,  3.74it/s]"
     ]
    },
    {
     "name": "stdout",
     "output_type": "stream",
     "text": [
      "                   all         23         33      0.566      0.394      0.361      0.188       0.43      0.303      0.213     0.0382\n"
     ]
    },
    {
     "name": "stderr",
     "output_type": "stream",
     "text": [
      "\n"
     ]
    },
    {
     "name": "stdout",
     "output_type": "stream",
     "text": [
      "\n",
      "      Epoch    GPU_mem   box_loss   seg_loss   cls_loss   dfl_loss  Instances       Size\n"
     ]
    },
    {
     "name": "stderr",
     "output_type": "stream",
     "text": [
      "    173/200       1.7G      0.875      1.732     0.7366      1.079         22        640: 100%|██████████| 54/54 [00:18<00:00,  2.91it/s]\n",
      "                 Class     Images  Instances      Box(P          R      mAP50  mAP50-95)     Mask(P          R      mAP50  mAP50-95): 100%|██████████| 2/2 [00:00<00:00,  3.87it/s]"
     ]
    },
    {
     "name": "stdout",
     "output_type": "stream",
     "text": [
      "                   all         23         33      0.591      0.424       0.39      0.161      0.477      0.303      0.234     0.0358\n"
     ]
    },
    {
     "name": "stderr",
     "output_type": "stream",
     "text": [
      "\n"
     ]
    },
    {
     "name": "stdout",
     "output_type": "stream",
     "text": [
      "\n",
      "      Epoch    GPU_mem   box_loss   seg_loss   cls_loss   dfl_loss  Instances       Size\n"
     ]
    },
    {
     "name": "stderr",
     "output_type": "stream",
     "text": [
      "    174/200       1.7G     0.9141      1.813     0.7686      1.091         12        640: 100%|██████████| 54/54 [00:15<00:00,  3.55it/s]\n",
      "                 Class     Images  Instances      Box(P          R      mAP50  mAP50-95)     Mask(P          R      mAP50  mAP50-95): 100%|██████████| 2/2 [00:00<00:00,  2.09it/s]"
     ]
    },
    {
     "name": "stdout",
     "output_type": "stream",
     "text": [
      "                   all         23         33      0.474      0.394      0.326      0.152      0.443      0.303       0.24     0.0324\n"
     ]
    },
    {
     "name": "stderr",
     "output_type": "stream",
     "text": [
      "\n"
     ]
    },
    {
     "name": "stdout",
     "output_type": "stream",
     "text": [
      "\n",
      "      Epoch    GPU_mem   box_loss   seg_loss   cls_loss   dfl_loss  Instances       Size\n"
     ]
    },
    {
     "name": "stderr",
     "output_type": "stream",
     "text": [
      "    175/200      1.69G     0.8503      1.712     0.7009      1.086         17        640: 100%|██████████| 54/54 [00:14<00:00,  3.69it/s]\n",
      "                 Class     Images  Instances      Box(P          R      mAP50  mAP50-95)     Mask(P          R      mAP50  mAP50-95): 100%|██████████| 2/2 [00:00<00:00,  4.85it/s]"
     ]
    },
    {
     "name": "stdout",
     "output_type": "stream",
     "text": [
      "                   all         23         33      0.513      0.447      0.404      0.183       0.41      0.364      0.276     0.0482\n"
     ]
    },
    {
     "name": "stderr",
     "output_type": "stream",
     "text": [
      "\n"
     ]
    },
    {
     "name": "stdout",
     "output_type": "stream",
     "text": [
      "\n",
      "      Epoch    GPU_mem   box_loss   seg_loss   cls_loss   dfl_loss  Instances       Size\n"
     ]
    },
    {
     "name": "stderr",
     "output_type": "stream",
     "text": [
      "    176/200      1.71G     0.8764      1.729     0.7256      1.089         22        640: 100%|██████████| 54/54 [00:17<00:00,  3.11it/s]\n",
      "                 Class     Images  Instances      Box(P          R      mAP50  mAP50-95)     Mask(P          R      mAP50  mAP50-95): 100%|██████████| 2/2 [00:00<00:00,  4.59it/s]"
     ]
    },
    {
     "name": "stdout",
     "output_type": "stream",
     "text": [
      "                   all         23         33      0.549      0.407      0.393       0.19      0.428      0.318      0.259     0.0476\n"
     ]
    },
    {
     "name": "stderr",
     "output_type": "stream",
     "text": [
      "\n"
     ]
    },
    {
     "name": "stdout",
     "output_type": "stream",
     "text": [
      "\n",
      "      Epoch    GPU_mem   box_loss   seg_loss   cls_loss   dfl_loss  Instances       Size\n"
     ]
    },
    {
     "name": "stderr",
     "output_type": "stream",
     "text": [
      "    177/200       1.7G     0.8671      1.749     0.7138      1.061         12        640: 100%|██████████| 54/54 [00:18<00:00,  2.90it/s]\n",
      "                 Class     Images  Instances      Box(P          R      mAP50  mAP50-95)     Mask(P          R      mAP50  mAP50-95): 100%|██████████| 2/2 [00:00<00:00,  4.23it/s]"
     ]
    },
    {
     "name": "stdout",
     "output_type": "stream",
     "text": [
      "                   all         23         33      0.549      0.424       0.38      0.188      0.424      0.333      0.249     0.0536\n"
     ]
    },
    {
     "name": "stderr",
     "output_type": "stream",
     "text": [
      "\n"
     ]
    },
    {
     "name": "stdout",
     "output_type": "stream",
     "text": [
      "\n",
      "      Epoch    GPU_mem   box_loss   seg_loss   cls_loss   dfl_loss  Instances       Size\n"
     ]
    },
    {
     "name": "stderr",
     "output_type": "stream",
     "text": [
      "    178/200      1.63G     0.8397      1.699     0.7019      1.057         15        640: 100%|██████████| 54/54 [00:18<00:00,  2.93it/s]\n",
      "                 Class     Images  Instances      Box(P          R      mAP50  mAP50-95)     Mask(P          R      mAP50  mAP50-95): 100%|██████████| 2/2 [00:00<00:00,  2.37it/s]"
     ]
    },
    {
     "name": "stdout",
     "output_type": "stream",
     "text": [
      "                   all         23         33      0.527      0.455        0.4      0.171      0.326      0.396      0.261     0.0491\n"
     ]
    },
    {
     "name": "stderr",
     "output_type": "stream",
     "text": [
      "\n"
     ]
    },
    {
     "name": "stdout",
     "output_type": "stream",
     "text": [
      "\n",
      "      Epoch    GPU_mem   box_loss   seg_loss   cls_loss   dfl_loss  Instances       Size\n"
     ]
    },
    {
     "name": "stderr",
     "output_type": "stream",
     "text": [
      "    179/200      1.68G     0.8422      1.688     0.7033      1.048         21        640: 100%|██████████| 54/54 [00:15<00:00,  3.57it/s]\n",
      "                 Class     Images  Instances      Box(P          R      mAP50  mAP50-95)     Mask(P          R      mAP50  mAP50-95): 100%|██████████| 2/2 [00:00<00:00,  2.01it/s]"
     ]
    },
    {
     "name": "stdout",
     "output_type": "stream",
     "text": [
      "                   all         23         33        0.5      0.485      0.411      0.206      0.397      0.364       0.28     0.0562\n"
     ]
    },
    {
     "name": "stderr",
     "output_type": "stream",
     "text": [
      "\n"
     ]
    },
    {
     "name": "stdout",
     "output_type": "stream",
     "text": [
      "\n",
      "      Epoch    GPU_mem   box_loss   seg_loss   cls_loss   dfl_loss  Instances       Size\n"
     ]
    },
    {
     "name": "stderr",
     "output_type": "stream",
     "text": [
      "    180/200      1.68G     0.8609      1.733     0.7382      1.051         20        640: 100%|██████████| 54/54 [00:15<00:00,  3.58it/s]\n",
      "                 Class     Images  Instances      Box(P          R      mAP50  mAP50-95)     Mask(P          R      mAP50  mAP50-95): 100%|██████████| 2/2 [00:00<00:00,  2.33it/s]"
     ]
    },
    {
     "name": "stdout",
     "output_type": "stream",
     "text": [
      "                   all         23         33      0.565      0.455      0.434      0.223      0.417      0.333      0.282     0.0588\n"
     ]
    },
    {
     "name": "stderr",
     "output_type": "stream",
     "text": [
      "\n"
     ]
    },
    {
     "name": "stdout",
     "output_type": "stream",
     "text": [
      "\n",
      "      Epoch    GPU_mem   box_loss   seg_loss   cls_loss   dfl_loss  Instances       Size\n"
     ]
    },
    {
     "name": "stderr",
     "output_type": "stream",
     "text": [
      "    181/200       1.7G     0.8412      1.719     0.7165      1.071         27        640: 100%|██████████| 54/54 [00:17<00:00,  3.10it/s]\n",
      "                 Class     Images  Instances      Box(P          R      mAP50  mAP50-95)     Mask(P          R      mAP50  mAP50-95): 100%|██████████| 2/2 [00:00<00:00,  5.37it/s]"
     ]
    },
    {
     "name": "stdout",
     "output_type": "stream",
     "text": [
      "                   all         23         33      0.539      0.485      0.376      0.165      0.372      0.333      0.213      0.039\n"
     ]
    },
    {
     "name": "stderr",
     "output_type": "stream",
     "text": [
      "\n"
     ]
    },
    {
     "name": "stdout",
     "output_type": "stream",
     "text": [
      "\n",
      "      Epoch    GPU_mem   box_loss   seg_loss   cls_loss   dfl_loss  Instances       Size\n"
     ]
    },
    {
     "name": "stderr",
     "output_type": "stream",
     "text": [
      "    182/200       1.7G     0.8335      1.742     0.7114      1.053         21        640: 100%|██████████| 54/54 [00:18<00:00,  2.85it/s]\n",
      "                 Class     Images  Instances      Box(P          R      mAP50  mAP50-95)     Mask(P          R      mAP50  mAP50-95): 100%|██████████| 2/2 [00:00<00:00,  4.19it/s]"
     ]
    },
    {
     "name": "stdout",
     "output_type": "stream",
     "text": [
      "                   all         23         33      0.545      0.455      0.349      0.158      0.429      0.364      0.239     0.0399\n"
     ]
    },
    {
     "name": "stderr",
     "output_type": "stream",
     "text": [
      "\n"
     ]
    },
    {
     "name": "stdout",
     "output_type": "stream",
     "text": [
      "\n",
      "      Epoch    GPU_mem   box_loss   seg_loss   cls_loss   dfl_loss  Instances       Size\n"
     ]
    },
    {
     "name": "stderr",
     "output_type": "stream",
     "text": [
      "    183/200      1.72G     0.8747      1.665     0.7293      1.089         19        640: 100%|██████████| 54/54 [00:17<00:00,  3.11it/s]\n",
      "                 Class     Images  Instances      Box(P          R      mAP50  mAP50-95)     Mask(P          R      mAP50  mAP50-95): 100%|██████████| 2/2 [00:00<00:00,  2.52it/s]"
     ]
    },
    {
     "name": "stdout",
     "output_type": "stream",
     "text": [
      "                   all         23         33      0.452      0.455      0.307      0.152      0.351      0.364      0.228     0.0414\n"
     ]
    },
    {
     "name": "stderr",
     "output_type": "stream",
     "text": [
      "\n"
     ]
    },
    {
     "name": "stdout",
     "output_type": "stream",
     "text": [
      "\n",
      "      Epoch    GPU_mem   box_loss   seg_loss   cls_loss   dfl_loss  Instances       Size\n"
     ]
    },
    {
     "name": "stderr",
     "output_type": "stream",
     "text": [
      "    184/200      1.69G     0.8561       1.73     0.6986      1.082         21        640: 100%|██████████| 54/54 [00:14<00:00,  3.62it/s]\n",
      "                 Class     Images  Instances      Box(P          R      mAP50  mAP50-95)     Mask(P          R      mAP50  mAP50-95): 100%|██████████| 2/2 [00:00<00:00,  2.41it/s]"
     ]
    },
    {
     "name": "stdout",
     "output_type": "stream",
     "text": [
      "                   all         23         33      0.555      0.455      0.367      0.184      0.349      0.273      0.197     0.0427\n"
     ]
    },
    {
     "name": "stderr",
     "output_type": "stream",
     "text": [
      "\n"
     ]
    },
    {
     "name": "stdout",
     "output_type": "stream",
     "text": [
      "\n",
      "      Epoch    GPU_mem   box_loss   seg_loss   cls_loss   dfl_loss  Instances       Size\n"
     ]
    },
    {
     "name": "stderr",
     "output_type": "stream",
     "text": [
      "    185/200      1.68G     0.8648      1.775     0.7106      1.086         10        640: 100%|██████████| 54/54 [00:15<00:00,  3.52it/s]\n",
      "                 Class     Images  Instances      Box(P          R      mAP50  mAP50-95)     Mask(P          R      mAP50  mAP50-95): 100%|██████████| 2/2 [00:00<00:00,  3.10it/s]"
     ]
    },
    {
     "name": "stdout",
     "output_type": "stream",
     "text": [
      "                   all         23         33      0.492      0.424      0.367      0.169      0.299      0.348      0.191     0.0459\n"
     ]
    },
    {
     "name": "stderr",
     "output_type": "stream",
     "text": [
      "\n"
     ]
    },
    {
     "name": "stdout",
     "output_type": "stream",
     "text": [
      "\n",
      "      Epoch    GPU_mem   box_loss   seg_loss   cls_loss   dfl_loss  Instances       Size\n"
     ]
    },
    {
     "name": "stderr",
     "output_type": "stream",
     "text": [
      "    186/200      1.68G     0.8421      1.709     0.6956      1.059         21        640: 100%|██████████| 54/54 [00:17<00:00,  3.06it/s]\n",
      "                 Class     Images  Instances      Box(P          R      mAP50  mAP50-95)     Mask(P          R      mAP50  mAP50-95): 100%|██████████| 2/2 [00:00<00:00,  2.78it/s]"
     ]
    },
    {
     "name": "stdout",
     "output_type": "stream",
     "text": [
      "                   all         23         33      0.455      0.515      0.321      0.149      0.329      0.333      0.208     0.0423\n"
     ]
    },
    {
     "name": "stderr",
     "output_type": "stream",
     "text": [
      "\n"
     ]
    },
    {
     "name": "stdout",
     "output_type": "stream",
     "text": [
      "\n",
      "      Epoch    GPU_mem   box_loss   seg_loss   cls_loss   dfl_loss  Instances       Size\n"
     ]
    },
    {
     "name": "stderr",
     "output_type": "stream",
     "text": [
      "    187/200      1.67G     0.8127      1.682     0.7024      1.046         14        640: 100%|██████████| 54/54 [00:19<00:00,  2.83it/s]\n",
      "                 Class     Images  Instances      Box(P          R      mAP50  mAP50-95)     Mask(P          R      mAP50  mAP50-95): 100%|██████████| 2/2 [00:00<00:00,  5.40it/s]"
     ]
    },
    {
     "name": "stdout",
     "output_type": "stream",
     "text": [
      "                   all         23         33      0.404      0.485       0.33      0.165      0.295      0.394      0.239     0.0413\n"
     ]
    },
    {
     "name": "stderr",
     "output_type": "stream",
     "text": [
      "\n"
     ]
    },
    {
     "name": "stdout",
     "output_type": "stream",
     "text": [
      "\n",
      "      Epoch    GPU_mem   box_loss   seg_loss   cls_loss   dfl_loss  Instances       Size\n"
     ]
    },
    {
     "name": "stderr",
     "output_type": "stream",
     "text": [
      "    188/200      1.68G     0.8661      1.725     0.7221      1.079         13        640: 100%|██████████| 54/54 [00:17<00:00,  3.09it/s]\n",
      "                 Class     Images  Instances      Box(P          R      mAP50  mAP50-95)     Mask(P          R      mAP50  mAP50-95): 100%|██████████| 2/2 [00:00<00:00,  2.10it/s]"
     ]
    },
    {
     "name": "stdout",
     "output_type": "stream",
     "text": [
      "                   all         23         33      0.385      0.512      0.321      0.156      0.316      0.364      0.241     0.0429\n"
     ]
    },
    {
     "name": "stderr",
     "output_type": "stream",
     "text": [
      "\n"
     ]
    },
    {
     "name": "stdout",
     "output_type": "stream",
     "text": [
      "\n",
      "      Epoch    GPU_mem   box_loss   seg_loss   cls_loss   dfl_loss  Instances       Size\n"
     ]
    },
    {
     "name": "stderr",
     "output_type": "stream",
     "text": [
      "    189/200       1.7G     0.8208      1.722     0.6752      1.059         14        640: 100%|██████████| 54/54 [00:15<00:00,  3.57it/s]\n",
      "                 Class     Images  Instances      Box(P          R      mAP50  mAP50-95)     Mask(P          R      mAP50  mAP50-95): 100%|██████████| 2/2 [00:00<00:00,  2.11it/s]"
     ]
    },
    {
     "name": "stdout",
     "output_type": "stream",
     "text": [
      "                   all         23         33      0.457      0.485      0.355      0.174      0.368      0.394      0.265     0.0473\n"
     ]
    },
    {
     "name": "stderr",
     "output_type": "stream",
     "text": [
      "\n"
     ]
    },
    {
     "name": "stdout",
     "output_type": "stream",
     "text": [
      "\n",
      "      Epoch    GPU_mem   box_loss   seg_loss   cls_loss   dfl_loss  Instances       Size\n"
     ]
    },
    {
     "name": "stderr",
     "output_type": "stream",
     "text": [
      "    190/200      1.68G     0.8363      1.711       0.69      1.061          9        640: 100%|██████████| 54/54 [00:15<00:00,  3.52it/s]\n",
      "                 Class     Images  Instances      Box(P          R      mAP50  mAP50-95)     Mask(P          R      mAP50  mAP50-95): 100%|██████████| 2/2 [00:00<00:00,  2.80it/s]"
     ]
    },
    {
     "name": "stdout",
     "output_type": "stream",
     "text": [
      "                   all         23         33      0.444      0.485      0.393      0.181      0.388      0.333      0.238      0.045\n"
     ]
    },
    {
     "name": "stderr",
     "output_type": "stream",
     "text": [
      "\n"
     ]
    },
    {
     "name": "stdout",
     "output_type": "stream",
     "text": [
      "Closing dataloader mosaic\n",
      "\u001b[34m\u001b[1malbumentations: \u001b[0mBlur(p=0.01, blur_limit=(3, 7)), MedianBlur(p=0.01, blur_limit=(3, 7)), ToGray(p=0.01), CLAHE(p=0.01, clip_limit=(1, 4.0), tile_grid_size=(8, 8))\n"
     ]
    },
    {
     "name": "stderr",
     "output_type": "stream",
     "text": [
      "/usr/lib/python3.10/multiprocessing/popen_fork.py:66: RuntimeWarning: os.fork() was called. os.fork() is incompatible with multithreaded code, and JAX is multithreaded, so this will likely lead to a deadlock.\n",
      "  self.pid = os.fork()\n"
     ]
    },
    {
     "name": "stdout",
     "output_type": "stream",
     "text": [
      "\n",
      "      Epoch    GPU_mem   box_loss   seg_loss   cls_loss   dfl_loss  Instances       Size\n"
     ]
    },
    {
     "name": "stderr",
     "output_type": "stream",
     "text": [
      "    191/200       1.7G     0.8233      1.492     0.7414      1.127         12        640: 100%|██████████| 54/54 [00:18<00:00,  2.97it/s]\n",
      "                 Class     Images  Instances      Box(P          R      mAP50  mAP50-95)     Mask(P          R      mAP50  mAP50-95): 100%|██████████| 2/2 [00:00<00:00,  4.53it/s]"
     ]
    },
    {
     "name": "stdout",
     "output_type": "stream",
     "text": [
      "                   all         23         33       0.45      0.496      0.366      0.165      0.449       0.42      0.276     0.0468\n"
     ]
    },
    {
     "name": "stderr",
     "output_type": "stream",
     "text": [
      "\n"
     ]
    },
    {
     "name": "stdout",
     "output_type": "stream",
     "text": [
      "\n",
      "      Epoch    GPU_mem   box_loss   seg_loss   cls_loss   dfl_loss  Instances       Size\n"
     ]
    },
    {
     "name": "stderr",
     "output_type": "stream",
     "text": [
      "    192/200      1.71G     0.8123      1.444     0.6895      1.115         13        640: 100%|██████████| 54/54 [00:17<00:00,  3.00it/s]\n",
      "                 Class     Images  Instances      Box(P          R      mAP50  mAP50-95)     Mask(P          R      mAP50  mAP50-95): 100%|██████████| 2/2 [00:00<00:00,  4.77it/s]"
     ]
    },
    {
     "name": "stdout",
     "output_type": "stream",
     "text": [
      "                   all         23         33      0.506      0.435      0.376      0.155       0.39      0.333      0.229     0.0407\n"
     ]
    },
    {
     "name": "stderr",
     "output_type": "stream",
     "text": [
      "\n"
     ]
    },
    {
     "name": "stdout",
     "output_type": "stream",
     "text": [
      "\n",
      "      Epoch    GPU_mem   box_loss   seg_loss   cls_loss   dfl_loss  Instances       Size\n"
     ]
    },
    {
     "name": "stderr",
     "output_type": "stream",
     "text": [
      "    193/200      1.69G     0.7758      1.437     0.6921      1.099         17        640: 100%|██████████| 54/54 [00:16<00:00,  3.20it/s]\n",
      "                 Class     Images  Instances      Box(P          R      mAP50  mAP50-95)     Mask(P          R      mAP50  mAP50-95): 100%|██████████| 2/2 [00:00<00:00,  4.30it/s]"
     ]
    },
    {
     "name": "stdout",
     "output_type": "stream",
     "text": [
      "                   all         23         33      0.471      0.455      0.389      0.169      0.458      0.364      0.298     0.0553\n"
     ]
    },
    {
     "name": "stderr",
     "output_type": "stream",
     "text": [
      "\n"
     ]
    },
    {
     "name": "stdout",
     "output_type": "stream",
     "text": [
      "\n",
      "      Epoch    GPU_mem   box_loss   seg_loss   cls_loss   dfl_loss  Instances       Size\n"
     ]
    },
    {
     "name": "stderr",
     "output_type": "stream",
     "text": [
      "    194/200       1.7G     0.7974      1.478     0.6978      1.086         14        640: 100%|██████████| 54/54 [00:13<00:00,  4.01it/s]\n",
      "                 Class     Images  Instances      Box(P          R      mAP50  mAP50-95)     Mask(P          R      mAP50  mAP50-95): 100%|██████████| 2/2 [00:01<00:00,  1.82it/s]"
     ]
    },
    {
     "name": "stdout",
     "output_type": "stream",
     "text": [
      "                   all         23         33      0.442      0.455      0.411      0.179      0.433      0.364      0.314      0.059\n"
     ]
    },
    {
     "name": "stderr",
     "output_type": "stream",
     "text": [
      "\n"
     ]
    },
    {
     "name": "stdout",
     "output_type": "stream",
     "text": [
      "\n",
      "      Epoch    GPU_mem   box_loss   seg_loss   cls_loss   dfl_loss  Instances       Size\n"
     ]
    },
    {
     "name": "stderr",
     "output_type": "stream",
     "text": [
      "    195/200       1.7G      0.786      1.418     0.6922      1.093         13        640: 100%|██████████| 54/54 [00:14<00:00,  3.81it/s]\n",
      "                 Class     Images  Instances      Box(P          R      mAP50  mAP50-95)     Mask(P          R      mAP50  mAP50-95): 100%|██████████| 2/2 [00:00<00:00,  4.27it/s]\n"
     ]
    },
    {
     "name": "stdout",
     "output_type": "stream",
     "text": [
      "                   all         23         33       0.41      0.455      0.402      0.188      0.466      0.394      0.317     0.0591\n",
      "\n",
      "      Epoch    GPU_mem   box_loss   seg_loss   cls_loss   dfl_loss  Instances       Size\n"
     ]
    },
    {
     "name": "stderr",
     "output_type": "stream",
     "text": [
      "    196/200      1.67G     0.7451      1.432     0.6493      1.082         14        640: 100%|██████████| 54/54 [00:17<00:00,  3.14it/s]\n",
      "                 Class     Images  Instances      Box(P          R      mAP50  mAP50-95)     Mask(P          R      mAP50  mAP50-95): 100%|██████████| 2/2 [00:00<00:00,  4.90it/s]\n"
     ]
    },
    {
     "name": "stdout",
     "output_type": "stream",
     "text": [
      "                   all         23         33      0.407      0.457      0.386      0.182       0.47      0.394      0.329     0.0657\n",
      "\n",
      "      Epoch    GPU_mem   box_loss   seg_loss   cls_loss   dfl_loss  Instances       Size\n"
     ]
    },
    {
     "name": "stderr",
     "output_type": "stream",
     "text": [
      "    197/200      1.67G      0.758      1.432      0.654      1.069         15        640: 100%|██████████| 54/54 [00:17<00:00,  3.12it/s]\n",
      "                 Class     Images  Instances      Box(P          R      mAP50  mAP50-95)     Mask(P          R      mAP50  mAP50-95): 100%|██████████| 2/2 [00:00<00:00,  4.96it/s]"
     ]
    },
    {
     "name": "stdout",
     "output_type": "stream",
     "text": [
      "                   all         23         33      0.453      0.426      0.415      0.206      0.458      0.333      0.304     0.0681\n"
     ]
    },
    {
     "name": "stderr",
     "output_type": "stream",
     "text": [
      "\n"
     ]
    },
    {
     "name": "stdout",
     "output_type": "stream",
     "text": [
      "\n",
      "      Epoch    GPU_mem   box_loss   seg_loss   cls_loss   dfl_loss  Instances       Size\n"
     ]
    },
    {
     "name": "stderr",
     "output_type": "stream",
     "text": [
      "    198/200      1.67G     0.7474      1.399      0.665      1.077         14        640: 100%|██████████| 54/54 [00:14<00:00,  3.61it/s]\n",
      "                 Class     Images  Instances      Box(P          R      mAP50  mAP50-95)     Mask(P          R      mAP50  mAP50-95): 100%|██████████| 2/2 [00:00<00:00,  2.03it/s]"
     ]
    },
    {
     "name": "stdout",
     "output_type": "stream",
     "text": [
      "                   all         23         33      0.477      0.485      0.423      0.214      0.418      0.333      0.293     0.0688\n"
     ]
    },
    {
     "name": "stderr",
     "output_type": "stream",
     "text": [
      "\n"
     ]
    },
    {
     "name": "stdout",
     "output_type": "stream",
     "text": [
      "\n",
      "      Epoch    GPU_mem   box_loss   seg_loss   cls_loss   dfl_loss  Instances       Size\n"
     ]
    },
    {
     "name": "stderr",
     "output_type": "stream",
     "text": [
      "    199/200      1.67G     0.7794      1.459     0.6689      1.083          5        640: 100%|██████████| 54/54 [00:14<00:00,  3.75it/s]\n",
      "                 Class     Images  Instances      Box(P          R      mAP50  mAP50-95)     Mask(P          R      mAP50  mAP50-95): 100%|██████████| 2/2 [00:00<00:00,  2.21it/s]"
     ]
    },
    {
     "name": "stdout",
     "output_type": "stream",
     "text": [
      "                   all         23         33      0.486      0.485      0.431      0.217      0.442      0.333      0.298     0.0675\n"
     ]
    },
    {
     "name": "stderr",
     "output_type": "stream",
     "text": [
      "\n"
     ]
    },
    {
     "name": "stdout",
     "output_type": "stream",
     "text": [
      "\n",
      "      Epoch    GPU_mem   box_loss   seg_loss   cls_loss   dfl_loss  Instances       Size\n"
     ]
    },
    {
     "name": "stderr",
     "output_type": "stream",
     "text": [
      "    200/200      1.69G     0.7573      1.436     0.6705      1.066          8        640: 100%|██████████| 54/54 [00:17<00:00,  3.17it/s]\n",
      "                 Class     Images  Instances      Box(P          R      mAP50  mAP50-95)     Mask(P          R      mAP50  mAP50-95): 100%|██████████| 2/2 [00:00<00:00,  4.94it/s]"
     ]
    },
    {
     "name": "stdout",
     "output_type": "stream",
     "text": [
      "                   all         23         33      0.455      0.485      0.423      0.206      0.423      0.333      0.292     0.0624\n"
     ]
    },
    {
     "name": "stderr",
     "output_type": "stream",
     "text": [
      "\n"
     ]
    },
    {
     "name": "stdout",
     "output_type": "stream",
     "text": [
      "\n",
      "200 epochs completed in 1.025 hours.\n",
      "Optimizer stripped from runs/segment/train3/weights/last.pt, 6.8MB\n",
      "Optimizer stripped from runs/segment/train3/weights/best.pt, 6.8MB\n",
      "\n",
      "Validating runs/segment/train3/weights/best.pt...\n",
      "Ultralytics YOLOv8.2.31 🚀 Python-3.10.12 torch-2.3.0+cu121 CUDA:0 (Tesla T4, 15102MiB)\n",
      "YOLOv8n-seg summary (fused): 195 layers, 3258259 parameters, 0 gradients, 12.0 GFLOPs\n"
     ]
    },
    {
     "name": "stderr",
     "output_type": "stream",
     "text": [
      "/usr/local/lib/python3.10/dist-packages/torch/nn/modules/conv.py:952: UserWarning: Plan failed with a cudnnException: CUDNN_BACKEND_EXECUTION_PLAN_DESCRIPTOR: cudnnFinalize Descriptor Failed cudnn_status: CUDNN_STATUS_NOT_SUPPORTED (Triggered internally at ../aten/src/ATen/native/cudnn/Conv_v8.cpp:919.)\n",
      "  return F.conv_transpose2d(\n",
      "                 Class     Images  Instances      Box(P          R      mAP50  mAP50-95)     Mask(P          R      mAP50  mAP50-95): 100%|██████████| 2/2 [00:00<00:00,  3.22it/s]\n"
     ]
    },
    {
     "name": "stdout",
     "output_type": "stream",
     "text": [
      "                   all         23         33      0.487      0.485      0.428      0.216      0.442      0.333      0.297     0.0673\n",
      "Speed: 0.4ms preprocess, 4.7ms inference, 0.0ms loss, 2.4ms postprocess per image\n",
      "Results saved to \u001b[1mruns/segment/train3\u001b[0m\n"
     ]
    },
    {
     "data": {
      "text/plain": [
       "ultralytics.utils.metrics.SegmentMetrics object with attributes:\n",
       "\n",
       "ap_class_index: array([0])\n",
       "box: ultralytics.utils.metrics.Metric object\n",
       "confusion_matrix: <ultralytics.utils.metrics.ConfusionMatrix object at 0x7c2f9cebbb20>\n",
       "curves: ['Precision-Recall(B)', 'F1-Confidence(B)', 'Precision-Confidence(B)', 'Recall-Confidence(B)', 'Precision-Recall(M)', 'F1-Confidence(M)', 'Precision-Confidence(M)', 'Recall-Confidence(M)']\n",
       "curves_results: [[array([          0,    0.001001,    0.002002,    0.003003,    0.004004,    0.005005,    0.006006,    0.007007,    0.008008,    0.009009,     0.01001,    0.011011,    0.012012,    0.013013,    0.014014,    0.015015,    0.016016,    0.017017,    0.018018,    0.019019,     0.02002,    0.021021,    0.022022,    0.023023,\n",
       "          0.024024,    0.025025,    0.026026,    0.027027,    0.028028,    0.029029,     0.03003,    0.031031,    0.032032,    0.033033,    0.034034,    0.035035,    0.036036,    0.037037,    0.038038,    0.039039,     0.04004,    0.041041,    0.042042,    0.043043,    0.044044,    0.045045,    0.046046,    0.047047,\n",
       "          0.048048,    0.049049,     0.05005,    0.051051,    0.052052,    0.053053,    0.054054,    0.055055,    0.056056,    0.057057,    0.058058,    0.059059,     0.06006,    0.061061,    0.062062,    0.063063,    0.064064,    0.065065,    0.066066,    0.067067,    0.068068,    0.069069,     0.07007,    0.071071,\n",
       "          0.072072,    0.073073,    0.074074,    0.075075,    0.076076,    0.077077,    0.078078,    0.079079,     0.08008,    0.081081,    0.082082,    0.083083,    0.084084,    0.085085,    0.086086,    0.087087,    0.088088,    0.089089,     0.09009,    0.091091,    0.092092,    0.093093,    0.094094,    0.095095,\n",
       "          0.096096,    0.097097,    0.098098,    0.099099,      0.1001,      0.1011,      0.1021,      0.1031,      0.1041,     0.10511,     0.10611,     0.10711,     0.10811,     0.10911,     0.11011,     0.11111,     0.11211,     0.11311,     0.11411,     0.11512,     0.11612,     0.11712,     0.11812,     0.11912,\n",
       "           0.12012,     0.12112,     0.12212,     0.12312,     0.12412,     0.12513,     0.12613,     0.12713,     0.12813,     0.12913,     0.13013,     0.13113,     0.13213,     0.13313,     0.13413,     0.13514,     0.13614,     0.13714,     0.13814,     0.13914,     0.14014,     0.14114,     0.14214,     0.14314,\n",
       "           0.14414,     0.14515,     0.14615,     0.14715,     0.14815,     0.14915,     0.15015,     0.15115,     0.15215,     0.15315,     0.15415,     0.15516,     0.15616,     0.15716,     0.15816,     0.15916,     0.16016,     0.16116,     0.16216,     0.16316,     0.16416,     0.16517,     0.16617,     0.16717,\n",
       "           0.16817,     0.16917,     0.17017,     0.17117,     0.17217,     0.17317,     0.17417,     0.17518,     0.17618,     0.17718,     0.17818,     0.17918,     0.18018,     0.18118,     0.18218,     0.18318,     0.18418,     0.18519,     0.18619,     0.18719,     0.18819,     0.18919,     0.19019,     0.19119,\n",
       "           0.19219,     0.19319,     0.19419,      0.1952,      0.1962,      0.1972,      0.1982,      0.1992,      0.2002,      0.2012,      0.2022,      0.2032,      0.2042,     0.20521,     0.20621,     0.20721,     0.20821,     0.20921,     0.21021,     0.21121,     0.21221,     0.21321,     0.21421,     0.21522,\n",
       "           0.21622,     0.21722,     0.21822,     0.21922,     0.22022,     0.22122,     0.22222,     0.22322,     0.22422,     0.22523,     0.22623,     0.22723,     0.22823,     0.22923,     0.23023,     0.23123,     0.23223,     0.23323,     0.23423,     0.23524,     0.23624,     0.23724,     0.23824,     0.23924,\n",
       "           0.24024,     0.24124,     0.24224,     0.24324,     0.24424,     0.24525,     0.24625,     0.24725,     0.24825,     0.24925,     0.25025,     0.25125,     0.25225,     0.25325,     0.25425,     0.25526,     0.25626,     0.25726,     0.25826,     0.25926,     0.26026,     0.26126,     0.26226,     0.26326,\n",
       "           0.26426,     0.26527,     0.26627,     0.26727,     0.26827,     0.26927,     0.27027,     0.27127,     0.27227,     0.27327,     0.27427,     0.27528,     0.27628,     0.27728,     0.27828,     0.27928,     0.28028,     0.28128,     0.28228,     0.28328,     0.28428,     0.28529,     0.28629,     0.28729,\n",
       "           0.28829,     0.28929,     0.29029,     0.29129,     0.29229,     0.29329,     0.29429,      0.2953,      0.2963,      0.2973,      0.2983,      0.2993,      0.3003,      0.3013,      0.3023,      0.3033,      0.3043,     0.30531,     0.30631,     0.30731,     0.30831,     0.30931,     0.31031,     0.31131,\n",
       "           0.31231,     0.31331,     0.31431,     0.31532,     0.31632,     0.31732,     0.31832,     0.31932,     0.32032,     0.32132,     0.32232,     0.32332,     0.32432,     0.32533,     0.32633,     0.32733,     0.32833,     0.32933,     0.33033,     0.33133,     0.33233,     0.33333,     0.33433,     0.33534,\n",
       "           0.33634,     0.33734,     0.33834,     0.33934,     0.34034,     0.34134,     0.34234,     0.34334,     0.34434,     0.34535,     0.34635,     0.34735,     0.34835,     0.34935,     0.35035,     0.35135,     0.35235,     0.35335,     0.35435,     0.35536,     0.35636,     0.35736,     0.35836,     0.35936,\n",
       "           0.36036,     0.36136,     0.36236,     0.36336,     0.36436,     0.36537,     0.36637,     0.36737,     0.36837,     0.36937,     0.37037,     0.37137,     0.37237,     0.37337,     0.37437,     0.37538,     0.37638,     0.37738,     0.37838,     0.37938,     0.38038,     0.38138,     0.38238,     0.38338,\n",
       "           0.38438,     0.38539,     0.38639,     0.38739,     0.38839,     0.38939,     0.39039,     0.39139,     0.39239,     0.39339,     0.39439,      0.3954,      0.3964,      0.3974,      0.3984,      0.3994,      0.4004,      0.4014,      0.4024,      0.4034,      0.4044,     0.40541,     0.40641,     0.40741,\n",
       "           0.40841,     0.40941,     0.41041,     0.41141,     0.41241,     0.41341,     0.41441,     0.41542,     0.41642,     0.41742,     0.41842,     0.41942,     0.42042,     0.42142,     0.42242,     0.42342,     0.42442,     0.42543,     0.42643,     0.42743,     0.42843,     0.42943,     0.43043,     0.43143,\n",
       "           0.43243,     0.43343,     0.43443,     0.43544,     0.43644,     0.43744,     0.43844,     0.43944,     0.44044,     0.44144,     0.44244,     0.44344,     0.44444,     0.44545,     0.44645,     0.44745,     0.44845,     0.44945,     0.45045,     0.45145,     0.45245,     0.45345,     0.45445,     0.45546,\n",
       "           0.45646,     0.45746,     0.45846,     0.45946,     0.46046,     0.46146,     0.46246,     0.46346,     0.46446,     0.46547,     0.46647,     0.46747,     0.46847,     0.46947,     0.47047,     0.47147,     0.47247,     0.47347,     0.47447,     0.47548,     0.47648,     0.47748,     0.47848,     0.47948,\n",
       "           0.48048,     0.48148,     0.48248,     0.48348,     0.48448,     0.48549,     0.48649,     0.48749,     0.48849,     0.48949,     0.49049,     0.49149,     0.49249,     0.49349,     0.49449,      0.4955,      0.4965,      0.4975,      0.4985,      0.4995,      0.5005,      0.5015,      0.5025,      0.5035,\n",
       "            0.5045,     0.50551,     0.50651,     0.50751,     0.50851,     0.50951,     0.51051,     0.51151,     0.51251,     0.51351,     0.51451,     0.51552,     0.51652,     0.51752,     0.51852,     0.51952,     0.52052,     0.52152,     0.52252,     0.52352,     0.52452,     0.52553,     0.52653,     0.52753,\n",
       "           0.52853,     0.52953,     0.53053,     0.53153,     0.53253,     0.53353,     0.53453,     0.53554,     0.53654,     0.53754,     0.53854,     0.53954,     0.54054,     0.54154,     0.54254,     0.54354,     0.54454,     0.54555,     0.54655,     0.54755,     0.54855,     0.54955,     0.55055,     0.55155,\n",
       "           0.55255,     0.55355,     0.55455,     0.55556,     0.55656,     0.55756,     0.55856,     0.55956,     0.56056,     0.56156,     0.56256,     0.56356,     0.56456,     0.56557,     0.56657,     0.56757,     0.56857,     0.56957,     0.57057,     0.57157,     0.57257,     0.57357,     0.57457,     0.57558,\n",
       "           0.57658,     0.57758,     0.57858,     0.57958,     0.58058,     0.58158,     0.58258,     0.58358,     0.58458,     0.58559,     0.58659,     0.58759,     0.58859,     0.58959,     0.59059,     0.59159,     0.59259,     0.59359,     0.59459,      0.5956,      0.5966,      0.5976,      0.5986,      0.5996,\n",
       "            0.6006,      0.6016,      0.6026,      0.6036,      0.6046,     0.60561,     0.60661,     0.60761,     0.60861,     0.60961,     0.61061,     0.61161,     0.61261,     0.61361,     0.61461,     0.61562,     0.61662,     0.61762,     0.61862,     0.61962,     0.62062,     0.62162,     0.62262,     0.62362,\n",
       "           0.62462,     0.62563,     0.62663,     0.62763,     0.62863,     0.62963,     0.63063,     0.63163,     0.63263,     0.63363,     0.63463,     0.63564,     0.63664,     0.63764,     0.63864,     0.63964,     0.64064,     0.64164,     0.64264,     0.64364,     0.64464,     0.64565,     0.64665,     0.64765,\n",
       "           0.64865,     0.64965,     0.65065,     0.65165,     0.65265,     0.65365,     0.65465,     0.65566,     0.65666,     0.65766,     0.65866,     0.65966,     0.66066,     0.66166,     0.66266,     0.66366,     0.66466,     0.66567,     0.66667,     0.66767,     0.66867,     0.66967,     0.67067,     0.67167,\n",
       "           0.67267,     0.67367,     0.67467,     0.67568,     0.67668,     0.67768,     0.67868,     0.67968,     0.68068,     0.68168,     0.68268,     0.68368,     0.68468,     0.68569,     0.68669,     0.68769,     0.68869,     0.68969,     0.69069,     0.69169,     0.69269,     0.69369,     0.69469,      0.6957,\n",
       "            0.6967,      0.6977,      0.6987,      0.6997,      0.7007,      0.7017,      0.7027,      0.7037,      0.7047,     0.70571,     0.70671,     0.70771,     0.70871,     0.70971,     0.71071,     0.71171,     0.71271,     0.71371,     0.71471,     0.71572,     0.71672,     0.71772,     0.71872,     0.71972,\n",
       "           0.72072,     0.72172,     0.72272,     0.72372,     0.72472,     0.72573,     0.72673,     0.72773,     0.72873,     0.72973,     0.73073,     0.73173,     0.73273,     0.73373,     0.73473,     0.73574,     0.73674,     0.73774,     0.73874,     0.73974,     0.74074,     0.74174,     0.74274,     0.74374,\n",
       "           0.74474,     0.74575,     0.74675,     0.74775,     0.74875,     0.74975,     0.75075,     0.75175,     0.75275,     0.75375,     0.75475,     0.75576,     0.75676,     0.75776,     0.75876,     0.75976,     0.76076,     0.76176,     0.76276,     0.76376,     0.76476,     0.76577,     0.76677,     0.76777,\n",
       "           0.76877,     0.76977,     0.77077,     0.77177,     0.77277,     0.77377,     0.77477,     0.77578,     0.77678,     0.77778,     0.77878,     0.77978,     0.78078,     0.78178,     0.78278,     0.78378,     0.78478,     0.78579,     0.78679,     0.78779,     0.78879,     0.78979,     0.79079,     0.79179,\n",
       "           0.79279,     0.79379,     0.79479,      0.7958,      0.7968,      0.7978,      0.7988,      0.7998,      0.8008,      0.8018,      0.8028,      0.8038,      0.8048,     0.80581,     0.80681,     0.80781,     0.80881,     0.80981,     0.81081,     0.81181,     0.81281,     0.81381,     0.81481,     0.81582,\n",
       "           0.81682,     0.81782,     0.81882,     0.81982,     0.82082,     0.82182,     0.82282,     0.82382,     0.82482,     0.82583,     0.82683,     0.82783,     0.82883,     0.82983,     0.83083,     0.83183,     0.83283,     0.83383,     0.83483,     0.83584,     0.83684,     0.83784,     0.83884,     0.83984,\n",
       "           0.84084,     0.84184,     0.84284,     0.84384,     0.84484,     0.84585,     0.84685,     0.84785,     0.84885,     0.84985,     0.85085,     0.85185,     0.85285,     0.85385,     0.85485,     0.85586,     0.85686,     0.85786,     0.85886,     0.85986,     0.86086,     0.86186,     0.86286,     0.86386,\n",
       "           0.86486,     0.86587,     0.86687,     0.86787,     0.86887,     0.86987,     0.87087,     0.87187,     0.87287,     0.87387,     0.87487,     0.87588,     0.87688,     0.87788,     0.87888,     0.87988,     0.88088,     0.88188,     0.88288,     0.88388,     0.88488,     0.88589,     0.88689,     0.88789,\n",
       "           0.88889,     0.88989,     0.89089,     0.89189,     0.89289,     0.89389,     0.89489,      0.8959,      0.8969,      0.8979,      0.8989,      0.8999,      0.9009,      0.9019,      0.9029,      0.9039,      0.9049,     0.90591,     0.90691,     0.90791,     0.90891,     0.90991,     0.91091,     0.91191,\n",
       "           0.91291,     0.91391,     0.91491,     0.91592,     0.91692,     0.91792,     0.91892,     0.91992,     0.92092,     0.92192,     0.92292,     0.92392,     0.92492,     0.92593,     0.92693,     0.92793,     0.92893,     0.92993,     0.93093,     0.93193,     0.93293,     0.93393,     0.93493,     0.93594,\n",
       "           0.93694,     0.93794,     0.93894,     0.93994,     0.94094,     0.94194,     0.94294,     0.94394,     0.94494,     0.94595,     0.94695,     0.94795,     0.94895,     0.94995,     0.95095,     0.95195,     0.95295,     0.95395,     0.95495,     0.95596,     0.95696,     0.95796,     0.95896,     0.95996,\n",
       "           0.96096,     0.96196,     0.96296,     0.96396,     0.96496,     0.96597,     0.96697,     0.96797,     0.96897,     0.96997,     0.97097,     0.97197,     0.97297,     0.97397,     0.97497,     0.97598,     0.97698,     0.97798,     0.97898,     0.97998,     0.98098,     0.98198,     0.98298,     0.98398,\n",
       "           0.98498,     0.98599,     0.98699,     0.98799,     0.98899,     0.98999,     0.99099,     0.99199,     0.99299,     0.99399,     0.99499,       0.996,       0.997,       0.998,       0.999,           1]), array([[          1,           1,           1,           1,           1,           1,           1,           1,           1,           1,           1,           1,           1,           1,           1,           1,           1,           1,           1,           1,           1,           1,           1,\n",
       "                  1,           1,           1,           1,           1,           1,           1,           1,     0.81818,     0.81818,     0.81818,     0.81818,     0.81818,     0.81818,     0.81818,     0.81818,     0.81818,     0.81818,     0.81818,     0.81818,     0.81818,     0.81818,     0.81818,\n",
       "            0.81818,     0.81818,     0.81818,     0.81818,     0.81818,     0.81818,     0.81818,     0.81818,     0.81818,     0.81818,     0.81818,     0.81818,     0.81818,     0.81818,     0.81818,     0.81818,     0.81818,     0.81818,     0.81818,     0.81818,     0.81818,     0.81818,     0.81818,\n",
       "            0.81818,     0.81818,     0.81818,     0.81818,     0.81818,     0.81818,     0.81818,     0.81818,     0.81818,     0.81818,     0.81818,     0.81818,     0.81818,     0.81818,     0.81818,     0.81818,     0.81818,     0.81818,     0.81818,     0.81818,     0.81818,     0.81818,     0.81818,\n",
       "            0.81818,     0.81818,     0.81818,     0.81818,     0.81818,     0.81818,     0.81818,     0.81818,     0.81818,     0.81818,     0.81818,     0.81818,     0.81818,     0.81818,     0.81818,     0.81818,     0.81818,     0.81818,     0.81818,     0.81818,     0.81818,     0.81818,     0.81818,\n",
       "            0.81818,     0.81818,     0.81818,     0.81818,     0.81818,     0.81818,     0.81818,     0.81818,     0.81818,     0.81818,     0.81818,     0.81818,     0.81818,     0.81818,     0.81818,     0.81818,     0.81818,     0.81818,     0.81818,     0.81818,     0.81818,     0.81818,     0.81818,\n",
       "            0.81818,     0.81818,     0.81818,     0.81818,     0.81818,     0.81818,     0.81818,     0.81818,     0.81818,     0.81818,     0.81818,     0.81818,     0.81818,     0.81818,     0.81818,     0.81818,     0.81818,     0.81818,     0.81818,     0.81818,     0.81818,     0.81818,     0.81818,\n",
       "            0.81818,     0.81818,     0.81818,     0.81818,     0.81818,     0.81818,     0.81818,     0.81818,     0.81818,     0.81818,     0.81818,     0.81818,     0.81818,     0.81818,     0.81818,     0.81818,     0.81818,     0.81818,     0.81818,     0.81818,     0.81818,     0.81818,     0.81818,\n",
       "            0.81818,     0.81818,     0.81818,     0.81818,     0.81818,     0.81818,     0.81818,     0.81818,     0.81818,     0.81818,     0.81818,     0.81818,     0.81818,     0.81818,     0.81818,     0.81818,     0.81818,     0.81818,     0.81818,     0.81818,     0.81818,     0.81818,     0.81818,\n",
       "            0.81818,     0.81818,     0.81818,     0.81818,     0.81818,     0.81818,     0.81818,     0.81818,     0.81818,     0.81818,     0.81818,     0.81818,     0.81818,     0.81818,     0.81818,     0.81818,     0.81818,     0.81818,     0.81818,     0.81818,     0.81818,     0.81818,     0.81818,\n",
       "            0.81818,     0.81818,     0.81818,     0.81818,     0.81818,     0.81818,     0.81818,     0.81818,     0.81818,     0.81818,     0.81818,     0.81818,     0.81818,     0.81818,     0.81818,     0.81818,     0.81818,     0.81818,     0.81818,     0.81818,     0.81818,     0.81818,     0.81818,\n",
       "            0.81818,     0.81818,     0.81818,     0.81818,     0.81818,     0.81818,     0.81818,     0.81818,     0.81818,     0.81818,     0.81818,     0.81818,     0.81818,     0.81818,     0.81818,     0.81818,     0.81818,     0.81818,     0.81818,     0.81818,        0.52,        0.52,        0.52,\n",
       "               0.52,        0.52,        0.52,        0.52,        0.52,        0.52,        0.52,        0.52,        0.52,        0.52,        0.52,        0.52,        0.52,        0.52,        0.52,        0.52,        0.52,        0.52,        0.52,        0.52,        0.52,        0.52,        0.52,\n",
       "               0.52,        0.52,        0.52,        0.52,        0.52,        0.52,        0.52,        0.52,        0.52,        0.52,        0.52,        0.52,        0.52,        0.52,        0.52,        0.52,        0.52,        0.52,        0.52,        0.52,        0.52,        0.52,        0.52,\n",
       "               0.52,        0.52,        0.52,        0.52,        0.52,        0.52,        0.52,        0.52,        0.52,        0.52,        0.52,        0.52,        0.52,        0.52,        0.52,        0.52,        0.52,        0.52,        0.52,        0.52,        0.52,        0.52,        0.52,\n",
       "               0.52,        0.52,        0.52,        0.52,        0.52,        0.52,        0.52,        0.52,        0.52,        0.52,        0.52,        0.52,        0.52,        0.52,        0.52,        0.52,        0.52,        0.52,        0.52,        0.52,        0.52,        0.52,        0.52,\n",
       "               0.52,        0.52,        0.52,        0.52,        0.52,        0.52,        0.52,        0.52,        0.52,        0.52,        0.52,        0.52,        0.52,        0.52,        0.52,        0.52,        0.52,        0.52,        0.52,        0.52,        0.52,        0.52,        0.52,\n",
       "               0.52,        0.52,        0.52,     0.51852,     0.51852,     0.51852,     0.51852,     0.51852,     0.51852,     0.51852,     0.51852,     0.51852,     0.51852,     0.51852,     0.51852,     0.51852,     0.51852,     0.51852,     0.51852,     0.51852,     0.51852,     0.51852,     0.51852,\n",
       "            0.51852,     0.51852,     0.51852,     0.51852,     0.51852,     0.51852,     0.51852,     0.51852,     0.51852,     0.51852,         0.5,         0.5,         0.5,         0.5,         0.5,         0.5,         0.5,         0.5,         0.5,         0.5,         0.5,         0.5,         0.5,\n",
       "                0.5,         0.5,         0.5,         0.5,         0.5,         0.5,         0.5,         0.5,         0.5,         0.5,         0.5,         0.5,         0.5,         0.5,         0.5,         0.5,         0.5,         0.5,         0.5,         0.5,         0.5,         0.5,         0.5,\n",
       "                0.5,         0.5,         0.5,         0.5,         0.5,         0.5,         0.5,         0.5,         0.5,         0.5,         0.5,         0.5,         0.5,         0.5,         0.5,         0.5,         0.5,         0.5,         0.5,         0.5,         0.5,         0.5,         0.5,\n",
       "                0.5,         0.5,     0.40476,     0.40476,     0.40476,     0.40476,     0.40476,     0.40476,     0.40476,     0.40476,     0.40476,     0.40476,     0.40476,     0.40476,     0.40476,     0.40476,     0.40476,     0.40476,     0.40476,     0.40476,     0.40476,     0.40476,     0.40476,\n",
       "            0.40476,     0.40476,     0.40476,     0.40476,     0.40476,     0.40476,     0.40476,     0.40476,     0.40476,      0.3913,      0.3913,      0.3913,      0.3913,      0.3913,      0.3913,      0.3913,      0.3913,      0.3913,      0.3913,      0.3913,      0.3913,      0.3913,      0.3913,\n",
       "             0.3913,      0.3913,      0.3913,      0.3913,      0.3913,      0.3913,      0.3913,      0.3913,      0.3913,      0.3913,      0.3913,      0.3913,      0.3913,      0.3913,      0.3913,      0.3913,     0.28788,     0.28788,     0.28788,     0.28788,     0.28788,     0.28788,     0.28788,\n",
       "            0.28788,     0.28788,     0.28788,     0.28788,     0.28788,     0.28788,     0.28788,     0.28788,     0.28788,     0.28788,     0.28788,     0.28788,     0.28788,     0.28788,     0.28788,     0.28788,     0.28788,     0.28788,     0.28788,     0.28788,     0.28788,     0.28788,     0.28788,\n",
       "            0.28788,     0.28767,     0.28767,     0.28767,     0.28767,     0.28767,     0.28767,     0.28767,     0.28767,     0.28767,     0.28767,     0.28767,     0.28767,     0.28767,     0.28767,     0.28767,     0.28767,     0.28767,     0.28767,     0.28767,     0.28767,     0.28767,     0.28767,\n",
       "            0.28767,     0.28767,     0.28767,     0.28767,     0.28767,     0.28767,     0.28767,     0.28767,     0.28767,     0.28767,     0.28767,     0.28767,     0.28767,     0.28767,     0.28767,     0.28767,     0.28767,     0.28767,     0.28767,     0.28767,     0.28767,     0.28767,     0.28767,\n",
       "            0.28767,     0.28767,     0.28767,     0.28767,     0.28767,     0.28767,     0.28767,     0.28767,     0.28767,     0.28767,     0.28767,     0.28767,     0.28767,     0.28767,     0.28767,     0.25287,     0.25287,     0.25287,     0.25287,     0.25287,     0.25287,     0.25287,     0.25287,\n",
       "            0.25287,     0.25287,     0.25287,     0.25287,     0.25287,     0.25287,     0.25287,     0.25287,     0.25287,     0.25287,     0.25287,     0.25287,     0.25287,     0.25287,     0.25287,     0.25287,     0.25287,     0.25287,     0.25287,     0.25287,     0.25287,     0.25287,     0.23214,\n",
       "            0.23214,     0.23214,     0.23214,     0.23214,     0.23214,     0.23214,     0.23214,     0.23214,     0.23214,     0.23214,     0.23214,     0.23214,     0.23214,     0.23214,     0.23214,     0.23214,     0.23214,     0.23214,     0.23214,     0.23214,     0.23214,     0.23214,     0.23214,\n",
       "            0.23214,     0.23214,     0.23214,     0.23214,     0.23214,     0.23214,     0.23214,     0.23214,     0.23214,     0.23214,     0.23214,     0.23214,     0.23214,     0.23214,     0.23214,     0.23214,     0.23214,     0.23214,     0.23214,     0.23214,     0.23214,     0.23214,     0.23214,\n",
       "            0.23214,     0.23214,     0.23214,     0.23214,     0.23214,     0.23214,     0.23214,     0.23214,     0.23214,     0.23214,     0.23214,     0.23214,     0.23214,     0.23214,     0.23214,     0.23214,     0.23214,     0.23214,     0.23214,     0.23214,     0.23214,     0.23214,     0.23214,\n",
       "            0.23214,     0.23214,     0.23214,     0.23214,     0.23214,     0.23214,     0.23214,     0.23214,     0.23214,     0.23214,     0.23214,     0.23214,     0.23214,     0.23214,     0.23214,     0.23214,     0.23214,     0.23214,     0.23214,     0.23214,     0.23214,     0.23214,     0.23214,\n",
       "            0.23214,     0.23214,     0.23214,     0.23214,     0.23214,     0.23214,     0.23214,     0.23214,     0.23214,     0.23214,     0.23214,     0.23214,     0.23214,     0.23214,     0.23214,     0.23214,     0.23214,     0.23214,     0.23214,     0.23214,     0.23214,     0.23214,     0.23214,\n",
       "            0.23214,     0.23214,     0.23214,     0.23214,     0.23214,     0.23214,    0.035561,    0.035393,    0.035224,    0.035055,    0.034887,    0.034718,     0.03455,    0.034381,    0.034213,    0.034044,    0.033876,    0.033707,    0.033539,     0.03337,    0.033202,    0.033033,    0.032864,\n",
       "           0.032696,    0.032527,    0.032359,     0.03219,    0.032022,    0.031853,    0.031685,    0.031516,    0.031348,    0.031179,    0.031011,    0.030842,    0.030674,    0.030505,    0.030336,    0.030168,    0.029999,    0.029831,    0.029662,    0.029494,    0.029325,    0.029157,    0.028988,\n",
       "            0.02882,    0.028651,    0.028483,    0.028314,    0.028145,    0.027977,    0.027808,     0.02764,    0.027471,    0.027303,    0.027134,    0.026966,    0.026797,    0.026629,     0.02646,    0.026292,    0.026123,    0.025955,    0.025786,    0.025617,    0.025449,     0.02528,    0.025112,\n",
       "           0.024943,    0.024775,    0.024606,    0.024438,    0.024269,    0.024101,    0.023932,    0.023764,    0.023595,    0.023426,    0.023258,    0.023089,    0.022921,    0.022752,    0.022584,    0.022415,    0.022247,    0.022078,     0.02191,    0.021741,    0.021573,    0.021404,    0.021236,\n",
       "           0.021067,    0.020898,     0.02073,    0.020561,    0.020393,    0.020224,    0.020056,    0.019887,    0.019719,     0.01955,    0.019382,    0.019213,    0.019045,    0.018876,    0.018707,    0.018539,     0.01837,    0.018202,    0.018033,    0.017865,    0.017696,    0.017528,    0.017359,\n",
       "           0.017191,    0.017022,    0.016854,    0.016685,    0.016517,    0.016348,    0.016179,    0.016011,    0.015842,    0.015674,    0.015505,    0.015337,    0.015168,       0.015,    0.014831,    0.014663,    0.014494,    0.014326,    0.014157,    0.013988,     0.01382,    0.013651,    0.013483,\n",
       "           0.013314,    0.013146,    0.012977,    0.012809,     0.01264,    0.012472,    0.012303,    0.012135,    0.011966,    0.011798,    0.011629,     0.01146,    0.011292,    0.011123,    0.010955,    0.010786,    0.010618,    0.010449,    0.010281,    0.010112,   0.0099436,   0.0097751,   0.0096065,\n",
       "           0.009438,   0.0092695,   0.0091009,   0.0089324,   0.0087639,   0.0085953,   0.0084268,   0.0082583,   0.0080897,   0.0079212,   0.0077527,   0.0075841,   0.0074156,    0.007247,   0.0070785,     0.00691,   0.0067414,   0.0065729,   0.0064044,   0.0062358,   0.0060673,   0.0058988,   0.0057302,\n",
       "          0.0055617,   0.0053931,   0.0052246,   0.0050561,   0.0048875,    0.004719,   0.0045505,   0.0043819,   0.0042134,   0.0040449,   0.0038763,   0.0037078,   0.0035393,   0.0033707,   0.0032022,   0.0030336,   0.0028651,   0.0026966,    0.002528,   0.0023595,    0.002191,   0.0020224,   0.0018539,\n",
       "          0.0016854,   0.0015168,   0.0013483,   0.0011798,   0.0010112,  0.00084268,  0.00067414,  0.00050561,  0.00033707,  0.00016854,           0]]), 'Recall', 'Precision'], [array([          0,    0.001001,    0.002002,    0.003003,    0.004004,    0.005005,    0.006006,    0.007007,    0.008008,    0.009009,     0.01001,    0.011011,    0.012012,    0.013013,    0.014014,    0.015015,    0.016016,    0.017017,    0.018018,    0.019019,     0.02002,    0.021021,    0.022022,    0.023023,\n",
       "          0.024024,    0.025025,    0.026026,    0.027027,    0.028028,    0.029029,     0.03003,    0.031031,    0.032032,    0.033033,    0.034034,    0.035035,    0.036036,    0.037037,    0.038038,    0.039039,     0.04004,    0.041041,    0.042042,    0.043043,    0.044044,    0.045045,    0.046046,    0.047047,\n",
       "          0.048048,    0.049049,     0.05005,    0.051051,    0.052052,    0.053053,    0.054054,    0.055055,    0.056056,    0.057057,    0.058058,    0.059059,     0.06006,    0.061061,    0.062062,    0.063063,    0.064064,    0.065065,    0.066066,    0.067067,    0.068068,    0.069069,     0.07007,    0.071071,\n",
       "          0.072072,    0.073073,    0.074074,    0.075075,    0.076076,    0.077077,    0.078078,    0.079079,     0.08008,    0.081081,    0.082082,    0.083083,    0.084084,    0.085085,    0.086086,    0.087087,    0.088088,    0.089089,     0.09009,    0.091091,    0.092092,    0.093093,    0.094094,    0.095095,\n",
       "          0.096096,    0.097097,    0.098098,    0.099099,      0.1001,      0.1011,      0.1021,      0.1031,      0.1041,     0.10511,     0.10611,     0.10711,     0.10811,     0.10911,     0.11011,     0.11111,     0.11211,     0.11311,     0.11411,     0.11512,     0.11612,     0.11712,     0.11812,     0.11912,\n",
       "           0.12012,     0.12112,     0.12212,     0.12312,     0.12412,     0.12513,     0.12613,     0.12713,     0.12813,     0.12913,     0.13013,     0.13113,     0.13213,     0.13313,     0.13413,     0.13514,     0.13614,     0.13714,     0.13814,     0.13914,     0.14014,     0.14114,     0.14214,     0.14314,\n",
       "           0.14414,     0.14515,     0.14615,     0.14715,     0.14815,     0.14915,     0.15015,     0.15115,     0.15215,     0.15315,     0.15415,     0.15516,     0.15616,     0.15716,     0.15816,     0.15916,     0.16016,     0.16116,     0.16216,     0.16316,     0.16416,     0.16517,     0.16617,     0.16717,\n",
       "           0.16817,     0.16917,     0.17017,     0.17117,     0.17217,     0.17317,     0.17417,     0.17518,     0.17618,     0.17718,     0.17818,     0.17918,     0.18018,     0.18118,     0.18218,     0.18318,     0.18418,     0.18519,     0.18619,     0.18719,     0.18819,     0.18919,     0.19019,     0.19119,\n",
       "           0.19219,     0.19319,     0.19419,      0.1952,      0.1962,      0.1972,      0.1982,      0.1992,      0.2002,      0.2012,      0.2022,      0.2032,      0.2042,     0.20521,     0.20621,     0.20721,     0.20821,     0.20921,     0.21021,     0.21121,     0.21221,     0.21321,     0.21421,     0.21522,\n",
       "           0.21622,     0.21722,     0.21822,     0.21922,     0.22022,     0.22122,     0.22222,     0.22322,     0.22422,     0.22523,     0.22623,     0.22723,     0.22823,     0.22923,     0.23023,     0.23123,     0.23223,     0.23323,     0.23423,     0.23524,     0.23624,     0.23724,     0.23824,     0.23924,\n",
       "           0.24024,     0.24124,     0.24224,     0.24324,     0.24424,     0.24525,     0.24625,     0.24725,     0.24825,     0.24925,     0.25025,     0.25125,     0.25225,     0.25325,     0.25425,     0.25526,     0.25626,     0.25726,     0.25826,     0.25926,     0.26026,     0.26126,     0.26226,     0.26326,\n",
       "           0.26426,     0.26527,     0.26627,     0.26727,     0.26827,     0.26927,     0.27027,     0.27127,     0.27227,     0.27327,     0.27427,     0.27528,     0.27628,     0.27728,     0.27828,     0.27928,     0.28028,     0.28128,     0.28228,     0.28328,     0.28428,     0.28529,     0.28629,     0.28729,\n",
       "           0.28829,     0.28929,     0.29029,     0.29129,     0.29229,     0.29329,     0.29429,      0.2953,      0.2963,      0.2973,      0.2983,      0.2993,      0.3003,      0.3013,      0.3023,      0.3033,      0.3043,     0.30531,     0.30631,     0.30731,     0.30831,     0.30931,     0.31031,     0.31131,\n",
       "           0.31231,     0.31331,     0.31431,     0.31532,     0.31632,     0.31732,     0.31832,     0.31932,     0.32032,     0.32132,     0.32232,     0.32332,     0.32432,     0.32533,     0.32633,     0.32733,     0.32833,     0.32933,     0.33033,     0.33133,     0.33233,     0.33333,     0.33433,     0.33534,\n",
       "           0.33634,     0.33734,     0.33834,     0.33934,     0.34034,     0.34134,     0.34234,     0.34334,     0.34434,     0.34535,     0.34635,     0.34735,     0.34835,     0.34935,     0.35035,     0.35135,     0.35235,     0.35335,     0.35435,     0.35536,     0.35636,     0.35736,     0.35836,     0.35936,\n",
       "           0.36036,     0.36136,     0.36236,     0.36336,     0.36436,     0.36537,     0.36637,     0.36737,     0.36837,     0.36937,     0.37037,     0.37137,     0.37237,     0.37337,     0.37437,     0.37538,     0.37638,     0.37738,     0.37838,     0.37938,     0.38038,     0.38138,     0.38238,     0.38338,\n",
       "           0.38438,     0.38539,     0.38639,     0.38739,     0.38839,     0.38939,     0.39039,     0.39139,     0.39239,     0.39339,     0.39439,      0.3954,      0.3964,      0.3974,      0.3984,      0.3994,      0.4004,      0.4014,      0.4024,      0.4034,      0.4044,     0.40541,     0.40641,     0.40741,\n",
       "           0.40841,     0.40941,     0.41041,     0.41141,     0.41241,     0.41341,     0.41441,     0.41542,     0.41642,     0.41742,     0.41842,     0.41942,     0.42042,     0.42142,     0.42242,     0.42342,     0.42442,     0.42543,     0.42643,     0.42743,     0.42843,     0.42943,     0.43043,     0.43143,\n",
       "           0.43243,     0.43343,     0.43443,     0.43544,     0.43644,     0.43744,     0.43844,     0.43944,     0.44044,     0.44144,     0.44244,     0.44344,     0.44444,     0.44545,     0.44645,     0.44745,     0.44845,     0.44945,     0.45045,     0.45145,     0.45245,     0.45345,     0.45445,     0.45546,\n",
       "           0.45646,     0.45746,     0.45846,     0.45946,     0.46046,     0.46146,     0.46246,     0.46346,     0.46446,     0.46547,     0.46647,     0.46747,     0.46847,     0.46947,     0.47047,     0.47147,     0.47247,     0.47347,     0.47447,     0.47548,     0.47648,     0.47748,     0.47848,     0.47948,\n",
       "           0.48048,     0.48148,     0.48248,     0.48348,     0.48448,     0.48549,     0.48649,     0.48749,     0.48849,     0.48949,     0.49049,     0.49149,     0.49249,     0.49349,     0.49449,      0.4955,      0.4965,      0.4975,      0.4985,      0.4995,      0.5005,      0.5015,      0.5025,      0.5035,\n",
       "            0.5045,     0.50551,     0.50651,     0.50751,     0.50851,     0.50951,     0.51051,     0.51151,     0.51251,     0.51351,     0.51451,     0.51552,     0.51652,     0.51752,     0.51852,     0.51952,     0.52052,     0.52152,     0.52252,     0.52352,     0.52452,     0.52553,     0.52653,     0.52753,\n",
       "           0.52853,     0.52953,     0.53053,     0.53153,     0.53253,     0.53353,     0.53453,     0.53554,     0.53654,     0.53754,     0.53854,     0.53954,     0.54054,     0.54154,     0.54254,     0.54354,     0.54454,     0.54555,     0.54655,     0.54755,     0.54855,     0.54955,     0.55055,     0.55155,\n",
       "           0.55255,     0.55355,     0.55455,     0.55556,     0.55656,     0.55756,     0.55856,     0.55956,     0.56056,     0.56156,     0.56256,     0.56356,     0.56456,     0.56557,     0.56657,     0.56757,     0.56857,     0.56957,     0.57057,     0.57157,     0.57257,     0.57357,     0.57457,     0.57558,\n",
       "           0.57658,     0.57758,     0.57858,     0.57958,     0.58058,     0.58158,     0.58258,     0.58358,     0.58458,     0.58559,     0.58659,     0.58759,     0.58859,     0.58959,     0.59059,     0.59159,     0.59259,     0.59359,     0.59459,      0.5956,      0.5966,      0.5976,      0.5986,      0.5996,\n",
       "            0.6006,      0.6016,      0.6026,      0.6036,      0.6046,     0.60561,     0.60661,     0.60761,     0.60861,     0.60961,     0.61061,     0.61161,     0.61261,     0.61361,     0.61461,     0.61562,     0.61662,     0.61762,     0.61862,     0.61962,     0.62062,     0.62162,     0.62262,     0.62362,\n",
       "           0.62462,     0.62563,     0.62663,     0.62763,     0.62863,     0.62963,     0.63063,     0.63163,     0.63263,     0.63363,     0.63463,     0.63564,     0.63664,     0.63764,     0.63864,     0.63964,     0.64064,     0.64164,     0.64264,     0.64364,     0.64464,     0.64565,     0.64665,     0.64765,\n",
       "           0.64865,     0.64965,     0.65065,     0.65165,     0.65265,     0.65365,     0.65465,     0.65566,     0.65666,     0.65766,     0.65866,     0.65966,     0.66066,     0.66166,     0.66266,     0.66366,     0.66466,     0.66567,     0.66667,     0.66767,     0.66867,     0.66967,     0.67067,     0.67167,\n",
       "           0.67267,     0.67367,     0.67467,     0.67568,     0.67668,     0.67768,     0.67868,     0.67968,     0.68068,     0.68168,     0.68268,     0.68368,     0.68468,     0.68569,     0.68669,     0.68769,     0.68869,     0.68969,     0.69069,     0.69169,     0.69269,     0.69369,     0.69469,      0.6957,\n",
       "            0.6967,      0.6977,      0.6987,      0.6997,      0.7007,      0.7017,      0.7027,      0.7037,      0.7047,     0.70571,     0.70671,     0.70771,     0.70871,     0.70971,     0.71071,     0.71171,     0.71271,     0.71371,     0.71471,     0.71572,     0.71672,     0.71772,     0.71872,     0.71972,\n",
       "           0.72072,     0.72172,     0.72272,     0.72372,     0.72472,     0.72573,     0.72673,     0.72773,     0.72873,     0.72973,     0.73073,     0.73173,     0.73273,     0.73373,     0.73473,     0.73574,     0.73674,     0.73774,     0.73874,     0.73974,     0.74074,     0.74174,     0.74274,     0.74374,\n",
       "           0.74474,     0.74575,     0.74675,     0.74775,     0.74875,     0.74975,     0.75075,     0.75175,     0.75275,     0.75375,     0.75475,     0.75576,     0.75676,     0.75776,     0.75876,     0.75976,     0.76076,     0.76176,     0.76276,     0.76376,     0.76476,     0.76577,     0.76677,     0.76777,\n",
       "           0.76877,     0.76977,     0.77077,     0.77177,     0.77277,     0.77377,     0.77477,     0.77578,     0.77678,     0.77778,     0.77878,     0.77978,     0.78078,     0.78178,     0.78278,     0.78378,     0.78478,     0.78579,     0.78679,     0.78779,     0.78879,     0.78979,     0.79079,     0.79179,\n",
       "           0.79279,     0.79379,     0.79479,      0.7958,      0.7968,      0.7978,      0.7988,      0.7998,      0.8008,      0.8018,      0.8028,      0.8038,      0.8048,     0.80581,     0.80681,     0.80781,     0.80881,     0.80981,     0.81081,     0.81181,     0.81281,     0.81381,     0.81481,     0.81582,\n",
       "           0.81682,     0.81782,     0.81882,     0.81982,     0.82082,     0.82182,     0.82282,     0.82382,     0.82482,     0.82583,     0.82683,     0.82783,     0.82883,     0.82983,     0.83083,     0.83183,     0.83283,     0.83383,     0.83483,     0.83584,     0.83684,     0.83784,     0.83884,     0.83984,\n",
       "           0.84084,     0.84184,     0.84284,     0.84384,     0.84484,     0.84585,     0.84685,     0.84785,     0.84885,     0.84985,     0.85085,     0.85185,     0.85285,     0.85385,     0.85485,     0.85586,     0.85686,     0.85786,     0.85886,     0.85986,     0.86086,     0.86186,     0.86286,     0.86386,\n",
       "           0.86486,     0.86587,     0.86687,     0.86787,     0.86887,     0.86987,     0.87087,     0.87187,     0.87287,     0.87387,     0.87487,     0.87588,     0.87688,     0.87788,     0.87888,     0.87988,     0.88088,     0.88188,     0.88288,     0.88388,     0.88488,     0.88589,     0.88689,     0.88789,\n",
       "           0.88889,     0.88989,     0.89089,     0.89189,     0.89289,     0.89389,     0.89489,      0.8959,      0.8969,      0.8979,      0.8989,      0.8999,      0.9009,      0.9019,      0.9029,      0.9039,      0.9049,     0.90591,     0.90691,     0.90791,     0.90891,     0.90991,     0.91091,     0.91191,\n",
       "           0.91291,     0.91391,     0.91491,     0.91592,     0.91692,     0.91792,     0.91892,     0.91992,     0.92092,     0.92192,     0.92292,     0.92392,     0.92492,     0.92593,     0.92693,     0.92793,     0.92893,     0.92993,     0.93093,     0.93193,     0.93293,     0.93393,     0.93493,     0.93594,\n",
       "           0.93694,     0.93794,     0.93894,     0.93994,     0.94094,     0.94194,     0.94294,     0.94394,     0.94494,     0.94595,     0.94695,     0.94795,     0.94895,     0.94995,     0.95095,     0.95195,     0.95295,     0.95395,     0.95495,     0.95596,     0.95696,     0.95796,     0.95896,     0.95996,\n",
       "           0.96096,     0.96196,     0.96296,     0.96396,     0.96496,     0.96597,     0.96697,     0.96797,     0.96897,     0.96997,     0.97097,     0.97197,     0.97297,     0.97397,     0.97497,     0.97598,     0.97698,     0.97798,     0.97898,     0.97998,     0.98098,     0.98198,     0.98298,     0.98398,\n",
       "           0.98498,     0.98599,     0.98699,     0.98799,     0.98899,     0.98999,     0.99099,     0.99199,     0.99299,     0.99399,     0.99499,       0.996,       0.997,       0.998,       0.999,           1]), array([[   0.068331,    0.068331,     0.10721,     0.13366,     0.15551,     0.17897,     0.19477,     0.21003,     0.22448,     0.23377,     0.24502,     0.25111,     0.26065,     0.26438,     0.26658,     0.27084,     0.27954,     0.28823,     0.30157,     0.30687,     0.30975,     0.31343,     0.31926,\n",
       "            0.32046,     0.32768,     0.33189,     0.33744,     0.34416,     0.34997,      0.3539,     0.35492,     0.35594,     0.34656,     0.34054,     0.33809,      0.3416,     0.33807,       0.321,     0.32656,     0.32768,     0.32858,     0.32915,     0.32972,     0.33028,     0.33186,     0.33463,\n",
       "            0.33596,     0.33688,      0.3378,     0.33877,     0.33986,     0.34095,      0.3423,     0.34368,     0.34572,     0.34762,     0.34936,     0.35063,      0.3519,     0.35362,     0.35511,     0.35599,     0.35686,     0.35774,     0.35908,     0.36041,     0.36248,     0.36407,     0.36497,\n",
       "            0.36588,     0.36203,     0.35595,      0.3568,     0.35765,     0.35849,      0.3623,     0.36566,     0.36776,      0.3695,     0.37107,     0.37224,     0.37315,     0.37405,     0.37496,     0.37665,     0.37838,     0.37949,      0.3806,      0.3817,     0.38243,     0.38312,      0.3838,\n",
       "            0.38448,     0.38516,     0.38614,     0.38721,     0.38827,     0.38985,     0.39214,     0.39352,     0.38935,     0.38517,     0.38099,     0.37253,     0.36563,     0.36712,     0.36861,      0.3765,      0.3776,      0.3787,      0.3798,     0.38067,     0.38149,     0.38231,     0.38313,\n",
       "             0.3726,       0.371,      0.3715,     0.37188,     0.37226,     0.37264,     0.37302,      0.3734,     0.37378,     0.37416,     0.37454,     0.37492,     0.37544,       0.376,     0.37656,     0.37712,     0.37767,     0.37823,     0.37879,     0.38052,     0.38272,      0.3835,      0.3841,\n",
       "            0.38469,     0.38528,     0.38588,     0.38647,     0.38706,     0.38856,     0.39013,     0.39139,     0.39172,     0.39205,     0.39238,     0.39271,     0.39304,     0.39337,      0.3937,     0.39403,     0.39436,     0.39469,     0.39501,     0.39534,     0.39598,     0.39789,     0.39978,\n",
       "            0.40296,     0.40499,     0.40592,     0.40684,     0.40776,     0.40867,     0.41389,     0.41408,     0.41426,     0.41445,     0.41463,     0.41482,       0.415,     0.41518,     0.41537,     0.41555,     0.41574,     0.41592,      0.4161,     0.41629,     0.41647,     0.41665,     0.41684,\n",
       "            0.41702,      0.4172,     0.41739,     0.41757,     0.41775,     0.41793,     0.41812,      0.4183,     0.41848,     0.41871,     0.41903,     0.41936,     0.41968,     0.42001,     0.42033,     0.42066,     0.42098,      0.4213,     0.42162,     0.42195,     0.42227,     0.42259,     0.42291,\n",
       "            0.42323,     0.42407,     0.42903,     0.43036,     0.43169,       0.433,     0.43389,     0.43424,     0.43458,     0.43493,     0.43527,     0.43562,     0.43596,     0.43631,     0.43665,       0.437,     0.43734,     0.43768,     0.43803,     0.43837,     0.43871,     0.43928,     0.44246,\n",
       "            0.44454,     0.44481,     0.44507,     0.44534,      0.4456,     0.44587,     0.44613,      0.4464,     0.44666,     0.44692,     0.44719,     0.44745,     0.44771,     0.44798,     0.44824,      0.4485,     0.44876,     0.44903,     0.44929,     0.44955,     0.44981,     0.45013,     0.45061,\n",
       "            0.45109,     0.45157,     0.45205,     0.45253,       0.453,     0.45348,     0.45395,     0.45443,      0.4549,     0.45538,     0.45534,     0.45425,     0.45315,     0.45206,     0.45096,     0.44987,     0.44877,     0.44768,     0.44658,     0.44548,     0.44438,     0.44329,     0.44219,\n",
       "            0.44109,     0.43999,     0.43889,     0.43779,     0.43669,      0.4367,     0.43961,     0.44208,     0.44367,     0.44526,     0.44684,      0.4476,     0.44796,     0.44831,     0.44866,     0.44901,     0.44936,     0.44971,     0.45006,     0.45041,     0.45076,     0.45111,     0.45146,\n",
       "            0.45181,     0.45215,      0.4525,     0.45285,     0.45319,     0.44319,     0.43426,     0.43858,     0.44006,     0.44154,       0.443,     0.44446,     0.44631,     0.44814,     0.44997,     0.45101,     0.45152,     0.45203,     0.45254,     0.45305,     0.45356,     0.45407,     0.45458,\n",
       "            0.45508,     0.45559,     0.45609,      0.4566,      0.4571,     0.45755,     0.45799,     0.45843,     0.45887,     0.45931,     0.45975,     0.46019,     0.46063,     0.46107,      0.4615,     0.46194,     0.46238,     0.46281,     0.46324,     0.46368,     0.46488,     0.46629,     0.46769,\n",
       "            0.46908,     0.47047,       0.471,     0.47146,     0.47191,     0.47237,     0.47282,     0.47327,     0.47372,     0.47417,     0.47462,     0.47507,     0.47552,     0.47597,     0.47641,     0.47686,      0.4773,     0.47775,      0.4782,     0.47864,     0.47909,     0.47954,     0.47998,\n",
       "            0.48043,     0.48087,     0.48132,     0.48176,      0.4822,     0.48264,     0.48308,     0.48352,     0.48396,     0.48439,     0.48483,     0.48503,     0.48522,     0.48541,     0.48559,     0.48578,     0.48597,     0.48616,     0.48634,     0.48653,     0.48672,      0.4869,     0.48709,\n",
       "            0.48728,     0.48746,     0.48765,     0.48783,     0.48802,     0.48821,     0.48839,     0.48858,     0.48876,     0.48895,     0.48913,     0.48932,      0.4895,     0.48969,     0.48987,     0.49006,     0.49024,     0.49042,     0.49061,     0.49079,     0.49097,     0.49116,     0.49134,\n",
       "            0.49152,     0.49171,     0.49189,     0.49207,     0.49226,     0.49114,     0.48951,     0.48788,     0.48624,     0.48461,     0.48298,     0.48134,      0.4797,     0.47807,     0.47643,     0.47479,     0.47314,      0.4715,     0.46986,     0.46469,     0.45224,     0.44453,     0.44474,\n",
       "            0.44496,     0.44518,     0.44539,     0.44561,     0.44582,     0.44604,     0.44625,     0.44647,     0.44668,      0.4469,     0.44711,     0.44732,     0.44754,     0.44775,     0.44796,     0.44818,     0.44839,      0.4486,     0.44881,     0.44903,     0.44924,     0.44945,     0.44966,\n",
       "            0.44987,     0.45008,     0.45029,      0.4505,     0.45072,     0.45093,     0.45114,     0.45134,     0.45155,     0.45187,     0.45222,     0.45257,     0.45292,     0.45326,     0.45361,     0.45396,     0.45431,     0.45465,       0.455,     0.45535,     0.45569,     0.45603,     0.45638,\n",
       "            0.45672,     0.45706,      0.4574,     0.45774,     0.45809,     0.45843,     0.45876,     0.45908,     0.45935,     0.45962,     0.45988,     0.46015,     0.46041,     0.46068,     0.46094,     0.46121,     0.46147,     0.46173,     0.46199,     0.46226,     0.46252,     0.46278,     0.46304,\n",
       "             0.4633,     0.46356,     0.46382,     0.46408,     0.46434,      0.4646,     0.46486,     0.46512,     0.46538,     0.46564,     0.46589,     0.46615,     0.46641,     0.46666,     0.45354,     0.44078,     0.44341,       0.446,     0.44813,     0.44681,     0.44549,     0.44417,     0.44284,\n",
       "            0.44152,     0.44019,     0.43887,     0.43754,     0.43621,     0.43489,     0.43356,     0.43223,      0.4309,     0.42956,     0.42823,      0.4269,     0.42556,     0.42423,     0.42289,     0.42156,     0.41747,     0.41171,     0.40594,     0.40015,     0.39434,      0.3931,     0.39341,\n",
       "            0.39373,     0.39405,     0.39437,     0.39468,       0.395,     0.39531,     0.39563,     0.39594,     0.39625,     0.39656,     0.39687,     0.39718,     0.39749,      0.3978,     0.39811,     0.39842,     0.39873,     0.39903,     0.39934,     0.39964,     0.39995,     0.39802,     0.39561,\n",
       "            0.39319,     0.39076,     0.38834,     0.38591,     0.38348,     0.38105,     0.37861,     0.37618,     0.37373,     0.37129,     0.37094,     0.37186,     0.37277,     0.37367,     0.37456,     0.37545,     0.37633,      0.3772,     0.37556,     0.37337,     0.37117,     0.36898,     0.36678,\n",
       "            0.36457,     0.36237,     0.36016,     0.35796,     0.35575,     0.35353,     0.35132,      0.3491,     0.34688,     0.34808,     0.35086,     0.35323,     0.35447,      0.3557,     0.35691,      0.3581,     0.35928,     0.36046,     0.36165,     0.36283,     0.36399,     0.36514,     0.36627,\n",
       "            0.36739,     0.36834,     0.36929,     0.37023,     0.37116,     0.37208,     0.37299,     0.37389,     0.37478,     0.37516,     0.37538,      0.3756,     0.37582,     0.37604,     0.37626,     0.37647,     0.37669,      0.3769,     0.37712,     0.37733,     0.37755,     0.37776,     0.37797,\n",
       "            0.37818,      0.3784,     0.37861,     0.37882,     0.37903,     0.37924,     0.37945,     0.37965,     0.37986,     0.38007,     0.38028,     0.38048,     0.38069,     0.38089,      0.3811,      0.3813,     0.38151,     0.38171,     0.38191,     0.38211,     0.38232,     0.38252,     0.38272,\n",
       "            0.38292,     0.38352,      0.3843,     0.38506,     0.38582,     0.38657,     0.38732,     0.38805,     0.38879,     0.38951,     0.39023,     0.39094,     0.39162,     0.39226,      0.3929,     0.39354,     0.39417,     0.39479,     0.39541,     0.39603,     0.39664,     0.39724,     0.39784,\n",
       "            0.39844,     0.39903,     0.39961,     0.40013,     0.40051,     0.40089,     0.40126,     0.40164,     0.40201,     0.40238,     0.40275,     0.40312,     0.40348,     0.40385,     0.40421,     0.40457,     0.40492,     0.40528,     0.40563,     0.40599,     0.40634,     0.40669,     0.40703,\n",
       "            0.40738,     0.40772,     0.40806,      0.4084,     0.40874,     0.40908,     0.40528,     0.40134,     0.39738,     0.39341,     0.38942,     0.38541,     0.38139,     0.37736,     0.37331,     0.33241,     0.33108,     0.32976,     0.32843,     0.32711,     0.32578,     0.32445,     0.32311,\n",
       "            0.32178,     0.32045,     0.31911,     0.31777,     0.31643,     0.31509,     0.31375,     0.31241,     0.31106,     0.30971,     0.30836,     0.30701,     0.30566,     0.30431,     0.30295,      0.3016,     0.30024,     0.29888,     0.29752,     0.29616,     0.29479,     0.29342,     0.29097,\n",
       "            0.28722,     0.28346,     0.27968,      0.2759,      0.2721,     0.26829,     0.26448,     0.26064,      0.2568,     0.25295,     0.24856,     0.24251,     0.23643,     0.23032,     0.22419,     0.21803,     0.21184,     0.20562,     0.20369,     0.20212,     0.20055,     0.19898,     0.19741,\n",
       "            0.19584,     0.19427,     0.19269,     0.19112,     0.18954,     0.18796,     0.18638,     0.18479,     0.18321,     0.18162,     0.18004,     0.17845,     0.17686,     0.17526,     0.17367,     0.17207,     0.17048,     0.16888,     0.16728,     0.16567,     0.16407,     0.16246,     0.16085,\n",
       "            0.15924,     0.15764,     0.15609,     0.15453,     0.15298,     0.15143,     0.14987,     0.14831,     0.14676,      0.1452,     0.14364,     0.14207,     0.14051,     0.13895,     0.13738,     0.13582,     0.13425,     0.13268,     0.13111,     0.12954,     0.12797,     0.12639,     0.12482,\n",
       "            0.12324,     0.12166,     0.12008,      0.1185,     0.11691,     0.11533,     0.11374,     0.11215,     0.11056,     0.10897,     0.10622,     0.10211,    0.097992,    0.093871,    0.089746,    0.085615,    0.081478,    0.077335,    0.073184,    0.069026,    0.064858,    0.060681,    0.056492,\n",
       "           0.056335,    0.057043,    0.057259,     0.05739,     0.05751,    0.057622,    0.057727,    0.057824,    0.057915,       0.058,     0.05808,    0.058155,    0.058226,    0.058292,    0.058356,    0.058415,    0.058472,    0.058526,    0.058577,    0.058626,    0.058672,    0.058717,    0.058759,\n",
       "             0.0588,           0,           0,           0,           0,           0,           0,           0,           0,           0,           0,           0,           0,           0,           0,           0,           0,           0,           0,           0,           0,           0,           0,\n",
       "                  0,           0,           0,           0,           0,           0,           0,           0,           0,           0,           0,           0,           0,           0,           0,           0,           0,           0,           0,           0,           0,           0,           0,\n",
       "                  0,           0,           0,           0,           0,           0,           0,           0,           0,           0,           0,           0,           0,           0,           0,           0,           0,           0,           0,           0,           0,           0,           0,\n",
       "                  0,           0,           0,           0,           0,           0,           0,           0,           0,           0,           0,           0,           0,           0,           0,           0,           0,           0,           0,           0,           0,           0,           0,\n",
       "                  0,           0,           0,           0,           0,           0,           0,           0,           0,           0,           0,           0,           0,           0,           0,           0,           0,           0,           0,           0,           0,           0,           0,\n",
       "                  0,           0,           0,           0,           0,           0,           0,           0,           0,           0,           0]]), 'Confidence', 'F1'], [array([          0,    0.001001,    0.002002,    0.003003,    0.004004,    0.005005,    0.006006,    0.007007,    0.008008,    0.009009,     0.01001,    0.011011,    0.012012,    0.013013,    0.014014,    0.015015,    0.016016,    0.017017,    0.018018,    0.019019,     0.02002,    0.021021,    0.022022,    0.023023,\n",
       "          0.024024,    0.025025,    0.026026,    0.027027,    0.028028,    0.029029,     0.03003,    0.031031,    0.032032,    0.033033,    0.034034,    0.035035,    0.036036,    0.037037,    0.038038,    0.039039,     0.04004,    0.041041,    0.042042,    0.043043,    0.044044,    0.045045,    0.046046,    0.047047,\n",
       "          0.048048,    0.049049,     0.05005,    0.051051,    0.052052,    0.053053,    0.054054,    0.055055,    0.056056,    0.057057,    0.058058,    0.059059,     0.06006,    0.061061,    0.062062,    0.063063,    0.064064,    0.065065,    0.066066,    0.067067,    0.068068,    0.069069,     0.07007,    0.071071,\n",
       "          0.072072,    0.073073,    0.074074,    0.075075,    0.076076,    0.077077,    0.078078,    0.079079,     0.08008,    0.081081,    0.082082,    0.083083,    0.084084,    0.085085,    0.086086,    0.087087,    0.088088,    0.089089,     0.09009,    0.091091,    0.092092,    0.093093,    0.094094,    0.095095,\n",
       "          0.096096,    0.097097,    0.098098,    0.099099,      0.1001,      0.1011,      0.1021,      0.1031,      0.1041,     0.10511,     0.10611,     0.10711,     0.10811,     0.10911,     0.11011,     0.11111,     0.11211,     0.11311,     0.11411,     0.11512,     0.11612,     0.11712,     0.11812,     0.11912,\n",
       "           0.12012,     0.12112,     0.12212,     0.12312,     0.12412,     0.12513,     0.12613,     0.12713,     0.12813,     0.12913,     0.13013,     0.13113,     0.13213,     0.13313,     0.13413,     0.13514,     0.13614,     0.13714,     0.13814,     0.13914,     0.14014,     0.14114,     0.14214,     0.14314,\n",
       "           0.14414,     0.14515,     0.14615,     0.14715,     0.14815,     0.14915,     0.15015,     0.15115,     0.15215,     0.15315,     0.15415,     0.15516,     0.15616,     0.15716,     0.15816,     0.15916,     0.16016,     0.16116,     0.16216,     0.16316,     0.16416,     0.16517,     0.16617,     0.16717,\n",
       "           0.16817,     0.16917,     0.17017,     0.17117,     0.17217,     0.17317,     0.17417,     0.17518,     0.17618,     0.17718,     0.17818,     0.17918,     0.18018,     0.18118,     0.18218,     0.18318,     0.18418,     0.18519,     0.18619,     0.18719,     0.18819,     0.18919,     0.19019,     0.19119,\n",
       "           0.19219,     0.19319,     0.19419,      0.1952,      0.1962,      0.1972,      0.1982,      0.1992,      0.2002,      0.2012,      0.2022,      0.2032,      0.2042,     0.20521,     0.20621,     0.20721,     0.20821,     0.20921,     0.21021,     0.21121,     0.21221,     0.21321,     0.21421,     0.21522,\n",
       "           0.21622,     0.21722,     0.21822,     0.21922,     0.22022,     0.22122,     0.22222,     0.22322,     0.22422,     0.22523,     0.22623,     0.22723,     0.22823,     0.22923,     0.23023,     0.23123,     0.23223,     0.23323,     0.23423,     0.23524,     0.23624,     0.23724,     0.23824,     0.23924,\n",
       "           0.24024,     0.24124,     0.24224,     0.24324,     0.24424,     0.24525,     0.24625,     0.24725,     0.24825,     0.24925,     0.25025,     0.25125,     0.25225,     0.25325,     0.25425,     0.25526,     0.25626,     0.25726,     0.25826,     0.25926,     0.26026,     0.26126,     0.26226,     0.26326,\n",
       "           0.26426,     0.26527,     0.26627,     0.26727,     0.26827,     0.26927,     0.27027,     0.27127,     0.27227,     0.27327,     0.27427,     0.27528,     0.27628,     0.27728,     0.27828,     0.27928,     0.28028,     0.28128,     0.28228,     0.28328,     0.28428,     0.28529,     0.28629,     0.28729,\n",
       "           0.28829,     0.28929,     0.29029,     0.29129,     0.29229,     0.29329,     0.29429,      0.2953,      0.2963,      0.2973,      0.2983,      0.2993,      0.3003,      0.3013,      0.3023,      0.3033,      0.3043,     0.30531,     0.30631,     0.30731,     0.30831,     0.30931,     0.31031,     0.31131,\n",
       "           0.31231,     0.31331,     0.31431,     0.31532,     0.31632,     0.31732,     0.31832,     0.31932,     0.32032,     0.32132,     0.32232,     0.32332,     0.32432,     0.32533,     0.32633,     0.32733,     0.32833,     0.32933,     0.33033,     0.33133,     0.33233,     0.33333,     0.33433,     0.33534,\n",
       "           0.33634,     0.33734,     0.33834,     0.33934,     0.34034,     0.34134,     0.34234,     0.34334,     0.34434,     0.34535,     0.34635,     0.34735,     0.34835,     0.34935,     0.35035,     0.35135,     0.35235,     0.35335,     0.35435,     0.35536,     0.35636,     0.35736,     0.35836,     0.35936,\n",
       "           0.36036,     0.36136,     0.36236,     0.36336,     0.36436,     0.36537,     0.36637,     0.36737,     0.36837,     0.36937,     0.37037,     0.37137,     0.37237,     0.37337,     0.37437,     0.37538,     0.37638,     0.37738,     0.37838,     0.37938,     0.38038,     0.38138,     0.38238,     0.38338,\n",
       "           0.38438,     0.38539,     0.38639,     0.38739,     0.38839,     0.38939,     0.39039,     0.39139,     0.39239,     0.39339,     0.39439,      0.3954,      0.3964,      0.3974,      0.3984,      0.3994,      0.4004,      0.4014,      0.4024,      0.4034,      0.4044,     0.40541,     0.40641,     0.40741,\n",
       "           0.40841,     0.40941,     0.41041,     0.41141,     0.41241,     0.41341,     0.41441,     0.41542,     0.41642,     0.41742,     0.41842,     0.41942,     0.42042,     0.42142,     0.42242,     0.42342,     0.42442,     0.42543,     0.42643,     0.42743,     0.42843,     0.42943,     0.43043,     0.43143,\n",
       "           0.43243,     0.43343,     0.43443,     0.43544,     0.43644,     0.43744,     0.43844,     0.43944,     0.44044,     0.44144,     0.44244,     0.44344,     0.44444,     0.44545,     0.44645,     0.44745,     0.44845,     0.44945,     0.45045,     0.45145,     0.45245,     0.45345,     0.45445,     0.45546,\n",
       "           0.45646,     0.45746,     0.45846,     0.45946,     0.46046,     0.46146,     0.46246,     0.46346,     0.46446,     0.46547,     0.46647,     0.46747,     0.46847,     0.46947,     0.47047,     0.47147,     0.47247,     0.47347,     0.47447,     0.47548,     0.47648,     0.47748,     0.47848,     0.47948,\n",
       "           0.48048,     0.48148,     0.48248,     0.48348,     0.48448,     0.48549,     0.48649,     0.48749,     0.48849,     0.48949,     0.49049,     0.49149,     0.49249,     0.49349,     0.49449,      0.4955,      0.4965,      0.4975,      0.4985,      0.4995,      0.5005,      0.5015,      0.5025,      0.5035,\n",
       "            0.5045,     0.50551,     0.50651,     0.50751,     0.50851,     0.50951,     0.51051,     0.51151,     0.51251,     0.51351,     0.51451,     0.51552,     0.51652,     0.51752,     0.51852,     0.51952,     0.52052,     0.52152,     0.52252,     0.52352,     0.52452,     0.52553,     0.52653,     0.52753,\n",
       "           0.52853,     0.52953,     0.53053,     0.53153,     0.53253,     0.53353,     0.53453,     0.53554,     0.53654,     0.53754,     0.53854,     0.53954,     0.54054,     0.54154,     0.54254,     0.54354,     0.54454,     0.54555,     0.54655,     0.54755,     0.54855,     0.54955,     0.55055,     0.55155,\n",
       "           0.55255,     0.55355,     0.55455,     0.55556,     0.55656,     0.55756,     0.55856,     0.55956,     0.56056,     0.56156,     0.56256,     0.56356,     0.56456,     0.56557,     0.56657,     0.56757,     0.56857,     0.56957,     0.57057,     0.57157,     0.57257,     0.57357,     0.57457,     0.57558,\n",
       "           0.57658,     0.57758,     0.57858,     0.57958,     0.58058,     0.58158,     0.58258,     0.58358,     0.58458,     0.58559,     0.58659,     0.58759,     0.58859,     0.58959,     0.59059,     0.59159,     0.59259,     0.59359,     0.59459,      0.5956,      0.5966,      0.5976,      0.5986,      0.5996,\n",
       "            0.6006,      0.6016,      0.6026,      0.6036,      0.6046,     0.60561,     0.60661,     0.60761,     0.60861,     0.60961,     0.61061,     0.61161,     0.61261,     0.61361,     0.61461,     0.61562,     0.61662,     0.61762,     0.61862,     0.61962,     0.62062,     0.62162,     0.62262,     0.62362,\n",
       "           0.62462,     0.62563,     0.62663,     0.62763,     0.62863,     0.62963,     0.63063,     0.63163,     0.63263,     0.63363,     0.63463,     0.63564,     0.63664,     0.63764,     0.63864,     0.63964,     0.64064,     0.64164,     0.64264,     0.64364,     0.64464,     0.64565,     0.64665,     0.64765,\n",
       "           0.64865,     0.64965,     0.65065,     0.65165,     0.65265,     0.65365,     0.65465,     0.65566,     0.65666,     0.65766,     0.65866,     0.65966,     0.66066,     0.66166,     0.66266,     0.66366,     0.66466,     0.66567,     0.66667,     0.66767,     0.66867,     0.66967,     0.67067,     0.67167,\n",
       "           0.67267,     0.67367,     0.67467,     0.67568,     0.67668,     0.67768,     0.67868,     0.67968,     0.68068,     0.68168,     0.68268,     0.68368,     0.68468,     0.68569,     0.68669,     0.68769,     0.68869,     0.68969,     0.69069,     0.69169,     0.69269,     0.69369,     0.69469,      0.6957,\n",
       "            0.6967,      0.6977,      0.6987,      0.6997,      0.7007,      0.7017,      0.7027,      0.7037,      0.7047,     0.70571,     0.70671,     0.70771,     0.70871,     0.70971,     0.71071,     0.71171,     0.71271,     0.71371,     0.71471,     0.71572,     0.71672,     0.71772,     0.71872,     0.71972,\n",
       "           0.72072,     0.72172,     0.72272,     0.72372,     0.72472,     0.72573,     0.72673,     0.72773,     0.72873,     0.72973,     0.73073,     0.73173,     0.73273,     0.73373,     0.73473,     0.73574,     0.73674,     0.73774,     0.73874,     0.73974,     0.74074,     0.74174,     0.74274,     0.74374,\n",
       "           0.74474,     0.74575,     0.74675,     0.74775,     0.74875,     0.74975,     0.75075,     0.75175,     0.75275,     0.75375,     0.75475,     0.75576,     0.75676,     0.75776,     0.75876,     0.75976,     0.76076,     0.76176,     0.76276,     0.76376,     0.76476,     0.76577,     0.76677,     0.76777,\n",
       "           0.76877,     0.76977,     0.77077,     0.77177,     0.77277,     0.77377,     0.77477,     0.77578,     0.77678,     0.77778,     0.77878,     0.77978,     0.78078,     0.78178,     0.78278,     0.78378,     0.78478,     0.78579,     0.78679,     0.78779,     0.78879,     0.78979,     0.79079,     0.79179,\n",
       "           0.79279,     0.79379,     0.79479,      0.7958,      0.7968,      0.7978,      0.7988,      0.7998,      0.8008,      0.8018,      0.8028,      0.8038,      0.8048,     0.80581,     0.80681,     0.80781,     0.80881,     0.80981,     0.81081,     0.81181,     0.81281,     0.81381,     0.81481,     0.81582,\n",
       "           0.81682,     0.81782,     0.81882,     0.81982,     0.82082,     0.82182,     0.82282,     0.82382,     0.82482,     0.82583,     0.82683,     0.82783,     0.82883,     0.82983,     0.83083,     0.83183,     0.83283,     0.83383,     0.83483,     0.83584,     0.83684,     0.83784,     0.83884,     0.83984,\n",
       "           0.84084,     0.84184,     0.84284,     0.84384,     0.84484,     0.84585,     0.84685,     0.84785,     0.84885,     0.84985,     0.85085,     0.85185,     0.85285,     0.85385,     0.85485,     0.85586,     0.85686,     0.85786,     0.85886,     0.85986,     0.86086,     0.86186,     0.86286,     0.86386,\n",
       "           0.86486,     0.86587,     0.86687,     0.86787,     0.86887,     0.86987,     0.87087,     0.87187,     0.87287,     0.87387,     0.87487,     0.87588,     0.87688,     0.87788,     0.87888,     0.87988,     0.88088,     0.88188,     0.88288,     0.88388,     0.88488,     0.88589,     0.88689,     0.88789,\n",
       "           0.88889,     0.88989,     0.89089,     0.89189,     0.89289,     0.89389,     0.89489,      0.8959,      0.8969,      0.8979,      0.8989,      0.8999,      0.9009,      0.9019,      0.9029,      0.9039,      0.9049,     0.90591,     0.90691,     0.90791,     0.90891,     0.90991,     0.91091,     0.91191,\n",
       "           0.91291,     0.91391,     0.91491,     0.91592,     0.91692,     0.91792,     0.91892,     0.91992,     0.92092,     0.92192,     0.92292,     0.92392,     0.92492,     0.92593,     0.92693,     0.92793,     0.92893,     0.92993,     0.93093,     0.93193,     0.93293,     0.93393,     0.93493,     0.93594,\n",
       "           0.93694,     0.93794,     0.93894,     0.93994,     0.94094,     0.94194,     0.94294,     0.94394,     0.94494,     0.94595,     0.94695,     0.94795,     0.94895,     0.94995,     0.95095,     0.95195,     0.95295,     0.95395,     0.95495,     0.95596,     0.95696,     0.95796,     0.95896,     0.95996,\n",
       "           0.96096,     0.96196,     0.96296,     0.96396,     0.96496,     0.96597,     0.96697,     0.96797,     0.96897,     0.96997,     0.97097,     0.97197,     0.97297,     0.97397,     0.97497,     0.97598,     0.97698,     0.97798,     0.97898,     0.97998,     0.98098,     0.98198,     0.98298,     0.98398,\n",
       "           0.98498,     0.98599,     0.98699,     0.98799,     0.98899,     0.98999,     0.99099,     0.99199,     0.99299,     0.99399,     0.99499,       0.996,       0.997,       0.998,       0.999,           1]), array([[   0.035714,    0.035714,    0.057516,    0.073024,    0.086271,     0.10095,     0.11112,     0.12117,     0.13088,     0.13725,     0.14507,     0.14935,     0.15616,     0.15884,     0.16043,     0.16353,     0.16991,     0.17638,     0.18647,     0.19054,     0.19277,     0.19562,     0.20019,\n",
       "            0.20113,     0.20686,     0.21022,      0.2147,     0.22017,     0.22494,     0.22821,     0.22905,      0.2299,     0.22482,     0.22115,     0.22023,     0.22322,     0.22136,     0.21139,     0.21624,     0.21723,     0.21802,     0.21852,     0.21902,     0.21952,     0.22091,     0.22338,\n",
       "            0.22456,     0.22539,     0.22621,     0.22708,     0.22806,     0.22904,     0.23026,     0.23152,     0.23337,      0.2351,      0.2367,     0.23787,     0.23904,     0.24063,     0.24201,     0.24282,     0.24364,     0.24446,     0.24571,     0.24696,     0.24891,     0.25041,     0.25127,\n",
       "            0.25212,     0.24994,     0.24708,      0.2479,     0.24872,     0.24953,     0.25324,     0.25653,     0.25861,     0.26033,     0.26189,     0.26306,     0.26396,     0.26487,     0.26578,     0.26749,     0.26923,     0.27036,     0.27148,     0.27261,     0.27335,     0.27405,     0.27475,\n",
       "            0.27545,     0.27616,     0.27716,     0.27826,     0.27936,       0.281,     0.28338,     0.28592,     0.28321,     0.28051,      0.2778,     0.27227,     0.26786,     0.26947,     0.27108,      0.2797,     0.28092,     0.28214,     0.28336,     0.28433,     0.28525,     0.28616,     0.28708,\n",
       "            0.28041,      0.2811,     0.28167,     0.28211,     0.28255,     0.28299,     0.28343,     0.28387,      0.2843,     0.28474,     0.28518,     0.28562,     0.28622,     0.28688,     0.28753,     0.28818,     0.28883,     0.28948,     0.29013,     0.29217,     0.29477,     0.29571,     0.29641,\n",
       "            0.29712,     0.29783,     0.29854,     0.29924,     0.29995,     0.30176,     0.30366,     0.30518,     0.30559,     0.30599,     0.30639,      0.3068,      0.3072,      0.3076,     0.30801,     0.30841,     0.30881,     0.30922,     0.30962,     0.31002,     0.31081,     0.31316,     0.31551,\n",
       "             0.3195,     0.32206,     0.32323,      0.3244,     0.32557,     0.32674,     0.33346,      0.3337,     0.33394,     0.33418,     0.33442,     0.33466,      0.3349,     0.33514,     0.33538,     0.33562,     0.33586,      0.3361,     0.33634,     0.33658,     0.33682,     0.33706,      0.3373,\n",
       "            0.33754,     0.33778,     0.33802,     0.33826,      0.3385,     0.33874,     0.33898,     0.33922,     0.33946,     0.33976,     0.34019,     0.34062,     0.34105,     0.34147,      0.3419,     0.34233,     0.34276,     0.34319,     0.34362,     0.34405,     0.34447,      0.3449,     0.34533,\n",
       "            0.34576,     0.34688,     0.35357,     0.35538,     0.35719,     0.35899,     0.36021,     0.36069,     0.36117,     0.36165,     0.36212,      0.3626,     0.36308,     0.36356,     0.36404,     0.36452,     0.36499,     0.36547,     0.36595,     0.36643,     0.36691,      0.3677,     0.37218,\n",
       "            0.37514,     0.37552,      0.3759,     0.37628,     0.37665,     0.37703,     0.37741,     0.37779,     0.37817,     0.37854,     0.37892,      0.3793,     0.37968,     0.38006,     0.38044,     0.38081,     0.38119,     0.38157,     0.38195,     0.38233,      0.3827,     0.38317,     0.38387,\n",
       "            0.38456,     0.38526,     0.38596,     0.38665,     0.38735,     0.38805,     0.38874,     0.38944,     0.39014,     0.39083,     0.39106,     0.39031,     0.38956,     0.38881,     0.38806,     0.38731,     0.38657,     0.38582,     0.38507,     0.38432,     0.38357,     0.38282,     0.38207,\n",
       "            0.38132,     0.38057,     0.37982,     0.37907,     0.37832,     0.37899,     0.38339,     0.38716,     0.38962,     0.39207,     0.39453,     0.39572,     0.39627,     0.39682,     0.39737,     0.39792,     0.39847,     0.39902,     0.39958,     0.40013,     0.40068,     0.40123,     0.40178,\n",
       "            0.40233,     0.40288,     0.40343,     0.40399,     0.40454,      0.3977,     0.39323,     0.40038,     0.40285,     0.40533,      0.4078,     0.41028,     0.41344,      0.4166,     0.41977,     0.42158,     0.42248,     0.42338,     0.42428,     0.42517,     0.42607,     0.42697,     0.42787,\n",
       "            0.42876,     0.42966,     0.43056,     0.43145,     0.43235,     0.43316,     0.43395,     0.43474,     0.43554,     0.43633,     0.43713,     0.43792,     0.43872,     0.43951,      0.4403,      0.4411,     0.44189,     0.44269,     0.44348,     0.44428,      0.4465,      0.4491,      0.4517,\n",
       "            0.45431,     0.45691,     0.45793,     0.45879,     0.45965,     0.46051,     0.46137,     0.46223,      0.4631,     0.46396,     0.46482,     0.46568,     0.46654,      0.4674,     0.46826,     0.46913,     0.46999,     0.47085,     0.47172,      0.4726,     0.47347,     0.47434,     0.47521,\n",
       "            0.47609,     0.47696,     0.47783,     0.47871,     0.47958,     0.48045,     0.48132,      0.4822,     0.48307,     0.48394,     0.48481,     0.48521,     0.48559,     0.48596,     0.48634,     0.48672,     0.48709,     0.48747,     0.48785,     0.48822,      0.4886,     0.48898,     0.48935,\n",
       "            0.48973,      0.4901,     0.49048,     0.49086,     0.49123,     0.49161,     0.49199,     0.49236,     0.49274,     0.49312,     0.49349,     0.49387,     0.49425,     0.49462,       0.495,     0.49538,     0.49575,     0.49613,     0.49651,     0.49688,     0.49726,     0.49763,     0.49801,\n",
       "            0.49839,     0.49876,     0.49914,     0.49952,     0.49989,      0.4992,     0.49807,     0.49695,     0.49583,     0.49471,     0.49359,     0.49247,     0.49135,     0.49023,     0.48911,     0.48799,     0.48687,     0.48575,     0.48462,     0.48098,     0.47216,     0.46685,     0.46732,\n",
       "             0.4678,     0.46828,     0.46876,     0.46924,     0.46972,     0.47019,     0.47067,     0.47115,     0.47163,     0.47211,     0.47258,     0.47306,     0.47354,     0.47402,      0.4745,     0.47497,     0.47545,     0.47593,     0.47641,     0.47689,     0.47736,     0.47784,     0.47832,\n",
       "             0.4788,     0.47928,     0.47976,     0.48023,     0.48071,     0.48119,     0.48167,     0.48215,     0.48262,     0.48334,     0.48414,     0.48494,     0.48575,     0.48655,     0.48735,     0.48816,     0.48896,     0.48976,     0.49057,     0.49137,     0.49217,     0.49298,     0.49378,\n",
       "            0.49458,     0.49539,     0.49619,     0.49699,      0.4978,      0.4986,      0.4994,     0.50016,     0.50079,     0.50143,     0.50206,     0.50269,     0.50333,     0.50396,     0.50459,     0.50522,     0.50586,     0.50649,     0.50712,     0.50775,     0.50839,     0.50902,     0.50965,\n",
       "            0.51029,     0.51092,     0.51155,     0.51218,     0.51282,     0.51345,     0.51408,     0.51471,     0.51535,     0.51598,     0.51661,     0.51725,     0.51788,     0.51851,     0.50914,     0.50025,     0.50709,     0.51392,     0.51989,     0.51892,     0.51794,     0.51696,     0.51599,\n",
       "            0.51501,     0.51403,     0.51306,     0.51208,     0.51111,     0.51013,     0.50915,     0.50818,      0.5072,     0.50623,     0.50525,     0.50427,      0.5033,     0.50232,     0.50134,     0.50037,     0.49722,     0.49277,     0.48831,     0.48385,      0.4794,     0.47897,     0.47992,\n",
       "            0.48086,     0.48181,     0.48276,     0.48371,     0.48466,      0.4856,     0.48655,      0.4875,     0.48845,      0.4894,     0.49035,     0.49129,     0.49224,     0.49319,     0.49414,     0.49509,     0.49604,     0.49698,     0.49793,     0.49888,     0.49983,      0.4984,     0.49645,\n",
       "             0.4945,     0.49254,     0.49059,     0.48864,     0.48669,     0.48473,     0.48278,     0.48083,     0.47888,     0.47692,     0.47809,     0.48114,      0.4842,     0.48725,      0.4903,     0.49335,      0.4964,     0.49945,     0.49848,     0.49662,     0.49476,     0.49289,     0.49103,\n",
       "            0.48917,     0.48731,     0.48545,     0.48359,     0.48173,     0.47987,     0.47801,     0.47615,     0.47429,     0.48095,     0.49174,     0.50118,      0.5062,     0.51123,     0.51625,     0.52128,      0.5263,      0.5314,     0.53662,     0.54183,     0.54705,     0.55227,     0.55749,\n",
       "            0.56268,      0.5672,     0.57172,     0.57625,     0.58077,     0.58529,     0.58981,     0.59433,     0.59886,     0.60084,     0.60197,     0.60309,     0.60422,     0.60535,     0.60647,      0.6076,     0.60873,     0.60985,     0.61098,     0.61211,     0.61323,     0.61436,     0.61548,\n",
       "            0.61661,     0.61774,     0.61886,     0.61999,     0.62112,     0.62224,     0.62337,      0.6245,     0.62562,     0.62675,     0.62788,       0.629,     0.63013,     0.63125,     0.63238,     0.63351,     0.63463,     0.63576,     0.63689,     0.63801,     0.63914,     0.64027,     0.64139,\n",
       "            0.64252,     0.64594,     0.65035,     0.65475,     0.65916,     0.66357,     0.66798,     0.67238,     0.67679,      0.6812,     0.68561,     0.69002,     0.69427,     0.69834,     0.70242,      0.7065,     0.71058,     0.71466,     0.71874,     0.72281,     0.72689,     0.73097,     0.73505,\n",
       "            0.73913,     0.74321,     0.74728,      0.7509,     0.75359,     0.75627,     0.75896,     0.76165,     0.76434,     0.76703,     0.76971,      0.7724,     0.77509,     0.77778,     0.78047,     0.78315,     0.78584,     0.78853,     0.79122,     0.79391,     0.79659,     0.79928,     0.80197,\n",
       "            0.80466,     0.80735,     0.81003,     0.81272,     0.81541,      0.8181,     0.81628,     0.81432,     0.81236,      0.8104,     0.80843,     0.80647,     0.80451,     0.80255,     0.80059,     0.77713,     0.77622,      0.7753,     0.77438,     0.77346,     0.77254,     0.77162,      0.7707,\n",
       "            0.76979,     0.76887,     0.76795,     0.76703,     0.76611,     0.76519,     0.76428,     0.76336,     0.76244,     0.76152,      0.7606,     0.75968,     0.75876,     0.75785,     0.75693,     0.75601,     0.75509,     0.75417,     0.75325,     0.75234,     0.75142,      0.7505,     0.74854,\n",
       "            0.74536,     0.74218,     0.73899,     0.73581,     0.73263,     0.72944,     0.72626,     0.72308,     0.71989,     0.71671,     0.71273,     0.70623,     0.69972,     0.69321,      0.6867,     0.68019,     0.67369,     0.66718,      0.6646,     0.66236,     0.66012,     0.65788,     0.65564,\n",
       "             0.6534,     0.65116,     0.64892,     0.64668,     0.64444,      0.6422,     0.63996,     0.63772,     0.63548,     0.63324,     0.63099,     0.62875,     0.62651,     0.62427,     0.62203,     0.61979,     0.61755,     0.61531,     0.61307,     0.61083,     0.60859,     0.60635,     0.60411,\n",
       "            0.60187,     0.59948,     0.59632,     0.59317,     0.59001,     0.58686,     0.58371,     0.58055,      0.5774,     0.57425,     0.57109,     0.56794,     0.56478,     0.56163,     0.55848,     0.55532,     0.55217,     0.54901,     0.54586,     0.54271,     0.53955,      0.5364,     0.53324,\n",
       "            0.53009,     0.52694,     0.52378,     0.52063,     0.51747,     0.51432,     0.51117,     0.50801,     0.50486,      0.5017,     0.49396,     0.48082,     0.46768,     0.45454,      0.4414,     0.42826,     0.41511,     0.40197,     0.38883,     0.37569,     0.36255,     0.34941,     0.33627,\n",
       "            0.39969,     0.48511,      0.5184,     0.54068,     0.56297,     0.58525,     0.60753,     0.62981,      0.6521,     0.67438,     0.69666,     0.71895,     0.74123,     0.76351,      0.7858,     0.80808,     0.83036,     0.85265,     0.87493,     0.89721,      0.9195,     0.94178,     0.96406,\n",
       "            0.98635,           1,           1,           1,           1,           1,           1,           1,           1,           1,           1,           1,           1,           1,           1,           1,           1,           1,           1,           1,           1,           1,           1,\n",
       "                  1,           1,           1,           1,           1,           1,           1,           1,           1,           1,           1,           1,           1,           1,           1,           1,           1,           1,           1,           1,           1,           1,           1,\n",
       "                  1,           1,           1,           1,           1,           1,           1,           1,           1,           1,           1,           1,           1,           1,           1,           1,           1,           1,           1,           1,           1,           1,           1,\n",
       "                  1,           1,           1,           1,           1,           1,           1,           1,           1,           1,           1,           1,           1,           1,           1,           1,           1,           1,           1,           1,           1,           1,           1,\n",
       "                  1,           1,           1,           1,           1,           1,           1,           1,           1,           1,           1,           1,           1,           1,           1,           1,           1,           1,           1,           1,           1,           1,           1,\n",
       "                  1,           1,           1,           1,           1,           1,           1,           1,           1,           1,           1]]), 'Confidence', 'Precision'], [array([          0,    0.001001,    0.002002,    0.003003,    0.004004,    0.005005,    0.006006,    0.007007,    0.008008,    0.009009,     0.01001,    0.011011,    0.012012,    0.013013,    0.014014,    0.015015,    0.016016,    0.017017,    0.018018,    0.019019,     0.02002,    0.021021,    0.022022,    0.023023,\n",
       "          0.024024,    0.025025,    0.026026,    0.027027,    0.028028,    0.029029,     0.03003,    0.031031,    0.032032,    0.033033,    0.034034,    0.035035,    0.036036,    0.037037,    0.038038,    0.039039,     0.04004,    0.041041,    0.042042,    0.043043,    0.044044,    0.045045,    0.046046,    0.047047,\n",
       "          0.048048,    0.049049,     0.05005,    0.051051,    0.052052,    0.053053,    0.054054,    0.055055,    0.056056,    0.057057,    0.058058,    0.059059,     0.06006,    0.061061,    0.062062,    0.063063,    0.064064,    0.065065,    0.066066,    0.067067,    0.068068,    0.069069,     0.07007,    0.071071,\n",
       "          0.072072,    0.073073,    0.074074,    0.075075,    0.076076,    0.077077,    0.078078,    0.079079,     0.08008,    0.081081,    0.082082,    0.083083,    0.084084,    0.085085,    0.086086,    0.087087,    0.088088,    0.089089,     0.09009,    0.091091,    0.092092,    0.093093,    0.094094,    0.095095,\n",
       "          0.096096,    0.097097,    0.098098,    0.099099,      0.1001,      0.1011,      0.1021,      0.1031,      0.1041,     0.10511,     0.10611,     0.10711,     0.10811,     0.10911,     0.11011,     0.11111,     0.11211,     0.11311,     0.11411,     0.11512,     0.11612,     0.11712,     0.11812,     0.11912,\n",
       "           0.12012,     0.12112,     0.12212,     0.12312,     0.12412,     0.12513,     0.12613,     0.12713,     0.12813,     0.12913,     0.13013,     0.13113,     0.13213,     0.13313,     0.13413,     0.13514,     0.13614,     0.13714,     0.13814,     0.13914,     0.14014,     0.14114,     0.14214,     0.14314,\n",
       "           0.14414,     0.14515,     0.14615,     0.14715,     0.14815,     0.14915,     0.15015,     0.15115,     0.15215,     0.15315,     0.15415,     0.15516,     0.15616,     0.15716,     0.15816,     0.15916,     0.16016,     0.16116,     0.16216,     0.16316,     0.16416,     0.16517,     0.16617,     0.16717,\n",
       "           0.16817,     0.16917,     0.17017,     0.17117,     0.17217,     0.17317,     0.17417,     0.17518,     0.17618,     0.17718,     0.17818,     0.17918,     0.18018,     0.18118,     0.18218,     0.18318,     0.18418,     0.18519,     0.18619,     0.18719,     0.18819,     0.18919,     0.19019,     0.19119,\n",
       "           0.19219,     0.19319,     0.19419,      0.1952,      0.1962,      0.1972,      0.1982,      0.1992,      0.2002,      0.2012,      0.2022,      0.2032,      0.2042,     0.20521,     0.20621,     0.20721,     0.20821,     0.20921,     0.21021,     0.21121,     0.21221,     0.21321,     0.21421,     0.21522,\n",
       "           0.21622,     0.21722,     0.21822,     0.21922,     0.22022,     0.22122,     0.22222,     0.22322,     0.22422,     0.22523,     0.22623,     0.22723,     0.22823,     0.22923,     0.23023,     0.23123,     0.23223,     0.23323,     0.23423,     0.23524,     0.23624,     0.23724,     0.23824,     0.23924,\n",
       "           0.24024,     0.24124,     0.24224,     0.24324,     0.24424,     0.24525,     0.24625,     0.24725,     0.24825,     0.24925,     0.25025,     0.25125,     0.25225,     0.25325,     0.25425,     0.25526,     0.25626,     0.25726,     0.25826,     0.25926,     0.26026,     0.26126,     0.26226,     0.26326,\n",
       "           0.26426,     0.26527,     0.26627,     0.26727,     0.26827,     0.26927,     0.27027,     0.27127,     0.27227,     0.27327,     0.27427,     0.27528,     0.27628,     0.27728,     0.27828,     0.27928,     0.28028,     0.28128,     0.28228,     0.28328,     0.28428,     0.28529,     0.28629,     0.28729,\n",
       "           0.28829,     0.28929,     0.29029,     0.29129,     0.29229,     0.29329,     0.29429,      0.2953,      0.2963,      0.2973,      0.2983,      0.2993,      0.3003,      0.3013,      0.3023,      0.3033,      0.3043,     0.30531,     0.30631,     0.30731,     0.30831,     0.30931,     0.31031,     0.31131,\n",
       "           0.31231,     0.31331,     0.31431,     0.31532,     0.31632,     0.31732,     0.31832,     0.31932,     0.32032,     0.32132,     0.32232,     0.32332,     0.32432,     0.32533,     0.32633,     0.32733,     0.32833,     0.32933,     0.33033,     0.33133,     0.33233,     0.33333,     0.33433,     0.33534,\n",
       "           0.33634,     0.33734,     0.33834,     0.33934,     0.34034,     0.34134,     0.34234,     0.34334,     0.34434,     0.34535,     0.34635,     0.34735,     0.34835,     0.34935,     0.35035,     0.35135,     0.35235,     0.35335,     0.35435,     0.35536,     0.35636,     0.35736,     0.35836,     0.35936,\n",
       "           0.36036,     0.36136,     0.36236,     0.36336,     0.36436,     0.36537,     0.36637,     0.36737,     0.36837,     0.36937,     0.37037,     0.37137,     0.37237,     0.37337,     0.37437,     0.37538,     0.37638,     0.37738,     0.37838,     0.37938,     0.38038,     0.38138,     0.38238,     0.38338,\n",
       "           0.38438,     0.38539,     0.38639,     0.38739,     0.38839,     0.38939,     0.39039,     0.39139,     0.39239,     0.39339,     0.39439,      0.3954,      0.3964,      0.3974,      0.3984,      0.3994,      0.4004,      0.4014,      0.4024,      0.4034,      0.4044,     0.40541,     0.40641,     0.40741,\n",
       "           0.40841,     0.40941,     0.41041,     0.41141,     0.41241,     0.41341,     0.41441,     0.41542,     0.41642,     0.41742,     0.41842,     0.41942,     0.42042,     0.42142,     0.42242,     0.42342,     0.42442,     0.42543,     0.42643,     0.42743,     0.42843,     0.42943,     0.43043,     0.43143,\n",
       "           0.43243,     0.43343,     0.43443,     0.43544,     0.43644,     0.43744,     0.43844,     0.43944,     0.44044,     0.44144,     0.44244,     0.44344,     0.44444,     0.44545,     0.44645,     0.44745,     0.44845,     0.44945,     0.45045,     0.45145,     0.45245,     0.45345,     0.45445,     0.45546,\n",
       "           0.45646,     0.45746,     0.45846,     0.45946,     0.46046,     0.46146,     0.46246,     0.46346,     0.46446,     0.46547,     0.46647,     0.46747,     0.46847,     0.46947,     0.47047,     0.47147,     0.47247,     0.47347,     0.47447,     0.47548,     0.47648,     0.47748,     0.47848,     0.47948,\n",
       "           0.48048,     0.48148,     0.48248,     0.48348,     0.48448,     0.48549,     0.48649,     0.48749,     0.48849,     0.48949,     0.49049,     0.49149,     0.49249,     0.49349,     0.49449,      0.4955,      0.4965,      0.4975,      0.4985,      0.4995,      0.5005,      0.5015,      0.5025,      0.5035,\n",
       "            0.5045,     0.50551,     0.50651,     0.50751,     0.50851,     0.50951,     0.51051,     0.51151,     0.51251,     0.51351,     0.51451,     0.51552,     0.51652,     0.51752,     0.51852,     0.51952,     0.52052,     0.52152,     0.52252,     0.52352,     0.52452,     0.52553,     0.52653,     0.52753,\n",
       "           0.52853,     0.52953,     0.53053,     0.53153,     0.53253,     0.53353,     0.53453,     0.53554,     0.53654,     0.53754,     0.53854,     0.53954,     0.54054,     0.54154,     0.54254,     0.54354,     0.54454,     0.54555,     0.54655,     0.54755,     0.54855,     0.54955,     0.55055,     0.55155,\n",
       "           0.55255,     0.55355,     0.55455,     0.55556,     0.55656,     0.55756,     0.55856,     0.55956,     0.56056,     0.56156,     0.56256,     0.56356,     0.56456,     0.56557,     0.56657,     0.56757,     0.56857,     0.56957,     0.57057,     0.57157,     0.57257,     0.57357,     0.57457,     0.57558,\n",
       "           0.57658,     0.57758,     0.57858,     0.57958,     0.58058,     0.58158,     0.58258,     0.58358,     0.58458,     0.58559,     0.58659,     0.58759,     0.58859,     0.58959,     0.59059,     0.59159,     0.59259,     0.59359,     0.59459,      0.5956,      0.5966,      0.5976,      0.5986,      0.5996,\n",
       "            0.6006,      0.6016,      0.6026,      0.6036,      0.6046,     0.60561,     0.60661,     0.60761,     0.60861,     0.60961,     0.61061,     0.61161,     0.61261,     0.61361,     0.61461,     0.61562,     0.61662,     0.61762,     0.61862,     0.61962,     0.62062,     0.62162,     0.62262,     0.62362,\n",
       "           0.62462,     0.62563,     0.62663,     0.62763,     0.62863,     0.62963,     0.63063,     0.63163,     0.63263,     0.63363,     0.63463,     0.63564,     0.63664,     0.63764,     0.63864,     0.63964,     0.64064,     0.64164,     0.64264,     0.64364,     0.64464,     0.64565,     0.64665,     0.64765,\n",
       "           0.64865,     0.64965,     0.65065,     0.65165,     0.65265,     0.65365,     0.65465,     0.65566,     0.65666,     0.65766,     0.65866,     0.65966,     0.66066,     0.66166,     0.66266,     0.66366,     0.66466,     0.66567,     0.66667,     0.66767,     0.66867,     0.66967,     0.67067,     0.67167,\n",
       "           0.67267,     0.67367,     0.67467,     0.67568,     0.67668,     0.67768,     0.67868,     0.67968,     0.68068,     0.68168,     0.68268,     0.68368,     0.68468,     0.68569,     0.68669,     0.68769,     0.68869,     0.68969,     0.69069,     0.69169,     0.69269,     0.69369,     0.69469,      0.6957,\n",
       "            0.6967,      0.6977,      0.6987,      0.6997,      0.7007,      0.7017,      0.7027,      0.7037,      0.7047,     0.70571,     0.70671,     0.70771,     0.70871,     0.70971,     0.71071,     0.71171,     0.71271,     0.71371,     0.71471,     0.71572,     0.71672,     0.71772,     0.71872,     0.71972,\n",
       "           0.72072,     0.72172,     0.72272,     0.72372,     0.72472,     0.72573,     0.72673,     0.72773,     0.72873,     0.72973,     0.73073,     0.73173,     0.73273,     0.73373,     0.73473,     0.73574,     0.73674,     0.73774,     0.73874,     0.73974,     0.74074,     0.74174,     0.74274,     0.74374,\n",
       "           0.74474,     0.74575,     0.74675,     0.74775,     0.74875,     0.74975,     0.75075,     0.75175,     0.75275,     0.75375,     0.75475,     0.75576,     0.75676,     0.75776,     0.75876,     0.75976,     0.76076,     0.76176,     0.76276,     0.76376,     0.76476,     0.76577,     0.76677,     0.76777,\n",
       "           0.76877,     0.76977,     0.77077,     0.77177,     0.77277,     0.77377,     0.77477,     0.77578,     0.77678,     0.77778,     0.77878,     0.77978,     0.78078,     0.78178,     0.78278,     0.78378,     0.78478,     0.78579,     0.78679,     0.78779,     0.78879,     0.78979,     0.79079,     0.79179,\n",
       "           0.79279,     0.79379,     0.79479,      0.7958,      0.7968,      0.7978,      0.7988,      0.7998,      0.8008,      0.8018,      0.8028,      0.8038,      0.8048,     0.80581,     0.80681,     0.80781,     0.80881,     0.80981,     0.81081,     0.81181,     0.81281,     0.81381,     0.81481,     0.81582,\n",
       "           0.81682,     0.81782,     0.81882,     0.81982,     0.82082,     0.82182,     0.82282,     0.82382,     0.82482,     0.82583,     0.82683,     0.82783,     0.82883,     0.82983,     0.83083,     0.83183,     0.83283,     0.83383,     0.83483,     0.83584,     0.83684,     0.83784,     0.83884,     0.83984,\n",
       "           0.84084,     0.84184,     0.84284,     0.84384,     0.84484,     0.84585,     0.84685,     0.84785,     0.84885,     0.84985,     0.85085,     0.85185,     0.85285,     0.85385,     0.85485,     0.85586,     0.85686,     0.85786,     0.85886,     0.85986,     0.86086,     0.86186,     0.86286,     0.86386,\n",
       "           0.86486,     0.86587,     0.86687,     0.86787,     0.86887,     0.86987,     0.87087,     0.87187,     0.87287,     0.87387,     0.87487,     0.87588,     0.87688,     0.87788,     0.87888,     0.87988,     0.88088,     0.88188,     0.88288,     0.88388,     0.88488,     0.88589,     0.88689,     0.88789,\n",
       "           0.88889,     0.88989,     0.89089,     0.89189,     0.89289,     0.89389,     0.89489,      0.8959,      0.8969,      0.8979,      0.8989,      0.8999,      0.9009,      0.9019,      0.9029,      0.9039,      0.9049,     0.90591,     0.90691,     0.90791,     0.90891,     0.90991,     0.91091,     0.91191,\n",
       "           0.91291,     0.91391,     0.91491,     0.91592,     0.91692,     0.91792,     0.91892,     0.91992,     0.92092,     0.92192,     0.92292,     0.92392,     0.92492,     0.92593,     0.92693,     0.92793,     0.92893,     0.92993,     0.93093,     0.93193,     0.93293,     0.93393,     0.93493,     0.93594,\n",
       "           0.93694,     0.93794,     0.93894,     0.93994,     0.94094,     0.94194,     0.94294,     0.94394,     0.94494,     0.94595,     0.94695,     0.94795,     0.94895,     0.94995,     0.95095,     0.95195,     0.95295,     0.95395,     0.95495,     0.95596,     0.95696,     0.95796,     0.95896,     0.95996,\n",
       "           0.96096,     0.96196,     0.96296,     0.96396,     0.96496,     0.96597,     0.96697,     0.96797,     0.96897,     0.96997,     0.97097,     0.97197,     0.97297,     0.97397,     0.97497,     0.97598,     0.97698,     0.97798,     0.97898,     0.97998,     0.98098,     0.98198,     0.98298,     0.98398,\n",
       "           0.98498,     0.98599,     0.98699,     0.98799,     0.98899,     0.98999,     0.99099,     0.99199,     0.99299,     0.99399,     0.99499,       0.996,       0.997,       0.998,       0.999,           1]), array([[    0.78788,     0.78788,     0.78788,     0.78788,     0.78788,     0.78788,     0.78788,     0.78788,     0.78788,     0.78788,     0.78788,     0.78788,     0.78788,     0.78788,     0.78788,     0.78788,     0.78788,     0.78788,     0.78788,     0.78788,     0.78788,     0.78788,     0.78788,\n",
       "            0.78788,     0.78788,     0.78788,     0.78788,     0.78788,     0.78788,     0.78788,     0.78788,     0.78788,     0.75583,     0.74005,     0.72727,     0.72727,      0.7151,     0.66667,     0.66667,     0.66667,     0.66667,     0.66667,     0.66667,     0.66667,     0.66667,     0.66667,\n",
       "            0.66667,     0.66667,     0.66667,     0.66667,     0.66667,     0.66667,     0.66667,     0.66667,     0.66667,     0.66667,     0.66667,     0.66667,     0.66667,     0.66667,     0.66667,     0.66667,     0.66667,     0.66667,     0.66667,     0.66667,     0.66667,     0.66667,     0.66667,\n",
       "            0.66667,     0.65642,     0.63636,     0.63636,     0.63636,     0.63636,     0.63636,     0.63636,     0.63636,     0.63636,     0.63636,     0.63636,     0.63636,     0.63636,     0.63636,     0.63636,     0.63636,     0.63636,     0.63636,     0.63636,     0.63636,     0.63636,     0.63636,\n",
       "            0.63636,     0.63636,     0.63636,     0.63636,     0.63636,     0.63636,     0.63636,     0.63099,     0.62271,     0.61442,     0.60614,     0.58966,     0.57576,     0.57576,     0.57576,     0.57576,     0.57576,     0.57576,     0.57576,     0.57576,     0.57576,     0.57576,     0.57576,\n",
       "            0.55509,     0.54545,     0.54545,     0.54545,     0.54545,     0.54545,     0.54545,     0.54545,     0.54545,     0.54545,     0.54545,     0.54545,     0.54545,     0.54545,     0.54545,     0.54545,     0.54545,     0.54545,     0.54545,     0.54545,     0.54545,     0.54545,     0.54545,\n",
       "            0.54545,     0.54545,     0.54545,     0.54545,     0.54545,     0.54545,     0.54545,     0.54545,     0.54545,     0.54545,     0.54545,     0.54545,     0.54545,     0.54545,     0.54545,     0.54545,     0.54545,     0.54545,     0.54545,     0.54545,     0.54545,     0.54545,     0.54545,\n",
       "            0.54545,     0.54545,     0.54545,     0.54545,     0.54545,     0.54545,     0.54545,     0.54545,     0.54545,     0.54545,     0.54545,     0.54545,     0.54545,     0.54545,     0.54545,     0.54545,     0.54545,     0.54545,     0.54545,     0.54545,     0.54545,     0.54545,     0.54545,\n",
       "            0.54545,     0.54545,     0.54545,     0.54545,     0.54545,     0.54545,     0.54545,     0.54545,     0.54545,     0.54545,     0.54545,     0.54545,     0.54545,     0.54545,     0.54545,     0.54545,     0.54545,     0.54545,     0.54545,     0.54545,     0.54545,     0.54545,     0.54545,\n",
       "            0.54545,     0.54545,     0.54545,     0.54545,     0.54545,     0.54545,     0.54545,     0.54545,     0.54545,     0.54545,     0.54545,     0.54545,     0.54545,     0.54545,     0.54545,     0.54545,     0.54545,     0.54545,     0.54545,     0.54545,     0.54545,     0.54545,     0.54545,\n",
       "            0.54545,     0.54545,     0.54545,     0.54545,     0.54545,     0.54545,     0.54545,     0.54545,     0.54545,     0.54545,     0.54545,     0.54545,     0.54545,     0.54545,     0.54545,     0.54545,     0.54545,     0.54545,     0.54545,     0.54545,     0.54545,     0.54545,     0.54545,\n",
       "            0.54545,     0.54545,     0.54545,     0.54545,     0.54545,     0.54545,     0.54545,     0.54545,     0.54545,     0.54545,     0.54491,     0.54323,     0.54155,     0.53987,      0.5382,     0.53652,     0.53484,     0.53316,     0.53148,      0.5298,     0.52812,     0.52644,     0.52476,\n",
       "            0.52308,     0.52141,     0.51973,     0.51805,     0.51637,     0.51515,     0.51515,     0.51515,     0.51515,     0.51515,     0.51515,     0.51515,     0.51515,     0.51515,     0.51515,     0.51515,     0.51515,     0.51515,     0.51515,     0.51515,     0.51515,     0.51515,     0.51515,\n",
       "            0.51515,     0.51515,     0.51515,     0.51515,     0.51515,     0.50042,     0.48485,     0.48485,     0.48485,     0.48485,     0.48485,     0.48485,     0.48485,     0.48485,     0.48485,     0.48485,     0.48485,     0.48485,     0.48485,     0.48485,     0.48485,     0.48485,     0.48485,\n",
       "            0.48485,     0.48485,     0.48485,     0.48485,     0.48485,     0.48485,     0.48485,     0.48485,     0.48485,     0.48485,     0.48485,     0.48485,     0.48485,     0.48485,     0.48485,     0.48485,     0.48485,     0.48485,     0.48485,     0.48485,     0.48485,     0.48485,     0.48485,\n",
       "            0.48485,     0.48485,     0.48485,     0.48485,     0.48485,     0.48485,     0.48485,     0.48485,     0.48485,     0.48485,     0.48485,     0.48485,     0.48485,     0.48485,     0.48485,     0.48485,     0.48485,     0.48485,     0.48485,     0.48485,     0.48485,     0.48485,     0.48485,\n",
       "            0.48485,     0.48485,     0.48485,     0.48485,     0.48485,     0.48485,     0.48485,     0.48485,     0.48485,     0.48485,     0.48485,     0.48485,     0.48485,     0.48485,     0.48485,     0.48485,     0.48485,     0.48485,     0.48485,     0.48485,     0.48485,     0.48485,     0.48485,\n",
       "            0.48485,     0.48485,     0.48485,     0.48485,     0.48485,     0.48485,     0.48485,     0.48485,     0.48485,     0.48485,     0.48485,     0.48485,     0.48485,     0.48485,     0.48485,     0.48485,     0.48485,     0.48485,     0.48485,     0.48485,     0.48485,     0.48485,     0.48485,\n",
       "            0.48485,     0.48485,     0.48485,     0.48485,     0.48485,     0.48334,     0.48123,     0.47913,     0.47702,     0.47491,     0.47281,      0.4707,      0.4686,     0.46649,     0.46438,     0.46228,     0.46017,     0.45807,     0.45596,     0.44946,     0.43393,     0.42424,     0.42424,\n",
       "            0.42424,     0.42424,     0.42424,     0.42424,     0.42424,     0.42424,     0.42424,     0.42424,     0.42424,     0.42424,     0.42424,     0.42424,     0.42424,     0.42424,     0.42424,     0.42424,     0.42424,     0.42424,     0.42424,     0.42424,     0.42424,     0.42424,     0.42424,\n",
       "            0.42424,     0.42424,     0.42424,     0.42424,     0.42424,     0.42424,     0.42424,     0.42424,     0.42424,     0.42424,     0.42424,     0.42424,     0.42424,     0.42424,     0.42424,     0.42424,     0.42424,     0.42424,     0.42424,     0.42424,     0.42424,     0.42424,     0.42424,\n",
       "            0.42424,     0.42424,     0.42424,     0.42424,     0.42424,     0.42424,     0.42424,     0.42424,     0.42424,     0.42424,     0.42424,     0.42424,     0.42424,     0.42424,     0.42424,     0.42424,     0.42424,     0.42424,     0.42424,     0.42424,     0.42424,     0.42424,     0.42424,\n",
       "            0.42424,     0.42424,     0.42424,     0.42424,     0.42424,     0.42424,     0.42424,     0.42424,     0.42424,     0.42424,     0.42424,     0.42424,     0.42424,     0.42424,     0.40889,     0.39394,     0.39394,     0.39394,     0.39378,      0.3923,     0.39082,     0.38934,     0.38786,\n",
       "            0.38638,      0.3849,     0.38342,     0.38194,     0.38046,     0.37899,     0.37751,     0.37603,     0.37455,     0.37307,     0.37159,     0.37011,     0.36863,     0.36715,     0.36567,     0.36419,     0.35977,     0.35355,     0.34734,     0.34113,     0.33492,     0.33333,     0.33333,\n",
       "            0.33333,     0.33333,     0.33333,     0.33333,     0.33333,     0.33333,     0.33333,     0.33333,     0.33333,     0.33333,     0.33333,     0.33333,     0.33333,     0.33333,     0.33333,     0.33333,     0.33333,     0.33333,     0.33333,     0.33333,     0.33333,      0.3313,     0.32881,\n",
       "            0.32633,     0.32384,     0.32136,     0.31887,     0.31639,      0.3139,     0.31142,     0.30893,     0.30645,     0.30396,     0.30303,     0.30303,     0.30303,     0.30303,     0.30303,     0.30303,     0.30303,     0.30303,     0.30128,     0.29913,     0.29699,     0.29485,     0.29271,\n",
       "            0.29056,     0.28842,     0.28628,     0.28414,       0.282,     0.27985,     0.27771,     0.27557,     0.27343,     0.27273,     0.27273,     0.27273,     0.27273,     0.27273,     0.27273,     0.27273,     0.27273,     0.27273,     0.27273,     0.27273,     0.27273,     0.27273,     0.27273,\n",
       "            0.27273,     0.27273,     0.27273,     0.27273,     0.27273,     0.27273,     0.27273,     0.27273,     0.27273,     0.27273,     0.27273,     0.27273,     0.27273,     0.27273,     0.27273,     0.27273,     0.27273,     0.27273,     0.27273,     0.27273,     0.27273,     0.27273,     0.27273,\n",
       "            0.27273,     0.27273,     0.27273,     0.27273,     0.27273,     0.27273,     0.27273,     0.27273,     0.27273,     0.27273,     0.27273,     0.27273,     0.27273,     0.27273,     0.27273,     0.27273,     0.27273,     0.27273,     0.27273,     0.27273,     0.27273,     0.27273,     0.27273,\n",
       "            0.27273,     0.27273,     0.27273,     0.27273,     0.27273,     0.27273,     0.27273,     0.27273,     0.27273,     0.27273,     0.27273,     0.27273,     0.27273,     0.27273,     0.27273,     0.27273,     0.27273,     0.27273,     0.27273,     0.27273,     0.27273,     0.27273,     0.27273,\n",
       "            0.27273,     0.27273,     0.27273,     0.27273,     0.27273,     0.27273,     0.27273,     0.27273,     0.27273,     0.27273,     0.27273,     0.27273,     0.27273,     0.27273,     0.27273,     0.27273,     0.27273,     0.27273,     0.27273,     0.27273,     0.27273,     0.27273,     0.27273,\n",
       "            0.27273,     0.27273,     0.27273,     0.27273,     0.27273,     0.27273,     0.26956,     0.26629,     0.26302,     0.25975,     0.25648,     0.25321,     0.24994,     0.24667,      0.2434,     0.21142,     0.21042,     0.20942,     0.20841,     0.20741,     0.20641,     0.20541,     0.20441,\n",
       "             0.2034,      0.2024,      0.2014,      0.2004,      0.1994,     0.19839,     0.19739,     0.19639,     0.19539,     0.19439,     0.19338,     0.19238,     0.19138,     0.19038,     0.18938,     0.18837,     0.18737,     0.18637,     0.18537,     0.18437,     0.18336,     0.18236,     0.18058,\n",
       "            0.17788,     0.17518,     0.17248,     0.16978,     0.16708,     0.16438,     0.16168,     0.15897,     0.15627,     0.15357,     0.15053,     0.14639,     0.14225,      0.1381,     0.13396,     0.12982,     0.12568,     0.12154,     0.12027,     0.11926,     0.11824,     0.11722,      0.1162,\n",
       "            0.11518,     0.11416,     0.11314,     0.11213,     0.11111,     0.11009,     0.10907,     0.10805,     0.10703,     0.10602,       0.105,     0.10398,     0.10296,     0.10194,     0.10092,    0.099906,    0.098887,    0.097869,     0.09685,    0.095832,    0.094814,    0.093795,    0.092777,\n",
       "           0.091758,     0.09075,    0.089795,    0.088839,    0.087883,    0.086927,    0.085972,    0.085016,     0.08406,    0.083105,    0.082149,    0.081193,    0.080237,    0.079282,    0.078326,     0.07737,    0.076414,    0.075459,    0.074503,    0.073547,    0.072591,    0.071636,     0.07068,\n",
       "           0.069724,    0.068769,    0.067813,    0.066857,    0.065901,    0.064946,     0.06399,    0.063034,    0.062078,    0.061123,    0.059508,    0.057119,     0.05473,     0.05234,    0.049951,    0.047562,    0.045172,    0.042783,    0.040394,    0.038004,    0.035615,    0.033226,    0.030836,\n",
       "           0.030303,    0.030303,    0.030303,    0.030303,    0.030303,    0.030303,    0.030303,    0.030303,    0.030303,    0.030303,    0.030303,    0.030303,    0.030303,    0.030303,    0.030303,    0.030303,    0.030303,    0.030303,    0.030303,    0.030303,    0.030303,    0.030303,    0.030303,\n",
       "           0.030303,           0,           0,           0,           0,           0,           0,           0,           0,           0,           0,           0,           0,           0,           0,           0,           0,           0,           0,           0,           0,           0,           0,\n",
       "                  0,           0,           0,           0,           0,           0,           0,           0,           0,           0,           0,           0,           0,           0,           0,           0,           0,           0,           0,           0,           0,           0,           0,\n",
       "                  0,           0,           0,           0,           0,           0,           0,           0,           0,           0,           0,           0,           0,           0,           0,           0,           0,           0,           0,           0,           0,           0,           0,\n",
       "                  0,           0,           0,           0,           0,           0,           0,           0,           0,           0,           0,           0,           0,           0,           0,           0,           0,           0,           0,           0,           0,           0,           0,\n",
       "                  0,           0,           0,           0,           0,           0,           0,           0,           0,           0,           0,           0,           0,           0,           0,           0,           0,           0,           0,           0,           0,           0,           0,\n",
       "                  0,           0,           0,           0,           0,           0,           0,           0,           0,           0,           0]]), 'Confidence', 'Recall'], [array([          0,    0.001001,    0.002002,    0.003003,    0.004004,    0.005005,    0.006006,    0.007007,    0.008008,    0.009009,     0.01001,    0.011011,    0.012012,    0.013013,    0.014014,    0.015015,    0.016016,    0.017017,    0.018018,    0.019019,     0.02002,    0.021021,    0.022022,    0.023023,\n",
       "          0.024024,    0.025025,    0.026026,    0.027027,    0.028028,    0.029029,     0.03003,    0.031031,    0.032032,    0.033033,    0.034034,    0.035035,    0.036036,    0.037037,    0.038038,    0.039039,     0.04004,    0.041041,    0.042042,    0.043043,    0.044044,    0.045045,    0.046046,    0.047047,\n",
       "          0.048048,    0.049049,     0.05005,    0.051051,    0.052052,    0.053053,    0.054054,    0.055055,    0.056056,    0.057057,    0.058058,    0.059059,     0.06006,    0.061061,    0.062062,    0.063063,    0.064064,    0.065065,    0.066066,    0.067067,    0.068068,    0.069069,     0.07007,    0.071071,\n",
       "          0.072072,    0.073073,    0.074074,    0.075075,    0.076076,    0.077077,    0.078078,    0.079079,     0.08008,    0.081081,    0.082082,    0.083083,    0.084084,    0.085085,    0.086086,    0.087087,    0.088088,    0.089089,     0.09009,    0.091091,    0.092092,    0.093093,    0.094094,    0.095095,\n",
       "          0.096096,    0.097097,    0.098098,    0.099099,      0.1001,      0.1011,      0.1021,      0.1031,      0.1041,     0.10511,     0.10611,     0.10711,     0.10811,     0.10911,     0.11011,     0.11111,     0.11211,     0.11311,     0.11411,     0.11512,     0.11612,     0.11712,     0.11812,     0.11912,\n",
       "           0.12012,     0.12112,     0.12212,     0.12312,     0.12412,     0.12513,     0.12613,     0.12713,     0.12813,     0.12913,     0.13013,     0.13113,     0.13213,     0.13313,     0.13413,     0.13514,     0.13614,     0.13714,     0.13814,     0.13914,     0.14014,     0.14114,     0.14214,     0.14314,\n",
       "           0.14414,     0.14515,     0.14615,     0.14715,     0.14815,     0.14915,     0.15015,     0.15115,     0.15215,     0.15315,     0.15415,     0.15516,     0.15616,     0.15716,     0.15816,     0.15916,     0.16016,     0.16116,     0.16216,     0.16316,     0.16416,     0.16517,     0.16617,     0.16717,\n",
       "           0.16817,     0.16917,     0.17017,     0.17117,     0.17217,     0.17317,     0.17417,     0.17518,     0.17618,     0.17718,     0.17818,     0.17918,     0.18018,     0.18118,     0.18218,     0.18318,     0.18418,     0.18519,     0.18619,     0.18719,     0.18819,     0.18919,     0.19019,     0.19119,\n",
       "           0.19219,     0.19319,     0.19419,      0.1952,      0.1962,      0.1972,      0.1982,      0.1992,      0.2002,      0.2012,      0.2022,      0.2032,      0.2042,     0.20521,     0.20621,     0.20721,     0.20821,     0.20921,     0.21021,     0.21121,     0.21221,     0.21321,     0.21421,     0.21522,\n",
       "           0.21622,     0.21722,     0.21822,     0.21922,     0.22022,     0.22122,     0.22222,     0.22322,     0.22422,     0.22523,     0.22623,     0.22723,     0.22823,     0.22923,     0.23023,     0.23123,     0.23223,     0.23323,     0.23423,     0.23524,     0.23624,     0.23724,     0.23824,     0.23924,\n",
       "           0.24024,     0.24124,     0.24224,     0.24324,     0.24424,     0.24525,     0.24625,     0.24725,     0.24825,     0.24925,     0.25025,     0.25125,     0.25225,     0.25325,     0.25425,     0.25526,     0.25626,     0.25726,     0.25826,     0.25926,     0.26026,     0.26126,     0.26226,     0.26326,\n",
       "           0.26426,     0.26527,     0.26627,     0.26727,     0.26827,     0.26927,     0.27027,     0.27127,     0.27227,     0.27327,     0.27427,     0.27528,     0.27628,     0.27728,     0.27828,     0.27928,     0.28028,     0.28128,     0.28228,     0.28328,     0.28428,     0.28529,     0.28629,     0.28729,\n",
       "           0.28829,     0.28929,     0.29029,     0.29129,     0.29229,     0.29329,     0.29429,      0.2953,      0.2963,      0.2973,      0.2983,      0.2993,      0.3003,      0.3013,      0.3023,      0.3033,      0.3043,     0.30531,     0.30631,     0.30731,     0.30831,     0.30931,     0.31031,     0.31131,\n",
       "           0.31231,     0.31331,     0.31431,     0.31532,     0.31632,     0.31732,     0.31832,     0.31932,     0.32032,     0.32132,     0.32232,     0.32332,     0.32432,     0.32533,     0.32633,     0.32733,     0.32833,     0.32933,     0.33033,     0.33133,     0.33233,     0.33333,     0.33433,     0.33534,\n",
       "           0.33634,     0.33734,     0.33834,     0.33934,     0.34034,     0.34134,     0.34234,     0.34334,     0.34434,     0.34535,     0.34635,     0.34735,     0.34835,     0.34935,     0.35035,     0.35135,     0.35235,     0.35335,     0.35435,     0.35536,     0.35636,     0.35736,     0.35836,     0.35936,\n",
       "           0.36036,     0.36136,     0.36236,     0.36336,     0.36436,     0.36537,     0.36637,     0.36737,     0.36837,     0.36937,     0.37037,     0.37137,     0.37237,     0.37337,     0.37437,     0.37538,     0.37638,     0.37738,     0.37838,     0.37938,     0.38038,     0.38138,     0.38238,     0.38338,\n",
       "           0.38438,     0.38539,     0.38639,     0.38739,     0.38839,     0.38939,     0.39039,     0.39139,     0.39239,     0.39339,     0.39439,      0.3954,      0.3964,      0.3974,      0.3984,      0.3994,      0.4004,      0.4014,      0.4024,      0.4034,      0.4044,     0.40541,     0.40641,     0.40741,\n",
       "           0.40841,     0.40941,     0.41041,     0.41141,     0.41241,     0.41341,     0.41441,     0.41542,     0.41642,     0.41742,     0.41842,     0.41942,     0.42042,     0.42142,     0.42242,     0.42342,     0.42442,     0.42543,     0.42643,     0.42743,     0.42843,     0.42943,     0.43043,     0.43143,\n",
       "           0.43243,     0.43343,     0.43443,     0.43544,     0.43644,     0.43744,     0.43844,     0.43944,     0.44044,     0.44144,     0.44244,     0.44344,     0.44444,     0.44545,     0.44645,     0.44745,     0.44845,     0.44945,     0.45045,     0.45145,     0.45245,     0.45345,     0.45445,     0.45546,\n",
       "           0.45646,     0.45746,     0.45846,     0.45946,     0.46046,     0.46146,     0.46246,     0.46346,     0.46446,     0.46547,     0.46647,     0.46747,     0.46847,     0.46947,     0.47047,     0.47147,     0.47247,     0.47347,     0.47447,     0.47548,     0.47648,     0.47748,     0.47848,     0.47948,\n",
       "           0.48048,     0.48148,     0.48248,     0.48348,     0.48448,     0.48549,     0.48649,     0.48749,     0.48849,     0.48949,     0.49049,     0.49149,     0.49249,     0.49349,     0.49449,      0.4955,      0.4965,      0.4975,      0.4985,      0.4995,      0.5005,      0.5015,      0.5025,      0.5035,\n",
       "            0.5045,     0.50551,     0.50651,     0.50751,     0.50851,     0.50951,     0.51051,     0.51151,     0.51251,     0.51351,     0.51451,     0.51552,     0.51652,     0.51752,     0.51852,     0.51952,     0.52052,     0.52152,     0.52252,     0.52352,     0.52452,     0.52553,     0.52653,     0.52753,\n",
       "           0.52853,     0.52953,     0.53053,     0.53153,     0.53253,     0.53353,     0.53453,     0.53554,     0.53654,     0.53754,     0.53854,     0.53954,     0.54054,     0.54154,     0.54254,     0.54354,     0.54454,     0.54555,     0.54655,     0.54755,     0.54855,     0.54955,     0.55055,     0.55155,\n",
       "           0.55255,     0.55355,     0.55455,     0.55556,     0.55656,     0.55756,     0.55856,     0.55956,     0.56056,     0.56156,     0.56256,     0.56356,     0.56456,     0.56557,     0.56657,     0.56757,     0.56857,     0.56957,     0.57057,     0.57157,     0.57257,     0.57357,     0.57457,     0.57558,\n",
       "           0.57658,     0.57758,     0.57858,     0.57958,     0.58058,     0.58158,     0.58258,     0.58358,     0.58458,     0.58559,     0.58659,     0.58759,     0.58859,     0.58959,     0.59059,     0.59159,     0.59259,     0.59359,     0.59459,      0.5956,      0.5966,      0.5976,      0.5986,      0.5996,\n",
       "            0.6006,      0.6016,      0.6026,      0.6036,      0.6046,     0.60561,     0.60661,     0.60761,     0.60861,     0.60961,     0.61061,     0.61161,     0.61261,     0.61361,     0.61461,     0.61562,     0.61662,     0.61762,     0.61862,     0.61962,     0.62062,     0.62162,     0.62262,     0.62362,\n",
       "           0.62462,     0.62563,     0.62663,     0.62763,     0.62863,     0.62963,     0.63063,     0.63163,     0.63263,     0.63363,     0.63463,     0.63564,     0.63664,     0.63764,     0.63864,     0.63964,     0.64064,     0.64164,     0.64264,     0.64364,     0.64464,     0.64565,     0.64665,     0.64765,\n",
       "           0.64865,     0.64965,     0.65065,     0.65165,     0.65265,     0.65365,     0.65465,     0.65566,     0.65666,     0.65766,     0.65866,     0.65966,     0.66066,     0.66166,     0.66266,     0.66366,     0.66466,     0.66567,     0.66667,     0.66767,     0.66867,     0.66967,     0.67067,     0.67167,\n",
       "           0.67267,     0.67367,     0.67467,     0.67568,     0.67668,     0.67768,     0.67868,     0.67968,     0.68068,     0.68168,     0.68268,     0.68368,     0.68468,     0.68569,     0.68669,     0.68769,     0.68869,     0.68969,     0.69069,     0.69169,     0.69269,     0.69369,     0.69469,      0.6957,\n",
       "            0.6967,      0.6977,      0.6987,      0.6997,      0.7007,      0.7017,      0.7027,      0.7037,      0.7047,     0.70571,     0.70671,     0.70771,     0.70871,     0.70971,     0.71071,     0.71171,     0.71271,     0.71371,     0.71471,     0.71572,     0.71672,     0.71772,     0.71872,     0.71972,\n",
       "           0.72072,     0.72172,     0.72272,     0.72372,     0.72472,     0.72573,     0.72673,     0.72773,     0.72873,     0.72973,     0.73073,     0.73173,     0.73273,     0.73373,     0.73473,     0.73574,     0.73674,     0.73774,     0.73874,     0.73974,     0.74074,     0.74174,     0.74274,     0.74374,\n",
       "           0.74474,     0.74575,     0.74675,     0.74775,     0.74875,     0.74975,     0.75075,     0.75175,     0.75275,     0.75375,     0.75475,     0.75576,     0.75676,     0.75776,     0.75876,     0.75976,     0.76076,     0.76176,     0.76276,     0.76376,     0.76476,     0.76577,     0.76677,     0.76777,\n",
       "           0.76877,     0.76977,     0.77077,     0.77177,     0.77277,     0.77377,     0.77477,     0.77578,     0.77678,     0.77778,     0.77878,     0.77978,     0.78078,     0.78178,     0.78278,     0.78378,     0.78478,     0.78579,     0.78679,     0.78779,     0.78879,     0.78979,     0.79079,     0.79179,\n",
       "           0.79279,     0.79379,     0.79479,      0.7958,      0.7968,      0.7978,      0.7988,      0.7998,      0.8008,      0.8018,      0.8028,      0.8038,      0.8048,     0.80581,     0.80681,     0.80781,     0.80881,     0.80981,     0.81081,     0.81181,     0.81281,     0.81381,     0.81481,     0.81582,\n",
       "           0.81682,     0.81782,     0.81882,     0.81982,     0.82082,     0.82182,     0.82282,     0.82382,     0.82482,     0.82583,     0.82683,     0.82783,     0.82883,     0.82983,     0.83083,     0.83183,     0.83283,     0.83383,     0.83483,     0.83584,     0.83684,     0.83784,     0.83884,     0.83984,\n",
       "           0.84084,     0.84184,     0.84284,     0.84384,     0.84484,     0.84585,     0.84685,     0.84785,     0.84885,     0.84985,     0.85085,     0.85185,     0.85285,     0.85385,     0.85485,     0.85586,     0.85686,     0.85786,     0.85886,     0.85986,     0.86086,     0.86186,     0.86286,     0.86386,\n",
       "           0.86486,     0.86587,     0.86687,     0.86787,     0.86887,     0.86987,     0.87087,     0.87187,     0.87287,     0.87387,     0.87487,     0.87588,     0.87688,     0.87788,     0.87888,     0.87988,     0.88088,     0.88188,     0.88288,     0.88388,     0.88488,     0.88589,     0.88689,     0.88789,\n",
       "           0.88889,     0.88989,     0.89089,     0.89189,     0.89289,     0.89389,     0.89489,      0.8959,      0.8969,      0.8979,      0.8989,      0.8999,      0.9009,      0.9019,      0.9029,      0.9039,      0.9049,     0.90591,     0.90691,     0.90791,     0.90891,     0.90991,     0.91091,     0.91191,\n",
       "           0.91291,     0.91391,     0.91491,     0.91592,     0.91692,     0.91792,     0.91892,     0.91992,     0.92092,     0.92192,     0.92292,     0.92392,     0.92492,     0.92593,     0.92693,     0.92793,     0.92893,     0.92993,     0.93093,     0.93193,     0.93293,     0.93393,     0.93493,     0.93594,\n",
       "           0.93694,     0.93794,     0.93894,     0.93994,     0.94094,     0.94194,     0.94294,     0.94394,     0.94494,     0.94595,     0.94695,     0.94795,     0.94895,     0.94995,     0.95095,     0.95195,     0.95295,     0.95395,     0.95495,     0.95596,     0.95696,     0.95796,     0.95896,     0.95996,\n",
       "           0.96096,     0.96196,     0.96296,     0.96396,     0.96496,     0.96597,     0.96697,     0.96797,     0.96897,     0.96997,     0.97097,     0.97197,     0.97297,     0.97397,     0.97497,     0.97598,     0.97698,     0.97798,     0.97898,     0.97998,     0.98098,     0.98198,     0.98298,     0.98398,\n",
       "           0.98498,     0.98599,     0.98699,     0.98799,     0.98899,     0.98999,     0.99099,     0.99199,     0.99299,     0.99399,     0.99499,       0.996,       0.997,       0.998,       0.999,           1]), array([[          1,           1,           1,           1,           1,           1,           1,           1,           1,           1,           1,           1,           1,           1,           1,           1,           1,           1,           1,           1,           1,           1,           1,\n",
       "                  1,           1,           1,           1,           1,           1,           1,           1,     0.77778,     0.77778,     0.77778,     0.77778,     0.77778,     0.77778,     0.77778,     0.77778,     0.77778,     0.77778,     0.77778,     0.77778,     0.77778,     0.77778,     0.77778,\n",
       "            0.77778,     0.77778,     0.77778,     0.77778,     0.77778,     0.77778,     0.77778,     0.77778,     0.77778,     0.77778,     0.77778,     0.77778,     0.77778,     0.77778,     0.77778,     0.77778,     0.77778,     0.77778,     0.77778,     0.77778,     0.77778,     0.77778,     0.77778,\n",
       "            0.77778,     0.77778,     0.77778,     0.77778,     0.77778,     0.77778,     0.77778,     0.77778,     0.77778,     0.77778,     0.77778,     0.77778,     0.77778,     0.77778,     0.77778,     0.77778,     0.77778,     0.77778,     0.77778,     0.77778,     0.77778,     0.77778,     0.77778,\n",
       "            0.77778,     0.77778,     0.77778,     0.77778,     0.77778,     0.77778,     0.77778,     0.77778,     0.77778,     0.77778,     0.77778,     0.77778,     0.77778,     0.77778,     0.77778,     0.77778,     0.77778,     0.77778,     0.77778,     0.77778,     0.77778,     0.77778,     0.77778,\n",
       "            0.77778,     0.77778,     0.77778,     0.77778,     0.77778,     0.77778,     0.77778,     0.77778,     0.77778,     0.77778,     0.77778,     0.77778,     0.77778,     0.77778,     0.77778,     0.77778,     0.77778,     0.77778,     0.77778,     0.77778,     0.77778,     0.77778,     0.77778,\n",
       "            0.77778,     0.77778,     0.77778,     0.77778,     0.77778,     0.77778,     0.77778,     0.77778,     0.77778,     0.77778,     0.77778,     0.77778,     0.77778,     0.77778,     0.77778,     0.77778,     0.77778,     0.77778,     0.77778,     0.77778,     0.77778,     0.77778,     0.77778,\n",
       "            0.77778,     0.77778,     0.77778,     0.77778,     0.77778,     0.77778,     0.77778,     0.77778,     0.77778,     0.77778,     0.77778,     0.77778,     0.77778,     0.77778,     0.77778,     0.77778,     0.77778,     0.77778,     0.77778,     0.77778,     0.77778,     0.77778,     0.77778,\n",
       "            0.77778,     0.77778,     0.77778,     0.77778,     0.77778,     0.77778,     0.77778,     0.77778,     0.77778,     0.77778,     0.77778,     0.77778,     0.77778,     0.77778,     0.77778,     0.77778,     0.77778,     0.77778,     0.77778,     0.77778,     0.77778,     0.77778,     0.77778,\n",
       "            0.77778,     0.77778,     0.77778,     0.77778,     0.77778,     0.72727,     0.72727,     0.72727,     0.72727,     0.72727,     0.72727,     0.72727,     0.72727,     0.72727,     0.72727,     0.72727,     0.72727,     0.72727,     0.72727,     0.72727,     0.72727,     0.72727,     0.72727,\n",
       "            0.72727,     0.72727,     0.72727,     0.72727,     0.72727,     0.72727,     0.72727,     0.72727,     0.72727,     0.72727,     0.72727,     0.72727,     0.72727,         0.5,         0.5,         0.5,         0.5,         0.5,         0.5,         0.5,         0.5,         0.5,         0.5,\n",
       "                0.5,         0.5,         0.5,         0.5,         0.5,         0.5,         0.5,         0.5,         0.5,         0.5,         0.5,         0.5,         0.5,         0.5,         0.5,         0.5,         0.5,         0.5,         0.5,         0.5,         0.5,         0.5,         0.5,\n",
       "                0.5,         0.5,         0.5,         0.5,         0.5,         0.5,         0.5,         0.5,         0.5,         0.5,         0.5,         0.5,         0.5,         0.5,         0.5,         0.5,         0.5,         0.5,         0.5,         0.5,         0.5,         0.5,         0.5,\n",
       "                0.5,         0.5,         0.5,         0.5,         0.5,         0.5,         0.5,         0.5,         0.5,         0.5,         0.5,         0.5,         0.5,         0.5,         0.5,         0.5,         0.5,         0.5,         0.5,         0.5,         0.5,         0.5,         0.5,\n",
       "                0.5,         0.5,         0.5,         0.5,         0.5,         0.5,         0.5,         0.5,         0.5,         0.5,         0.5,     0.44444,     0.44444,     0.44444,     0.44444,     0.44444,     0.44444,     0.44444,     0.44444,     0.44444,     0.44444,     0.44444,     0.44444,\n",
       "            0.44444,     0.44444,     0.44444,     0.44444,     0.44444,     0.44444,     0.44444,     0.44444,     0.44444,     0.44444,     0.44444,     0.44444,     0.44444,     0.44444,     0.44444,     0.44444,     0.44444,     0.44444,     0.44444,     0.28261,     0.28261,     0.28261,     0.28261,\n",
       "            0.28261,     0.28261,     0.28261,     0.28261,     0.28261,     0.28261,     0.28261,     0.28261,     0.28261,     0.28261,     0.28261,     0.28261,     0.28261,     0.28261,     0.28261,     0.28261,     0.28261,     0.28261,     0.28261,     0.28261,     0.28261,     0.28261,     0.28261,\n",
       "            0.28261,     0.28261,     0.28261,     0.21212,     0.21212,     0.21212,     0.21212,     0.21212,     0.21212,     0.21212,     0.21212,     0.21212,     0.21212,     0.21212,     0.21212,     0.21212,     0.21212,     0.21212,     0.21212,     0.21212,     0.21212,     0.21212,     0.21212,\n",
       "            0.21212,     0.21212,     0.21212,     0.21212,     0.21212,     0.21212,     0.21212,     0.21212,     0.21212,     0.21212,     0.20548,     0.20548,     0.20548,     0.20548,     0.20548,     0.20548,     0.20548,     0.20548,     0.20548,     0.20548,     0.20548,     0.20548,     0.20548,\n",
       "            0.20548,     0.20548,     0.20548,     0.20548,     0.20548,     0.20548,     0.20548,     0.20548,     0.20548,     0.20548,     0.20548,     0.20548,     0.20548,     0.20548,     0.20548,     0.20548,     0.20548,     0.20548,     0.18391,     0.18391,     0.18391,     0.18391,     0.18391,\n",
       "            0.18391,     0.18391,     0.18391,     0.18391,     0.18391,     0.18391,     0.18391,     0.18391,     0.18391,     0.18391,     0.18391,     0.18391,     0.18391,     0.18391,     0.18391,     0.18391,     0.18391,     0.18391,     0.18391,     0.18391,     0.18391,     0.18391,     0.18391,\n",
       "            0.18391,     0.18391,     0.15179,     0.15179,     0.15179,     0.15179,     0.15179,     0.15179,     0.15179,     0.15179,     0.15179,     0.15179,     0.15179,     0.15179,     0.15179,     0.15179,     0.15179,     0.15179,     0.15179,     0.15179,     0.15179,     0.15179,     0.15179,\n",
       "            0.15179,     0.15179,     0.15179,     0.15179,     0.15179,     0.15179,     0.15179,     0.15179,     0.15179,    0.098361,    0.098361,    0.098361,    0.098361,    0.098361,    0.098361,    0.098361,    0.098361,    0.098361,    0.098361,    0.098361,    0.098361,    0.098361,    0.098361,\n",
       "           0.098361,    0.098361,    0.098361,    0.098361,    0.098361,    0.098361,    0.098361,    0.098361,    0.098361,    0.098361,    0.098361,    0.098361,    0.098361,    0.098361,    0.098361,    0.098361,    0.077869,    0.077869,    0.077869,    0.077869,    0.077869,    0.077869,    0.077869,\n",
       "           0.077869,    0.077869,    0.077869,    0.077869,    0.077869,    0.077869,    0.077869,    0.077869,    0.077869,    0.077869,    0.077869,    0.077869,    0.077869,    0.077869,    0.077869,    0.077869,    0.077869,    0.077869,    0.077869,    0.077869,    0.077869,    0.077869,    0.077869,\n",
       "           0.077869,    0.026049,    0.025987,    0.025925,    0.025864,    0.025802,    0.025741,    0.025679,    0.025617,    0.025556,    0.025494,    0.025433,    0.025371,     0.02531,    0.025248,    0.025186,    0.025125,    0.025063,    0.025002,     0.02494,    0.024878,    0.024817,    0.024755,\n",
       "           0.024694,    0.024632,    0.024571,    0.024509,    0.024447,    0.024386,    0.024324,    0.024263,    0.024201,     0.02414,    0.024078,    0.024016,    0.023955,    0.023893,    0.023832,     0.02377,    0.023708,    0.023647,    0.023585,    0.023524,    0.023462,    0.023401,    0.023339,\n",
       "           0.023277,    0.023216,    0.023154,    0.023093,    0.023031,    0.022969,    0.022908,    0.022846,    0.022785,    0.022723,    0.022662,      0.0226,    0.022538,    0.022477,    0.022415,    0.022354,    0.022292,    0.022231,    0.022169,    0.022107,    0.022046,    0.021984,    0.021923,\n",
       "           0.021861,    0.021799,    0.021738,    0.021676,    0.021615,    0.021553,    0.021492,     0.02143,    0.021368,    0.021307,    0.021245,    0.021184,    0.021122,    0.021061,    0.020999,    0.020937,    0.020876,    0.020814,    0.020753,    0.020691,    0.020629,    0.020568,    0.020506,\n",
       "           0.020445,    0.020383,    0.020322,     0.02026,    0.020198,    0.020137,    0.020075,    0.020014,    0.019952,     0.01989,    0.019829,    0.019767,    0.019706,    0.019644,    0.019583,    0.019521,    0.019459,    0.019398,    0.019336,    0.019275,    0.019213,    0.019152,     0.01909,\n",
       "           0.019028,    0.018967,    0.018905,    0.018844,    0.018782,     0.01872,    0.018659,    0.018597,    0.018536,    0.018474,    0.018413,    0.018351,    0.018289,    0.018228,    0.018166,    0.018105,    0.018043,    0.017981,     0.01792,    0.017858,    0.017797,    0.017735,    0.017674,\n",
       "           0.017612,     0.01755,    0.017489,    0.017427,    0.017366,    0.017304,    0.017243,    0.017181,    0.017119,    0.017058,    0.016996,    0.016935,    0.016873,    0.016811,     0.01675,    0.016688,    0.016627,    0.016565,    0.016504,    0.016442,     0.01638,    0.016319,    0.016257,\n",
       "           0.016196,    0.016134,    0.016072,    0.016011,    0.015949,    0.015888,    0.015826,    0.015765,    0.015703,    0.015641,     0.01558,    0.015518,    0.015457,    0.015395,    0.015334,    0.015272,     0.01521,    0.015149,    0.015087,    0.015026,    0.014964,    0.014902,    0.014841,\n",
       "           0.014779,    0.014718,    0.014656,    0.014595,    0.014533,    0.014471,     0.01441,    0.014348,    0.014287,    0.014225,    0.014163,    0.014102,     0.01404,    0.013979,    0.013917,    0.013856,    0.013794,    0.013732,    0.013671,    0.013609,    0.013548,    0.013486,    0.013425,\n",
       "           0.013363,    0.013301,     0.01324,    0.013178,    0.013117,    0.013055,    0.012993,    0.012932,     0.01287,    0.012809,    0.012747,    0.012686,    0.012624,    0.012562,    0.012501,    0.012439,    0.012378,    0.012316,    0.012255,    0.012193,    0.012131,     0.01207,    0.012008,\n",
       "           0.011947,    0.011885,    0.011823,    0.011762,      0.0117,    0.011639,    0.011577,    0.011516,    0.011454,    0.011392,    0.011331,    0.011269,    0.011208,    0.011146,    0.011084,    0.011023,    0.010961,      0.0109,    0.010838,    0.010777,    0.010715,    0.010653,    0.010592,\n",
       "            0.01053,    0.010469,    0.010407,    0.010346,    0.010284,    0.010222,    0.010161,    0.010099,    0.010038,    0.009976,   0.0099144,   0.0098529,   0.0097913,   0.0097297,   0.0096681,   0.0096065,    0.009545,   0.0094834,   0.0094218,   0.0093602,   0.0092986,   0.0092371,   0.0091755,\n",
       "          0.0091139,   0.0090523,   0.0089907,   0.0089292,   0.0088676,    0.008806,   0.0087444,   0.0086828,   0.0086213,   0.0085597,   0.0084981,   0.0084365,   0.0083749,   0.0083134,   0.0082518,   0.0081902,   0.0081286,    0.008067,   0.0080055,   0.0079439,   0.0078823,   0.0078207,   0.0077591,\n",
       "          0.0076976,    0.007636,   0.0075744,   0.0075128,   0.0074512,   0.0073897,   0.0073281,   0.0072665,   0.0072049,   0.0071433,   0.0070817,   0.0070202,   0.0069586,    0.006897,   0.0068354,   0.0067738,   0.0067123,   0.0066507,   0.0065891,   0.0065275,   0.0064659,   0.0064044,   0.0063428,\n",
       "          0.0062812,   0.0062196,    0.006158,   0.0060965,   0.0060349,   0.0059733,   0.0059117,   0.0058501,   0.0057886,    0.005727,   0.0056654,   0.0056038,   0.0055422,   0.0054807,   0.0054191,   0.0053575,   0.0052959,   0.0052343,   0.0051728,   0.0051112,   0.0050496,    0.004988,   0.0049264,\n",
       "          0.0048649,   0.0048033,   0.0047417,   0.0046801,   0.0046185,    0.004557,   0.0044954,   0.0044338,   0.0043722,   0.0043106,    0.004249,   0.0041875,   0.0041259,   0.0040643,   0.0040027,   0.0039411,   0.0038796,    0.003818,   0.0037564,   0.0036948,   0.0036332,   0.0035717,   0.0035101,\n",
       "          0.0034485,   0.0033869,   0.0033253,   0.0032638,   0.0032022,   0.0031406,    0.003079,   0.0030174,   0.0029559,   0.0028943,   0.0028327,   0.0027711,   0.0027095,    0.002648,   0.0025864,   0.0025248,   0.0024632,   0.0024016,   0.0023401,   0.0022785,   0.0022169,   0.0021553,   0.0020937,\n",
       "          0.0020322,   0.0019706,    0.001909,   0.0018474,   0.0017858,   0.0017243,   0.0016627,   0.0016011,   0.0015395,   0.0014779,   0.0014163,   0.0013548,   0.0012932,   0.0012316,     0.00117,   0.0011084,   0.0010469,  0.00098529,  0.00092371,  0.00086213,  0.00080055,  0.00073897,  0.00067738,\n",
       "          0.0006158,  0.00055422,  0.00049264,  0.00043106,  0.00036948,   0.0003079,  0.00024632,  0.00018474,  0.00012316,   6.158e-05,           0]]), 'Recall', 'Precision'], [array([          0,    0.001001,    0.002002,    0.003003,    0.004004,    0.005005,    0.006006,    0.007007,    0.008008,    0.009009,     0.01001,    0.011011,    0.012012,    0.013013,    0.014014,    0.015015,    0.016016,    0.017017,    0.018018,    0.019019,     0.02002,    0.021021,    0.022022,    0.023023,\n",
       "          0.024024,    0.025025,    0.026026,    0.027027,    0.028028,    0.029029,     0.03003,    0.031031,    0.032032,    0.033033,    0.034034,    0.035035,    0.036036,    0.037037,    0.038038,    0.039039,     0.04004,    0.041041,    0.042042,    0.043043,    0.044044,    0.045045,    0.046046,    0.047047,\n",
       "          0.048048,    0.049049,     0.05005,    0.051051,    0.052052,    0.053053,    0.054054,    0.055055,    0.056056,    0.057057,    0.058058,    0.059059,     0.06006,    0.061061,    0.062062,    0.063063,    0.064064,    0.065065,    0.066066,    0.067067,    0.068068,    0.069069,     0.07007,    0.071071,\n",
       "          0.072072,    0.073073,    0.074074,    0.075075,    0.076076,    0.077077,    0.078078,    0.079079,     0.08008,    0.081081,    0.082082,    0.083083,    0.084084,    0.085085,    0.086086,    0.087087,    0.088088,    0.089089,     0.09009,    0.091091,    0.092092,    0.093093,    0.094094,    0.095095,\n",
       "          0.096096,    0.097097,    0.098098,    0.099099,      0.1001,      0.1011,      0.1021,      0.1031,      0.1041,     0.10511,     0.10611,     0.10711,     0.10811,     0.10911,     0.11011,     0.11111,     0.11211,     0.11311,     0.11411,     0.11512,     0.11612,     0.11712,     0.11812,     0.11912,\n",
       "           0.12012,     0.12112,     0.12212,     0.12312,     0.12412,     0.12513,     0.12613,     0.12713,     0.12813,     0.12913,     0.13013,     0.13113,     0.13213,     0.13313,     0.13413,     0.13514,     0.13614,     0.13714,     0.13814,     0.13914,     0.14014,     0.14114,     0.14214,     0.14314,\n",
       "           0.14414,     0.14515,     0.14615,     0.14715,     0.14815,     0.14915,     0.15015,     0.15115,     0.15215,     0.15315,     0.15415,     0.15516,     0.15616,     0.15716,     0.15816,     0.15916,     0.16016,     0.16116,     0.16216,     0.16316,     0.16416,     0.16517,     0.16617,     0.16717,\n",
       "           0.16817,     0.16917,     0.17017,     0.17117,     0.17217,     0.17317,     0.17417,     0.17518,     0.17618,     0.17718,     0.17818,     0.17918,     0.18018,     0.18118,     0.18218,     0.18318,     0.18418,     0.18519,     0.18619,     0.18719,     0.18819,     0.18919,     0.19019,     0.19119,\n",
       "           0.19219,     0.19319,     0.19419,      0.1952,      0.1962,      0.1972,      0.1982,      0.1992,      0.2002,      0.2012,      0.2022,      0.2032,      0.2042,     0.20521,     0.20621,     0.20721,     0.20821,     0.20921,     0.21021,     0.21121,     0.21221,     0.21321,     0.21421,     0.21522,\n",
       "           0.21622,     0.21722,     0.21822,     0.21922,     0.22022,     0.22122,     0.22222,     0.22322,     0.22422,     0.22523,     0.22623,     0.22723,     0.22823,     0.22923,     0.23023,     0.23123,     0.23223,     0.23323,     0.23423,     0.23524,     0.23624,     0.23724,     0.23824,     0.23924,\n",
       "           0.24024,     0.24124,     0.24224,     0.24324,     0.24424,     0.24525,     0.24625,     0.24725,     0.24825,     0.24925,     0.25025,     0.25125,     0.25225,     0.25325,     0.25425,     0.25526,     0.25626,     0.25726,     0.25826,     0.25926,     0.26026,     0.26126,     0.26226,     0.26326,\n",
       "           0.26426,     0.26527,     0.26627,     0.26727,     0.26827,     0.26927,     0.27027,     0.27127,     0.27227,     0.27327,     0.27427,     0.27528,     0.27628,     0.27728,     0.27828,     0.27928,     0.28028,     0.28128,     0.28228,     0.28328,     0.28428,     0.28529,     0.28629,     0.28729,\n",
       "           0.28829,     0.28929,     0.29029,     0.29129,     0.29229,     0.29329,     0.29429,      0.2953,      0.2963,      0.2973,      0.2983,      0.2993,      0.3003,      0.3013,      0.3023,      0.3033,      0.3043,     0.30531,     0.30631,     0.30731,     0.30831,     0.30931,     0.31031,     0.31131,\n",
       "           0.31231,     0.31331,     0.31431,     0.31532,     0.31632,     0.31732,     0.31832,     0.31932,     0.32032,     0.32132,     0.32232,     0.32332,     0.32432,     0.32533,     0.32633,     0.32733,     0.32833,     0.32933,     0.33033,     0.33133,     0.33233,     0.33333,     0.33433,     0.33534,\n",
       "           0.33634,     0.33734,     0.33834,     0.33934,     0.34034,     0.34134,     0.34234,     0.34334,     0.34434,     0.34535,     0.34635,     0.34735,     0.34835,     0.34935,     0.35035,     0.35135,     0.35235,     0.35335,     0.35435,     0.35536,     0.35636,     0.35736,     0.35836,     0.35936,\n",
       "           0.36036,     0.36136,     0.36236,     0.36336,     0.36436,     0.36537,     0.36637,     0.36737,     0.36837,     0.36937,     0.37037,     0.37137,     0.37237,     0.37337,     0.37437,     0.37538,     0.37638,     0.37738,     0.37838,     0.37938,     0.38038,     0.38138,     0.38238,     0.38338,\n",
       "           0.38438,     0.38539,     0.38639,     0.38739,     0.38839,     0.38939,     0.39039,     0.39139,     0.39239,     0.39339,     0.39439,      0.3954,      0.3964,      0.3974,      0.3984,      0.3994,      0.4004,      0.4014,      0.4024,      0.4034,      0.4044,     0.40541,     0.40641,     0.40741,\n",
       "           0.40841,     0.40941,     0.41041,     0.41141,     0.41241,     0.41341,     0.41441,     0.41542,     0.41642,     0.41742,     0.41842,     0.41942,     0.42042,     0.42142,     0.42242,     0.42342,     0.42442,     0.42543,     0.42643,     0.42743,     0.42843,     0.42943,     0.43043,     0.43143,\n",
       "           0.43243,     0.43343,     0.43443,     0.43544,     0.43644,     0.43744,     0.43844,     0.43944,     0.44044,     0.44144,     0.44244,     0.44344,     0.44444,     0.44545,     0.44645,     0.44745,     0.44845,     0.44945,     0.45045,     0.45145,     0.45245,     0.45345,     0.45445,     0.45546,\n",
       "           0.45646,     0.45746,     0.45846,     0.45946,     0.46046,     0.46146,     0.46246,     0.46346,     0.46446,     0.46547,     0.46647,     0.46747,     0.46847,     0.46947,     0.47047,     0.47147,     0.47247,     0.47347,     0.47447,     0.47548,     0.47648,     0.47748,     0.47848,     0.47948,\n",
       "           0.48048,     0.48148,     0.48248,     0.48348,     0.48448,     0.48549,     0.48649,     0.48749,     0.48849,     0.48949,     0.49049,     0.49149,     0.49249,     0.49349,     0.49449,      0.4955,      0.4965,      0.4975,      0.4985,      0.4995,      0.5005,      0.5015,      0.5025,      0.5035,\n",
       "            0.5045,     0.50551,     0.50651,     0.50751,     0.50851,     0.50951,     0.51051,     0.51151,     0.51251,     0.51351,     0.51451,     0.51552,     0.51652,     0.51752,     0.51852,     0.51952,     0.52052,     0.52152,     0.52252,     0.52352,     0.52452,     0.52553,     0.52653,     0.52753,\n",
       "           0.52853,     0.52953,     0.53053,     0.53153,     0.53253,     0.53353,     0.53453,     0.53554,     0.53654,     0.53754,     0.53854,     0.53954,     0.54054,     0.54154,     0.54254,     0.54354,     0.54454,     0.54555,     0.54655,     0.54755,     0.54855,     0.54955,     0.55055,     0.55155,\n",
       "           0.55255,     0.55355,     0.55455,     0.55556,     0.55656,     0.55756,     0.55856,     0.55956,     0.56056,     0.56156,     0.56256,     0.56356,     0.56456,     0.56557,     0.56657,     0.56757,     0.56857,     0.56957,     0.57057,     0.57157,     0.57257,     0.57357,     0.57457,     0.57558,\n",
       "           0.57658,     0.57758,     0.57858,     0.57958,     0.58058,     0.58158,     0.58258,     0.58358,     0.58458,     0.58559,     0.58659,     0.58759,     0.58859,     0.58959,     0.59059,     0.59159,     0.59259,     0.59359,     0.59459,      0.5956,      0.5966,      0.5976,      0.5986,      0.5996,\n",
       "            0.6006,      0.6016,      0.6026,      0.6036,      0.6046,     0.60561,     0.60661,     0.60761,     0.60861,     0.60961,     0.61061,     0.61161,     0.61261,     0.61361,     0.61461,     0.61562,     0.61662,     0.61762,     0.61862,     0.61962,     0.62062,     0.62162,     0.62262,     0.62362,\n",
       "           0.62462,     0.62563,     0.62663,     0.62763,     0.62863,     0.62963,     0.63063,     0.63163,     0.63263,     0.63363,     0.63463,     0.63564,     0.63664,     0.63764,     0.63864,     0.63964,     0.64064,     0.64164,     0.64264,     0.64364,     0.64464,     0.64565,     0.64665,     0.64765,\n",
       "           0.64865,     0.64965,     0.65065,     0.65165,     0.65265,     0.65365,     0.65465,     0.65566,     0.65666,     0.65766,     0.65866,     0.65966,     0.66066,     0.66166,     0.66266,     0.66366,     0.66466,     0.66567,     0.66667,     0.66767,     0.66867,     0.66967,     0.67067,     0.67167,\n",
       "           0.67267,     0.67367,     0.67467,     0.67568,     0.67668,     0.67768,     0.67868,     0.67968,     0.68068,     0.68168,     0.68268,     0.68368,     0.68468,     0.68569,     0.68669,     0.68769,     0.68869,     0.68969,     0.69069,     0.69169,     0.69269,     0.69369,     0.69469,      0.6957,\n",
       "            0.6967,      0.6977,      0.6987,      0.6997,      0.7007,      0.7017,      0.7027,      0.7037,      0.7047,     0.70571,     0.70671,     0.70771,     0.70871,     0.70971,     0.71071,     0.71171,     0.71271,     0.71371,     0.71471,     0.71572,     0.71672,     0.71772,     0.71872,     0.71972,\n",
       "           0.72072,     0.72172,     0.72272,     0.72372,     0.72472,     0.72573,     0.72673,     0.72773,     0.72873,     0.72973,     0.73073,     0.73173,     0.73273,     0.73373,     0.73473,     0.73574,     0.73674,     0.73774,     0.73874,     0.73974,     0.74074,     0.74174,     0.74274,     0.74374,\n",
       "           0.74474,     0.74575,     0.74675,     0.74775,     0.74875,     0.74975,     0.75075,     0.75175,     0.75275,     0.75375,     0.75475,     0.75576,     0.75676,     0.75776,     0.75876,     0.75976,     0.76076,     0.76176,     0.76276,     0.76376,     0.76476,     0.76577,     0.76677,     0.76777,\n",
       "           0.76877,     0.76977,     0.77077,     0.77177,     0.77277,     0.77377,     0.77477,     0.77578,     0.77678,     0.77778,     0.77878,     0.77978,     0.78078,     0.78178,     0.78278,     0.78378,     0.78478,     0.78579,     0.78679,     0.78779,     0.78879,     0.78979,     0.79079,     0.79179,\n",
       "           0.79279,     0.79379,     0.79479,      0.7958,      0.7968,      0.7978,      0.7988,      0.7998,      0.8008,      0.8018,      0.8028,      0.8038,      0.8048,     0.80581,     0.80681,     0.80781,     0.80881,     0.80981,     0.81081,     0.81181,     0.81281,     0.81381,     0.81481,     0.81582,\n",
       "           0.81682,     0.81782,     0.81882,     0.81982,     0.82082,     0.82182,     0.82282,     0.82382,     0.82482,     0.82583,     0.82683,     0.82783,     0.82883,     0.82983,     0.83083,     0.83183,     0.83283,     0.83383,     0.83483,     0.83584,     0.83684,     0.83784,     0.83884,     0.83984,\n",
       "           0.84084,     0.84184,     0.84284,     0.84384,     0.84484,     0.84585,     0.84685,     0.84785,     0.84885,     0.84985,     0.85085,     0.85185,     0.85285,     0.85385,     0.85485,     0.85586,     0.85686,     0.85786,     0.85886,     0.85986,     0.86086,     0.86186,     0.86286,     0.86386,\n",
       "           0.86486,     0.86587,     0.86687,     0.86787,     0.86887,     0.86987,     0.87087,     0.87187,     0.87287,     0.87387,     0.87487,     0.87588,     0.87688,     0.87788,     0.87888,     0.87988,     0.88088,     0.88188,     0.88288,     0.88388,     0.88488,     0.88589,     0.88689,     0.88789,\n",
       "           0.88889,     0.88989,     0.89089,     0.89189,     0.89289,     0.89389,     0.89489,      0.8959,      0.8969,      0.8979,      0.8989,      0.8999,      0.9009,      0.9019,      0.9029,      0.9039,      0.9049,     0.90591,     0.90691,     0.90791,     0.90891,     0.90991,     0.91091,     0.91191,\n",
       "           0.91291,     0.91391,     0.91491,     0.91592,     0.91692,     0.91792,     0.91892,     0.91992,     0.92092,     0.92192,     0.92292,     0.92392,     0.92492,     0.92593,     0.92693,     0.92793,     0.92893,     0.92993,     0.93093,     0.93193,     0.93293,     0.93393,     0.93493,     0.93594,\n",
       "           0.93694,     0.93794,     0.93894,     0.93994,     0.94094,     0.94194,     0.94294,     0.94394,     0.94494,     0.94595,     0.94695,     0.94795,     0.94895,     0.94995,     0.95095,     0.95195,     0.95295,     0.95395,     0.95495,     0.95596,     0.95696,     0.95796,     0.95896,     0.95996,\n",
       "           0.96096,     0.96196,     0.96296,     0.96396,     0.96496,     0.96597,     0.96697,     0.96797,     0.96897,     0.96997,     0.97097,     0.97197,     0.97297,     0.97397,     0.97497,     0.97598,     0.97698,     0.97798,     0.97898,     0.97998,     0.98098,     0.98198,     0.98298,     0.98398,\n",
       "           0.98498,     0.98599,     0.98699,     0.98799,     0.98899,     0.98999,     0.99099,     0.99199,     0.99299,     0.99399,     0.99499,       0.996,       0.997,       0.998,       0.999,           1]), array([[   0.049934,    0.049934,    0.078343,    0.097675,     0.11365,     0.13078,     0.13484,     0.14541,     0.15541,     0.16184,      0.1602,     0.16419,     0.17043,     0.17286,      0.1743,     0.17709,     0.18278,     0.18846,     0.19718,     0.20065,     0.20253,     0.20493,     0.20875,\n",
       "            0.20953,     0.21425,       0.217,     0.22063,     0.22503,     0.22882,      0.2314,     0.23207,     0.23273,     0.22231,     0.22312,     0.22539,     0.22773,     0.22923,     0.23345,      0.2375,     0.23831,     0.23897,     0.23938,     0.23979,     0.24021,     0.24135,     0.24337,\n",
       "            0.24433,       0.245,     0.24567,     0.24638,     0.24717,     0.24796,     0.24894,     0.24995,     0.25143,     0.25281,     0.25408,       0.255,     0.25593,     0.25718,     0.25826,      0.2589,     0.25954,     0.26018,     0.26115,     0.26212,     0.26362,     0.26478,     0.26544,\n",
       "            0.26609,     0.26174,     0.25425,     0.25486,     0.25546,     0.25607,     0.25879,     0.26118,     0.26269,     0.26393,     0.26505,     0.26588,     0.26653,     0.26718,     0.26783,     0.26904,     0.27027,     0.27106,     0.27185,     0.27264,     0.27316,     0.27365,     0.27414,\n",
       "            0.27463,     0.27512,     0.27582,     0.27658,     0.27734,     0.27846,      0.2801,     0.28012,     0.27565,     0.27118,     0.26671,     0.26806,     0.26941,     0.27051,     0.27161,     0.27742,     0.27823,     0.27904,     0.27985,      0.2805,      0.2811,      0.2817,      0.2823,\n",
       "            0.27088,     0.26795,     0.26831,     0.26858,     0.26886,     0.26913,     0.26941,     0.26968,     0.26995,     0.27023,      0.2705,     0.27077,     0.27115,     0.27156,     0.27196,     0.27236,     0.27276,     0.27317,     0.27357,     0.27482,     0.27641,     0.27697,      0.2774,\n",
       "            0.27783,     0.27826,     0.27869,     0.27911,     0.27954,     0.28063,     0.28176,     0.28267,     0.28291,     0.28315,     0.28339,     0.28362,     0.28386,      0.2841,     0.28434,     0.28458,     0.28481,     0.28505,     0.28529,     0.28552,     0.28599,     0.28736,     0.28873,\n",
       "            0.29103,      0.2925,     0.29316,     0.29383,     0.29449,     0.29515,     0.29892,     0.29906,     0.29919,     0.29932,     0.29946,     0.29959,     0.29972,     0.29986,     0.29999,     0.30012,     0.30025,     0.30039,     0.30052,     0.30065,     0.30078,     0.30092,     0.30105,\n",
       "            0.30118,     0.30131,     0.30145,     0.30158,     0.30171,     0.30184,     0.30197,      0.3021,     0.30224,      0.3024,     0.30264,     0.30287,     0.30311,     0.30334,     0.30357,     0.30381,     0.30404,     0.30427,     0.30451,     0.30474,     0.30497,      0.3052,     0.30544,\n",
       "            0.30567,     0.30627,     0.30986,     0.31082,     0.31177,     0.31273,     0.31336,     0.31361,     0.31386,     0.31411,     0.31436,     0.31461,     0.31486,     0.31511,     0.31536,     0.31561,     0.31586,      0.3161,     0.31635,      0.3166,     0.31685,     0.31726,     0.31955,\n",
       "            0.32106,     0.32125,     0.32144,     0.32163,     0.32182,     0.32202,     0.32221,      0.3224,     0.32259,     0.32278,     0.32297,     0.32316,     0.32335,     0.32354,     0.32373,     0.32392,     0.32411,      0.3243,     0.32449,     0.32467,     0.32486,      0.3251,     0.32544,\n",
       "            0.32579,     0.32613,     0.32648,     0.32682,     0.32717,     0.32751,     0.32786,      0.3282,     0.32854,     0.32888,     0.32873,     0.32755,     0.32636,     0.32517,     0.32399,      0.3228,     0.32162,     0.32043,     0.31924,     0.31806,     0.31687,     0.31568,      0.3145,\n",
       "            0.31331,     0.31212,     0.31093,     0.30974,     0.30855,     0.30826,     0.31031,     0.31205,     0.31318,      0.3143,     0.31542,     0.31596,      0.3162,     0.31645,      0.3167,     0.31695,      0.3172,     0.31744,     0.31769,     0.31794,     0.31818,     0.31843,     0.31868,\n",
       "            0.31892,     0.31917,     0.31941,     0.31966,      0.3199,     0.32211,     0.32569,     0.32894,     0.33005,     0.33115,     0.33225,     0.33334,     0.33473,     0.33611,     0.33747,     0.33826,     0.33864,     0.33903,     0.33941,     0.33979,     0.34017,     0.34055,     0.34093,\n",
       "            0.34131,     0.34169,     0.34207,     0.34245,     0.34282,     0.34316,     0.34349,     0.34382,     0.34415,     0.34448,     0.34481,     0.34514,     0.34547,      0.3458,     0.34613,     0.34646,     0.34678,     0.34711,     0.34743,     0.34776,     0.34866,     0.34972,     0.35077,\n",
       "            0.35181,     0.35285,     0.35325,     0.35359,     0.35393,     0.35428,     0.35461,     0.35495,     0.35529,     0.35563,     0.35597,      0.3563,     0.35664,     0.35697,     0.35731,     0.35764,     0.35798,     0.35831,     0.35865,     0.35898,     0.35932,     0.35965,     0.35999,\n",
       "            0.36032,     0.36065,     0.36099,     0.36132,     0.36165,     0.36198,     0.36231,     0.36264,     0.36297,      0.3633,     0.36362,     0.36377,     0.36391,     0.36405,     0.36419,     0.36434,     0.36448,     0.36462,     0.36476,      0.3649,     0.36504,     0.36518,     0.36532,\n",
       "            0.36546,      0.3656,     0.36574,     0.36588,     0.36602,     0.36615,     0.36629,     0.36643,     0.36657,     0.36671,     0.36685,     0.36699,     0.36713,     0.36727,      0.3674,     0.36754,     0.36768,     0.36782,     0.36796,     0.36809,     0.36823,     0.36837,     0.36851,\n",
       "            0.36864,     0.36878,     0.36892,     0.36906,     0.36919,     0.36952,     0.36993,     0.37033,     0.37074,     0.37114,     0.37155,     0.37195,     0.37235,     0.37275,     0.37315,     0.37355,     0.37394,     0.37434,     0.37473,     0.37601,     0.37907,     0.38102,     0.38121,\n",
       "            0.38139,     0.38158,     0.38176,     0.38195,     0.38213,     0.38232,      0.3825,     0.38269,     0.38287,     0.38305,     0.38324,     0.38342,      0.3836,     0.38379,     0.38397,     0.38415,     0.38433,     0.38452,      0.3847,     0.38488,     0.38506,     0.38524,     0.38542,\n",
       "            0.38561,     0.38579,     0.38597,     0.38615,     0.38633,     0.38651,     0.38669,     0.38687,     0.38705,     0.38731,     0.38761,     0.38791,     0.38821,     0.38851,     0.38881,     0.38911,     0.38941,      0.3897,        0.39,      0.3903,     0.39059,     0.39089,     0.39118,\n",
       "            0.39147,     0.39177,     0.39206,     0.39235,     0.39264,     0.39294,     0.39323,      0.3935,     0.39373,     0.39396,     0.39419,     0.39441,     0.39464,     0.39487,     0.39509,     0.39532,     0.39554,     0.39577,       0.396,     0.39622,     0.39644,     0.39667,     0.39689,\n",
       "            0.39712,     0.39734,     0.39756,     0.39779,     0.39801,     0.39823,     0.39845,     0.39867,      0.3989,     0.39912,     0.39934,     0.39956,     0.39978,         0.4,      0.3863,     0.37296,     0.37519,     0.37739,     0.37935,     0.37968,     0.38001,     0.38034,     0.38067,\n",
       "              0.381,     0.38133,     0.38166,     0.38198,     0.38231,     0.38263,     0.38296,     0.38328,      0.3836,     0.38393,     0.38425,     0.38457,     0.38489,     0.38521,     0.38553,     0.38585,     0.38686,      0.3883,     0.38971,     0.39112,     0.39251,      0.3931,     0.39341,\n",
       "            0.39373,     0.39405,     0.39437,     0.39468,       0.395,     0.39531,     0.39563,     0.39594,     0.39625,     0.39656,     0.39687,     0.39718,     0.39749,      0.3978,     0.39811,     0.39842,     0.39873,     0.39903,     0.39934,     0.39964,     0.39995,     0.39802,     0.39561,\n",
       "            0.39319,     0.39076,     0.38834,     0.38591,     0.38348,     0.38105,     0.37861,     0.37618,     0.37373,     0.37129,     0.37094,     0.37186,     0.37277,     0.37367,     0.37456,     0.37545,     0.37633,      0.3772,     0.37556,     0.37337,     0.37117,     0.36898,     0.36678,\n",
       "            0.36457,     0.36237,     0.36016,     0.35796,     0.35575,     0.35353,     0.35132,      0.3491,     0.34688,     0.34808,     0.35086,     0.35163,     0.34604,     0.34043,      0.3348,     0.32916,     0.32351,     0.32041,     0.32147,     0.32251,     0.32355,     0.32457,     0.32557,\n",
       "            0.32656,     0.32742,     0.32826,     0.32909,     0.32992,     0.33074,     0.33154,     0.33234,     0.33313,     0.33348,     0.33367,     0.33387,     0.33406,     0.33426,     0.33445,     0.33464,     0.33483,     0.33502,     0.33522,     0.33541,      0.3356,     0.33579,     0.33597,\n",
       "            0.33616,     0.33635,     0.33654,     0.33673,     0.33691,      0.3371,     0.33728,     0.33747,     0.33765,     0.33784,     0.33802,     0.33821,     0.33839,     0.33857,     0.33875,     0.33894,     0.33912,      0.3393,     0.33948,     0.33966,     0.33984,     0.34002,     0.34019,\n",
       "            0.34037,     0.34091,      0.3416,     0.34228,     0.34295,     0.34362,     0.34428,     0.34494,     0.34559,     0.34623,     0.34687,      0.3475,      0.3481,     0.34868,     0.34925,     0.34981,     0.35037,     0.35093,     0.35148,     0.35202,     0.35257,      0.3531,     0.35364,\n",
       "            0.35417,     0.35469,     0.35521,     0.35567,     0.35601,     0.35634,     0.35668,     0.35701,     0.35734,     0.35767,       0.358,     0.35833,     0.35865,     0.35897,      0.3593,     0.35962,     0.35993,     0.36025,     0.36056,     0.36088,     0.36119,      0.3615,     0.36181,\n",
       "            0.36211,     0.36242,     0.36272,     0.36303,     0.36333,     0.36363,     0.35971,     0.35565,     0.35157,     0.34748,     0.34338,     0.33926,     0.33513,     0.33099,     0.32683,     0.33241,     0.33108,     0.32976,     0.32843,     0.32711,     0.32578,     0.32445,     0.32311,\n",
       "            0.32178,     0.32045,     0.31911,     0.31777,     0.31643,     0.31509,     0.31375,     0.31241,     0.31106,     0.30971,     0.30836,     0.30701,     0.30566,     0.30431,     0.30295,      0.3016,     0.30024,     0.29888,     0.29752,     0.29616,     0.29479,     0.29342,     0.29097,\n",
       "            0.28722,     0.28346,     0.27968,      0.2759,      0.2721,     0.26829,     0.26448,     0.26064,      0.2568,     0.25295,     0.24856,     0.24251,     0.23643,     0.23032,     0.22419,     0.21803,     0.21184,     0.20562,     0.20369,     0.20212,     0.20055,     0.19898,     0.19741,\n",
       "            0.19584,     0.19427,     0.19269,     0.19112,     0.18954,     0.18796,     0.18638,     0.18479,     0.18321,     0.18162,     0.18004,     0.17845,     0.17686,     0.17526,     0.17367,     0.17207,     0.17048,     0.16888,     0.16728,     0.16567,     0.16407,     0.16246,     0.16085,\n",
       "            0.15924,     0.15764,     0.15609,     0.15453,     0.15298,     0.15143,     0.14987,     0.14831,     0.14676,      0.1452,     0.14364,     0.14207,     0.14051,     0.13895,     0.13738,     0.13582,     0.13425,     0.13268,     0.13111,     0.12954,     0.12797,     0.12639,     0.12482,\n",
       "            0.12324,     0.12166,     0.12008,      0.1185,     0.11691,     0.11533,     0.11374,     0.11215,     0.11056,     0.10897,     0.10622,     0.10211,    0.097992,    0.093871,    0.089746,    0.085615,    0.081478,    0.077335,    0.073184,    0.069026,    0.064858,    0.060681,    0.056492,\n",
       "           0.056335,    0.057043,    0.057259,     0.05739,     0.05751,    0.057622,    0.057727,    0.057824,    0.057915,       0.058,     0.05808,    0.058155,    0.058226,    0.058292,    0.058356,    0.058415,    0.058472,    0.058526,    0.058577,    0.058626,    0.058672,    0.058717,    0.058759,\n",
       "             0.0588,           0,           0,           0,           0,           0,           0,           0,           0,           0,           0,           0,           0,           0,           0,           0,           0,           0,           0,           0,           0,           0,           0,\n",
       "                  0,           0,           0,           0,           0,           0,           0,           0,           0,           0,           0,           0,           0,           0,           0,           0,           0,           0,           0,           0,           0,           0,           0,\n",
       "                  0,           0,           0,           0,           0,           0,           0,           0,           0,           0,           0,           0,           0,           0,           0,           0,           0,           0,           0,           0,           0,           0,           0,\n",
       "                  0,           0,           0,           0,           0,           0,           0,           0,           0,           0,           0,           0,           0,           0,           0,           0,           0,           0,           0,           0,           0,           0,           0,\n",
       "                  0,           0,           0,           0,           0,           0,           0,           0,           0,           0,           0,           0,           0,           0,           0,           0,           0,           0,           0,           0,           0,           0,           0,\n",
       "                  0,           0,           0,           0,           0,           0,           0,           0,           0,           0,           0]]), 'Confidence', 'F1'], [array([          0,    0.001001,    0.002002,    0.003003,    0.004004,    0.005005,    0.006006,    0.007007,    0.008008,    0.009009,     0.01001,    0.011011,    0.012012,    0.013013,    0.014014,    0.015015,    0.016016,    0.017017,    0.018018,    0.019019,     0.02002,    0.021021,    0.022022,    0.023023,\n",
       "          0.024024,    0.025025,    0.026026,    0.027027,    0.028028,    0.029029,     0.03003,    0.031031,    0.032032,    0.033033,    0.034034,    0.035035,    0.036036,    0.037037,    0.038038,    0.039039,     0.04004,    0.041041,    0.042042,    0.043043,    0.044044,    0.045045,    0.046046,    0.047047,\n",
       "          0.048048,    0.049049,     0.05005,    0.051051,    0.052052,    0.053053,    0.054054,    0.055055,    0.056056,    0.057057,    0.058058,    0.059059,     0.06006,    0.061061,    0.062062,    0.063063,    0.064064,    0.065065,    0.066066,    0.067067,    0.068068,    0.069069,     0.07007,    0.071071,\n",
       "          0.072072,    0.073073,    0.074074,    0.075075,    0.076076,    0.077077,    0.078078,    0.079079,     0.08008,    0.081081,    0.082082,    0.083083,    0.084084,    0.085085,    0.086086,    0.087087,    0.088088,    0.089089,     0.09009,    0.091091,    0.092092,    0.093093,    0.094094,    0.095095,\n",
       "          0.096096,    0.097097,    0.098098,    0.099099,      0.1001,      0.1011,      0.1021,      0.1031,      0.1041,     0.10511,     0.10611,     0.10711,     0.10811,     0.10911,     0.11011,     0.11111,     0.11211,     0.11311,     0.11411,     0.11512,     0.11612,     0.11712,     0.11812,     0.11912,\n",
       "           0.12012,     0.12112,     0.12212,     0.12312,     0.12412,     0.12513,     0.12613,     0.12713,     0.12813,     0.12913,     0.13013,     0.13113,     0.13213,     0.13313,     0.13413,     0.13514,     0.13614,     0.13714,     0.13814,     0.13914,     0.14014,     0.14114,     0.14214,     0.14314,\n",
       "           0.14414,     0.14515,     0.14615,     0.14715,     0.14815,     0.14915,     0.15015,     0.15115,     0.15215,     0.15315,     0.15415,     0.15516,     0.15616,     0.15716,     0.15816,     0.15916,     0.16016,     0.16116,     0.16216,     0.16316,     0.16416,     0.16517,     0.16617,     0.16717,\n",
       "           0.16817,     0.16917,     0.17017,     0.17117,     0.17217,     0.17317,     0.17417,     0.17518,     0.17618,     0.17718,     0.17818,     0.17918,     0.18018,     0.18118,     0.18218,     0.18318,     0.18418,     0.18519,     0.18619,     0.18719,     0.18819,     0.18919,     0.19019,     0.19119,\n",
       "           0.19219,     0.19319,     0.19419,      0.1952,      0.1962,      0.1972,      0.1982,      0.1992,      0.2002,      0.2012,      0.2022,      0.2032,      0.2042,     0.20521,     0.20621,     0.20721,     0.20821,     0.20921,     0.21021,     0.21121,     0.21221,     0.21321,     0.21421,     0.21522,\n",
       "           0.21622,     0.21722,     0.21822,     0.21922,     0.22022,     0.22122,     0.22222,     0.22322,     0.22422,     0.22523,     0.22623,     0.22723,     0.22823,     0.22923,     0.23023,     0.23123,     0.23223,     0.23323,     0.23423,     0.23524,     0.23624,     0.23724,     0.23824,     0.23924,\n",
       "           0.24024,     0.24124,     0.24224,     0.24324,     0.24424,     0.24525,     0.24625,     0.24725,     0.24825,     0.24925,     0.25025,     0.25125,     0.25225,     0.25325,     0.25425,     0.25526,     0.25626,     0.25726,     0.25826,     0.25926,     0.26026,     0.26126,     0.26226,     0.26326,\n",
       "           0.26426,     0.26527,     0.26627,     0.26727,     0.26827,     0.26927,     0.27027,     0.27127,     0.27227,     0.27327,     0.27427,     0.27528,     0.27628,     0.27728,     0.27828,     0.27928,     0.28028,     0.28128,     0.28228,     0.28328,     0.28428,     0.28529,     0.28629,     0.28729,\n",
       "           0.28829,     0.28929,     0.29029,     0.29129,     0.29229,     0.29329,     0.29429,      0.2953,      0.2963,      0.2973,      0.2983,      0.2993,      0.3003,      0.3013,      0.3023,      0.3033,      0.3043,     0.30531,     0.30631,     0.30731,     0.30831,     0.30931,     0.31031,     0.31131,\n",
       "           0.31231,     0.31331,     0.31431,     0.31532,     0.31632,     0.31732,     0.31832,     0.31932,     0.32032,     0.32132,     0.32232,     0.32332,     0.32432,     0.32533,     0.32633,     0.32733,     0.32833,     0.32933,     0.33033,     0.33133,     0.33233,     0.33333,     0.33433,     0.33534,\n",
       "           0.33634,     0.33734,     0.33834,     0.33934,     0.34034,     0.34134,     0.34234,     0.34334,     0.34434,     0.34535,     0.34635,     0.34735,     0.34835,     0.34935,     0.35035,     0.35135,     0.35235,     0.35335,     0.35435,     0.35536,     0.35636,     0.35736,     0.35836,     0.35936,\n",
       "           0.36036,     0.36136,     0.36236,     0.36336,     0.36436,     0.36537,     0.36637,     0.36737,     0.36837,     0.36937,     0.37037,     0.37137,     0.37237,     0.37337,     0.37437,     0.37538,     0.37638,     0.37738,     0.37838,     0.37938,     0.38038,     0.38138,     0.38238,     0.38338,\n",
       "           0.38438,     0.38539,     0.38639,     0.38739,     0.38839,     0.38939,     0.39039,     0.39139,     0.39239,     0.39339,     0.39439,      0.3954,      0.3964,      0.3974,      0.3984,      0.3994,      0.4004,      0.4014,      0.4024,      0.4034,      0.4044,     0.40541,     0.40641,     0.40741,\n",
       "           0.40841,     0.40941,     0.41041,     0.41141,     0.41241,     0.41341,     0.41441,     0.41542,     0.41642,     0.41742,     0.41842,     0.41942,     0.42042,     0.42142,     0.42242,     0.42342,     0.42442,     0.42543,     0.42643,     0.42743,     0.42843,     0.42943,     0.43043,     0.43143,\n",
       "           0.43243,     0.43343,     0.43443,     0.43544,     0.43644,     0.43744,     0.43844,     0.43944,     0.44044,     0.44144,     0.44244,     0.44344,     0.44444,     0.44545,     0.44645,     0.44745,     0.44845,     0.44945,     0.45045,     0.45145,     0.45245,     0.45345,     0.45445,     0.45546,\n",
       "           0.45646,     0.45746,     0.45846,     0.45946,     0.46046,     0.46146,     0.46246,     0.46346,     0.46446,     0.46547,     0.46647,     0.46747,     0.46847,     0.46947,     0.47047,     0.47147,     0.47247,     0.47347,     0.47447,     0.47548,     0.47648,     0.47748,     0.47848,     0.47948,\n",
       "           0.48048,     0.48148,     0.48248,     0.48348,     0.48448,     0.48549,     0.48649,     0.48749,     0.48849,     0.48949,     0.49049,     0.49149,     0.49249,     0.49349,     0.49449,      0.4955,      0.4965,      0.4975,      0.4985,      0.4995,      0.5005,      0.5015,      0.5025,      0.5035,\n",
       "            0.5045,     0.50551,     0.50651,     0.50751,     0.50851,     0.50951,     0.51051,     0.51151,     0.51251,     0.51351,     0.51451,     0.51552,     0.51652,     0.51752,     0.51852,     0.51952,     0.52052,     0.52152,     0.52252,     0.52352,     0.52452,     0.52553,     0.52653,     0.52753,\n",
       "           0.52853,     0.52953,     0.53053,     0.53153,     0.53253,     0.53353,     0.53453,     0.53554,     0.53654,     0.53754,     0.53854,     0.53954,     0.54054,     0.54154,     0.54254,     0.54354,     0.54454,     0.54555,     0.54655,     0.54755,     0.54855,     0.54955,     0.55055,     0.55155,\n",
       "           0.55255,     0.55355,     0.55455,     0.55556,     0.55656,     0.55756,     0.55856,     0.55956,     0.56056,     0.56156,     0.56256,     0.56356,     0.56456,     0.56557,     0.56657,     0.56757,     0.56857,     0.56957,     0.57057,     0.57157,     0.57257,     0.57357,     0.57457,     0.57558,\n",
       "           0.57658,     0.57758,     0.57858,     0.57958,     0.58058,     0.58158,     0.58258,     0.58358,     0.58458,     0.58559,     0.58659,     0.58759,     0.58859,     0.58959,     0.59059,     0.59159,     0.59259,     0.59359,     0.59459,      0.5956,      0.5966,      0.5976,      0.5986,      0.5996,\n",
       "            0.6006,      0.6016,      0.6026,      0.6036,      0.6046,     0.60561,     0.60661,     0.60761,     0.60861,     0.60961,     0.61061,     0.61161,     0.61261,     0.61361,     0.61461,     0.61562,     0.61662,     0.61762,     0.61862,     0.61962,     0.62062,     0.62162,     0.62262,     0.62362,\n",
       "           0.62462,     0.62563,     0.62663,     0.62763,     0.62863,     0.62963,     0.63063,     0.63163,     0.63263,     0.63363,     0.63463,     0.63564,     0.63664,     0.63764,     0.63864,     0.63964,     0.64064,     0.64164,     0.64264,     0.64364,     0.64464,     0.64565,     0.64665,     0.64765,\n",
       "           0.64865,     0.64965,     0.65065,     0.65165,     0.65265,     0.65365,     0.65465,     0.65566,     0.65666,     0.65766,     0.65866,     0.65966,     0.66066,     0.66166,     0.66266,     0.66366,     0.66466,     0.66567,     0.66667,     0.66767,     0.66867,     0.66967,     0.67067,     0.67167,\n",
       "           0.67267,     0.67367,     0.67467,     0.67568,     0.67668,     0.67768,     0.67868,     0.67968,     0.68068,     0.68168,     0.68268,     0.68368,     0.68468,     0.68569,     0.68669,     0.68769,     0.68869,     0.68969,     0.69069,     0.69169,     0.69269,     0.69369,     0.69469,      0.6957,\n",
       "            0.6967,      0.6977,      0.6987,      0.6997,      0.7007,      0.7017,      0.7027,      0.7037,      0.7047,     0.70571,     0.70671,     0.70771,     0.70871,     0.70971,     0.71071,     0.71171,     0.71271,     0.71371,     0.71471,     0.71572,     0.71672,     0.71772,     0.71872,     0.71972,\n",
       "           0.72072,     0.72172,     0.72272,     0.72372,     0.72472,     0.72573,     0.72673,     0.72773,     0.72873,     0.72973,     0.73073,     0.73173,     0.73273,     0.73373,     0.73473,     0.73574,     0.73674,     0.73774,     0.73874,     0.73974,     0.74074,     0.74174,     0.74274,     0.74374,\n",
       "           0.74474,     0.74575,     0.74675,     0.74775,     0.74875,     0.74975,     0.75075,     0.75175,     0.75275,     0.75375,     0.75475,     0.75576,     0.75676,     0.75776,     0.75876,     0.75976,     0.76076,     0.76176,     0.76276,     0.76376,     0.76476,     0.76577,     0.76677,     0.76777,\n",
       "           0.76877,     0.76977,     0.77077,     0.77177,     0.77277,     0.77377,     0.77477,     0.77578,     0.77678,     0.77778,     0.77878,     0.77978,     0.78078,     0.78178,     0.78278,     0.78378,     0.78478,     0.78579,     0.78679,     0.78779,     0.78879,     0.78979,     0.79079,     0.79179,\n",
       "           0.79279,     0.79379,     0.79479,      0.7958,      0.7968,      0.7978,      0.7988,      0.7998,      0.8008,      0.8018,      0.8028,      0.8038,      0.8048,     0.80581,     0.80681,     0.80781,     0.80881,     0.80981,     0.81081,     0.81181,     0.81281,     0.81381,     0.81481,     0.81582,\n",
       "           0.81682,     0.81782,     0.81882,     0.81982,     0.82082,     0.82182,     0.82282,     0.82382,     0.82482,     0.82583,     0.82683,     0.82783,     0.82883,     0.82983,     0.83083,     0.83183,     0.83283,     0.83383,     0.83483,     0.83584,     0.83684,     0.83784,     0.83884,     0.83984,\n",
       "           0.84084,     0.84184,     0.84284,     0.84384,     0.84484,     0.84585,     0.84685,     0.84785,     0.84885,     0.84985,     0.85085,     0.85185,     0.85285,     0.85385,     0.85485,     0.85586,     0.85686,     0.85786,     0.85886,     0.85986,     0.86086,     0.86186,     0.86286,     0.86386,\n",
       "           0.86486,     0.86587,     0.86687,     0.86787,     0.86887,     0.86987,     0.87087,     0.87187,     0.87287,     0.87387,     0.87487,     0.87588,     0.87688,     0.87788,     0.87888,     0.87988,     0.88088,     0.88188,     0.88288,     0.88388,     0.88488,     0.88589,     0.88689,     0.88789,\n",
       "           0.88889,     0.88989,     0.89089,     0.89189,     0.89289,     0.89389,     0.89489,      0.8959,      0.8969,      0.8979,      0.8989,      0.8999,      0.9009,      0.9019,      0.9029,      0.9039,      0.9049,     0.90591,     0.90691,     0.90791,     0.90891,     0.90991,     0.91091,     0.91191,\n",
       "           0.91291,     0.91391,     0.91491,     0.91592,     0.91692,     0.91792,     0.91892,     0.91992,     0.92092,     0.92192,     0.92292,     0.92392,     0.92492,     0.92593,     0.92693,     0.92793,     0.92893,     0.92993,     0.93093,     0.93193,     0.93293,     0.93393,     0.93493,     0.93594,\n",
       "           0.93694,     0.93794,     0.93894,     0.93994,     0.94094,     0.94194,     0.94294,     0.94394,     0.94494,     0.94595,     0.94695,     0.94795,     0.94895,     0.94995,     0.95095,     0.95195,     0.95295,     0.95395,     0.95495,     0.95596,     0.95696,     0.95796,     0.95896,     0.95996,\n",
       "           0.96096,     0.96196,     0.96296,     0.96396,     0.96496,     0.96597,     0.96697,     0.96797,     0.96897,     0.96997,     0.97097,     0.97197,     0.97297,     0.97397,     0.97497,     0.97598,     0.97698,     0.97798,     0.97898,     0.97998,     0.98098,     0.98198,     0.98298,     0.98398,\n",
       "           0.98498,     0.98599,     0.98699,     0.98799,     0.98899,     0.98999,     0.99099,     0.99199,     0.99299,     0.99399,     0.99499,       0.996,       0.997,       0.998,       0.999,           1]), array([[   0.026099,    0.026099,    0.042031,    0.053364,    0.063045,    0.073771,    0.076929,    0.083884,    0.090612,    0.095017,    0.094851,    0.097654,      0.1021,     0.10386,      0.1049,     0.10692,      0.1111,     0.11532,     0.12193,     0.12459,     0.12604,     0.12791,     0.13089,\n",
       "            0.13151,     0.13525,     0.13745,     0.14038,     0.14396,     0.14708,     0.14921,     0.14977,     0.15032,     0.14422,      0.1449,     0.14682,     0.14881,      0.1501,     0.15374,     0.15727,     0.15798,     0.15856,     0.15892,     0.15929,     0.15965,     0.16067,     0.16246,\n",
       "            0.16332,     0.16392,     0.16452,     0.16515,     0.16586,     0.16658,     0.16746,     0.16838,     0.16972,     0.17098,     0.17214,     0.17299,     0.17385,       0.175,     0.17601,      0.1766,     0.17719,     0.17779,      0.1787,     0.17961,     0.18102,     0.18212,     0.18274,\n",
       "            0.18336,      0.1807,     0.17649,     0.17707,     0.17765,     0.17824,     0.18089,     0.18324,     0.18472,     0.18595,     0.18707,      0.1879,     0.18855,     0.18919,     0.18984,     0.19106,     0.19231,     0.19311,     0.19392,     0.19472,     0.19525,     0.19575,     0.19625,\n",
       "            0.19675,     0.19725,     0.19797,     0.19876,     0.19954,     0.20071,     0.20242,     0.20352,     0.20051,     0.19749,     0.19447,     0.19593,     0.19737,     0.19856,     0.19974,     0.20609,     0.20699,     0.20789,     0.20879,     0.20951,     0.21018,     0.21086,     0.21153,\n",
       "            0.20385,     0.20302,     0.20343,     0.20375,     0.20406,     0.20438,      0.2047,     0.20501,     0.20533,     0.20565,     0.20596,     0.20628,     0.20672,     0.20719,     0.20766,     0.20813,      0.2086,     0.20907,     0.20954,     0.21101,     0.21289,     0.21357,     0.21408,\n",
       "            0.21459,      0.2151,     0.21561,     0.21612,     0.21663,     0.21794,     0.21931,     0.22041,      0.2207,     0.22099,     0.22128,     0.22158,     0.22187,     0.22216,     0.22245,     0.22274,     0.22303,     0.22332,     0.22361,      0.2239,     0.22448,     0.22617,     0.22787,\n",
       "            0.23075,      0.2326,     0.23344,     0.23429,     0.23513,     0.23598,     0.24083,     0.24101,     0.24118,     0.24135,     0.24153,      0.2417,     0.24187,     0.24205,     0.24222,     0.24239,     0.24257,     0.24274,     0.24291,     0.24309,     0.24326,     0.24343,     0.24361,\n",
       "            0.24378,     0.24395,     0.24413,      0.2443,     0.24447,     0.24465,     0.24482,     0.24499,     0.24517,     0.24538,     0.24569,       0.246,     0.24631,     0.24662,     0.24693,     0.24724,     0.24755,     0.24786,     0.24817,     0.24848,     0.24879,      0.2491,     0.24941,\n",
       "            0.24971,     0.25052,     0.25535,     0.25666,     0.25797,     0.25927,     0.26015,      0.2605,     0.26084,     0.26119,     0.26153,     0.26188,     0.26223,     0.26257,     0.26292,     0.26326,     0.26361,     0.26395,      0.2643,     0.26464,     0.26499,     0.26556,      0.2688,\n",
       "            0.27093,     0.27121,     0.27148,     0.27175,     0.27203,      0.2723,     0.27257,     0.27285,     0.27312,     0.27339,     0.27367,     0.27394,     0.27421,     0.27449,     0.27476,     0.27503,     0.27531,     0.27558,     0.27585,     0.27612,      0.2764,     0.27673,     0.27724,\n",
       "            0.27774,     0.27824,     0.27875,     0.27925,     0.27975,     0.28026,     0.28076,     0.28126,     0.28177,     0.28227,     0.28232,     0.28144,     0.28056,     0.27967,     0.27879,     0.27791,     0.27702,     0.27614,     0.27526,     0.27437,     0.27349,     0.27261,     0.27172,\n",
       "            0.27084,     0.26996,     0.26907,     0.26819,     0.26731,     0.26752,     0.27063,     0.27329,     0.27502,     0.27676,     0.27849,     0.27933,     0.27972,     0.28011,      0.2805,     0.28089,     0.28127,     0.28166,     0.28205,     0.28244,     0.28283,     0.28322,     0.28361,\n",
       "              0.284,     0.28439,     0.28478,     0.28517,     0.28556,      0.2891,     0.29492,     0.30029,     0.30214,       0.304,     0.30585,     0.30771,     0.31008,     0.31245,     0.31482,     0.31619,     0.31686,     0.31753,     0.31821,     0.31888,     0.31955,     0.32023,      0.3209,\n",
       "            0.32157,     0.32225,     0.32292,     0.32359,     0.32426,     0.32487,     0.32546,     0.32606,     0.32665,     0.32725,     0.32785,     0.32844,     0.32904,     0.32963,     0.33023,     0.33082,     0.33142,     0.33202,     0.33261,     0.33321,     0.33487,     0.33683,     0.33878,\n",
       "            0.34073,     0.34268,     0.34345,     0.34409,     0.34474,     0.34538,     0.34603,     0.34668,     0.34732,     0.34797,     0.34861,     0.34926,     0.34991,     0.35055,      0.3512,     0.35184,     0.35249,     0.35314,     0.35379,     0.35445,      0.3551,     0.35576,     0.35641,\n",
       "            0.35707,     0.35772,     0.35837,     0.35903,     0.35968,     0.36034,     0.36099,     0.36165,      0.3623,     0.36296,     0.36361,     0.36391,     0.36419,     0.36447,     0.36475,     0.36504,     0.36532,      0.3656,     0.36588,     0.36617,     0.36645,     0.36673,     0.36701,\n",
       "             0.3673,     0.36758,     0.36786,     0.36814,     0.36843,     0.36871,     0.36899,     0.36927,     0.36956,     0.36984,     0.37012,      0.3704,     0.37068,     0.37097,     0.37125,     0.37153,     0.37181,      0.3721,     0.37238,     0.37266,     0.37294,     0.37323,     0.37351,\n",
       "            0.37379,     0.37407,     0.37436,     0.37464,     0.37492,      0.3756,     0.37644,     0.37728,     0.37813,     0.37897,     0.37981,     0.38065,     0.38149,     0.38233,     0.38317,     0.38401,     0.38485,     0.38569,     0.38653,     0.38926,     0.39588,     0.40015,     0.40056,\n",
       "            0.40097,     0.40138,     0.40179,      0.4022,     0.40261,     0.40302,     0.40343,     0.40384,     0.40425,     0.40466,     0.40507,     0.40548,     0.40589,      0.4063,     0.40671,     0.40712,     0.40753,     0.40794,     0.40835,     0.40876,     0.40917,     0.40958,     0.40999,\n",
       "             0.4104,     0.41081,     0.41122,     0.41163,     0.41204,     0.41245,     0.41286,     0.41327,     0.41368,     0.41429,     0.41498,     0.41567,     0.41635,     0.41704,     0.41773,     0.41842,     0.41911,      0.4198,     0.42048,     0.42117,     0.42186,     0.42255,     0.42324,\n",
       "            0.42393,     0.42462,      0.4253,     0.42599,     0.42668,     0.42737,     0.42806,     0.42871,     0.42925,     0.42979,     0.43034,     0.43088,     0.43142,     0.43196,     0.43251,     0.43305,     0.43359,     0.43413,     0.43468,     0.43522,     0.43576,      0.4363,     0.43685,\n",
       "            0.43739,     0.43793,     0.43847,     0.43901,     0.43956,      0.4401,     0.44064,     0.44118,     0.44173,     0.44227,     0.44281,     0.44335,      0.4439,     0.44444,     0.43362,     0.42329,     0.42907,     0.43486,      0.4401,     0.44099,     0.44189,     0.44278,     0.44368,\n",
       "            0.44457,     0.44547,     0.44636,     0.44726,     0.44815,     0.44905,     0.44994,     0.45084,     0.45173,     0.45263,     0.45352,     0.45442,     0.45531,     0.45621,      0.4571,       0.458,     0.46088,     0.46496,     0.46905,     0.47313,     0.47722,     0.47897,     0.47992,\n",
       "            0.48086,     0.48181,     0.48276,     0.48371,     0.48466,      0.4856,     0.48655,      0.4875,     0.48845,      0.4894,     0.49035,     0.49129,     0.49224,     0.49319,     0.49414,     0.49509,     0.49604,     0.49698,     0.49793,     0.49888,     0.49983,      0.4984,     0.49645,\n",
       "             0.4945,     0.49254,     0.49059,     0.48864,     0.48669,     0.48473,     0.48278,     0.48083,     0.47888,     0.47692,     0.47809,     0.48114,      0.4842,     0.48725,      0.4903,     0.49335,      0.4964,     0.49945,     0.49848,     0.49662,     0.49476,     0.49289,     0.49103,\n",
       "            0.48917,     0.48731,     0.48545,     0.48359,     0.48173,     0.47987,     0.47801,     0.47615,     0.47429,     0.48095,     0.49174,     0.49882,      0.4938,     0.48877,     0.48375,     0.47872,      0.4737,     0.47235,     0.47699,     0.48163,     0.48627,     0.49091,     0.49555,\n",
       "            0.50016,     0.50418,      0.5082,     0.51222,     0.51624,     0.52026,     0.52428,      0.5283,     0.53232,     0.53408,     0.53508,     0.53608,     0.53709,     0.53809,     0.53909,     0.54009,     0.54109,     0.54209,     0.54309,     0.54409,      0.5451,      0.5461,      0.5471,\n",
       "             0.5481,      0.5491,      0.5501,      0.5511,      0.5521,      0.5531,     0.55411,     0.55511,     0.55611,     0.55711,     0.55811,     0.55911,     0.56011,     0.56111,     0.56212,     0.56312,     0.56412,     0.56512,     0.56612,     0.56712,     0.56812,     0.56912,     0.57013,\n",
       "            0.57113,     0.57417,     0.57809,       0.582,     0.58592,     0.58984,     0.59376,     0.59768,     0.60159,     0.60551,     0.60943,     0.61335,     0.61712,     0.62075,     0.62438,       0.628,     0.63163,     0.63525,     0.63888,      0.6425,     0.64613,     0.64975,     0.65338,\n",
       "              0.657,     0.66063,     0.66425,     0.66746,     0.66985,     0.67224,     0.67463,     0.67702,     0.67941,      0.6818,     0.68419,     0.68658,     0.68897,     0.69136,     0.69375,     0.69614,     0.69853,     0.70092,      0.7033,     0.70569,     0.70808,     0.71047,     0.71286,\n",
       "            0.71525,     0.71764,     0.72003,     0.72242,     0.72481,      0.7272,     0.72442,     0.72148,     0.71854,     0.71559,     0.71265,     0.70971,     0.70677,     0.70382,     0.70088,     0.77713,     0.77622,      0.7753,     0.77438,     0.77346,     0.77254,     0.77162,      0.7707,\n",
       "            0.76979,     0.76887,     0.76795,     0.76703,     0.76611,     0.76519,     0.76428,     0.76336,     0.76244,     0.76152,      0.7606,     0.75968,     0.75876,     0.75785,     0.75693,     0.75601,     0.75509,     0.75417,     0.75325,     0.75234,     0.75142,      0.7505,     0.74854,\n",
       "            0.74536,     0.74218,     0.73899,     0.73581,     0.73263,     0.72944,     0.72626,     0.72308,     0.71989,     0.71671,     0.71273,     0.70623,     0.69972,     0.69321,      0.6867,     0.68019,     0.67369,     0.66718,      0.6646,     0.66236,     0.66012,     0.65788,     0.65564,\n",
       "             0.6534,     0.65116,     0.64892,     0.64668,     0.64444,      0.6422,     0.63996,     0.63772,     0.63548,     0.63324,     0.63099,     0.62875,     0.62651,     0.62427,     0.62203,     0.61979,     0.61755,     0.61531,     0.61307,     0.61083,     0.60859,     0.60635,     0.60411,\n",
       "            0.60187,     0.59948,     0.59632,     0.59317,     0.59001,     0.58686,     0.58371,     0.58055,      0.5774,     0.57425,     0.57109,     0.56794,     0.56478,     0.56163,     0.55848,     0.55532,     0.55217,     0.54901,     0.54586,     0.54271,     0.53955,      0.5364,     0.53324,\n",
       "            0.53009,     0.52694,     0.52378,     0.52063,     0.51747,     0.51432,     0.51117,     0.50801,     0.50486,      0.5017,     0.49396,     0.48082,     0.46768,     0.45454,      0.4414,     0.42826,     0.41511,     0.40197,     0.38883,     0.37569,     0.36255,     0.34941,     0.33627,\n",
       "            0.39969,     0.48511,      0.5184,     0.54068,     0.56297,     0.58525,     0.60753,     0.62981,      0.6521,     0.67438,     0.69666,     0.71895,     0.74123,     0.76351,      0.7858,     0.80808,     0.83036,     0.85265,     0.87493,     0.89721,      0.9195,     0.94178,     0.96406,\n",
       "            0.98635,           1,           1,           1,           1,           1,           1,           1,           1,           1,           1,           1,           1,           1,           1,           1,           1,           1,           1,           1,           1,           1,           1,\n",
       "                  1,           1,           1,           1,           1,           1,           1,           1,           1,           1,           1,           1,           1,           1,           1,           1,           1,           1,           1,           1,           1,           1,           1,\n",
       "                  1,           1,           1,           1,           1,           1,           1,           1,           1,           1,           1,           1,           1,           1,           1,           1,           1,           1,           1,           1,           1,           1,           1,\n",
       "                  1,           1,           1,           1,           1,           1,           1,           1,           1,           1,           1,           1,           1,           1,           1,           1,           1,           1,           1,           1,           1,           1,           1,\n",
       "                  1,           1,           1,           1,           1,           1,           1,           1,           1,           1,           1,           1,           1,           1,           1,           1,           1,           1,           1,           1,           1,           1,           1,\n",
       "                  1,           1,           1,           1,           1,           1,           1,           1,           1,           1,           1]]), 'Confidence', 'Precision'], [array([          0,    0.001001,    0.002002,    0.003003,    0.004004,    0.005005,    0.006006,    0.007007,    0.008008,    0.009009,     0.01001,    0.011011,    0.012012,    0.013013,    0.014014,    0.015015,    0.016016,    0.017017,    0.018018,    0.019019,     0.02002,    0.021021,    0.022022,    0.023023,\n",
       "          0.024024,    0.025025,    0.026026,    0.027027,    0.028028,    0.029029,     0.03003,    0.031031,    0.032032,    0.033033,    0.034034,    0.035035,    0.036036,    0.037037,    0.038038,    0.039039,     0.04004,    0.041041,    0.042042,    0.043043,    0.044044,    0.045045,    0.046046,    0.047047,\n",
       "          0.048048,    0.049049,     0.05005,    0.051051,    0.052052,    0.053053,    0.054054,    0.055055,    0.056056,    0.057057,    0.058058,    0.059059,     0.06006,    0.061061,    0.062062,    0.063063,    0.064064,    0.065065,    0.066066,    0.067067,    0.068068,    0.069069,     0.07007,    0.071071,\n",
       "          0.072072,    0.073073,    0.074074,    0.075075,    0.076076,    0.077077,    0.078078,    0.079079,     0.08008,    0.081081,    0.082082,    0.083083,    0.084084,    0.085085,    0.086086,    0.087087,    0.088088,    0.089089,     0.09009,    0.091091,    0.092092,    0.093093,    0.094094,    0.095095,\n",
       "          0.096096,    0.097097,    0.098098,    0.099099,      0.1001,      0.1011,      0.1021,      0.1031,      0.1041,     0.10511,     0.10611,     0.10711,     0.10811,     0.10911,     0.11011,     0.11111,     0.11211,     0.11311,     0.11411,     0.11512,     0.11612,     0.11712,     0.11812,     0.11912,\n",
       "           0.12012,     0.12112,     0.12212,     0.12312,     0.12412,     0.12513,     0.12613,     0.12713,     0.12813,     0.12913,     0.13013,     0.13113,     0.13213,     0.13313,     0.13413,     0.13514,     0.13614,     0.13714,     0.13814,     0.13914,     0.14014,     0.14114,     0.14214,     0.14314,\n",
       "           0.14414,     0.14515,     0.14615,     0.14715,     0.14815,     0.14915,     0.15015,     0.15115,     0.15215,     0.15315,     0.15415,     0.15516,     0.15616,     0.15716,     0.15816,     0.15916,     0.16016,     0.16116,     0.16216,     0.16316,     0.16416,     0.16517,     0.16617,     0.16717,\n",
       "           0.16817,     0.16917,     0.17017,     0.17117,     0.17217,     0.17317,     0.17417,     0.17518,     0.17618,     0.17718,     0.17818,     0.17918,     0.18018,     0.18118,     0.18218,     0.18318,     0.18418,     0.18519,     0.18619,     0.18719,     0.18819,     0.18919,     0.19019,     0.19119,\n",
       "           0.19219,     0.19319,     0.19419,      0.1952,      0.1962,      0.1972,      0.1982,      0.1992,      0.2002,      0.2012,      0.2022,      0.2032,      0.2042,     0.20521,     0.20621,     0.20721,     0.20821,     0.20921,     0.21021,     0.21121,     0.21221,     0.21321,     0.21421,     0.21522,\n",
       "           0.21622,     0.21722,     0.21822,     0.21922,     0.22022,     0.22122,     0.22222,     0.22322,     0.22422,     0.22523,     0.22623,     0.22723,     0.22823,     0.22923,     0.23023,     0.23123,     0.23223,     0.23323,     0.23423,     0.23524,     0.23624,     0.23724,     0.23824,     0.23924,\n",
       "           0.24024,     0.24124,     0.24224,     0.24324,     0.24424,     0.24525,     0.24625,     0.24725,     0.24825,     0.24925,     0.25025,     0.25125,     0.25225,     0.25325,     0.25425,     0.25526,     0.25626,     0.25726,     0.25826,     0.25926,     0.26026,     0.26126,     0.26226,     0.26326,\n",
       "           0.26426,     0.26527,     0.26627,     0.26727,     0.26827,     0.26927,     0.27027,     0.27127,     0.27227,     0.27327,     0.27427,     0.27528,     0.27628,     0.27728,     0.27828,     0.27928,     0.28028,     0.28128,     0.28228,     0.28328,     0.28428,     0.28529,     0.28629,     0.28729,\n",
       "           0.28829,     0.28929,     0.29029,     0.29129,     0.29229,     0.29329,     0.29429,      0.2953,      0.2963,      0.2973,      0.2983,      0.2993,      0.3003,      0.3013,      0.3023,      0.3033,      0.3043,     0.30531,     0.30631,     0.30731,     0.30831,     0.30931,     0.31031,     0.31131,\n",
       "           0.31231,     0.31331,     0.31431,     0.31532,     0.31632,     0.31732,     0.31832,     0.31932,     0.32032,     0.32132,     0.32232,     0.32332,     0.32432,     0.32533,     0.32633,     0.32733,     0.32833,     0.32933,     0.33033,     0.33133,     0.33233,     0.33333,     0.33433,     0.33534,\n",
       "           0.33634,     0.33734,     0.33834,     0.33934,     0.34034,     0.34134,     0.34234,     0.34334,     0.34434,     0.34535,     0.34635,     0.34735,     0.34835,     0.34935,     0.35035,     0.35135,     0.35235,     0.35335,     0.35435,     0.35536,     0.35636,     0.35736,     0.35836,     0.35936,\n",
       "           0.36036,     0.36136,     0.36236,     0.36336,     0.36436,     0.36537,     0.36637,     0.36737,     0.36837,     0.36937,     0.37037,     0.37137,     0.37237,     0.37337,     0.37437,     0.37538,     0.37638,     0.37738,     0.37838,     0.37938,     0.38038,     0.38138,     0.38238,     0.38338,\n",
       "           0.38438,     0.38539,     0.38639,     0.38739,     0.38839,     0.38939,     0.39039,     0.39139,     0.39239,     0.39339,     0.39439,      0.3954,      0.3964,      0.3974,      0.3984,      0.3994,      0.4004,      0.4014,      0.4024,      0.4034,      0.4044,     0.40541,     0.40641,     0.40741,\n",
       "           0.40841,     0.40941,     0.41041,     0.41141,     0.41241,     0.41341,     0.41441,     0.41542,     0.41642,     0.41742,     0.41842,     0.41942,     0.42042,     0.42142,     0.42242,     0.42342,     0.42442,     0.42543,     0.42643,     0.42743,     0.42843,     0.42943,     0.43043,     0.43143,\n",
       "           0.43243,     0.43343,     0.43443,     0.43544,     0.43644,     0.43744,     0.43844,     0.43944,     0.44044,     0.44144,     0.44244,     0.44344,     0.44444,     0.44545,     0.44645,     0.44745,     0.44845,     0.44945,     0.45045,     0.45145,     0.45245,     0.45345,     0.45445,     0.45546,\n",
       "           0.45646,     0.45746,     0.45846,     0.45946,     0.46046,     0.46146,     0.46246,     0.46346,     0.46446,     0.46547,     0.46647,     0.46747,     0.46847,     0.46947,     0.47047,     0.47147,     0.47247,     0.47347,     0.47447,     0.47548,     0.47648,     0.47748,     0.47848,     0.47948,\n",
       "           0.48048,     0.48148,     0.48248,     0.48348,     0.48448,     0.48549,     0.48649,     0.48749,     0.48849,     0.48949,     0.49049,     0.49149,     0.49249,     0.49349,     0.49449,      0.4955,      0.4965,      0.4975,      0.4985,      0.4995,      0.5005,      0.5015,      0.5025,      0.5035,\n",
       "            0.5045,     0.50551,     0.50651,     0.50751,     0.50851,     0.50951,     0.51051,     0.51151,     0.51251,     0.51351,     0.51451,     0.51552,     0.51652,     0.51752,     0.51852,     0.51952,     0.52052,     0.52152,     0.52252,     0.52352,     0.52452,     0.52553,     0.52653,     0.52753,\n",
       "           0.52853,     0.52953,     0.53053,     0.53153,     0.53253,     0.53353,     0.53453,     0.53554,     0.53654,     0.53754,     0.53854,     0.53954,     0.54054,     0.54154,     0.54254,     0.54354,     0.54454,     0.54555,     0.54655,     0.54755,     0.54855,     0.54955,     0.55055,     0.55155,\n",
       "           0.55255,     0.55355,     0.55455,     0.55556,     0.55656,     0.55756,     0.55856,     0.55956,     0.56056,     0.56156,     0.56256,     0.56356,     0.56456,     0.56557,     0.56657,     0.56757,     0.56857,     0.56957,     0.57057,     0.57157,     0.57257,     0.57357,     0.57457,     0.57558,\n",
       "           0.57658,     0.57758,     0.57858,     0.57958,     0.58058,     0.58158,     0.58258,     0.58358,     0.58458,     0.58559,     0.58659,     0.58759,     0.58859,     0.58959,     0.59059,     0.59159,     0.59259,     0.59359,     0.59459,      0.5956,      0.5966,      0.5976,      0.5986,      0.5996,\n",
       "            0.6006,      0.6016,      0.6026,      0.6036,      0.6046,     0.60561,     0.60661,     0.60761,     0.60861,     0.60961,     0.61061,     0.61161,     0.61261,     0.61361,     0.61461,     0.61562,     0.61662,     0.61762,     0.61862,     0.61962,     0.62062,     0.62162,     0.62262,     0.62362,\n",
       "           0.62462,     0.62563,     0.62663,     0.62763,     0.62863,     0.62963,     0.63063,     0.63163,     0.63263,     0.63363,     0.63463,     0.63564,     0.63664,     0.63764,     0.63864,     0.63964,     0.64064,     0.64164,     0.64264,     0.64364,     0.64464,     0.64565,     0.64665,     0.64765,\n",
       "           0.64865,     0.64965,     0.65065,     0.65165,     0.65265,     0.65365,     0.65465,     0.65566,     0.65666,     0.65766,     0.65866,     0.65966,     0.66066,     0.66166,     0.66266,     0.66366,     0.66466,     0.66567,     0.66667,     0.66767,     0.66867,     0.66967,     0.67067,     0.67167,\n",
       "           0.67267,     0.67367,     0.67467,     0.67568,     0.67668,     0.67768,     0.67868,     0.67968,     0.68068,     0.68168,     0.68268,     0.68368,     0.68468,     0.68569,     0.68669,     0.68769,     0.68869,     0.68969,     0.69069,     0.69169,     0.69269,     0.69369,     0.69469,      0.6957,\n",
       "            0.6967,      0.6977,      0.6987,      0.6997,      0.7007,      0.7017,      0.7027,      0.7037,      0.7047,     0.70571,     0.70671,     0.70771,     0.70871,     0.70971,     0.71071,     0.71171,     0.71271,     0.71371,     0.71471,     0.71572,     0.71672,     0.71772,     0.71872,     0.71972,\n",
       "           0.72072,     0.72172,     0.72272,     0.72372,     0.72472,     0.72573,     0.72673,     0.72773,     0.72873,     0.72973,     0.73073,     0.73173,     0.73273,     0.73373,     0.73473,     0.73574,     0.73674,     0.73774,     0.73874,     0.73974,     0.74074,     0.74174,     0.74274,     0.74374,\n",
       "           0.74474,     0.74575,     0.74675,     0.74775,     0.74875,     0.74975,     0.75075,     0.75175,     0.75275,     0.75375,     0.75475,     0.75576,     0.75676,     0.75776,     0.75876,     0.75976,     0.76076,     0.76176,     0.76276,     0.76376,     0.76476,     0.76577,     0.76677,     0.76777,\n",
       "           0.76877,     0.76977,     0.77077,     0.77177,     0.77277,     0.77377,     0.77477,     0.77578,     0.77678,     0.77778,     0.77878,     0.77978,     0.78078,     0.78178,     0.78278,     0.78378,     0.78478,     0.78579,     0.78679,     0.78779,     0.78879,     0.78979,     0.79079,     0.79179,\n",
       "           0.79279,     0.79379,     0.79479,      0.7958,      0.7968,      0.7978,      0.7988,      0.7998,      0.8008,      0.8018,      0.8028,      0.8038,      0.8048,     0.80581,     0.80681,     0.80781,     0.80881,     0.80981,     0.81081,     0.81181,     0.81281,     0.81381,     0.81481,     0.81582,\n",
       "           0.81682,     0.81782,     0.81882,     0.81982,     0.82082,     0.82182,     0.82282,     0.82382,     0.82482,     0.82583,     0.82683,     0.82783,     0.82883,     0.82983,     0.83083,     0.83183,     0.83283,     0.83383,     0.83483,     0.83584,     0.83684,     0.83784,     0.83884,     0.83984,\n",
       "           0.84084,     0.84184,     0.84284,     0.84384,     0.84484,     0.84585,     0.84685,     0.84785,     0.84885,     0.84985,     0.85085,     0.85185,     0.85285,     0.85385,     0.85485,     0.85586,     0.85686,     0.85786,     0.85886,     0.85986,     0.86086,     0.86186,     0.86286,     0.86386,\n",
       "           0.86486,     0.86587,     0.86687,     0.86787,     0.86887,     0.86987,     0.87087,     0.87187,     0.87287,     0.87387,     0.87487,     0.87588,     0.87688,     0.87788,     0.87888,     0.87988,     0.88088,     0.88188,     0.88288,     0.88388,     0.88488,     0.88589,     0.88689,     0.88789,\n",
       "           0.88889,     0.88989,     0.89089,     0.89189,     0.89289,     0.89389,     0.89489,      0.8959,      0.8969,      0.8979,      0.8989,      0.8999,      0.9009,      0.9019,      0.9029,      0.9039,      0.9049,     0.90591,     0.90691,     0.90791,     0.90891,     0.90991,     0.91091,     0.91191,\n",
       "           0.91291,     0.91391,     0.91491,     0.91592,     0.91692,     0.91792,     0.91892,     0.91992,     0.92092,     0.92192,     0.92292,     0.92392,     0.92492,     0.92593,     0.92693,     0.92793,     0.92893,     0.92993,     0.93093,     0.93193,     0.93293,     0.93393,     0.93493,     0.93594,\n",
       "           0.93694,     0.93794,     0.93894,     0.93994,     0.94094,     0.94194,     0.94294,     0.94394,     0.94494,     0.94595,     0.94695,     0.94795,     0.94895,     0.94995,     0.95095,     0.95195,     0.95295,     0.95395,     0.95495,     0.95596,     0.95696,     0.95796,     0.95896,     0.95996,\n",
       "           0.96096,     0.96196,     0.96296,     0.96396,     0.96496,     0.96597,     0.96697,     0.96797,     0.96897,     0.96997,     0.97097,     0.97197,     0.97297,     0.97397,     0.97497,     0.97598,     0.97698,     0.97798,     0.97898,     0.97998,     0.98098,     0.98198,     0.98298,     0.98398,\n",
       "           0.98498,     0.98599,     0.98699,     0.98799,     0.98899,     0.98999,     0.99099,     0.99199,     0.99299,     0.99399,     0.99499,       0.996,       0.997,       0.998,       0.999,           1]), array([[    0.57576,     0.57576,     0.57576,     0.57576,     0.57576,     0.57576,     0.54545,     0.54545,     0.54545,     0.54545,     0.51515,     0.51515,     0.51515,     0.51515,     0.51515,     0.51515,     0.51515,     0.51515,     0.51515,     0.51515,     0.51515,     0.51515,     0.51515,\n",
       "            0.51515,     0.51515,     0.51515,     0.51515,     0.51515,     0.51515,     0.51515,     0.51515,     0.51515,     0.48485,     0.48485,     0.48485,     0.48485,     0.48485,     0.48485,     0.48485,     0.48485,     0.48485,     0.48485,     0.48485,     0.48485,     0.48485,     0.48485,\n",
       "            0.48485,     0.48485,     0.48485,     0.48485,     0.48485,     0.48485,     0.48485,     0.48485,     0.48485,     0.48485,     0.48485,     0.48485,     0.48485,     0.48485,     0.48485,     0.48485,     0.48485,     0.48485,     0.48485,     0.48485,     0.48485,     0.48485,     0.48485,\n",
       "            0.48485,     0.47461,     0.45455,     0.45455,     0.45455,     0.45455,     0.45455,     0.45455,     0.45455,     0.45455,     0.45455,     0.45455,     0.45455,     0.45455,     0.45455,     0.45455,     0.45455,     0.45455,     0.45455,     0.45455,     0.45455,     0.45455,     0.45455,\n",
       "            0.45455,     0.45455,     0.45455,     0.45455,     0.45455,     0.45455,     0.45455,     0.44917,     0.44089,     0.43261,     0.42432,     0.42424,     0.42424,     0.42424,     0.42424,     0.42424,     0.42424,     0.42424,     0.42424,     0.42424,     0.42424,     0.42424,     0.42424,\n",
       "            0.40358,     0.39394,     0.39394,     0.39394,     0.39394,     0.39394,     0.39394,     0.39394,     0.39394,     0.39394,     0.39394,     0.39394,     0.39394,     0.39394,     0.39394,     0.39394,     0.39394,     0.39394,     0.39394,     0.39394,     0.39394,     0.39394,     0.39394,\n",
       "            0.39394,     0.39394,     0.39394,     0.39394,     0.39394,     0.39394,     0.39394,     0.39394,     0.39394,     0.39394,     0.39394,     0.39394,     0.39394,     0.39394,     0.39394,     0.39394,     0.39394,     0.39394,     0.39394,     0.39394,     0.39394,     0.39394,     0.39394,\n",
       "            0.39394,     0.39394,     0.39394,     0.39394,     0.39394,     0.39394,     0.39394,     0.39394,     0.39394,     0.39394,     0.39394,     0.39394,     0.39394,     0.39394,     0.39394,     0.39394,     0.39394,     0.39394,     0.39394,     0.39394,     0.39394,     0.39394,     0.39394,\n",
       "            0.39394,     0.39394,     0.39394,     0.39394,     0.39394,     0.39394,     0.39394,     0.39394,     0.39394,     0.39394,     0.39394,     0.39394,     0.39394,     0.39394,     0.39394,     0.39394,     0.39394,     0.39394,     0.39394,     0.39394,     0.39394,     0.39394,     0.39394,\n",
       "            0.39394,     0.39394,     0.39394,     0.39394,     0.39394,     0.39394,     0.39394,     0.39394,     0.39394,     0.39394,     0.39394,     0.39394,     0.39394,     0.39394,     0.39394,     0.39394,     0.39394,     0.39394,     0.39394,     0.39394,     0.39394,     0.39394,     0.39394,\n",
       "            0.39394,     0.39394,     0.39394,     0.39394,     0.39394,     0.39394,     0.39394,     0.39394,     0.39394,     0.39394,     0.39394,     0.39394,     0.39394,     0.39394,     0.39394,     0.39394,     0.39394,     0.39394,     0.39394,     0.39394,     0.39394,     0.39394,     0.39394,\n",
       "            0.39394,     0.39394,     0.39394,     0.39394,     0.39394,     0.39394,     0.39394,     0.39394,     0.39394,     0.39394,      0.3934,     0.39172,     0.39004,     0.38836,     0.38668,       0.385,     0.38332,     0.38164,     0.37996,     0.37829,     0.37661,     0.37493,     0.37325,\n",
       "            0.37157,     0.36989,     0.36821,     0.36653,     0.36485,     0.36364,     0.36364,     0.36364,     0.36364,     0.36364,     0.36364,     0.36364,     0.36364,     0.36364,     0.36364,     0.36364,     0.36364,     0.36364,     0.36364,     0.36364,     0.36364,     0.36364,     0.36364,\n",
       "            0.36364,     0.36364,     0.36364,     0.36364,     0.36364,     0.36364,     0.36364,     0.36364,     0.36364,     0.36364,     0.36364,     0.36364,     0.36364,     0.36364,     0.36364,     0.36364,     0.36364,     0.36364,     0.36364,     0.36364,     0.36364,     0.36364,     0.36364,\n",
       "            0.36364,     0.36364,     0.36364,     0.36364,     0.36364,     0.36364,     0.36364,     0.36364,     0.36364,     0.36364,     0.36364,     0.36364,     0.36364,     0.36364,     0.36364,     0.36364,     0.36364,     0.36364,     0.36364,     0.36364,     0.36364,     0.36364,     0.36364,\n",
       "            0.36364,     0.36364,     0.36364,     0.36364,     0.36364,     0.36364,     0.36364,     0.36364,     0.36364,     0.36364,     0.36364,     0.36364,     0.36364,     0.36364,     0.36364,     0.36364,     0.36364,     0.36364,     0.36364,     0.36364,     0.36364,     0.36364,     0.36364,\n",
       "            0.36364,     0.36364,     0.36364,     0.36364,     0.36364,     0.36364,     0.36364,     0.36364,     0.36364,     0.36364,     0.36364,     0.36364,     0.36364,     0.36364,     0.36364,     0.36364,     0.36364,     0.36364,     0.36364,     0.36364,     0.36364,     0.36364,     0.36364,\n",
       "            0.36364,     0.36364,     0.36364,     0.36364,     0.36364,     0.36364,     0.36364,     0.36364,     0.36364,     0.36364,     0.36364,     0.36364,     0.36364,     0.36364,     0.36364,     0.36364,     0.36364,     0.36364,     0.36364,     0.36364,     0.36364,     0.36364,     0.36364,\n",
       "            0.36364,     0.36364,     0.36364,     0.36364,     0.36364,     0.36364,     0.36364,     0.36364,     0.36364,     0.36364,     0.36364,     0.36364,     0.36364,     0.36364,     0.36364,     0.36364,     0.36364,     0.36364,     0.36364,     0.36364,     0.36364,     0.36364,     0.36364,\n",
       "            0.36364,     0.36364,     0.36364,     0.36364,     0.36364,     0.36364,     0.36364,     0.36364,     0.36364,     0.36364,     0.36364,     0.36364,     0.36364,     0.36364,     0.36364,     0.36364,     0.36364,     0.36364,     0.36364,     0.36364,     0.36364,     0.36364,     0.36364,\n",
       "            0.36364,     0.36364,     0.36364,     0.36364,     0.36364,     0.36364,     0.36364,     0.36364,     0.36364,     0.36364,     0.36364,     0.36364,     0.36364,     0.36364,     0.36364,     0.36364,     0.36364,     0.36364,     0.36364,     0.36364,     0.36364,     0.36364,     0.36364,\n",
       "            0.36364,     0.36364,     0.36364,     0.36364,     0.36364,     0.36364,     0.36364,     0.36364,     0.36364,     0.36364,     0.36364,     0.36364,     0.36364,     0.36364,     0.36364,     0.36364,     0.36364,     0.36364,     0.36364,     0.36364,     0.36364,     0.36364,     0.36364,\n",
       "            0.36364,     0.36364,     0.36364,     0.36364,     0.36364,     0.36364,     0.36364,     0.36364,     0.36364,     0.36364,     0.36364,     0.36364,     0.36364,     0.36364,     0.34829,     0.33333,     0.33333,     0.33333,     0.33333,     0.33333,     0.33333,     0.33333,     0.33333,\n",
       "            0.33333,     0.33333,     0.33333,     0.33333,     0.33333,     0.33333,     0.33333,     0.33333,     0.33333,     0.33333,     0.33333,     0.33333,     0.33333,     0.33333,     0.33333,     0.33333,     0.33333,     0.33333,     0.33333,     0.33333,     0.33333,     0.33333,     0.33333,\n",
       "            0.33333,     0.33333,     0.33333,     0.33333,     0.33333,     0.33333,     0.33333,     0.33333,     0.33333,     0.33333,     0.33333,     0.33333,     0.33333,     0.33333,     0.33333,     0.33333,     0.33333,     0.33333,     0.33333,     0.33333,     0.33333,      0.3313,     0.32881,\n",
       "            0.32633,     0.32384,     0.32136,     0.31887,     0.31639,      0.3139,     0.31142,     0.30893,     0.30645,     0.30396,     0.30303,     0.30303,     0.30303,     0.30303,     0.30303,     0.30303,     0.30303,     0.30303,     0.30128,     0.29913,     0.29699,     0.29485,     0.29271,\n",
       "            0.29056,     0.28842,     0.28628,     0.28414,       0.282,     0.27985,     0.27771,     0.27557,     0.27343,     0.27273,     0.27273,     0.27151,     0.26634,     0.26116,     0.25598,     0.25081,     0.24563,     0.24242,     0.24242,     0.24242,     0.24242,     0.24242,     0.24242,\n",
       "            0.24242,     0.24242,     0.24242,     0.24242,     0.24242,     0.24242,     0.24242,     0.24242,     0.24242,     0.24242,     0.24242,     0.24242,     0.24242,     0.24242,     0.24242,     0.24242,     0.24242,     0.24242,     0.24242,     0.24242,     0.24242,     0.24242,     0.24242,\n",
       "            0.24242,     0.24242,     0.24242,     0.24242,     0.24242,     0.24242,     0.24242,     0.24242,     0.24242,     0.24242,     0.24242,     0.24242,     0.24242,     0.24242,     0.24242,     0.24242,     0.24242,     0.24242,     0.24242,     0.24242,     0.24242,     0.24242,     0.24242,\n",
       "            0.24242,     0.24242,     0.24242,     0.24242,     0.24242,     0.24242,     0.24242,     0.24242,     0.24242,     0.24242,     0.24242,     0.24242,     0.24242,     0.24242,     0.24242,     0.24242,     0.24242,     0.24242,     0.24242,     0.24242,     0.24242,     0.24242,     0.24242,\n",
       "            0.24242,     0.24242,     0.24242,     0.24242,     0.24242,     0.24242,     0.24242,     0.24242,     0.24242,     0.24242,     0.24242,     0.24242,     0.24242,     0.24242,     0.24242,     0.24242,     0.24242,     0.24242,     0.24242,     0.24242,     0.24242,     0.24242,     0.24242,\n",
       "            0.24242,     0.24242,     0.24242,     0.24242,     0.24242,     0.24242,     0.23926,     0.23599,     0.23272,     0.22945,     0.22618,     0.22291,     0.21964,     0.21637,      0.2131,     0.21142,     0.21042,     0.20942,     0.20841,     0.20741,     0.20641,     0.20541,     0.20441,\n",
       "             0.2034,      0.2024,      0.2014,      0.2004,      0.1994,     0.19839,     0.19739,     0.19639,     0.19539,     0.19439,     0.19338,     0.19238,     0.19138,     0.19038,     0.18938,     0.18837,     0.18737,     0.18637,     0.18537,     0.18437,     0.18336,     0.18236,     0.18058,\n",
       "            0.17788,     0.17518,     0.17248,     0.16978,     0.16708,     0.16438,     0.16168,     0.15897,     0.15627,     0.15357,     0.15053,     0.14639,     0.14225,      0.1381,     0.13396,     0.12982,     0.12568,     0.12154,     0.12027,     0.11926,     0.11824,     0.11722,      0.1162,\n",
       "            0.11518,     0.11416,     0.11314,     0.11213,     0.11111,     0.11009,     0.10907,     0.10805,     0.10703,     0.10602,       0.105,     0.10398,     0.10296,     0.10194,     0.10092,    0.099906,    0.098887,    0.097869,     0.09685,    0.095832,    0.094814,    0.093795,    0.092777,\n",
       "           0.091758,     0.09075,    0.089795,    0.088839,    0.087883,    0.086927,    0.085972,    0.085016,     0.08406,    0.083105,    0.082149,    0.081193,    0.080237,    0.079282,    0.078326,     0.07737,    0.076414,    0.075459,    0.074503,    0.073547,    0.072591,    0.071636,     0.07068,\n",
       "           0.069724,    0.068769,    0.067813,    0.066857,    0.065901,    0.064946,     0.06399,    0.063034,    0.062078,    0.061123,    0.059508,    0.057119,     0.05473,     0.05234,    0.049951,    0.047562,    0.045172,    0.042783,    0.040394,    0.038004,    0.035615,    0.033226,    0.030836,\n",
       "           0.030303,    0.030303,    0.030303,    0.030303,    0.030303,    0.030303,    0.030303,    0.030303,    0.030303,    0.030303,    0.030303,    0.030303,    0.030303,    0.030303,    0.030303,    0.030303,    0.030303,    0.030303,    0.030303,    0.030303,    0.030303,    0.030303,    0.030303,\n",
       "           0.030303,           0,           0,           0,           0,           0,           0,           0,           0,           0,           0,           0,           0,           0,           0,           0,           0,           0,           0,           0,           0,           0,           0,\n",
       "                  0,           0,           0,           0,           0,           0,           0,           0,           0,           0,           0,           0,           0,           0,           0,           0,           0,           0,           0,           0,           0,           0,           0,\n",
       "                  0,           0,           0,           0,           0,           0,           0,           0,           0,           0,           0,           0,           0,           0,           0,           0,           0,           0,           0,           0,           0,           0,           0,\n",
       "                  0,           0,           0,           0,           0,           0,           0,           0,           0,           0,           0,           0,           0,           0,           0,           0,           0,           0,           0,           0,           0,           0,           0,\n",
       "                  0,           0,           0,           0,           0,           0,           0,           0,           0,           0,           0,           0,           0,           0,           0,           0,           0,           0,           0,           0,           0,           0,           0,\n",
       "                  0,           0,           0,           0,           0,           0,           0,           0,           0,           0,           0]]), 'Confidence', 'Recall']]\n",
       "fitness: 0.32751859725791865\n",
       "keys: ['metrics/precision(B)', 'metrics/recall(B)', 'metrics/mAP50(B)', 'metrics/mAP50-95(B)', 'metrics/precision(M)', 'metrics/recall(M)', 'metrics/mAP50(M)', 'metrics/mAP50-95(M)']\n",
       "maps: array([     0.2833])\n",
       "names: {0: 'crack'}\n",
       "plot: True\n",
       "results_dict: {'metrics/precision(B)': 0.48671610085751504, 'metrics/recall(B)': 0.48484848484848486, 'metrics/mAP50(B)': 0.4284304525737784, 'metrics/mAP50-95(B)': 0.21595159201190453, 'metrics/precision(M)': 0.4418884757773647, 'metrics/recall(M)': 0.3333333333333333, 'metrics/mAP50(M)': 0.2970706450990451, 'metrics/mAP50-95(M)': 0.06734672742213581, 'fitness': 0.32751859725791865}\n",
       "save_dir: PosixPath('runs/segment/train3')\n",
       "seg: ultralytics.utils.metrics.Metric object\n",
       "speed: {'preprocess': 0.4292052725087041, 'inference': 4.66106248938519, 'loss': 0.0014201454494310462, 'postprocess': 2.3536785789158032}\n",
       "task: 'segment'"
      ]
     },
     "execution_count": 36,
     "metadata": {},
     "output_type": "execute_result"
    }
   ],
   "source": [
    "from ultralytics import YOLO\n",
    "\n",
    "# Load a model\n",
    "#model = YOLO(cfg)\n",
    "\n",
    "model = YOLO(\"yolov8n-seg.pt\")\n",
    "\n",
    "model.train(data=\"/content/drive/MyDrive/Computer vision/Crack segmentation/config.yaml\", epochs=200,imgsz=640,batch=8,lr0=0.05)  # train the model\n"
   ]
  },
  {
   "cell_type": "code",
   "execution_count": null,
   "metadata": {
    "id": "9evHbaWqlieK"
   },
   "outputs": [],
   "source": [
    "import locale\n",
    "locale.getpreferredencoding = lambda: \"UTF-8\""
   ]
  },
  {
   "cell_type": "code",
   "execution_count": 12,
   "metadata": {
    "colab": {
     "base_uri": "https://localhost:8080/"
    },
    "id": "1kc7k7DKEstK",
    "outputId": "1d6c5b2d-cdc8-4e07-a9cb-5608fea98d3e"
   },
   "outputs": [
    {
     "name": "stdout",
     "output_type": "stream",
     "text": [
      "WARNING ⚠️ argument '--boxes=False' does not require leading dashes '--', updating to 'boxes=False'.\n",
      "WARNING ⚠️ 'hide_labels' is deprecated and will be removed in 'ultralytics 8.399999999999999' in the future. Please use 'show_labels' instead.\n",
      "WARNING ⚠️ 'boxes' is deprecated and will be removed in 'ultralytics 8.399999999999999' in the future. Please use 'show_boxes' instead.\n",
      "Ultralytics YOLOv8.2.31 🚀 Python-3.10.12 torch-2.3.0+cu121 CUDA:0 (Tesla T4, 15102MiB)\n",
      "YOLOv8n-seg summary (fused): 195 layers, 3258259 parameters, 0 gradients, 12.0 GFLOPs\n",
      "\n",
      "image 1/23 /content/drive/MyDrive/Computer vision/Crack segmentation/Data/images/val/CFD_078.jpg: 640x640 3 cracks, 15.6ms\n",
      "image 2/23 /content/drive/MyDrive/Computer vision/Crack segmentation/Data/images/val/CFD_079.jpg: 640x640 3 cracks, 9.3ms\n",
      "image 3/23 /content/drive/MyDrive/Computer vision/Crack segmentation/Data/images/val/CFD_080.jpg: 640x640 2 cracks, 9.3ms\n",
      "image 4/23 /content/drive/MyDrive/Computer vision/Crack segmentation/Data/images/val/CRACK500_IMG_2942_1297_485.jpg: 640x640 3 cracks, 9.3ms\n",
      "image 5/23 /content/drive/MyDrive/Computer vision/Crack segmentation/Data/images/val/CRACK500_IMG_2942_1945_485.jpg: 640x640 2 cracks, 9.3ms\n",
      "image 6/23 /content/drive/MyDrive/Computer vision/Crack segmentation/Data/images/val/DeepCrack_7Q3A9064-19.jpg: 640x640 1 crack, 9.3ms\n",
      "image 7/23 /content/drive/MyDrive/Computer vision/Crack segmentation/Data/images/val/DeepCrack_7Q3A9064-20.jpg: 640x640 2 cracks, 9.6ms\n",
      "image 8/23 /content/drive/MyDrive/Computer vision/Crack segmentation/Data/images/val/DeepCrack_IMG109-1.jpg: 640x640 1 crack, 9.3ms\n",
      "image 9/23 /content/drive/MyDrive/Computer vision/Crack segmentation/Data/images/val/DeepCrack_IMG136.jpg: 640x640 1 crack, 9.2ms\n",
      "image 10/23 /content/drive/MyDrive/Computer vision/Crack segmentation/Data/images/val/Eugen_Muller_9360_300_116_719_613.jpg: 640x640 1 crack, 9.3ms\n",
      "image 11/23 /content/drive/MyDrive/Computer vision/Crack segmentation/Data/images/val/Eugen_Muller_9360_329_209_632_479.jpg: 640x640 1 crack, 9.3ms\n",
      "image 12/23 /content/drive/MyDrive/Computer vision/Crack segmentation/Data/images/val/GAPS384_valid_0016_1_1.jpg: 640x640 3 cracks, 9.3ms\n",
      "image 13/23 /content/drive/MyDrive/Computer vision/Crack segmentation/Data/images/val/GAPS384_valid_0016_541_1.jpg: 640x640 5 cracks, 13.2ms\n",
      "image 14/23 /content/drive/MyDrive/Computer vision/Crack segmentation/Data/images/val/Rissbilder_for_Florian_9S6A3138_1021_2296_2534_3226.jpg: 640x640 2 cracks, 9.4ms\n",
      "image 15/23 /content/drive/MyDrive/Computer vision/Crack segmentation/Data/images/val/Rissbilder_for_Florian_9S6A3138_1221_2113_2444_2530.jpg: 640x640 3 cracks, 9.3ms\n",
      "image 16/23 /content/drive/MyDrive/Computer vision/Crack segmentation/Data/images/val/Sylvie_Chambon_328.jpg: 640x640 3 cracks, 9.3ms\n",
      "image 17/23 /content/drive/MyDrive/Computer vision/Crack segmentation/Data/images/val/Sylvie_Chambon_329.jpg: 640x640 3 cracks, 9.3ms\n",
      "image 18/23 /content/drive/MyDrive/Computer vision/Crack segmentation/Data/images/val/Sylvie_Chambon_Im_noGT_ESAR_33a.jpg: 640x640 (no detections), 9.3ms\n",
      "image 19/23 /content/drive/MyDrive/Computer vision/Crack segmentation/Data/images/val/Sylvie_Chambon_Im_noGT_ESAR_34a.jpg: 640x640 (no detections), 9.3ms\n",
      "image 20/23 /content/drive/MyDrive/Computer vision/Crack segmentation/Data/images/val/cracktree200_6774.jpg: 640x640 2 cracks, 9.3ms\n",
      "image 21/23 /content/drive/MyDrive/Computer vision/Crack segmentation/Data/images/val/cracktree200_6779.jpg: 640x640 3 cracks, 9.3ms\n",
      "image 22/23 /content/drive/MyDrive/Computer vision/Crack segmentation/Data/images/val/forest_117.jpg: 640x640 2 cracks, 9.3ms\n",
      "image 23/23 /content/drive/MyDrive/Computer vision/Crack segmentation/Data/images/val/forest_118.jpg: 640x640 1 crack, 9.3ms\n",
      "Speed: 2.5ms preprocess, 9.7ms inference, 35.2ms postprocess per image at shape (1, 3, 640, 640)\n",
      "Results saved to \u001b[1mruns/segment/predict3\u001b[0m\n",
      "💡 Learn more at https://docs.ultralytics.com/modes/predict\n"
     ]
    }
   ],
   "source": [
    "import os\n",
    "#os.chdir('/content/drive/MyDrive/Computer vision/Crack segmentation/yolov8')\n",
    "!yolo task=segment mode=predict model='/content/drive/MyDrive/Computer vision/Crack segmentation/yolov8/runs/segment/train3/weights/best.pt' source=\"/content/drive/MyDrive/Computer vision/Crack segmentation/Data/images/val\" hide_labels=True  --boxes=False\n"
   ]
  },
  {
   "cell_type": "code",
   "execution_count": null,
   "metadata": {
    "colab": {
     "base_uri": "https://localhost:8080/"
    },
    "id": "kpPITox-Ts4Y",
    "outputId": "2dd6c0c6-f236-4ec5-dc98-7fa5c359f65c"
   },
   "outputs": [
    {
     "name": "stdout",
     "output_type": "stream",
     "text": [
      "\n",
      "0: 640x640 (no detections), 19.0ms\n",
      "Speed: 2.8ms preprocess, 19.0ms inference, 0.8ms postprocess per image at shape (1, 3, 640, 640)\n",
      "\n",
      "0: 640x640 3 cracks, 16.3ms\n",
      "Speed: 2.4ms preprocess, 16.3ms inference, 4.1ms postprocess per image at shape (1, 3, 640, 640)\n",
      "\n",
      "0: 640x640 3 cracks, 16.7ms\n",
      "Speed: 4.2ms preprocess, 16.7ms inference, 4.0ms postprocess per image at shape (1, 3, 640, 640)\n",
      "\n",
      "0: 640x640 2 cracks, 16.4ms\n",
      "Speed: 3.4ms preprocess, 16.4ms inference, 3.5ms postprocess per image at shape (1, 3, 640, 640)\n",
      "\n",
      "0: 640x640 3 cracks, 16.3ms\n",
      "Speed: 3.6ms preprocess, 16.3ms inference, 5.4ms postprocess per image at shape (1, 3, 640, 640)\n",
      "\n",
      "0: 640x640 3 cracks, 16.9ms\n",
      "Speed: 4.0ms preprocess, 16.9ms inference, 3.9ms postprocess per image at shape (1, 3, 640, 640)\n",
      "\n",
      "0: 640x640 5 cracks, 16.3ms\n",
      "Speed: 4.2ms preprocess, 16.3ms inference, 4.5ms postprocess per image at shape (1, 3, 640, 640)\n",
      "\n",
      "0: 640x640 1 crack, 20.4ms\n",
      "Speed: 3.9ms preprocess, 20.4ms inference, 4.3ms postprocess per image at shape (1, 3, 640, 640)\n",
      "\n",
      "0: 640x640 2 cracks, 18.4ms\n",
      "Speed: 4.1ms preprocess, 18.4ms inference, 4.8ms postprocess per image at shape (1, 3, 640, 640)\n",
      "\n",
      "0: 640x640 1 crack, 17.0ms\n",
      "Speed: 3.5ms preprocess, 17.0ms inference, 3.3ms postprocess per image at shape (1, 3, 640, 640)\n",
      "\n",
      "0: 640x640 1 crack, 16.3ms\n",
      "Speed: 4.2ms preprocess, 16.3ms inference, 3.2ms postprocess per image at shape (1, 3, 640, 640)\n",
      "\n",
      "0: 640x640 1 crack, 16.3ms\n",
      "Speed: 3.1ms preprocess, 16.3ms inference, 3.0ms postprocess per image at shape (1, 3, 640, 640)\n",
      "\n",
      "0: 640x640 1 crack, 16.6ms\n",
      "Speed: 4.4ms preprocess, 16.6ms inference, 3.3ms postprocess per image at shape (1, 3, 640, 640)\n",
      "\n",
      "0: 640x640 1 crack, 16.4ms\n",
      "Speed: 4.1ms preprocess, 16.4ms inference, 3.1ms postprocess per image at shape (1, 3, 640, 640)\n",
      "\n",
      "0: 640x640 2 cracks, 16.6ms\n",
      "Speed: 4.0ms preprocess, 16.6ms inference, 3.8ms postprocess per image at shape (1, 3, 640, 640)\n",
      "\n",
      "0: 640x640 2 cracks, 16.7ms\n",
      "Speed: 3.8ms preprocess, 16.7ms inference, 3.8ms postprocess per image at shape (1, 3, 640, 640)\n",
      "\n",
      "0: 640x640 3 cracks, 17.8ms\n",
      "Speed: 3.7ms preprocess, 17.8ms inference, 3.9ms postprocess per image at shape (1, 3, 640, 640)\n",
      "\n",
      "0: 640x640 2 cracks, 16.5ms\n",
      "Speed: 4.2ms preprocess, 16.5ms inference, 3.5ms postprocess per image at shape (1, 3, 640, 640)\n",
      "\n",
      "0: 640x640 3 cracks, 16.7ms\n",
      "Speed: 4.4ms preprocess, 16.7ms inference, 3.9ms postprocess per image at shape (1, 3, 640, 640)\n",
      "\n",
      "0: 640x640 2 cracks, 16.6ms\n",
      "Speed: 3.9ms preprocess, 16.6ms inference, 3.9ms postprocess per image at shape (1, 3, 640, 640)\n",
      "\n",
      "0: 640x640 3 cracks, 16.5ms\n",
      "Speed: 3.0ms preprocess, 16.5ms inference, 3.8ms postprocess per image at shape (1, 3, 640, 640)\n",
      "\n",
      "0: 640x640 3 cracks, 18.0ms\n",
      "Speed: 3.1ms preprocess, 18.0ms inference, 3.8ms postprocess per image at shape (1, 3, 640, 640)\n",
      "\n",
      "0: 640x640 (no detections), 16.6ms\n",
      "Speed: 3.9ms preprocess, 16.6ms inference, 0.5ms postprocess per image at shape (1, 3, 640, 640)\n"
     ]
    }
   ],
   "source": [
    "import os\n",
    "import cv2\n",
    "import numpy as np\n",
    "model_path = r'/content/drive/MyDrive/Computer vision/Crack segmentation/yolov8/runs/segment/train3/weights/best.pt'\n",
    "model = YOLO(model_path)\n",
    "\n",
    "in_folder_path = '/content/drive/MyDrive/Computer vision/Crack segmentation/Data/images/val'\n",
    "out_folder_path = '/content/drive/MyDrive/Computer vision/Crack segmentation/yolov8/final_pred/'\n",
    "\n",
    "for im_name in os.listdir(in_folder_path):\n",
    "    img_path = os.path.join(in_folder_path, im_name)\n",
    "    img = cv2.imread(img_path)\n",
    "    if img is None:\n",
    "        continue\n",
    "\n",
    "    seg_im_path ='/content/drive/MyDrive/Computer vision/Crack segmentation/yolov8/runs/segment/predict/'+im_name\n",
    "    seg_im = cv2.imread(seg_im_path)\n",
    "    if seg_im is None:\n",
    "        continue\n",
    "\n",
    "    H, W, _ = img.shape\n",
    "    seg_im = cv2.resize(seg_im, (W, H))\n",
    "\n",
    "    results = model(img)\n",
    "    if results[0].masks:\n",
    "        for result in results:\n",
    "            for j, mask in enumerate(result.masks.data):\n",
    "                mask = mask.cpu().numpy() * 255\n",
    "                mask = cv2.resize(mask, (W, H))\n",
    "    else:\n",
    "        mask = np.zeros((H, W), dtype=np.uint8)\n",
    "\n",
    "    # Stack the original image and mask\n",
    "    mask_3d = np.stack((mask, mask, mask), axis=-1)\n",
    "    combined_img = np.hstack((img, seg_im, mask_3d))\n",
    "\n",
    "    # Save the combined image\n",
    "    out_path = os.path.join(out_folder_path, f\"{im_name}.png\")\n",
    "    cv2.imwrite(out_path, combined_img)"
   ]
  },
  {
   "cell_type": "code",
   "execution_count": 15,
   "metadata": {
    "colab": {
     "base_uri": "https://localhost:8080/"
    },
    "id": "hCclvFJ3XW6N",
    "outputId": "cdb377a6-9ef1-43c6-fb21-890e296b2c1f"
   },
   "outputs": [
    {
     "name": "stdout",
     "output_type": "stream",
     "text": [
      "\n",
      "0: 640x640 3 cracks, 11.5ms\n",
      "Speed: 2.7ms preprocess, 11.5ms inference, 2.6ms postprocess per image at shape (1, 3, 640, 640)\n",
      "\n",
      "0: 640x640 2 cracks, 10.5ms\n",
      "Speed: 4.5ms preprocess, 10.5ms inference, 3.0ms postprocess per image at shape (1, 3, 640, 640)\n",
      "\n",
      "0: 640x640 3 cracks, 9.4ms\n",
      "Speed: 3.7ms preprocess, 9.4ms inference, 1.9ms postprocess per image at shape (1, 3, 640, 640)\n",
      "\n",
      "0: 640x640 3 cracks, 9.4ms\n",
      "Speed: 3.9ms preprocess, 9.4ms inference, 1.9ms postprocess per image at shape (1, 3, 640, 640)\n",
      "\n",
      "0: 640x640 (no detections), 9.3ms\n",
      "Speed: 4.0ms preprocess, 9.3ms inference, 0.4ms postprocess per image at shape (1, 3, 640, 640)\n",
      "\n",
      "0: 640x640 2 cracks, 9.6ms\n",
      "Speed: 3.6ms preprocess, 9.6ms inference, 1.9ms postprocess per image at shape (1, 3, 640, 640)\n",
      "\n",
      "0: 640x640 3 cracks, 9.3ms\n",
      "Speed: 3.6ms preprocess, 9.3ms inference, 1.8ms postprocess per image at shape (1, 3, 640, 640)\n",
      "\n",
      "0: 640x640 (no detections), 10.4ms\n",
      "Speed: 2.9ms preprocess, 10.4ms inference, 0.5ms postprocess per image at shape (1, 3, 640, 640)\n",
      "\n",
      "0: 640x640 3 cracks, 9.3ms\n",
      "Speed: 3.5ms preprocess, 9.3ms inference, 1.9ms postprocess per image at shape (1, 3, 640, 640)\n",
      "\n",
      "0: 640x640 1 crack, 9.3ms\n",
      "Speed: 4.3ms preprocess, 9.3ms inference, 1.7ms postprocess per image at shape (1, 3, 640, 640)\n",
      "\n",
      "0: 640x640 1 crack, 11.7ms\n",
      "Speed: 4.2ms preprocess, 11.7ms inference, 2.4ms postprocess per image at shape (1, 3, 640, 640)\n",
      "\n",
      "0: 640x640 5 cracks, 9.4ms\n",
      "Speed: 3.9ms preprocess, 9.4ms inference, 1.8ms postprocess per image at shape (1, 3, 640, 640)\n",
      "\n",
      "0: 640x640 3 cracks, 9.9ms\n",
      "Speed: 4.6ms preprocess, 9.9ms inference, 4.7ms postprocess per image at shape (1, 3, 640, 640)\n",
      "\n",
      "0: 640x640 1 crack, 9.4ms\n",
      "Speed: 3.2ms preprocess, 9.4ms inference, 1.9ms postprocess per image at shape (1, 3, 640, 640)\n",
      "\n",
      "0: 640x640 1 crack, 9.4ms\n",
      "Speed: 3.2ms preprocess, 9.4ms inference, 1.8ms postprocess per image at shape (1, 3, 640, 640)\n",
      "\n",
      "0: 640x640 1 crack, 9.3ms\n",
      "Speed: 3.7ms preprocess, 9.3ms inference, 1.8ms postprocess per image at shape (1, 3, 640, 640)\n",
      "\n",
      "0: 640x640 2 cracks, 9.5ms\n",
      "Speed: 3.0ms preprocess, 9.5ms inference, 1.9ms postprocess per image at shape (1, 3, 640, 640)\n",
      "\n",
      "0: 640x640 2 cracks, 9.4ms\n",
      "Speed: 3.8ms preprocess, 9.4ms inference, 1.8ms postprocess per image at shape (1, 3, 640, 640)\n",
      "\n",
      "0: 640x640 1 crack, 9.4ms\n",
      "Speed: 3.3ms preprocess, 9.4ms inference, 1.8ms postprocess per image at shape (1, 3, 640, 640)\n",
      "\n",
      "0: 640x640 3 cracks, 12.2ms\n",
      "Speed: 3.9ms preprocess, 12.2ms inference, 1.8ms postprocess per image at shape (1, 3, 640, 640)\n",
      "\n",
      "0: 640x640 2 cracks, 9.5ms\n",
      "Speed: 3.4ms preprocess, 9.5ms inference, 2.1ms postprocess per image at shape (1, 3, 640, 640)\n",
      "\n",
      "0: 640x640 3 cracks, 9.3ms\n",
      "Speed: 4.2ms preprocess, 9.3ms inference, 2.3ms postprocess per image at shape (1, 3, 640, 640)\n",
      "\n",
      "0: 640x640 2 cracks, 11.0ms\n",
      "Speed: 4.0ms preprocess, 11.0ms inference, 2.3ms postprocess per image at shape (1, 3, 640, 640)\n"
     ]
    }
   ],
   "source": [
    "import os\n",
    "import cv2\n",
    "import numpy as np\n",
    "from ultralytics import YOLO\n",
    "model_path = r'/content/drive/MyDrive/Computer vision/Crack segmentation/yolov8/runs/segment/train3/weights/best.pt'\n",
    "model = YOLO(model_path)\n",
    "\n",
    "in_folder_path = '/content/drive/MyDrive/Computer vision/Crack segmentation/Data/images/val'\n",
    "out_folder_path = '/content/drive/MyDrive/Computer vision/Crack segmentation/yolov8/final_pred2/'\n",
    "os.makedirs(out_folder_path, exist_ok=True)\n",
    "\n",
    "for im_name in os.listdir(in_folder_path):\n",
    "    img_path = os.path.join(in_folder_path, im_name)\n",
    "    img = cv2.imread(img_path)\n",
    "    if img is None:\n",
    "        continue\n",
    "\n",
    "    seg_im_path ='/content/drive/MyDrive/Computer vision/Crack segmentation/yolov8/runs/segment/predict3/'+im_name\n",
    "    seg_im = cv2.imread(seg_im_path)\n",
    "    if seg_im is None:\n",
    "        continue\n",
    "\n",
    "    H, W, _ = img.shape\n",
    "    seg_im = cv2.resize(seg_im, (W, H))\n",
    "\n",
    "    results = model(img)\n",
    "    f_mask = np.zeros((H, W), dtype=np.uint8)\n",
    "    if results[0].masks:\n",
    "        for result in results:\n",
    "            for j, mask in enumerate(result.masks.data):\n",
    "                mask = mask.cpu().numpy().astype(np.uint8) * 255\n",
    "                mask = cv2.resize(mask, (W, H))\n",
    "                f_mask=cv2.bitwise_or(f_mask, mask)\n",
    "\n",
    "    # Stack the original image and mask\n",
    "    mask_3d = np.stack((f_mask,f_mask,f_mask), axis=-1)\n",
    "    combined_img = np.hstack((img, seg_im, mask_3d))\n",
    "\n",
    "    # Save the combined image\n",
    "    out_path = os.path.join(out_folder_path, f\"{im_name}.png\")\n",
    "    cv2.imwrite(out_path, combined_img)"
   ]
  },
  {
   "cell_type": "code",
   "execution_count": null,
   "metadata": {
    "id": "YBvG1cOXwkoQ"
   },
   "outputs": [],
   "source": []
  }
 ],
 "metadata": {
  "accelerator": "GPU",
  "colab": {
   "gpuType": "T4",
   "provenance": []
  },
  "kernelspec": {
   "display_name": "Python 3 (ipykernel)",
   "language": "python",
   "name": "python3"
  },
  "language_info": {
   "codemirror_mode": {
    "name": "ipython",
    "version": 3
   },
   "file_extension": ".py",
   "mimetype": "text/x-python",
   "name": "python",
   "nbconvert_exporter": "python",
   "pygments_lexer": "ipython3",
   "version": "3.11.8"
  }
 },
 "nbformat": 4,
 "nbformat_minor": 1
}
