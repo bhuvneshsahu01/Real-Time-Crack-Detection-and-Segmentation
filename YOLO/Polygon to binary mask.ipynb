{
 "cells": [
  {
   "cell_type": "code",
   "execution_count": 1,
   "id": "7b489365",
   "metadata": {},
   "outputs": [
    {
     "data": {
      "text/plain": [
       "True"
      ]
     },
     "execution_count": 1,
     "metadata": {},
     "output_type": "execute_result"
    }
   ],
   "source": [
    "import os\n",
    "import numpy as np\n",
    "import cv2\n",
    "\n",
    "\n",
    "txt_path=\"YOLO Data/labels/train/CFD_002.txt\" # Path of the text file that contains the polygons\n",
    "mask = np.zeros((256,256), dtype=np.uint8) # Make a Black image\n",
    "\n",
    "with open(txt_path, 'r') as file:\n",
    "    for line in file:\n",
    "        values = line.strip().split()\n",
    "        if values:\n",
    "            # Extract polygon points from the line\n",
    "            polygon = []\n",
    "            for i in range(1, len(values), 2):\n",
    "                x = float(values[i]) * 256\n",
    "                y = float(values[i+1]) * 256\n",
    "                polygon.append([int(x), int(y)])\n",
    "            polygon = np.array([polygon], dtype=np.int32)\n",
    "            cv2.polylines(mask, [polygon], isClosed=True, color=255, thickness=1, lineType=cv2.LINE_AA)\n",
    "\n",
    "            # Draw the polygon on the mask\n",
    "            cv2.fillPoly(mask, polygon, 255) # can change colour of the mask by changing the colour intensity parameter\n",
    "\n",
    "# Save the mask\n",
    "cv2.imwrite('output.png', mask)"
   ]
  },
  {
   "cell_type": "code",
   "execution_count": null,
   "id": "ffbd9db4",
   "metadata": {},
   "outputs": [],
   "source": []
  }
 ],
 "metadata": {
  "kernelspec": {
   "display_name": "Python 3 (ipykernel)",
   "language": "python",
   "name": "python3"
  },
  "language_info": {
   "codemirror_mode": {
    "name": "ipython",
    "version": 3
   },
   "file_extension": ".py",
   "mimetype": "text/x-python",
   "name": "python",
   "nbconvert_exporter": "python",
   "pygments_lexer": "ipython3",
   "version": "3.11.8"
  }
 },
 "nbformat": 4,
 "nbformat_minor": 5
}
